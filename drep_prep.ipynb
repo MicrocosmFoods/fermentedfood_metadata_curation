{
 "cells": [
  {
   "cell_type": "code",
   "execution_count": 2,
   "metadata": {},
   "outputs": [
    {
     "data": {
      "text/plain": [
       "((13858, 45),\n",
       " Index(['mag_id', 'sample_description', 'fermented_food', 'specific_substrate',\n",
       "        'substrate_category', 'general_category', 'completeness',\n",
       "        'contamination', 'contigs', 'total_length', 'gc', 'n50', 'domain',\n",
       "        'phylum', 'class', 'order', 'family', 'genus', 'species',\n",
       "        'study_catalog', 'source', 'split', 'sample_accession', 'run_accession',\n",
       "        'subtype', 'country', 'project_accession', 'study_accession',\n",
       "        'database_origin', 'Reference', 'level1_substrate_origin',\n",
       "        'level2_main_ingredient_group', 'main_ingredient', 'level3_food_name',\n",
       "        'consistency', 'main_ferment', 'acid_type', 'acid_level',\n",
       "        'alcohol_lovel', 'protein_degradation', 'fat_degradation',\n",
       "        'added_ingredients', 'fermentation_temp', 'aging_time', 'agin_temp'],\n",
       "       dtype='object'),\n",
       "          mag_id   sample_description fermented_food specific_substrate  \\\n",
       " 0   C-03.Ssa-BR  raw canastra cheese         cheese               milk   \n",
       " 1   C-R02.bin.1  raw canastra cheese         cheese               milk   \n",
       " 2   C-R03.bin.7  raw canastra cheese         cheese               milk   \n",
       " 3  C-R06.bin.10     raw araxa cheese         cheese               milk   \n",
       " 4  C-R06.bin.12     raw araxa cheese         cheese               milk   \n",
       " \n",
       "   substrate_category general_category  completeness  contamination  contigs  \\\n",
       " 0              dairy  fermented_dairy         97.97           1.10      182   \n",
       " 1              dairy  fermented_dairy         92.75           1.03       84   \n",
       " 2              dairy  fermented_dairy         98.91           0.00      161   \n",
       " 3              dairy  fermented_dairy         91.62           1.35      147   \n",
       " 4              dairy  fermented_dairy        100.00           0.64       54   \n",
       " \n",
       "    total_length  ...       main_ferment  acid_type acid_level alcohol_lovel  \\\n",
       " 0       1896140  ...  acid; amino acids     lactic     medium          none   \n",
       " 1       3174852  ...  acid; amino acids     lactic     medium          none   \n",
       " 2       2047554  ...  acid; amino acids     lactic     medium          none   \n",
       " 3       3636195  ...  acid; amino acids     lactic     medium          none   \n",
       " 4       3940686  ...  acid; amino acids     lactic     medium          none   \n",
       " \n",
       "   protein_degradation fat_degradation added_ingredients fermentation_temp  \\\n",
       " 0                high          medium      salt; rennet        mesophilic   \n",
       " 1                high          medium      salt; rennet        mesophilic   \n",
       " 2                high          medium      salt; rennet        mesophilic   \n",
       " 3              medium             low      salt; rennet        mesophilic   \n",
       " 4              medium             low      salt; rennet        mesophilic   \n",
       " \n",
       "   aging_time agin_temp  \n",
       " 0   >1 month      cold  \n",
       " 1   >1 month      cold  \n",
       " 2   >1 month      cold  \n",
       " 3   >1 month      cold  \n",
       " 4   >1 month      cold  \n",
       " \n",
       " [5 rows x 45 columns])"
      ]
     },
     "execution_count": 2,
     "metadata": {},
     "output_type": "execute_result"
    }
   ],
   "source": [
    "import pandas as pd\n",
    "\n",
    "dataset = pd.read_csv('data/Food_MAGs_curated_metadata_250421_corrected_merged_final_v2_corrected.csv')\n",
    "\n",
    "dataset.shape, dataset.columns, dataset.head()"
   ]
  },
  {
   "cell_type": "code",
   "execution_count": 4,
   "metadata": {},
   "outputs": [],
   "source": [
    "drep = dataset[['mag_id', 'completeness', 'contamination']]"
   ]
  },
  {
   "cell_type": "code",
   "execution_count": 5,
   "metadata": {},
   "outputs": [],
   "source": [
    "drep = drep.rename(columns={'mag_id': 'genome'})"
   ]
  },
  {
   "cell_type": "code",
   "execution_count": 6,
   "metadata": {},
   "outputs": [],
   "source": [
    "drep.to_csv('data/genome_info.csv', index=False)"
   ]
  }
 ],
 "metadata": {
  "kernelspec": {
   "display_name": "Python 3",
   "language": "python",
   "name": "python3"
  },
  "language_info": {
   "codemirror_mode": {
    "name": "ipython",
    "version": 3
   },
   "file_extension": ".py",
   "mimetype": "text/x-python",
   "name": "python",
   "nbconvert_exporter": "python",
   "pygments_lexer": "ipython3",
   "version": "3.9.6"
  }
 },
 "nbformat": 4,
 "nbformat_minor": 2
}
