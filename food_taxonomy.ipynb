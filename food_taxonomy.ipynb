{
 "cells": [
  {
   "cell_type": "markdown",
   "metadata": {},
   "source": [
    "# Goal \n",
    "In this notbook I will reorganize the columns for:\n",
    "1. **Food taxonomy**\n",
    "2. **Ferment type**\n",
    "3. **Processing**\n",
    "\n",
    "## The taxonomy levels:\n",
    "1. Top level - Animal or Plant origin\n",
    "2. Second level - Main ingredient type\n",
    ">> 2.1 Animal will be separated to: <br>\n",
    ">> >> 2.1.1 - Meat<br>\n",
    ">> >> 2.1.2 - Fish<br>\n",
    ">> >> 2.1.3 - Dairy<br>\n",
    "\n",
    ">> 2.2 Plant will be separated to: <br>\n",
    ">> >> 2.2.1 - Vegetables/Fruit<br>\n",
    ">> >> 2.2.2 - Cereal<br>\n",
    ">> >> 2.2.3 - Legumes<br>\n",
    ">> >> 2.2.4 - Root<br>\n",
    "3. Third level - specific substrate\n",
    "4. Fourth level - food name. \n",
    "\n",
    "\n",
    "## Ferment type:\n",
    "We will indicate the following:\n",
    "1. Acid - lactic, acetic, mixed\n",
    "2. Alcohol - yes, no\n",
    "3. Degradation - protein, fat, or mixed\n",
    "\n",
    "While there are foods that contain both we will try to indicate the main product produced. <br> \n",
    "For example - the main acid ferment in cheese is lactic acid, but most (if not all) cheese also contian acetic acid.\n",
    "\n",
    "## Processing:\n",
    "We will indicate the following:\n",
    "1. Aerobic vs anaerobic fermentation.\n",
    "2. Addtional ingredients - salt, enzymes (e.g. renet)\n",
    "3. Fermentation temp\n",
    "* For ferementation we will focus on the primary fermentation and not the aging temp.\n",
    "\n",
    "\n",
    "### Start date: 08/04/25\n",
    "### Last update to goals: "
   ]
  },
  {
   "cell_type": "code",
   "execution_count": 30,
   "metadata": {},
   "outputs": [
    {
     "data": {
      "text/plain": [
       "(259, 5)"
      ]
     },
     "metadata": {},
     "output_type": "display_data"
    },
    {
     "data": {
      "text/html": [
       "<div>\n",
       "<style scoped>\n",
       "    .dataframe tbody tr th:only-of-type {\n",
       "        vertical-align: middle;\n",
       "    }\n",
       "\n",
       "    .dataframe tbody tr th {\n",
       "        vertical-align: top;\n",
       "    }\n",
       "\n",
       "    .dataframe thead th {\n",
       "        text-align: right;\n",
       "    }\n",
       "</style>\n",
       "<table border=\"1\" class=\"dataframe\">\n",
       "  <thead>\n",
       "    <tr style=\"text-align: right;\">\n",
       "      <th></th>\n",
       "      <th>sample_description</th>\n",
       "      <th>fermented_food</th>\n",
       "      <th>specific_substrate</th>\n",
       "      <th>substrate_category</th>\n",
       "      <th>general_category</th>\n",
       "    </tr>\n",
       "  </thead>\n",
       "  <tbody>\n",
       "    <tr>\n",
       "      <th>0</th>\n",
       "      <td>meat</td>\n",
       "      <td>sausage</td>\n",
       "      <td>meat</td>\n",
       "      <td>meat</td>\n",
       "      <td>fermented_meat</td>\n",
       "    </tr>\n",
       "    <tr>\n",
       "      <th>1</th>\n",
       "      <td>whey</td>\n",
       "      <td>whey</td>\n",
       "      <td>milk</td>\n",
       "      <td>dairy</td>\n",
       "      <td>fermented_dairy</td>\n",
       "    </tr>\n",
       "    <tr>\n",
       "      <th>2</th>\n",
       "      <td>cheese_brine</td>\n",
       "      <td>cheese</td>\n",
       "      <td>milk</td>\n",
       "      <td>dairy</td>\n",
       "      <td>fermented_dairy</td>\n",
       "    </tr>\n",
       "    <tr>\n",
       "      <th>3</th>\n",
       "      <td>cheese</td>\n",
       "      <td>cheese</td>\n",
       "      <td>milk</td>\n",
       "      <td>dairy</td>\n",
       "      <td>fermented_dairy</td>\n",
       "    </tr>\n",
       "    <tr>\n",
       "      <th>4</th>\n",
       "      <td>tea</td>\n",
       "      <td>tea</td>\n",
       "      <td>tea</td>\n",
       "      <td>plant</td>\n",
       "      <td>fermented_beverages</td>\n",
       "    </tr>\n",
       "  </tbody>\n",
       "</table>\n",
       "</div>"
      ],
      "text/plain": [
       "  sample_description fermented_food specific_substrate substrate_category  \\\n",
       "0               meat        sausage               meat               meat   \n",
       "1               whey           whey               milk              dairy   \n",
       "2       cheese_brine         cheese               milk              dairy   \n",
       "3             cheese         cheese               milk              dairy   \n",
       "4                tea            tea                tea              plant   \n",
       "\n",
       "      general_category  \n",
       "0       fermented_meat  \n",
       "1      fermented_dairy  \n",
       "2      fermented_dairy  \n",
       "3      fermented_dairy  \n",
       "4  fermented_beverages  "
      ]
     },
     "metadata": {},
     "output_type": "display_data"
    }
   ],
   "source": [
    "import pandas as pd\n",
    "import numpy as np\n",
    "import os\n",
    "import sys\n",
    "\n",
    "# load the data\n",
    "dataset = pd.read_csv('data/data_source/2025-03-24-all-ff-mag-metadata-cleaned-curated.tsv', sep='\\t')\n",
    "\n",
    "# get the relevant columns\n",
    "dataset = dataset[['sample_description', 'fermented_food', 'specific_substrate', 'substrate_category', 'general_category']]\n",
    "\n",
    "# remove duplicates\n",
    "dataset = dataset.drop_duplicates()\n",
    "dataset = dataset.reset_index(drop=True)\n",
    "\n",
    "display(dataset.shape, dataset.head())"
   ]
  },
  {
   "cell_type": "code",
   "execution_count": 31,
   "metadata": {},
   "outputs": [
    {
     "name": "stdout",
     "output_type": "stream",
     "text": [
      "sample_description: 248\n",
      "fermented_food: 136\n",
      "specific_substrate: 78\n",
      "substrate_category: 22\n",
      "general_category: 21\n"
     ]
    }
   ],
   "source": [
    "# check the number of unique values in each column\n",
    "for column in dataset.columns:\n",
    "    print(f'{column}: {dataset[column].nunique()}')\n"
   ]
  },
  {
   "cell_type": "code",
   "execution_count": 32,
   "metadata": {},
   "outputs": [
    {
     "name": "stdout",
     "output_type": "stream",
     "text": [
      "sample_description    0\n",
      "fermented_food        0\n",
      "specific_substrate    1\n",
      "substrate_category    0\n",
      "general_category      0\n",
      "dtype: int64\n"
     ]
    }
   ],
   "source": [
    "# check for missing values\n",
    "missing_values = dataset.isnull().sum()\n",
    "print(missing_values)\n"
   ]
  },
  {
   "cell_type": "code",
   "execution_count": 33,
   "metadata": {},
   "outputs": [
    {
     "name": "stdout",
     "output_type": "stream",
     "text": [
      "Rows with 1 unique values: 0\n",
      "Rows with 2 unique values: 2\n",
      "Rows with 3 unique values: 19\n",
      "Rows with 4 unique values: 127\n",
      "Rows with 5 unique values: 111\n"
     ]
    }
   ],
   "source": [
    "# Count unique values per row\n",
    "unique_counts = dataset.apply(lambda x: len(set(x)), axis=1)\n",
    "\n",
    "# Print summary of rows by number of unique values\n",
    "for i in range(1, 6):\n",
    "    count = (unique_counts == i).sum()\n",
    "    print(f\"Rows with {i} unique values: {count}\")"
   ]
  },
  {
   "cell_type": "markdown",
   "metadata": {},
   "source": [
    "# quick pulse check\n",
    "We currently have five columns describing the food but less than half or the rows have 5 unique values. <br>\n",
    "Based on the number of unique values per column it looks as though sample_description corresponds to the lowest level, <br>\n",
    "but a view of the table indicates the lowest level is a composite/combinaiton of sample_description and fermented_food.<br>\n",
    "\n"
   ]
  },
  {
   "cell_type": "code",
   "execution_count": 34,
   "metadata": {},
   "outputs": [
    {
     "name": "stdout",
     "output_type": "stream",
     "text": [
      "['meat' 'dairy' 'plant' 'other_plant_based' 'grains' 'grain' 'vegetable'\n",
      " 'legumes' 'tuber_root' 'fruit' 'rhizome' 'fruits_and_vegetables'\n",
      " 'fruit_rhizome' 'legume' 'seed' 'flower' 'seafood' 'sugar' 'seaweed'\n",
      " 'supplement' 'probiotics' 'soybean']\n",
      "\n",
      "['fermented_meat' 'fermented_dairy' 'fermented_beverages'\n",
      " 'other_fermented_grains' 'other_plant_based_fermentation'\n",
      " 'pickled_fruits_vegetables_roots' 'fermented_soybean'\n",
      " 'other_fermented_legumes' 'other_fermented_legume' 'sourdough' 'vinegar'\n",
      " 'fermented_cassava' 'other_fermented_seeds' 'chocolate'\n",
      " 'fermented_seafood' 'other_fermented_meat' 'grains' 'probiotics'\n",
      " 'fermented_grain' 'fermented_soybeans' 'fermented_vegetable']\n",
      "\n",
      "['meat' 'milk' 'tea' 'agave' 'teff' 'nectar' 'barley' 'grain' 'cabbage'\n",
      " 'soybean' 'yellow_pea' 'pea' 'legume' 'wheat' 'rye' 'millet' 'turnip'\n",
      " 'orange' 'pineapple' 'ginger' 'cucumber' 'fruit' 'daikon' 'vegetable'\n",
      " 'rice' 'apple_cider' 'garlic' 'okra' 'tomato_and_mustards' 'carrot'\n",
      " 'lemon_ginger' 'cassava' 'locust_bean' 'melon_seed' 'oil_bean' 'corn'\n",
      " 'sorghum' 'palm_sap' 'cassava_kapok_seeds' 'sorghum_millet' 'plantain'\n",
      " 'African_yam_bean' 'cacao_fruit_pulp_and_seeds' 'chili_pepper' 'cacao'\n",
      " 'fig' 'chilli' 'coffee' 'tea_sugar' 'grape' 'apple_juice' 'banana'\n",
      " 'black_cherry' 'blueberry' 'chrysanthemum' 'apple' 'sugar_cane' 'fish'\n",
      " 'pepper' 'radish' 'broth' 'mustard' 'seafood' 'sugar' 'scallion' 'wakame'\n",
      " 'lupine' 'grains' 'turnip_leaves' 'wine' 'bamboo_shoots' nan 'unknown'\n",
      " 'coffee_berries' 'potato' 'elderberries'\n",
      " 'queens_sf_lacto_ferm_4%_yellow_peach_8_26_21'\n",
      " 'queens_sf_lacto_ferm_serrano' 'skate']\n"
     ]
    }
   ],
   "source": [
    "# Evaluating the unique values in the high level columns\n",
    "    #  substrate_category and general_category\n",
    "\n",
    "# Check the unique values in the substrate_category column\n",
    "print(dataset['substrate_category'].unique())\n",
    "print()\n",
    "# Check the unique values in the general_category column\n",
    "print(dataset['general_category'].unique())\n",
    "print()\n",
    "# Check the unique values in the specific_substrate column\n",
    "print(dataset['specific_substrate'].unique())\n"
   ]
  },
  {
   "cell_type": "code",
   "execution_count": 43,
   "metadata": {},
   "outputs": [
    {
     "data": {
      "text/plain": [
       "substrate_origin\n",
       "Plant        198\n",
       "Animal        60\n",
       "Microbial      1\n",
       "Name: count, dtype: int64"
      ]
     },
     "execution_count": 43,
     "metadata": {},
     "output_type": "execute_result"
    }
   ],
   "source": [
    "# create the first level column - substrate_origin\n",
    "    # if the substrate_category is 'meat' or 'dairy' then the substrate_origin is 'Animal', else it is 'Plant'\n",
    "def get_substrate_origin(row):\n",
    "    if row['substrate_category'] in ['meat', 'dairy', 'seafood']:\n",
    "        return 'Animal'\n",
    "    elif row['substrate_category'] in ['probiotics']:\n",
    "        return 'Microbial'\n",
    "    else:\n",
    "        return 'Plant'\n",
    "dataset['substrate_origin'] = dataset.apply(get_substrate_origin, axis=1)\n",
    "\n",
    "dataset['substrate_origin'].value_counts()\n",
    "\n"
   ]
  },
  {
   "cell_type": "code",
   "execution_count": null,
   "metadata": {},
   "outputs": [],
   "source": []
  },
  {
   "cell_type": "code",
   "execution_count": 64,
   "metadata": {},
   "outputs": [
    {
     "data": {
      "text/plain": [
       "main_ingredient_group\n",
       "Vegetables/Fruit     98\n",
       "Dairy                45\n",
       "Cereal               40\n",
       "Legumes/nuts/seed    40\n",
       "Root                 19\n",
       "Meat                 11\n",
       "Fish                  4\n",
       "Microbial             2\n",
       "Name: count, dtype: int64"
      ]
     },
     "execution_count": 64,
     "metadata": {},
     "output_type": "execute_result"
    }
   ],
   "source": [
    "# grouping substrate category to create the second level column - main_ingredient\n",
    "main_ingredigent = {'Meat': ['meat'],\n",
    "                    'Fish': ['seafood'],\n",
    "                    'Dairy': ['dairy'],\n",
    "                    'Vegetables/Fruit': ['plant','other_plant_based','vegetable','fruit','fruits_and_vegetables','flower','sugar','seaweed'],\n",
    "                    'Cereal': ['grains', 'grain',],\n",
    "                    'Legumes/nuts/seed': ['legumes','legume','seed','soybean'],\n",
    "                    'Root': ['tuber_root', 'rhizome','fruit_rhizome'],\n",
    "                    'Microbial': ['probiotics','supplement']}\n",
    "\n",
    "# creating the second level column - main_ingredient\n",
    "def get_main_ingredient(row):\n",
    "    for key, values in main_ingredigent.items():\n",
    "        if row['substrate_category'] in values:\n",
    "            return key\n",
    "    return 'Other'\n",
    "dataset['main_ingredient_group'] = dataset.apply(get_main_ingredient, axis=1)\n",
    "dataset['main_ingredient_group'].value_counts()\n"
   ]
  },
  {
   "cell_type": "markdown",
   "metadata": {},
   "source": [
    "# Specific substrate\n",
    "After reviewing the data I decided that it would be easier to assign values to this column manually.<br>\n",
    "There are multiple instances in which I would have to define multi-column condisionts for specific rows. <br>\n",
    "Considering that there are only 259 rows and many are easy to define it shoul be easier to add that manually. \n"
   ]
  },
  {
   "cell_type": "code",
   "execution_count": 69,
   "metadata": {},
   "outputs": [],
   "source": [
    "# save the dataset\n",
    "dataset.to_csv('data/food_taxonomy.csv', index=False)"
   ]
  },
  {
   "cell_type": "code",
   "execution_count": null,
   "metadata": {},
   "outputs": [],
   "source": []
  },
  {
   "cell_type": "code",
   "execution_count": 68,
   "metadata": {},
   "outputs": [
    {
     "data": {
      "text/plain": [
       "(259, 7)"
      ]
     },
     "execution_count": 68,
     "metadata": {},
     "output_type": "execute_result"
    }
   ],
   "source": [
    "dataset.shape"
   ]
  },
  {
   "cell_type": "code",
   "execution_count": 67,
   "metadata": {},
   "outputs": [
    {
     "data": {
      "text/html": [
       "<div>\n",
       "<style scoped>\n",
       "    .dataframe tbody tr th:only-of-type {\n",
       "        vertical-align: middle;\n",
       "    }\n",
       "\n",
       "    .dataframe tbody tr th {\n",
       "        vertical-align: top;\n",
       "    }\n",
       "\n",
       "    .dataframe thead th {\n",
       "        text-align: right;\n",
       "    }\n",
       "</style>\n",
       "<table border=\"1\" class=\"dataframe\">\n",
       "  <thead>\n",
       "    <tr style=\"text-align: right;\">\n",
       "      <th></th>\n",
       "      <th>sample_description</th>\n",
       "      <th>fermented_food</th>\n",
       "      <th>specific_substrate</th>\n",
       "      <th>substrate_category</th>\n",
       "      <th>general_category</th>\n",
       "      <th>substrate_origin</th>\n",
       "      <th>main_ingredient_group</th>\n",
       "    </tr>\n",
       "  </thead>\n",
       "  <tbody>\n",
       "    <tr>\n",
       "      <th>0</th>\n",
       "      <td>meat</td>\n",
       "      <td>sausage</td>\n",
       "      <td>meat</td>\n",
       "      <td>meat</td>\n",
       "      <td>fermented_meat</td>\n",
       "      <td>Animal</td>\n",
       "      <td>Meat</td>\n",
       "    </tr>\n",
       "    <tr>\n",
       "      <th>7</th>\n",
       "      <td>salami</td>\n",
       "      <td>salami</td>\n",
       "      <td>meat</td>\n",
       "      <td>meat</td>\n",
       "      <td>fermented_meat</td>\n",
       "      <td>Animal</td>\n",
       "      <td>Meat</td>\n",
       "    </tr>\n",
       "    <tr>\n",
       "      <th>12</th>\n",
       "      <td>meat</td>\n",
       "      <td>italian_sausage</td>\n",
       "      <td>meat</td>\n",
       "      <td>meat</td>\n",
       "      <td>fermented_meat</td>\n",
       "      <td>Animal</td>\n",
       "      <td>Meat</td>\n",
       "    </tr>\n",
       "    <tr>\n",
       "      <th>168</th>\n",
       "      <td>pork salami</td>\n",
       "      <td>salami</td>\n",
       "      <td>meat</td>\n",
       "      <td>meat</td>\n",
       "      <td>fermented_meat</td>\n",
       "      <td>Animal</td>\n",
       "      <td>Meat</td>\n",
       "    </tr>\n",
       "    <tr>\n",
       "      <th>169</th>\n",
       "      <td>poultry meat</td>\n",
       "      <td>salami</td>\n",
       "      <td>meat</td>\n",
       "      <td>meat</td>\n",
       "      <td>fermented_meat</td>\n",
       "      <td>Animal</td>\n",
       "      <td>Meat</td>\n",
       "    </tr>\n",
       "    <tr>\n",
       "      <th>170</th>\n",
       "      <td>poultry salami</td>\n",
       "      <td>salami</td>\n",
       "      <td>meat</td>\n",
       "      <td>meat</td>\n",
       "      <td>fermented_meat</td>\n",
       "      <td>Animal</td>\n",
       "      <td>Meat</td>\n",
       "    </tr>\n",
       "    <tr>\n",
       "      <th>176</th>\n",
       "      <td>sausage</td>\n",
       "      <td>salami</td>\n",
       "      <td>meat</td>\n",
       "      <td>meat</td>\n",
       "      <td>fermented_meat</td>\n",
       "      <td>Animal</td>\n",
       "      <td>Meat</td>\n",
       "    </tr>\n",
       "    <tr>\n",
       "      <th>177</th>\n",
       "      <td>fermented sausages</td>\n",
       "      <td>sausage</td>\n",
       "      <td>meat</td>\n",
       "      <td>meat</td>\n",
       "      <td>fermented_meat</td>\n",
       "      <td>Animal</td>\n",
       "      <td>Meat</td>\n",
       "    </tr>\n",
       "    <tr>\n",
       "      <th>178</th>\n",
       "      <td>dry naturally fermented greek sausage</td>\n",
       "      <td>sausage</td>\n",
       "      <td>meat</td>\n",
       "      <td>meat</td>\n",
       "      <td>fermented_meat</td>\n",
       "      <td>Animal</td>\n",
       "      <td>Meat</td>\n",
       "    </tr>\n",
       "    <tr>\n",
       "      <th>193</th>\n",
       "      <td>traditional vietnamese nem chua</td>\n",
       "      <td>salami</td>\n",
       "      <td>meat</td>\n",
       "      <td>meat</td>\n",
       "      <td>fermented_meat</td>\n",
       "      <td>Animal</td>\n",
       "      <td>Meat</td>\n",
       "    </tr>\n",
       "  </tbody>\n",
       "</table>\n",
       "</div>"
      ],
      "text/plain": [
       "                        sample_description   fermented_food  \\\n",
       "0                                     meat          sausage   \n",
       "7                                   salami           salami   \n",
       "12                                    meat  italian_sausage   \n",
       "168                            pork salami           salami   \n",
       "169                           poultry meat           salami   \n",
       "170                         poultry salami           salami   \n",
       "176                                sausage           salami   \n",
       "177                     fermented sausages          sausage   \n",
       "178  dry naturally fermented greek sausage          sausage   \n",
       "193        traditional vietnamese nem chua           salami   \n",
       "\n",
       "    specific_substrate substrate_category general_category substrate_origin  \\\n",
       "0                 meat               meat   fermented_meat           Animal   \n",
       "7                 meat               meat   fermented_meat           Animal   \n",
       "12                meat               meat   fermented_meat           Animal   \n",
       "168               meat               meat   fermented_meat           Animal   \n",
       "169               meat               meat   fermented_meat           Animal   \n",
       "170               meat               meat   fermented_meat           Animal   \n",
       "176               meat               meat   fermented_meat           Animal   \n",
       "177               meat               meat   fermented_meat           Animal   \n",
       "178               meat               meat   fermented_meat           Animal   \n",
       "193               meat               meat   fermented_meat           Animal   \n",
       "\n",
       "    main_ingredient_group  \n",
       "0                    Meat  \n",
       "7                    Meat  \n",
       "12                   Meat  \n",
       "168                  Meat  \n",
       "169                  Meat  \n",
       "170                  Meat  \n",
       "176                  Meat  \n",
       "177                  Meat  \n",
       "178                  Meat  \n",
       "193                  Meat  "
      ]
     },
     "execution_count": 67,
     "metadata": {},
     "output_type": "execute_result"
    }
   ],
   "source": [
    "dataset[dataset['specific_substrate'] == 'meat']"
   ]
  },
  {
   "cell_type": "code",
   "execution_count": 66,
   "metadata": {},
   "outputs": [
    {
     "data": {
      "text/plain": [
       "array(['meat', 'milk', 'tea', 'agave', 'teff', 'nectar', 'barley',\n",
       "       'grain', 'cabbage', 'soybean', 'yellow_pea', 'pea', 'legume',\n",
       "       'wheat', 'rye', 'millet', 'turnip', 'orange', 'pineapple',\n",
       "       'ginger', 'cucumber', 'fruit', 'daikon', 'vegetable', 'rice',\n",
       "       'apple_cider', 'garlic', 'okra', 'tomato_and_mustards', 'carrot',\n",
       "       'lemon_ginger', 'cassava', 'locust_bean', 'melon_seed', 'oil_bean',\n",
       "       'corn', 'sorghum', 'palm_sap', 'cassava_kapok_seeds',\n",
       "       'sorghum_millet', 'plantain', 'African_yam_bean',\n",
       "       'cacao_fruit_pulp_and_seeds', 'chili_pepper', 'cacao', 'fig',\n",
       "       'chilli', 'coffee', 'tea_sugar', 'grape', 'apple_juice', 'banana',\n",
       "       'black_cherry', 'blueberry', 'chrysanthemum', 'apple',\n",
       "       'sugar_cane', 'fish', 'pepper', 'radish', 'broth', 'mustard',\n",
       "       'seafood', 'sugar', 'scallion', 'wakame', 'lupine', 'grains',\n",
       "       'turnip_leaves', 'wine', 'bamboo_shoots', nan, 'unknown',\n",
       "       'coffee_berries', 'potato', 'elderberries',\n",
       "       'queens_sf_lacto_ferm_4%_yellow_peach_8_26_21',\n",
       "       'queens_sf_lacto_ferm_serrano', 'skate'], dtype=object)"
      ]
     },
     "execution_count": 66,
     "metadata": {},
     "output_type": "execute_result"
    }
   ],
   "source": [
    "dataset['specific_substrate'].unique()"
   ]
  }
 ],
 "metadata": {
  "kernelspec": {
   "display_name": "Python 3",
   "language": "python",
   "name": "python3"
  },
  "language_info": {
   "codemirror_mode": {
    "name": "ipython",
    "version": 3
   },
   "file_extension": ".py",
   "mimetype": "text/x-python",
   "name": "python",
   "nbconvert_exporter": "python",
   "pygments_lexer": "ipython3",
   "version": "3.9.6"
  }
 },
 "nbformat": 4,
 "nbformat_minor": 2
}
