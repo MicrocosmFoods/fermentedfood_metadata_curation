{
 "cells": [
  {
   "cell_type": "markdown",
   "metadata": {},
   "source": [
    "# Visualizing the data\n",
    "In this notebook we will creae several visualization based on the curated metadata. <br>\n",
    "The goal is to start providing context to the data base and investigate the distribution of fermented foods and thier microbiome. <br>\n",
    "The data will not reflect true abundance of microbes in different foods/areas since it is based on presensce/absence counts from the metadata table. <br>"
   ]
  },
  {
   "cell_type": "code",
   "execution_count": null,
   "metadata": {},
   "outputs": [],
   "source": [
    "# importing standard libraries\n",
    "import pandas as pd\n",
    "import numpy as np\n",
    "\n",
    "# importing plotly libraries for dinamic visualization\n",
    "# make sure plotly is installed in your environment\n",
    "import plotly.express as px\n",
    "import plotly.graph_objects as go\n",
    "import plotly.io as pio\n",
    "import plotly.figure_factory as ff\n",
    "import plotly.subplots as sp\n",
    "import plotly.offline as pyo\n",
    "import plotly.tools as tls\n",
    "import plotly\n"
   ]
  },
  {
   "cell_type": "code",
   "execution_count": 3,
   "metadata": {},
   "outputs": [
    {
     "data": {
      "text/html": [
       "<div>\n",
       "<style scoped>\n",
       "    .dataframe tbody tr th:only-of-type {\n",
       "        vertical-align: middle;\n",
       "    }\n",
       "\n",
       "    .dataframe tbody tr th {\n",
       "        vertical-align: top;\n",
       "    }\n",
       "\n",
       "    .dataframe thead th {\n",
       "        text-align: right;\n",
       "    }\n",
       "</style>\n",
       "<table border=\"1\" class=\"dataframe\">\n",
       "  <thead>\n",
       "    <tr style=\"text-align: right;\">\n",
       "      <th></th>\n",
       "      <th>mag_id</th>\n",
       "      <th>sample_description</th>\n",
       "      <th>fermented_food</th>\n",
       "      <th>specific_substrate</th>\n",
       "      <th>substrate_category</th>\n",
       "      <th>general_category</th>\n",
       "      <th>completeness</th>\n",
       "      <th>contamination</th>\n",
       "      <th>contigs</th>\n",
       "      <th>total_length</th>\n",
       "      <th>...</th>\n",
       "      <th>main_ferment</th>\n",
       "      <th>acid_type</th>\n",
       "      <th>acid_level</th>\n",
       "      <th>alcohol_lovel</th>\n",
       "      <th>protein_degradation</th>\n",
       "      <th>fat_degradation</th>\n",
       "      <th>added_ingredients</th>\n",
       "      <th>fermentation_temp</th>\n",
       "      <th>aging_time</th>\n",
       "      <th>agin_temp</th>\n",
       "    </tr>\n",
       "  </thead>\n",
       "  <tbody>\n",
       "    <tr>\n",
       "      <th>0</th>\n",
       "      <td>C-03.Ssa-BR</td>\n",
       "      <td>raw canastra cheese</td>\n",
       "      <td>cheese</td>\n",
       "      <td>milk</td>\n",
       "      <td>dairy</td>\n",
       "      <td>fermented_dairy</td>\n",
       "      <td>97.97</td>\n",
       "      <td>1.10</td>\n",
       "      <td>182</td>\n",
       "      <td>1896140</td>\n",
       "      <td>...</td>\n",
       "      <td>acid; amino acids</td>\n",
       "      <td>lactic</td>\n",
       "      <td>medium</td>\n",
       "      <td>none</td>\n",
       "      <td>high</td>\n",
       "      <td>medium</td>\n",
       "      <td>salt; rennet</td>\n",
       "      <td>mesophilic</td>\n",
       "      <td>&gt;1 month</td>\n",
       "      <td>cold</td>\n",
       "    </tr>\n",
       "    <tr>\n",
       "      <th>1</th>\n",
       "      <td>C-R02.bin.1</td>\n",
       "      <td>raw canastra cheese</td>\n",
       "      <td>cheese</td>\n",
       "      <td>milk</td>\n",
       "      <td>dairy</td>\n",
       "      <td>fermented_dairy</td>\n",
       "      <td>92.75</td>\n",
       "      <td>1.03</td>\n",
       "      <td>84</td>\n",
       "      <td>3174852</td>\n",
       "      <td>...</td>\n",
       "      <td>acid; amino acids</td>\n",
       "      <td>lactic</td>\n",
       "      <td>medium</td>\n",
       "      <td>none</td>\n",
       "      <td>high</td>\n",
       "      <td>medium</td>\n",
       "      <td>salt; rennet</td>\n",
       "      <td>mesophilic</td>\n",
       "      <td>&gt;1 month</td>\n",
       "      <td>cold</td>\n",
       "    </tr>\n",
       "    <tr>\n",
       "      <th>2</th>\n",
       "      <td>C-R03.bin.7</td>\n",
       "      <td>raw canastra cheese</td>\n",
       "      <td>cheese</td>\n",
       "      <td>milk</td>\n",
       "      <td>dairy</td>\n",
       "      <td>fermented_dairy</td>\n",
       "      <td>98.91</td>\n",
       "      <td>0.00</td>\n",
       "      <td>161</td>\n",
       "      <td>2047554</td>\n",
       "      <td>...</td>\n",
       "      <td>acid; amino acids</td>\n",
       "      <td>lactic</td>\n",
       "      <td>medium</td>\n",
       "      <td>none</td>\n",
       "      <td>high</td>\n",
       "      <td>medium</td>\n",
       "      <td>salt; rennet</td>\n",
       "      <td>mesophilic</td>\n",
       "      <td>&gt;1 month</td>\n",
       "      <td>cold</td>\n",
       "    </tr>\n",
       "    <tr>\n",
       "      <th>3</th>\n",
       "      <td>C-R06.bin.10</td>\n",
       "      <td>raw araxa cheese</td>\n",
       "      <td>cheese</td>\n",
       "      <td>milk</td>\n",
       "      <td>dairy</td>\n",
       "      <td>fermented_dairy</td>\n",
       "      <td>91.62</td>\n",
       "      <td>1.35</td>\n",
       "      <td>147</td>\n",
       "      <td>3636195</td>\n",
       "      <td>...</td>\n",
       "      <td>acid; amino acids</td>\n",
       "      <td>lactic</td>\n",
       "      <td>medium</td>\n",
       "      <td>none</td>\n",
       "      <td>medium</td>\n",
       "      <td>low</td>\n",
       "      <td>salt; rennet</td>\n",
       "      <td>mesophilic</td>\n",
       "      <td>&gt;1 month</td>\n",
       "      <td>cold</td>\n",
       "    </tr>\n",
       "    <tr>\n",
       "      <th>4</th>\n",
       "      <td>C-R06.bin.12</td>\n",
       "      <td>raw araxa cheese</td>\n",
       "      <td>cheese</td>\n",
       "      <td>milk</td>\n",
       "      <td>dairy</td>\n",
       "      <td>fermented_dairy</td>\n",
       "      <td>100.00</td>\n",
       "      <td>0.64</td>\n",
       "      <td>54</td>\n",
       "      <td>3940686</td>\n",
       "      <td>...</td>\n",
       "      <td>acid; amino acids</td>\n",
       "      <td>lactic</td>\n",
       "      <td>medium</td>\n",
       "      <td>none</td>\n",
       "      <td>medium</td>\n",
       "      <td>low</td>\n",
       "      <td>salt; rennet</td>\n",
       "      <td>mesophilic</td>\n",
       "      <td>&gt;1 month</td>\n",
       "      <td>cold</td>\n",
       "    </tr>\n",
       "  </tbody>\n",
       "</table>\n",
       "<p>5 rows × 45 columns</p>\n",
       "</div>"
      ],
      "text/plain": [
       "         mag_id   sample_description fermented_food specific_substrate  \\\n",
       "0   C-03.Ssa-BR  raw canastra cheese         cheese               milk   \n",
       "1   C-R02.bin.1  raw canastra cheese         cheese               milk   \n",
       "2   C-R03.bin.7  raw canastra cheese         cheese               milk   \n",
       "3  C-R06.bin.10     raw araxa cheese         cheese               milk   \n",
       "4  C-R06.bin.12     raw araxa cheese         cheese               milk   \n",
       "\n",
       "  substrate_category general_category  completeness  contamination  contigs  \\\n",
       "0              dairy  fermented_dairy         97.97           1.10      182   \n",
       "1              dairy  fermented_dairy         92.75           1.03       84   \n",
       "2              dairy  fermented_dairy         98.91           0.00      161   \n",
       "3              dairy  fermented_dairy         91.62           1.35      147   \n",
       "4              dairy  fermented_dairy        100.00           0.64       54   \n",
       "\n",
       "   total_length  ...       main_ferment  acid_type acid_level alcohol_lovel  \\\n",
       "0       1896140  ...  acid; amino acids     lactic     medium          none   \n",
       "1       3174852  ...  acid; amino acids     lactic     medium          none   \n",
       "2       2047554  ...  acid; amino acids     lactic     medium          none   \n",
       "3       3636195  ...  acid; amino acids     lactic     medium          none   \n",
       "4       3940686  ...  acid; amino acids     lactic     medium          none   \n",
       "\n",
       "  protein_degradation fat_degradation added_ingredients fermentation_temp  \\\n",
       "0                high          medium      salt; rennet        mesophilic   \n",
       "1                high          medium      salt; rennet        mesophilic   \n",
       "2                high          medium      salt; rennet        mesophilic   \n",
       "3              medium             low      salt; rennet        mesophilic   \n",
       "4              medium             low      salt; rennet        mesophilic   \n",
       "\n",
       "  aging_time agin_temp  \n",
       "0   >1 month      cold  \n",
       "1   >1 month      cold  \n",
       "2   >1 month      cold  \n",
       "3   >1 month      cold  \n",
       "4   >1 month      cold  \n",
       "\n",
       "[5 rows x 45 columns]"
      ]
     },
     "metadata": {},
     "output_type": "display_data"
    },
    {
     "data": {
      "text/plain": [
       "(13858, 45)"
      ]
     },
     "metadata": {},
     "output_type": "display_data"
    }
   ],
   "source": [
    "# loading the dataset\n",
    "dataset = pd.read_csv('data/Food_MAGs_curated_metadata_250421_corrected_merged_final_v2.csv')\n",
    "\n",
    "display(dataset.head(), dataset.shape)"
   ]
  },
  {
   "cell_type": "code",
   "execution_count": 34,
   "metadata": {},
   "outputs": [
    {
     "data": {
      "application/vnd.plotly.v1+json": {
       "config": {
        "plotlyServerURL": "https://plot.ly"
       },
       "data": [
        {
         "hovertemplate": "count=%{x}<br>country=%{y}<extra></extra>",
         "legendgroup": "",
         "marker": {
          "color": "blue",
          "line": {
           "color": "black",
           "width": 1.5
          },
          "pattern": {
           "shape": ""
          }
         },
         "name": "",
         "opacity": 0.6,
         "orientation": "h",
         "showlegend": false,
         "textposition": "auto",
         "type": "bar",
         "x": {
          "bdata": "8AJnAWQB7gDYAHcATABKAEkASABDACcAJgAkABwAGAAWABQAEwASABIAEQAPAAwACgAJAAgACAAHAAcABgAGAAUABQAFAAUABQAFAAQABAAEAAQABAAEAAMAAwADAAIAAgACAAEAAQABAAEAAQABAAEA",
          "dtype": "i2"
         },
         "xaxis": "x",
         "y": [
          "Italy",
          "Ireland",
          "Spain",
          "Austria",
          "USA",
          "United Kingdom",
          "Canada",
          "Genrmany",
          "France",
          "China",
          "Nigeria",
          "Australia",
          "Mexico",
          "Belgium",
          "Taiwan",
          "India",
          "Brazil",
          "Ghana",
          "Denmark",
          "Singapore",
          "Greece",
          "Malaysia",
          "Norway",
          "Turkey",
          "Saudi Arabia",
          "South Africa",
          "Bulgaria",
          "Russia",
          "Indonesia",
          "Ecuador",
          "New Zealand",
          "Finland",
          "Korea",
          "Colombia",
          "Hong Kong",
          "Estonia",
          "hilippines",
          "Burkina Faso",
          "Sweden",
          "Tunisia",
          "Aland Islands",
          "Croatia",
          "Israel",
          "Lebanon",
          "Portugal",
          "Kenya",
          "Boliva",
          "Switzerland",
          "Ethiopia",
          "Benin",
          "Japan",
          "Germany",
          "Thailand",
          "Myanmar",
          "Korean",
          "Turkey ",
          "Belgium:Antwerp"
         ],
         "yaxis": "y"
        }
       ],
       "layout": {
        "barmode": "relative",
        "height": 800,
        "legend": {
         "tracegroupgap": 0
        },
        "template": {
         "data": {
          "bar": [
           {
            "error_x": {
             "color": "#2a3f5f"
            },
            "error_y": {
             "color": "#2a3f5f"
            },
            "marker": {
             "line": {
              "color": "#E5ECF6",
              "width": 0.5
             },
             "pattern": {
              "fillmode": "overlay",
              "size": 10,
              "solidity": 0.2
             }
            },
            "type": "bar"
           }
          ],
          "barpolar": [
           {
            "marker": {
             "line": {
              "color": "#E5ECF6",
              "width": 0.5
             },
             "pattern": {
              "fillmode": "overlay",
              "size": 10,
              "solidity": 0.2
             }
            },
            "type": "barpolar"
           }
          ],
          "carpet": [
           {
            "aaxis": {
             "endlinecolor": "#2a3f5f",
             "gridcolor": "white",
             "linecolor": "white",
             "minorgridcolor": "white",
             "startlinecolor": "#2a3f5f"
            },
            "baxis": {
             "endlinecolor": "#2a3f5f",
             "gridcolor": "white",
             "linecolor": "white",
             "minorgridcolor": "white",
             "startlinecolor": "#2a3f5f"
            },
            "type": "carpet"
           }
          ],
          "choropleth": [
           {
            "colorbar": {
             "outlinewidth": 0,
             "ticks": ""
            },
            "type": "choropleth"
           }
          ],
          "contour": [
           {
            "colorbar": {
             "outlinewidth": 0,
             "ticks": ""
            },
            "colorscale": [
             [
              0,
              "#0d0887"
             ],
             [
              0.1111111111111111,
              "#46039f"
             ],
             [
              0.2222222222222222,
              "#7201a8"
             ],
             [
              0.3333333333333333,
              "#9c179e"
             ],
             [
              0.4444444444444444,
              "#bd3786"
             ],
             [
              0.5555555555555556,
              "#d8576b"
             ],
             [
              0.6666666666666666,
              "#ed7953"
             ],
             [
              0.7777777777777778,
              "#fb9f3a"
             ],
             [
              0.8888888888888888,
              "#fdca26"
             ],
             [
              1,
              "#f0f921"
             ]
            ],
            "type": "contour"
           }
          ],
          "contourcarpet": [
           {
            "colorbar": {
             "outlinewidth": 0,
             "ticks": ""
            },
            "type": "contourcarpet"
           }
          ],
          "heatmap": [
           {
            "colorbar": {
             "outlinewidth": 0,
             "ticks": ""
            },
            "colorscale": [
             [
              0,
              "#0d0887"
             ],
             [
              0.1111111111111111,
              "#46039f"
             ],
             [
              0.2222222222222222,
              "#7201a8"
             ],
             [
              0.3333333333333333,
              "#9c179e"
             ],
             [
              0.4444444444444444,
              "#bd3786"
             ],
             [
              0.5555555555555556,
              "#d8576b"
             ],
             [
              0.6666666666666666,
              "#ed7953"
             ],
             [
              0.7777777777777778,
              "#fb9f3a"
             ],
             [
              0.8888888888888888,
              "#fdca26"
             ],
             [
              1,
              "#f0f921"
             ]
            ],
            "type": "heatmap"
           }
          ],
          "histogram": [
           {
            "marker": {
             "pattern": {
              "fillmode": "overlay",
              "size": 10,
              "solidity": 0.2
             }
            },
            "type": "histogram"
           }
          ],
          "histogram2d": [
           {
            "colorbar": {
             "outlinewidth": 0,
             "ticks": ""
            },
            "colorscale": [
             [
              0,
              "#0d0887"
             ],
             [
              0.1111111111111111,
              "#46039f"
             ],
             [
              0.2222222222222222,
              "#7201a8"
             ],
             [
              0.3333333333333333,
              "#9c179e"
             ],
             [
              0.4444444444444444,
              "#bd3786"
             ],
             [
              0.5555555555555556,
              "#d8576b"
             ],
             [
              0.6666666666666666,
              "#ed7953"
             ],
             [
              0.7777777777777778,
              "#fb9f3a"
             ],
             [
              0.8888888888888888,
              "#fdca26"
             ],
             [
              1,
              "#f0f921"
             ]
            ],
            "type": "histogram2d"
           }
          ],
          "histogram2dcontour": [
           {
            "colorbar": {
             "outlinewidth": 0,
             "ticks": ""
            },
            "colorscale": [
             [
              0,
              "#0d0887"
             ],
             [
              0.1111111111111111,
              "#46039f"
             ],
             [
              0.2222222222222222,
              "#7201a8"
             ],
             [
              0.3333333333333333,
              "#9c179e"
             ],
             [
              0.4444444444444444,
              "#bd3786"
             ],
             [
              0.5555555555555556,
              "#d8576b"
             ],
             [
              0.6666666666666666,
              "#ed7953"
             ],
             [
              0.7777777777777778,
              "#fb9f3a"
             ],
             [
              0.8888888888888888,
              "#fdca26"
             ],
             [
              1,
              "#f0f921"
             ]
            ],
            "type": "histogram2dcontour"
           }
          ],
          "mesh3d": [
           {
            "colorbar": {
             "outlinewidth": 0,
             "ticks": ""
            },
            "type": "mesh3d"
           }
          ],
          "parcoords": [
           {
            "line": {
             "colorbar": {
              "outlinewidth": 0,
              "ticks": ""
             }
            },
            "type": "parcoords"
           }
          ],
          "pie": [
           {
            "automargin": true,
            "type": "pie"
           }
          ],
          "scatter": [
           {
            "fillpattern": {
             "fillmode": "overlay",
             "size": 10,
             "solidity": 0.2
            },
            "type": "scatter"
           }
          ],
          "scatter3d": [
           {
            "line": {
             "colorbar": {
              "outlinewidth": 0,
              "ticks": ""
             }
            },
            "marker": {
             "colorbar": {
              "outlinewidth": 0,
              "ticks": ""
             }
            },
            "type": "scatter3d"
           }
          ],
          "scattercarpet": [
           {
            "marker": {
             "colorbar": {
              "outlinewidth": 0,
              "ticks": ""
             }
            },
            "type": "scattercarpet"
           }
          ],
          "scattergeo": [
           {
            "marker": {
             "colorbar": {
              "outlinewidth": 0,
              "ticks": ""
             }
            },
            "type": "scattergeo"
           }
          ],
          "scattergl": [
           {
            "marker": {
             "colorbar": {
              "outlinewidth": 0,
              "ticks": ""
             }
            },
            "type": "scattergl"
           }
          ],
          "scattermap": [
           {
            "marker": {
             "colorbar": {
              "outlinewidth": 0,
              "ticks": ""
             }
            },
            "type": "scattermap"
           }
          ],
          "scattermapbox": [
           {
            "marker": {
             "colorbar": {
              "outlinewidth": 0,
              "ticks": ""
             }
            },
            "type": "scattermapbox"
           }
          ],
          "scatterpolar": [
           {
            "marker": {
             "colorbar": {
              "outlinewidth": 0,
              "ticks": ""
             }
            },
            "type": "scatterpolar"
           }
          ],
          "scatterpolargl": [
           {
            "marker": {
             "colorbar": {
              "outlinewidth": 0,
              "ticks": ""
             }
            },
            "type": "scatterpolargl"
           }
          ],
          "scatterternary": [
           {
            "marker": {
             "colorbar": {
              "outlinewidth": 0,
              "ticks": ""
             }
            },
            "type": "scatterternary"
           }
          ],
          "surface": [
           {
            "colorbar": {
             "outlinewidth": 0,
             "ticks": ""
            },
            "colorscale": [
             [
              0,
              "#0d0887"
             ],
             [
              0.1111111111111111,
              "#46039f"
             ],
             [
              0.2222222222222222,
              "#7201a8"
             ],
             [
              0.3333333333333333,
              "#9c179e"
             ],
             [
              0.4444444444444444,
              "#bd3786"
             ],
             [
              0.5555555555555556,
              "#d8576b"
             ],
             [
              0.6666666666666666,
              "#ed7953"
             ],
             [
              0.7777777777777778,
              "#fb9f3a"
             ],
             [
              0.8888888888888888,
              "#fdca26"
             ],
             [
              1,
              "#f0f921"
             ]
            ],
            "type": "surface"
           }
          ],
          "table": [
           {
            "cells": {
             "fill": {
              "color": "#EBF0F8"
             },
             "line": {
              "color": "white"
             }
            },
            "header": {
             "fill": {
              "color": "#C8D4E3"
             },
             "line": {
              "color": "white"
             }
            },
            "type": "table"
           }
          ]
         },
         "layout": {
          "annotationdefaults": {
           "arrowcolor": "#2a3f5f",
           "arrowhead": 0,
           "arrowwidth": 1
          },
          "autotypenumbers": "strict",
          "coloraxis": {
           "colorbar": {
            "outlinewidth": 0,
            "ticks": ""
           }
          },
          "colorscale": {
           "diverging": [
            [
             0,
             "#8e0152"
            ],
            [
             0.1,
             "#c51b7d"
            ],
            [
             0.2,
             "#de77ae"
            ],
            [
             0.3,
             "#f1b6da"
            ],
            [
             0.4,
             "#fde0ef"
            ],
            [
             0.5,
             "#f7f7f7"
            ],
            [
             0.6,
             "#e6f5d0"
            ],
            [
             0.7,
             "#b8e186"
            ],
            [
             0.8,
             "#7fbc41"
            ],
            [
             0.9,
             "#4d9221"
            ],
            [
             1,
             "#276419"
            ]
           ],
           "sequential": [
            [
             0,
             "#0d0887"
            ],
            [
             0.1111111111111111,
             "#46039f"
            ],
            [
             0.2222222222222222,
             "#7201a8"
            ],
            [
             0.3333333333333333,
             "#9c179e"
            ],
            [
             0.4444444444444444,
             "#bd3786"
            ],
            [
             0.5555555555555556,
             "#d8576b"
            ],
            [
             0.6666666666666666,
             "#ed7953"
            ],
            [
             0.7777777777777778,
             "#fb9f3a"
            ],
            [
             0.8888888888888888,
             "#fdca26"
            ],
            [
             1,
             "#f0f921"
            ]
           ],
           "sequentialminus": [
            [
             0,
             "#0d0887"
            ],
            [
             0.1111111111111111,
             "#46039f"
            ],
            [
             0.2222222222222222,
             "#7201a8"
            ],
            [
             0.3333333333333333,
             "#9c179e"
            ],
            [
             0.4444444444444444,
             "#bd3786"
            ],
            [
             0.5555555555555556,
             "#d8576b"
            ],
            [
             0.6666666666666666,
             "#ed7953"
            ],
            [
             0.7777777777777778,
             "#fb9f3a"
            ],
            [
             0.8888888888888888,
             "#fdca26"
            ],
            [
             1,
             "#f0f921"
            ]
           ]
          },
          "colorway": [
           "#636efa",
           "#EF553B",
           "#00cc96",
           "#ab63fa",
           "#FFA15A",
           "#19d3f3",
           "#FF6692",
           "#B6E880",
           "#FF97FF",
           "#FECB52"
          ],
          "font": {
           "color": "#2a3f5f"
          },
          "geo": {
           "bgcolor": "white",
           "lakecolor": "white",
           "landcolor": "#E5ECF6",
           "showlakes": true,
           "showland": true,
           "subunitcolor": "white"
          },
          "hoverlabel": {
           "align": "left"
          },
          "hovermode": "closest",
          "mapbox": {
           "style": "light"
          },
          "paper_bgcolor": "white",
          "plot_bgcolor": "#E5ECF6",
          "polar": {
           "angularaxis": {
            "gridcolor": "white",
            "linecolor": "white",
            "ticks": ""
           },
           "bgcolor": "#E5ECF6",
           "radialaxis": {
            "gridcolor": "white",
            "linecolor": "white",
            "ticks": ""
           }
          },
          "scene": {
           "xaxis": {
            "backgroundcolor": "#E5ECF6",
            "gridcolor": "white",
            "gridwidth": 2,
            "linecolor": "white",
            "showbackground": true,
            "ticks": "",
            "zerolinecolor": "white"
           },
           "yaxis": {
            "backgroundcolor": "#E5ECF6",
            "gridcolor": "white",
            "gridwidth": 2,
            "linecolor": "white",
            "showbackground": true,
            "ticks": "",
            "zerolinecolor": "white"
           },
           "zaxis": {
            "backgroundcolor": "#E5ECF6",
            "gridcolor": "white",
            "gridwidth": 2,
            "linecolor": "white",
            "showbackground": true,
            "ticks": "",
            "zerolinecolor": "white"
           }
          },
          "shapedefaults": {
           "line": {
            "color": "#2a3f5f"
           }
          },
          "ternary": {
           "aaxis": {
            "gridcolor": "white",
            "linecolor": "white",
            "ticks": ""
           },
           "baxis": {
            "gridcolor": "white",
            "linecolor": "white",
            "ticks": ""
           },
           "bgcolor": "#E5ECF6",
           "caxis": {
            "gridcolor": "white",
            "linecolor": "white",
            "ticks": ""
           }
          },
          "title": {
           "x": 0.05
          },
          "xaxis": {
           "automargin": true,
           "gridcolor": "white",
           "linecolor": "white",
           "ticks": "",
           "title": {
            "standoff": 15
           },
           "zerolinecolor": "white",
           "zerolinewidth": 2
          },
          "yaxis": {
           "automargin": true,
           "gridcolor": "white",
           "linecolor": "white",
           "ticks": "",
           "title": {
            "standoff": 15
           },
           "zerolinecolor": "white",
           "zerolinewidth": 2
          }
         }
        },
        "title": {
         "text": "Number of unique samples per country"
        },
        "width": 800,
        "xaxis": {
         "anchor": "y",
         "domain": [
          0,
          1
         ],
         "title": {
          "text": "Number of unique samples"
         }
        },
        "yaxis": {
         "anchor": "x",
         "categoryarray": [
          "Belgium:Antwerp",
          "Turkey ",
          "Korean",
          "Myanmar",
          "Thailand",
          "Germany",
          "Japan",
          "Benin",
          "Ethiopia",
          "Switzerland",
          "Boliva",
          "Kenya",
          "Portugal",
          "Lebanon",
          "Israel",
          "Croatia",
          "Aland Islands",
          "Tunisia",
          "Sweden",
          "Burkina Faso",
          "hilippines",
          "Estonia",
          "Hong Kong",
          "Colombia",
          "Korea",
          "Finland",
          "New Zealand",
          "Ecuador",
          "Indonesia",
          "Russia",
          "Bulgaria",
          "South Africa",
          "Saudi Arabia",
          "Turkey",
          "Norway",
          "Malaysia",
          "Greece",
          "Singapore",
          "Denmark",
          "Ghana",
          "Brazil",
          "India",
          "Taiwan",
          "Belgium",
          "Mexico",
          "Australia",
          "Nigeria",
          "China",
          "France",
          "Genrmany",
          "Canada",
          "United Kingdom",
          "USA",
          "Austria",
          "Spain",
          "Ireland",
          "Italy"
         ],
         "categoryorder": "array",
         "domain": [
          0,
          1
         ],
         "tickfont": {
          "size": 8
         },
         "title": {
          "text": "Country"
         }
        }
       }
      }
     },
     "metadata": {},
     "output_type": "display_data"
    }
   ],
   "source": [
    "# visualizing the number of samples (sample_accession) per country\n",
    "# Get unique sample_accession and country pairs\n",
    "unique_samples = dataset[['sample_accession', 'country']].drop_duplicates()\n",
    "\n",
    "# # Count samples per country and sort in descending order\n",
    "country_counts = unique_samples.value_counts('country').sort_values(ascending=False)\n",
    "country_counts = country_counts.reset_index()\n",
    "country_counts.columns = ['country', 'count']\n",
    "# remove values that are lists\n",
    "country_counts = country_counts[~country_counts['country'].str.contains('\\[', na=False)]\n",
    "\n",
    "# Create horizontal bar plot\n",
    "fig = px.bar(country_counts, \n",
    "             y='country', \n",
    "             x='count',\n",
    "             orientation='h',\n",
    "             title=\"Number of unique samples per country\",\n",
    "             category_orders={'country': country_counts['country'].tolist()},\n",
    "             height=800,\n",
    "             width=800,)  \n",
    "\n",
    "fig.update_layout(xaxis_title=\"Number of unique samples\",\n",
    "                 yaxis_title=\"Country\",\n",
    "                 yaxis=dict(tickfont=dict(size=8)))  # reduced font size for y-axis labels\n",
    "\n",
    "fig.update_traces(marker_color='blue', marker_line_color='black',\n",
    "                  marker_line_width=1.5, opacity=0.6)\n",
    "fig.show()"
   ]
  },
  {
   "cell_type": "code",
   "execution_count": 43,
   "metadata": {},
   "outputs": [
    {
     "data": {
      "application/vnd.plotly.v1+json": {
       "config": {
        "plotlyServerURL": "https://plot.ly"
       },
       "data": [
        {
         "customdata": [
          [
           752,
           "Europe"
          ],
          [
           359,
           "Europe"
          ],
          [
           356,
           "Europe"
          ],
          [
           238,
           "Europe"
          ],
          [
           119,
           "Europe"
          ],
          [
           74,
           "Europe"
          ],
          [
           73,
           "Europe"
          ],
          [
           36,
           "Europe"
          ],
          [
           19,
           "Europe"
          ],
          [
           18,
           "Europe"
          ],
          [
           15,
           "Europe"
          ],
          [
           8,
           "Europe"
          ],
          [
           8,
           "Europe"
          ],
          [
           6,
           "Europe"
          ],
          [
           5,
           "Europe"
          ],
          [
           4,
           "Europe"
          ],
          [
           4,
           "Europe"
          ],
          [
           4,
           "Europe"
          ],
          [
           3,
           "Europe"
          ],
          [
           2,
           "Europe"
          ],
          [
           1,
           "Europe"
          ],
          [
           1,
           "Europe"
          ]
         ],
         "geo": "geo",
         "hovertemplate": "<b>%{hovertext}</b><br><br>continent=%{customdata[1]}<br>count=%{customdata[0]}<br>country=%{location}<extra></extra>",
         "hovertext": [
          "Italy",
          "Ireland",
          "Spain",
          "Austria",
          "United Kingdom",
          "Genrmany",
          "France",
          "Belgium",
          "Denmark",
          "Greece",
          "Norway",
          "Bulgaria",
          "Russia",
          "Finland",
          "Estonia",
          "Sweden",
          "Aland Islands",
          "Croatia",
          "Portugal",
          "Switzerland",
          "Germany",
          "Belgium:Antwerp"
         ],
         "legendgroup": "Europe",
         "locationmode": "country names",
         "locations": [
          "Italy",
          "Ireland",
          "Spain",
          "Austria",
          "United Kingdom",
          "Genrmany",
          "France",
          "Belgium",
          "Denmark",
          "Greece",
          "Norway",
          "Bulgaria",
          "Russia",
          "Finland",
          "Estonia",
          "Sweden",
          "Aland Islands",
          "Croatia",
          "Portugal",
          "Switzerland",
          "Germany",
          "Belgium:Antwerp"
         ],
         "marker": {
          "color": "#636efa",
          "line": {
           "color": "black",
           "width": 1
          },
          "opacity": 0.6,
          "size": {
           "bdata": "8AJnAWQB7gB3AEoASQAkABMAEgAPAAgACAAGAAUABAAEAAQAAwACAAEAAQA=",
           "dtype": "i2"
          },
          "sizemode": "area",
          "sizeref": 1.88,
          "symbol": "circle"
         },
         "mode": "markers",
         "name": "Europe",
         "showlegend": true,
         "type": "scattergeo"
        },
        {
         "customdata": [
          [
           216,
           "North America"
          ],
          [
           76,
           "North America"
          ],
          [
           38,
           "North America"
          ]
         ],
         "geo": "geo",
         "hovertemplate": "<b>%{hovertext}</b><br><br>continent=%{customdata[1]}<br>count=%{customdata[0]}<br>country=%{location}<extra></extra>",
         "hovertext": [
          "USA",
          "Canada",
          "Mexico"
         ],
         "legendgroup": "North America",
         "locationmode": "country names",
         "locations": [
          "USA",
          "Canada",
          "Mexico"
         ],
         "marker": {
          "color": "#EF553B",
          "line": {
           "color": "black",
           "width": 1
          },
          "opacity": 0.6,
          "size": {
           "bdata": "2ABMACYA",
           "dtype": "i2"
          },
          "sizemode": "area",
          "sizeref": 1.88,
          "symbol": "circle"
         },
         "mode": "markers",
         "name": "North America",
         "showlegend": true,
         "type": "scattergeo"
        },
        {
         "customdata": [
          [
           72,
           "Asia"
          ],
          [
           28,
           "Asia"
          ],
          [
           24,
           "Asia"
          ],
          [
           18,
           "Asia"
          ],
          [
           17,
           "Asia"
          ],
          [
           12,
           "Asia"
          ],
          [
           10,
           "Asia"
          ],
          [
           7,
           "Asia"
          ],
          [
           5,
           "Asia"
          ],
          [
           5,
           "Asia"
          ],
          [
           5,
           "Asia"
          ],
          [
           4,
           "Asia"
          ],
          [
           4,
           "Asia"
          ],
          [
           1,
           "Asia"
          ],
          [
           1,
           "Asia"
          ],
          [
           1,
           "Asia"
          ],
          [
           1,
           "Asia"
          ],
          [
           1,
           "Asia"
          ]
         ],
         "geo": "geo",
         "hovertemplate": "<b>%{hovertext}</b><br><br>continent=%{customdata[1]}<br>count=%{customdata[0]}<br>country=%{location}<extra></extra>",
         "hovertext": [
          "China",
          "Taiwan",
          "India",
          "Singapore",
          "Malaysia",
          "Turkey",
          "Saudi Arabia",
          "Indonesia",
          "Korea",
          "Hong Kong",
          "hilippines",
          "Israel",
          "Lebanon",
          "Japan",
          "Thailand",
          "Myanmar",
          "Korean",
          "Turkey "
         ],
         "legendgroup": "Asia",
         "locationmode": "country names",
         "locations": [
          "China",
          "Taiwan",
          "India",
          "Singapore",
          "Malaysia",
          "Turkey",
          "Saudi Arabia",
          "Indonesia",
          "Korea",
          "Hong Kong",
          "hilippines",
          "Israel",
          "Lebanon",
          "Japan",
          "Thailand",
          "Myanmar",
          "Korean",
          "Turkey "
         ],
         "marker": {
          "color": "#00cc96",
          "line": {
           "color": "black",
           "width": 1
          },
          "opacity": 0.6,
          "size": {
           "bdata": "SBwYEhEMCgcFBQUEBAEBAQEB",
           "dtype": "i1"
          },
          "sizemode": "area",
          "sizeref": 1.88,
          "symbol": "circle"
         },
         "mode": "markers",
         "name": "Asia",
         "showlegend": true,
         "type": "scattergeo"
        },
        {
         "customdata": [
          [
           67,
           "Africa"
          ],
          [
           20,
           "Africa"
          ],
          [
           9,
           "Africa"
          ],
          [
           5,
           "Africa"
          ],
          [
           4,
           "Africa"
          ],
          [
           3,
           "Africa"
          ],
          [
           2,
           "Africa"
          ],
          [
           2,
           "Africa"
          ]
         ],
         "geo": "geo",
         "hovertemplate": "<b>%{hovertext}</b><br><br>continent=%{customdata[1]}<br>count=%{customdata[0]}<br>country=%{location}<extra></extra>",
         "hovertext": [
          "Nigeria",
          "Ghana",
          "South Africa",
          "Burkina Faso",
          "Tunisia",
          "Kenya",
          "Ethiopia",
          "Benin"
         ],
         "legendgroup": "Africa",
         "locationmode": "country names",
         "locations": [
          "Nigeria",
          "Ghana",
          "South Africa",
          "Burkina Faso",
          "Tunisia",
          "Kenya",
          "Ethiopia",
          "Benin"
         ],
         "marker": {
          "color": "#ab63fa",
          "line": {
           "color": "black",
           "width": 1
          },
          "opacity": 0.6,
          "size": {
           "bdata": "QxQJBQQDAgI=",
           "dtype": "i1"
          },
          "sizemode": "area",
          "sizeref": 1.88,
          "symbol": "circle"
         },
         "mode": "markers",
         "name": "Africa",
         "showlegend": true,
         "type": "scattergeo"
        },
        {
         "customdata": [
          [
           39,
           "Oceania"
          ],
          [
           6,
           "Oceania"
          ]
         ],
         "geo": "geo",
         "hovertemplate": "<b>%{hovertext}</b><br><br>continent=%{customdata[1]}<br>count=%{customdata[0]}<br>country=%{location}<extra></extra>",
         "hovertext": [
          "Australia",
          "New Zealand"
         ],
         "legendgroup": "Oceania",
         "locationmode": "country names",
         "locations": [
          "Australia",
          "New Zealand"
         ],
         "marker": {
          "color": "#FFA15A",
          "line": {
           "color": "black",
           "width": 1
          },
          "opacity": 0.6,
          "size": {
           "bdata": "JwY=",
           "dtype": "i1"
          },
          "sizemode": "area",
          "sizeref": 1.88,
          "symbol": "circle"
         },
         "mode": "markers",
         "name": "Oceania",
         "showlegend": true,
         "type": "scattergeo"
        },
        {
         "customdata": [
          [
           22,
           "South America"
          ],
          [
           7,
           "South America"
          ],
          [
           5,
           "South America"
          ],
          [
           3,
           "South America"
          ]
         ],
         "geo": "geo",
         "hovertemplate": "<b>%{hovertext}</b><br><br>continent=%{customdata[1]}<br>count=%{customdata[0]}<br>country=%{location}<extra></extra>",
         "hovertext": [
          "Brazil",
          "Ecuador",
          "Colombia",
          "Boliva"
         ],
         "legendgroup": "South America",
         "locationmode": "country names",
         "locations": [
          "Brazil",
          "Ecuador",
          "Colombia",
          "Boliva"
         ],
         "marker": {
          "color": "#19d3f3",
          "line": {
           "color": "black",
           "width": 1
          },
          "opacity": 0.6,
          "size": {
           "bdata": "FgcFAw==",
           "dtype": "i1"
          },
          "sizemode": "area",
          "sizeref": 1.88,
          "symbol": "circle"
         },
         "mode": "markers",
         "name": "South America",
         "showlegend": true,
         "type": "scattergeo"
        }
       ],
       "layout": {
        "geo": {
         "center": {},
         "countrycolor": "rgb(204, 204, 204)",
         "domain": {
          "x": [
           0,
           1
          ],
          "y": [
           0,
           1
          ]
         },
         "landcolor": "rgb(243, 243, 243)",
         "projection": {
          "type": "equirectangular"
         },
         "scope": "world",
         "showcoastlines": true,
         "showcountries": true,
         "showframe": true,
         "showland": true,
         "visible": true
        },
        "height": 600,
        "legend": {
         "itemsizing": "constant",
         "title": {
          "text": "continent"
         },
         "tracegroupgap": 0
        },
        "template": {
         "data": {
          "bar": [
           {
            "error_x": {
             "color": "#2a3f5f"
            },
            "error_y": {
             "color": "#2a3f5f"
            },
            "marker": {
             "line": {
              "color": "#E5ECF6",
              "width": 0.5
             },
             "pattern": {
              "fillmode": "overlay",
              "size": 10,
              "solidity": 0.2
             }
            },
            "type": "bar"
           }
          ],
          "barpolar": [
           {
            "marker": {
             "line": {
              "color": "#E5ECF6",
              "width": 0.5
             },
             "pattern": {
              "fillmode": "overlay",
              "size": 10,
              "solidity": 0.2
             }
            },
            "type": "barpolar"
           }
          ],
          "carpet": [
           {
            "aaxis": {
             "endlinecolor": "#2a3f5f",
             "gridcolor": "white",
             "linecolor": "white",
             "minorgridcolor": "white",
             "startlinecolor": "#2a3f5f"
            },
            "baxis": {
             "endlinecolor": "#2a3f5f",
             "gridcolor": "white",
             "linecolor": "white",
             "minorgridcolor": "white",
             "startlinecolor": "#2a3f5f"
            },
            "type": "carpet"
           }
          ],
          "choropleth": [
           {
            "colorbar": {
             "outlinewidth": 0,
             "ticks": ""
            },
            "type": "choropleth"
           }
          ],
          "contour": [
           {
            "colorbar": {
             "outlinewidth": 0,
             "ticks": ""
            },
            "colorscale": [
             [
              0,
              "#0d0887"
             ],
             [
              0.1111111111111111,
              "#46039f"
             ],
             [
              0.2222222222222222,
              "#7201a8"
             ],
             [
              0.3333333333333333,
              "#9c179e"
             ],
             [
              0.4444444444444444,
              "#bd3786"
             ],
             [
              0.5555555555555556,
              "#d8576b"
             ],
             [
              0.6666666666666666,
              "#ed7953"
             ],
             [
              0.7777777777777778,
              "#fb9f3a"
             ],
             [
              0.8888888888888888,
              "#fdca26"
             ],
             [
              1,
              "#f0f921"
             ]
            ],
            "type": "contour"
           }
          ],
          "contourcarpet": [
           {
            "colorbar": {
             "outlinewidth": 0,
             "ticks": ""
            },
            "type": "contourcarpet"
           }
          ],
          "heatmap": [
           {
            "colorbar": {
             "outlinewidth": 0,
             "ticks": ""
            },
            "colorscale": [
             [
              0,
              "#0d0887"
             ],
             [
              0.1111111111111111,
              "#46039f"
             ],
             [
              0.2222222222222222,
              "#7201a8"
             ],
             [
              0.3333333333333333,
              "#9c179e"
             ],
             [
              0.4444444444444444,
              "#bd3786"
             ],
             [
              0.5555555555555556,
              "#d8576b"
             ],
             [
              0.6666666666666666,
              "#ed7953"
             ],
             [
              0.7777777777777778,
              "#fb9f3a"
             ],
             [
              0.8888888888888888,
              "#fdca26"
             ],
             [
              1,
              "#f0f921"
             ]
            ],
            "type": "heatmap"
           }
          ],
          "histogram": [
           {
            "marker": {
             "pattern": {
              "fillmode": "overlay",
              "size": 10,
              "solidity": 0.2
             }
            },
            "type": "histogram"
           }
          ],
          "histogram2d": [
           {
            "colorbar": {
             "outlinewidth": 0,
             "ticks": ""
            },
            "colorscale": [
             [
              0,
              "#0d0887"
             ],
             [
              0.1111111111111111,
              "#46039f"
             ],
             [
              0.2222222222222222,
              "#7201a8"
             ],
             [
              0.3333333333333333,
              "#9c179e"
             ],
             [
              0.4444444444444444,
              "#bd3786"
             ],
             [
              0.5555555555555556,
              "#d8576b"
             ],
             [
              0.6666666666666666,
              "#ed7953"
             ],
             [
              0.7777777777777778,
              "#fb9f3a"
             ],
             [
              0.8888888888888888,
              "#fdca26"
             ],
             [
              1,
              "#f0f921"
             ]
            ],
            "type": "histogram2d"
           }
          ],
          "histogram2dcontour": [
           {
            "colorbar": {
             "outlinewidth": 0,
             "ticks": ""
            },
            "colorscale": [
             [
              0,
              "#0d0887"
             ],
             [
              0.1111111111111111,
              "#46039f"
             ],
             [
              0.2222222222222222,
              "#7201a8"
             ],
             [
              0.3333333333333333,
              "#9c179e"
             ],
             [
              0.4444444444444444,
              "#bd3786"
             ],
             [
              0.5555555555555556,
              "#d8576b"
             ],
             [
              0.6666666666666666,
              "#ed7953"
             ],
             [
              0.7777777777777778,
              "#fb9f3a"
             ],
             [
              0.8888888888888888,
              "#fdca26"
             ],
             [
              1,
              "#f0f921"
             ]
            ],
            "type": "histogram2dcontour"
           }
          ],
          "mesh3d": [
           {
            "colorbar": {
             "outlinewidth": 0,
             "ticks": ""
            },
            "type": "mesh3d"
           }
          ],
          "parcoords": [
           {
            "line": {
             "colorbar": {
              "outlinewidth": 0,
              "ticks": ""
             }
            },
            "type": "parcoords"
           }
          ],
          "pie": [
           {
            "automargin": true,
            "type": "pie"
           }
          ],
          "scatter": [
           {
            "fillpattern": {
             "fillmode": "overlay",
             "size": 10,
             "solidity": 0.2
            },
            "type": "scatter"
           }
          ],
          "scatter3d": [
           {
            "line": {
             "colorbar": {
              "outlinewidth": 0,
              "ticks": ""
             }
            },
            "marker": {
             "colorbar": {
              "outlinewidth": 0,
              "ticks": ""
             }
            },
            "type": "scatter3d"
           }
          ],
          "scattercarpet": [
           {
            "marker": {
             "colorbar": {
              "outlinewidth": 0,
              "ticks": ""
             }
            },
            "type": "scattercarpet"
           }
          ],
          "scattergeo": [
           {
            "marker": {
             "colorbar": {
              "outlinewidth": 0,
              "ticks": ""
             }
            },
            "type": "scattergeo"
           }
          ],
          "scattergl": [
           {
            "marker": {
             "colorbar": {
              "outlinewidth": 0,
              "ticks": ""
             }
            },
            "type": "scattergl"
           }
          ],
          "scattermap": [
           {
            "marker": {
             "colorbar": {
              "outlinewidth": 0,
              "ticks": ""
             }
            },
            "type": "scattermap"
           }
          ],
          "scattermapbox": [
           {
            "marker": {
             "colorbar": {
              "outlinewidth": 0,
              "ticks": ""
             }
            },
            "type": "scattermapbox"
           }
          ],
          "scatterpolar": [
           {
            "marker": {
             "colorbar": {
              "outlinewidth": 0,
              "ticks": ""
             }
            },
            "type": "scatterpolar"
           }
          ],
          "scatterpolargl": [
           {
            "marker": {
             "colorbar": {
              "outlinewidth": 0,
              "ticks": ""
             }
            },
            "type": "scatterpolargl"
           }
          ],
          "scatterternary": [
           {
            "marker": {
             "colorbar": {
              "outlinewidth": 0,
              "ticks": ""
             }
            },
            "type": "scatterternary"
           }
          ],
          "surface": [
           {
            "colorbar": {
             "outlinewidth": 0,
             "ticks": ""
            },
            "colorscale": [
             [
              0,
              "#0d0887"
             ],
             [
              0.1111111111111111,
              "#46039f"
             ],
             [
              0.2222222222222222,
              "#7201a8"
             ],
             [
              0.3333333333333333,
              "#9c179e"
             ],
             [
              0.4444444444444444,
              "#bd3786"
             ],
             [
              0.5555555555555556,
              "#d8576b"
             ],
             [
              0.6666666666666666,
              "#ed7953"
             ],
             [
              0.7777777777777778,
              "#fb9f3a"
             ],
             [
              0.8888888888888888,
              "#fdca26"
             ],
             [
              1,
              "#f0f921"
             ]
            ],
            "type": "surface"
           }
          ],
          "table": [
           {
            "cells": {
             "fill": {
              "color": "#EBF0F8"
             },
             "line": {
              "color": "white"
             }
            },
            "header": {
             "fill": {
              "color": "#C8D4E3"
             },
             "line": {
              "color": "white"
             }
            },
            "type": "table"
           }
          ]
         },
         "layout": {
          "annotationdefaults": {
           "arrowcolor": "#2a3f5f",
           "arrowhead": 0,
           "arrowwidth": 1
          },
          "autotypenumbers": "strict",
          "coloraxis": {
           "colorbar": {
            "outlinewidth": 0,
            "ticks": ""
           }
          },
          "colorscale": {
           "diverging": [
            [
             0,
             "#8e0152"
            ],
            [
             0.1,
             "#c51b7d"
            ],
            [
             0.2,
             "#de77ae"
            ],
            [
             0.3,
             "#f1b6da"
            ],
            [
             0.4,
             "#fde0ef"
            ],
            [
             0.5,
             "#f7f7f7"
            ],
            [
             0.6,
             "#e6f5d0"
            ],
            [
             0.7,
             "#b8e186"
            ],
            [
             0.8,
             "#7fbc41"
            ],
            [
             0.9,
             "#4d9221"
            ],
            [
             1,
             "#276419"
            ]
           ],
           "sequential": [
            [
             0,
             "#0d0887"
            ],
            [
             0.1111111111111111,
             "#46039f"
            ],
            [
             0.2222222222222222,
             "#7201a8"
            ],
            [
             0.3333333333333333,
             "#9c179e"
            ],
            [
             0.4444444444444444,
             "#bd3786"
            ],
            [
             0.5555555555555556,
             "#d8576b"
            ],
            [
             0.6666666666666666,
             "#ed7953"
            ],
            [
             0.7777777777777778,
             "#fb9f3a"
            ],
            [
             0.8888888888888888,
             "#fdca26"
            ],
            [
             1,
             "#f0f921"
            ]
           ],
           "sequentialminus": [
            [
             0,
             "#0d0887"
            ],
            [
             0.1111111111111111,
             "#46039f"
            ],
            [
             0.2222222222222222,
             "#7201a8"
            ],
            [
             0.3333333333333333,
             "#9c179e"
            ],
            [
             0.4444444444444444,
             "#bd3786"
            ],
            [
             0.5555555555555556,
             "#d8576b"
            ],
            [
             0.6666666666666666,
             "#ed7953"
            ],
            [
             0.7777777777777778,
             "#fb9f3a"
            ],
            [
             0.8888888888888888,
             "#fdca26"
            ],
            [
             1,
             "#f0f921"
            ]
           ]
          },
          "colorway": [
           "#636efa",
           "#EF553B",
           "#00cc96",
           "#ab63fa",
           "#FFA15A",
           "#19d3f3",
           "#FF6692",
           "#B6E880",
           "#FF97FF",
           "#FECB52"
          ],
          "font": {
           "color": "#2a3f5f"
          },
          "geo": {
           "bgcolor": "white",
           "lakecolor": "white",
           "landcolor": "#E5ECF6",
           "showlakes": true,
           "showland": true,
           "subunitcolor": "white"
          },
          "hoverlabel": {
           "align": "left"
          },
          "hovermode": "closest",
          "mapbox": {
           "style": "light"
          },
          "paper_bgcolor": "white",
          "plot_bgcolor": "#E5ECF6",
          "polar": {
           "angularaxis": {
            "gridcolor": "white",
            "linecolor": "white",
            "ticks": ""
           },
           "bgcolor": "#E5ECF6",
           "radialaxis": {
            "gridcolor": "white",
            "linecolor": "white",
            "ticks": ""
           }
          },
          "scene": {
           "xaxis": {
            "backgroundcolor": "#E5ECF6",
            "gridcolor": "white",
            "gridwidth": 2,
            "linecolor": "white",
            "showbackground": true,
            "ticks": "",
            "zerolinecolor": "white"
           },
           "yaxis": {
            "backgroundcolor": "#E5ECF6",
            "gridcolor": "white",
            "gridwidth": 2,
            "linecolor": "white",
            "showbackground": true,
            "ticks": "",
            "zerolinecolor": "white"
           },
           "zaxis": {
            "backgroundcolor": "#E5ECF6",
            "gridcolor": "white",
            "gridwidth": 2,
            "linecolor": "white",
            "showbackground": true,
            "ticks": "",
            "zerolinecolor": "white"
           }
          },
          "shapedefaults": {
           "line": {
            "color": "#2a3f5f"
           }
          },
          "ternary": {
           "aaxis": {
            "gridcolor": "white",
            "linecolor": "white",
            "ticks": ""
           },
           "baxis": {
            "gridcolor": "white",
            "linecolor": "white",
            "ticks": ""
           },
           "bgcolor": "#E5ECF6",
           "caxis": {
            "gridcolor": "white",
            "linecolor": "white",
            "ticks": ""
           }
          },
          "title": {
           "x": 0.05
          },
          "xaxis": {
           "automargin": true,
           "gridcolor": "white",
           "linecolor": "white",
           "ticks": "",
           "title": {
            "standoff": 15
           },
           "zerolinecolor": "white",
           "zerolinewidth": 2
          },
          "yaxis": {
           "automargin": true,
           "gridcolor": "white",
           "linecolor": "white",
           "ticks": "",
           "title": {
            "standoff": 15
           },
           "zerolinecolor": "white",
           "zerolinewidth": 2
          }
         }
        },
        "title": {
         "text": "Number of Samples per Country",
         "x": 0.5
        },
        "updatemenus": [
         {
          "buttons": [
           {
            "args": [
             {
              "geo.scope": "world"
             }
            ],
            "label": "World",
            "method": "relayout"
           },
           {
            "args": [
             {
              "geo.scope": "europe"
             }
            ],
            "label": "Europe",
            "method": "relayout"
           },
           {
            "args": [
             {
              "geo.scope": "asia"
             }
            ],
            "label": "Asia",
            "method": "relayout"
           },
           {
            "args": [
             {
              "geo.scope": "africa"
             }
            ],
            "label": "Africa",
            "method": "relayout"
           },
           {
            "args": [
             {
              "geo.scope": "north america"
             }
            ],
            "label": "North America",
            "method": "relayout"
           },
           {
            "args": [
             {
              "geo.scope": "south america"
             }
            ],
            "label": "South America",
            "method": "relayout"
           }
          ],
          "direction": "down",
          "showactive": true,
          "x": 1.2,
          "y": 0.6
         }
        ],
        "width": 1000
       }
      }
     },
     "metadata": {},
     "output_type": "display_data"
    }
   ],
   "source": [
    "# Define continent mapping\n",
    "continent_map = {\n",
    "    'Italy': 'Europe', 'Ireland': 'Europe', 'Spain': 'Europe', 'Austria': 'Europe', \n",
    "    'USA': 'North America', 'United Kingdom': 'Europe', 'Canada': 'North America',\n",
    "    'Genrmany': 'Europe', 'France': 'Europe', 'China': 'Asia', 'Nigeria': 'Africa',\n",
    "    'Australia': 'Oceania', 'Mexico': 'North America', 'Belgium': 'Europe',\n",
    "    'Taiwan': 'Asia', 'India': 'Asia', 'Brazil': 'South America', 'Ghana': 'Africa',\n",
    "    'Denmark': 'Europe', 'Singapore': 'Asia', 'Greece': 'Europe', 'Malaysia': 'Asia',\n",
    "    'Norway': 'Europe', 'Turkey': 'Asia', 'Saudi Arabia': 'Asia', \n",
    "    'South Africa': 'Africa', 'Bulgaria': 'Europe', 'Russia': 'Europe',\n",
    "    'Indonesia': 'Asia', 'Ecuador': 'South America', 'New Zealand': 'Oceania',\n",
    "    'Finland': 'Europe', 'Korea': 'Asia', 'Colombia': 'South America',\n",
    "    'Hong Kong': 'Asia', 'Estonia': 'Europe', 'hilippines': 'Asia',\n",
    "    'Burkina Faso': 'Africa', 'Sweden': 'Europe', 'Tunisia': 'Africa',\n",
    "    'Aland Islands': 'Europe', 'Croatia': 'Europe', 'Israel': 'Asia',\n",
    "    'Lebanon': 'Asia', 'Portugal': 'Europe', 'Kenya': 'Africa',\n",
    "    'Boliva': 'South America', 'Switzerland': 'Europe', 'Ethiopia': 'Africa',\n",
    "    'Benin': 'Africa', 'Japan': 'Asia', 'Germany': 'Europe', 'Thailand': 'Asia',\n",
    "    'Myanmar': 'Asia', 'Korean': 'Asia', 'Turkey ': 'Asia', 'Belgium:Antwerp': 'Europe'\n",
    "}\n",
    "\n",
    "# Add continent column\n",
    "country_counts['continent'] = country_counts['country'].map(continent_map)\n",
    "\n",
    "# Create scatter_geo plot with color by continent\n",
    "fig = px.scatter_geo(country_counts,\n",
    "                    locations='country',\n",
    "                    locationmode='country names',\n",
    "                    size='count',\n",
    "                    color='continent',\n",
    "                    hover_name='country',\n",
    "                    hover_data={'count': True, 'continent': True},\n",
    "                    projection='natural earth',\n",
    "                    title='Number of Samples per Country')\n",
    "\n",
    "fig.update_traces(marker=dict(opacity=0.6, line=dict(width=1, color='black')))\n",
    "\n",
    "fig.update_layout(\n",
    "    title_x=0.5,\n",
    "    geo=dict(\n",
    "        showframe=True,\n",
    "        showcoastlines=True,\n",
    "        projection_type='equirectangular',\n",
    "        # Add zoom capabilities\n",
    "        scope='world',\n",
    "        showland=True,\n",
    "        showcountries=True,\n",
    "        landcolor='rgb(243, 243, 243)',\n",
    "        countrycolor='rgb(204, 204, 204)',\n",
    "        # Enable zoom\n",
    "        visible=True\n",
    "    ),\n",
    "    width=1000,\n",
    "    height=600\n",
    ")\n",
    "\n",
    "# Add buttons for zooming to different regions\n",
    "fig.update_layout(\n",
    "    updatemenus=[{\n",
    "        'buttons': [\n",
    "            {'args': [{'geo.scope': 'world'}], 'label': 'World', 'method': 'relayout'},\n",
    "            {'args': [{'geo.scope': 'europe'}], 'label': 'Europe', 'method': 'relayout'},\n",
    "            {'args': [{'geo.scope': 'asia'}], 'label': 'Asia', 'method': 'relayout'},\n",
    "            {'args': [{'geo.scope': 'africa'}], 'label': 'Africa', 'method': 'relayout'},\n",
    "            {'args': [{'geo.scope': 'north america'}], 'label': 'North America', 'method': 'relayout'},\n",
    "            {'args': [{'geo.scope': 'south america'}], 'label': 'South America', 'method': 'relayout'}\n",
    "        ],\n",
    "        'direction': 'down',\n",
    "        'showactive': True,\n",
    "        'x': 1.2,\n",
    "        'y': 0.6  # Moved down from 0.9 to 0.75 to place below typical legend position\n",
    "    }]\n",
    ")\n",
    "\n",
    "fig.show()"
   ]
  },
  {
   "cell_type": "code",
   "execution_count": null,
   "metadata": {},
   "outputs": [],
   "source": []
  },
  {
   "cell_type": "code",
   "execution_count": null,
   "metadata": {},
   "outputs": [],
   "source": []
  },
  {
   "cell_type": "code",
   "execution_count": null,
   "metadata": {},
   "outputs": [],
   "source": []
  }
 ],
 "metadata": {
  "kernelspec": {
   "display_name": "Python 3",
   "language": "python",
   "name": "python3"
  },
  "language_info": {
   "codemirror_mode": {
    "name": "ipython",
    "version": 3
   },
   "file_extension": ".py",
   "mimetype": "text/x-python",
   "name": "python",
   "nbconvert_exporter": "python",
   "pygments_lexer": "ipython3",
   "version": "3.9.6"
  }
 },
 "nbformat": 4,
 "nbformat_minor": 2
}
