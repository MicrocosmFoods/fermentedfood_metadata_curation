{
 "cells": [
  {
   "cell_type": "markdown",
   "metadata": {},
   "source": [
    "# Visualizing the data\n",
    "In this notebook we will creae several visualization based on the curated metadata. <br>\n",
    "The goal is to start providing context to the data base and investigate the distribution of fermented foods and thier microbiome. <br>\n",
    "The data will not reflect true abundance of microbes in different foods/areas since it is based on presensce/absence counts from the metadata table. <br>"
   ]
  },
  {
   "cell_type": "code",
   "execution_count": 206,
   "metadata": {},
   "outputs": [],
   "source": [
    "# make sure all libraries are installed before running this code\n",
    "\n",
    "# importing standard libraries\n",
    "import pandas as pd\n",
    "import numpy as np\n",
    "import time\n",
    "from IPython.display import display\n",
    "import json\n",
    "\n",
    "# importing plotly libraries for dinamic visualization\n",
    "import plotly.express as px\n",
    "import plotly.graph_objects as go\n",
    "import plotly.io as pio\n",
    "import plotly.figure_factory as ff\n",
    "import plotly.subplots as sp\n",
    "import plotly.offline as pyo\n",
    "import plotly.tools as tls\n",
    "import plotly\n",
    "\n",
    "# importing folium for better visualization using maps\n",
    "import folium\n",
    "\n",
    "# importing geolocation libraries so we can get the coordinates of the countries\n",
    "import pycountry\n",
    "from geopy.geocoders import Nominatim\n",
    "from geopy.exc import GeocoderTimedOut, GeocoderUnavailable\n",
    "from geopy.extra.rate_limiter import RateLimiter\n",
    "\n"
   ]
  },
  {
   "cell_type": "code",
   "execution_count": 155,
   "metadata": {},
   "outputs": [
    {
     "data": {
      "text/html": [
       "<div>\n",
       "<style scoped>\n",
       "    .dataframe tbody tr th:only-of-type {\n",
       "        vertical-align: middle;\n",
       "    }\n",
       "\n",
       "    .dataframe tbody tr th {\n",
       "        vertical-align: top;\n",
       "    }\n",
       "\n",
       "    .dataframe thead th {\n",
       "        text-align: right;\n",
       "    }\n",
       "</style>\n",
       "<table border=\"1\" class=\"dataframe\">\n",
       "  <thead>\n",
       "    <tr style=\"text-align: right;\">\n",
       "      <th></th>\n",
       "      <th>mag_id</th>\n",
       "      <th>sample_description</th>\n",
       "      <th>fermented_food</th>\n",
       "      <th>specific_substrate</th>\n",
       "      <th>substrate_category</th>\n",
       "      <th>general_category</th>\n",
       "      <th>completeness</th>\n",
       "      <th>contamination</th>\n",
       "      <th>contigs</th>\n",
       "      <th>total_length</th>\n",
       "      <th>...</th>\n",
       "      <th>main_ferment</th>\n",
       "      <th>acid_type</th>\n",
       "      <th>acid_level</th>\n",
       "      <th>alcohol_lovel</th>\n",
       "      <th>protein_degradation</th>\n",
       "      <th>fat_degradation</th>\n",
       "      <th>added_ingredients</th>\n",
       "      <th>fermentation_temp</th>\n",
       "      <th>aging_time</th>\n",
       "      <th>agin_temp</th>\n",
       "    </tr>\n",
       "  </thead>\n",
       "  <tbody>\n",
       "    <tr>\n",
       "      <th>0</th>\n",
       "      <td>C-03.Ssa-BR</td>\n",
       "      <td>raw canastra cheese</td>\n",
       "      <td>cheese</td>\n",
       "      <td>milk</td>\n",
       "      <td>dairy</td>\n",
       "      <td>fermented_dairy</td>\n",
       "      <td>97.97</td>\n",
       "      <td>1.10</td>\n",
       "      <td>182</td>\n",
       "      <td>1896140</td>\n",
       "      <td>...</td>\n",
       "      <td>acid; amino acids</td>\n",
       "      <td>lactic</td>\n",
       "      <td>medium</td>\n",
       "      <td>none</td>\n",
       "      <td>high</td>\n",
       "      <td>medium</td>\n",
       "      <td>salt; rennet</td>\n",
       "      <td>mesophilic</td>\n",
       "      <td>&gt;1 month</td>\n",
       "      <td>cold</td>\n",
       "    </tr>\n",
       "    <tr>\n",
       "      <th>1</th>\n",
       "      <td>C-R02.bin.1</td>\n",
       "      <td>raw canastra cheese</td>\n",
       "      <td>cheese</td>\n",
       "      <td>milk</td>\n",
       "      <td>dairy</td>\n",
       "      <td>fermented_dairy</td>\n",
       "      <td>92.75</td>\n",
       "      <td>1.03</td>\n",
       "      <td>84</td>\n",
       "      <td>3174852</td>\n",
       "      <td>...</td>\n",
       "      <td>acid; amino acids</td>\n",
       "      <td>lactic</td>\n",
       "      <td>medium</td>\n",
       "      <td>none</td>\n",
       "      <td>high</td>\n",
       "      <td>medium</td>\n",
       "      <td>salt; rennet</td>\n",
       "      <td>mesophilic</td>\n",
       "      <td>&gt;1 month</td>\n",
       "      <td>cold</td>\n",
       "    </tr>\n",
       "    <tr>\n",
       "      <th>2</th>\n",
       "      <td>C-R03.bin.7</td>\n",
       "      <td>raw canastra cheese</td>\n",
       "      <td>cheese</td>\n",
       "      <td>milk</td>\n",
       "      <td>dairy</td>\n",
       "      <td>fermented_dairy</td>\n",
       "      <td>98.91</td>\n",
       "      <td>0.00</td>\n",
       "      <td>161</td>\n",
       "      <td>2047554</td>\n",
       "      <td>...</td>\n",
       "      <td>acid; amino acids</td>\n",
       "      <td>lactic</td>\n",
       "      <td>medium</td>\n",
       "      <td>none</td>\n",
       "      <td>high</td>\n",
       "      <td>medium</td>\n",
       "      <td>salt; rennet</td>\n",
       "      <td>mesophilic</td>\n",
       "      <td>&gt;1 month</td>\n",
       "      <td>cold</td>\n",
       "    </tr>\n",
       "    <tr>\n",
       "      <th>3</th>\n",
       "      <td>C-R06.bin.10</td>\n",
       "      <td>raw araxa cheese</td>\n",
       "      <td>cheese</td>\n",
       "      <td>milk</td>\n",
       "      <td>dairy</td>\n",
       "      <td>fermented_dairy</td>\n",
       "      <td>91.62</td>\n",
       "      <td>1.35</td>\n",
       "      <td>147</td>\n",
       "      <td>3636195</td>\n",
       "      <td>...</td>\n",
       "      <td>acid; amino acids</td>\n",
       "      <td>lactic</td>\n",
       "      <td>medium</td>\n",
       "      <td>none</td>\n",
       "      <td>medium</td>\n",
       "      <td>low</td>\n",
       "      <td>salt; rennet</td>\n",
       "      <td>mesophilic</td>\n",
       "      <td>&gt;1 month</td>\n",
       "      <td>cold</td>\n",
       "    </tr>\n",
       "    <tr>\n",
       "      <th>4</th>\n",
       "      <td>C-R06.bin.12</td>\n",
       "      <td>raw araxa cheese</td>\n",
       "      <td>cheese</td>\n",
       "      <td>milk</td>\n",
       "      <td>dairy</td>\n",
       "      <td>fermented_dairy</td>\n",
       "      <td>100.00</td>\n",
       "      <td>0.64</td>\n",
       "      <td>54</td>\n",
       "      <td>3940686</td>\n",
       "      <td>...</td>\n",
       "      <td>acid; amino acids</td>\n",
       "      <td>lactic</td>\n",
       "      <td>medium</td>\n",
       "      <td>none</td>\n",
       "      <td>medium</td>\n",
       "      <td>low</td>\n",
       "      <td>salt; rennet</td>\n",
       "      <td>mesophilic</td>\n",
       "      <td>&gt;1 month</td>\n",
       "      <td>cold</td>\n",
       "    </tr>\n",
       "  </tbody>\n",
       "</table>\n",
       "<p>5 rows × 45 columns</p>\n",
       "</div>"
      ],
      "text/plain": [
       "         mag_id   sample_description fermented_food specific_substrate  \\\n",
       "0   C-03.Ssa-BR  raw canastra cheese         cheese               milk   \n",
       "1   C-R02.bin.1  raw canastra cheese         cheese               milk   \n",
       "2   C-R03.bin.7  raw canastra cheese         cheese               milk   \n",
       "3  C-R06.bin.10     raw araxa cheese         cheese               milk   \n",
       "4  C-R06.bin.12     raw araxa cheese         cheese               milk   \n",
       "\n",
       "  substrate_category general_category  completeness  contamination  contigs  \\\n",
       "0              dairy  fermented_dairy         97.97           1.10      182   \n",
       "1              dairy  fermented_dairy         92.75           1.03       84   \n",
       "2              dairy  fermented_dairy         98.91           0.00      161   \n",
       "3              dairy  fermented_dairy         91.62           1.35      147   \n",
       "4              dairy  fermented_dairy        100.00           0.64       54   \n",
       "\n",
       "   total_length  ...       main_ferment  acid_type acid_level alcohol_lovel  \\\n",
       "0       1896140  ...  acid; amino acids     lactic     medium          none   \n",
       "1       3174852  ...  acid; amino acids     lactic     medium          none   \n",
       "2       2047554  ...  acid; amino acids     lactic     medium          none   \n",
       "3       3636195  ...  acid; amino acids     lactic     medium          none   \n",
       "4       3940686  ...  acid; amino acids     lactic     medium          none   \n",
       "\n",
       "  protein_degradation fat_degradation added_ingredients fermentation_temp  \\\n",
       "0                high          medium      salt; rennet        mesophilic   \n",
       "1                high          medium      salt; rennet        mesophilic   \n",
       "2                high          medium      salt; rennet        mesophilic   \n",
       "3              medium             low      salt; rennet        mesophilic   \n",
       "4              medium             low      salt; rennet        mesophilic   \n",
       "\n",
       "  aging_time agin_temp  \n",
       "0   >1 month      cold  \n",
       "1   >1 month      cold  \n",
       "2   >1 month      cold  \n",
       "3   >1 month      cold  \n",
       "4   >1 month      cold  \n",
       "\n",
       "[5 rows x 45 columns]"
      ]
     },
     "metadata": {},
     "output_type": "display_data"
    },
    {
     "data": {
      "text/plain": [
       "(13858, 45)"
      ]
     },
     "metadata": {},
     "output_type": "display_data"
    }
   ],
   "source": [
    "# loading the dataset\n",
    "dataset = pd.read_csv('data/Food_MAGs_curated_metadata_250421_corrected_merged_final_v2.csv')\n",
    "\n",
    "display(dataset.head(), dataset.shape)"
   ]
  },
  {
   "cell_type": "code",
   "execution_count": null,
   "metadata": {},
   "outputs": [],
   "source": [
    "# correcting several naming/spelling mistales I founf in the dataset\n",
    "\n",
    "# change aland islands fo Finland in country\n",
    "dataset['country'] = dataset['country'].replace({'Aland Islands': 'Finland'})\n",
    "# change boliva to Bolivia in country\n",
    "dataset['country'] = dataset['country'].replace({'Boliva': 'Bolivia'})\n",
    "# change Belgium:Antwerp to Belgium\n",
    "dataset['country'] = dataset['country'].replace({'Belgium:Antwerp': 'Belgium'})\n",
    "\n",
    "# correct 'cheese ' to 'cheese'\n",
    "dataset['level3_food_name'] = dataset['level3_food_name'].replace({'cheese ': 'cheese'})\n",
    "\n",
    "# correct choclate to chocolate\n",
    "dataset['level3_food_name'] = dataset['level3_food_name'].replace({'choclate': 'chocolate'})\n",
    "\n",
    "# correct saerkraut to sauerkraut\n",
    "dataset['level3_food_name'] = dataset['level3_food_name'].replace({'saerkraut': 'sauerkraut'})\n",
    "\n"
   ]
  },
  {
   "cell_type": "code",
   "execution_count": 211,
   "metadata": {},
   "outputs": [
    {
     "data": {
      "text/plain": [
       "(192,\n",
       " array(['cheese canastra', 'cheese araxa', 'cheese serro', 'ambriss',\n",
       "        'labneh', 'cheese serdaleh', 'miso yellow pea', 'miso',\n",
       "        'vinegar apple cider', 'cider apple', 'pickle Chinese traditional',\n",
       "        'beer', 'black cherry', 'blueberry', 'cabbage',\n",
       "        'cassava sour starch', 'wine chardonnay', 'cheese cheddar',\n",
       "        'cheese ', 'cheese kopanisti', 'chicha', 'pickle chinese',\n",
       "        'pickle chinese traditional', 'chrysanthemum', 'choclate',\n",
       "        'pickle cucumber', 'cheese toma', 'coffee', 'tofu stinky',\n",
       "        'molasses', 'cassava', 'milk fermented', 'fish fermented',\n",
       "        'pickle tomato', 'pickle peper', 'pickle radish',\n",
       "        'soybean meal fermented', 'miang', 'pickle mixed vegetables',\n",
       "        'vinegar broth', 'sourdough', 'fig fermented', 'fu-tsai',\n",
       "        'gochujang', 'cider grape', 'jeotgal', 'tibicos', 'kefir grain',\n",
       "        'kimchi', 'kimcki', 'kimchi scallion', 'kimchi wakame', 'kombucha',\n",
       "        'moromi', 'makgeolli', 'sausage', 'meju', 'millet fermented',\n",
       "        'wine', 'grape', 'tofu whey', 'sunki', 'nuruk', 'salami pork',\n",
       "        'salami chicken', 'vinegar', 'rice fermented', 'sourdough rice',\n",
       "        'nuka-doko', 'salted beans', 'salami', 'sausage greek',\n",
       "        'senmaizuke', 'shochu mash', 'sour grain mash', 'sourdough rye',\n",
       "        'suan tsai', 'tempeh', 'pickle bamboo shoots', 'nem chua',\n",
       "        'wine bobal', 'wine palm', 'yogurt', 'cheese blue', 'cheese tomme',\n",
       "        'cheese, curd', 'cheese, hard', 'cheese', 'cheese brie',\n",
       "        'cheese parmesan', 'cheese continental pink', 'probiotics', 'nunu',\n",
       "        'sauerkraut', 'natto', 'cheese pink', 'soy sauce', 'curtido',\n",
       "        'kasuzuke', 'dawadawa', 'tofu mao doufu', 'furu', 'kefir',\n",
       "        'kimchi potato', 'pickle elderberries', 'pickle yellow peach',\n",
       "        'pickle serrano peper', 'kimchi mukeunji', 'saerkraut', 'viili',\n",
       "        'fermentation starter', 'seafood fermented', 'sake', 'kinema',\n",
       "        'bean paste', 'chilli paste', 'liquir chinese', 'koumiss', 'whey',\n",
       "        'tea fermented', 'pulque', 'injera', 'sausage italian',\n",
       "        'perunyaan', 'peron namsing', 'peha', 'grep-chhurpi', 'kvass',\n",
       "        'boza', 'turnip fermented', 'orange', 'tepache', 'beer ginger',\n",
       "        'tofu chili', 'pickle daikon', 'amazake', 'agousha',\n",
       "        'cheese russian', \"cheese ruz'a\", 'garlic fermented', 'dukkah',\n",
       "        'ginger fermented', 'pickle okra', 'carrot sticks', 'gari', 'fufu',\n",
       "        'kunu', 'iru', 'ogiri', 'ugba', 'ogi', 'cheese wara', 'lafun',\n",
       "        'pito', 'otika', 'nono', 'kantong', 'zonkom', 'cheese wagashi',\n",
       "        'brukina', 'burukutu', 'agadagidi', 'emu', 'okpehe', 'fura',\n",
       "        'koko', 'otiru', 'obiolor', 'sekete', 'ugi', 'dolo', 'massa',\n",
       "        'soumbala', 'mou', 'attieke', 'chilli sauce', 'pozol',\n",
       "        'tibicos fig', 'jalebi', 'keem', 'laban', 'pickle bolivian',\n",
       "        'pickle greek', 'pickle hijazi', 'pickle indian', 'pickle papaya',\n",
       "        'pickle onion', 'mustard leaf', 'hongeo', 'cheese brine', 'honey',\n",
       "        'dajiang-meju'], dtype=object))"
      ]
     },
     "execution_count": 211,
     "metadata": {},
     "output_type": "execute_result"
    }
   ],
   "source": [
    "dataset.level3_food_name.nunique(),dataset.level3_food_name.unique()"
   ]
  },
  {
   "cell_type": "code",
   "execution_count": 210,
   "metadata": {},
   "outputs": [
    {
     "data": {
      "text/plain": [
       "food\n",
       "agadagidi                     2\n",
       "agousha                       1\n",
       "amazake                       1\n",
       "ambriss                       1\n",
       "attieke                       1\n",
       "bean paste                    2\n",
       "beer                          7\n",
       "beer ginger                   2\n",
       "boza                          1\n",
       "brukina                       1\n",
       "burukutu                      3\n",
       "carrot sticks                 1\n",
       "cheese                        3\n",
       "cheese                     1425\n",
       "cheese araxa                  3\n",
       "cheese blue                   1\n",
       "cheese brie                   2\n",
       "cheese brine                 51\n",
       "cheese canastra               3\n",
       "cheese cheddar                2\n",
       "cheese continental pink       2\n",
       "cheese parmesan               1\n",
       "cheese pink                   1\n",
       "cheese russian                1\n",
       "cheese ruz'a                  1\n",
       "cheese serdaleh               2\n",
       "cheese serro                  2\n",
       "cheese tomme                  5\n",
       "cheese wagashi                1\n",
       "cheese wara                   3\n",
       "cheese, curd                  1\n",
       "cheese, hard                  2\n",
       "chilli paste                  1\n",
       "chilli sauce                  6\n",
       "choclate                     35\n",
       "cider apple                   1\n",
       "coffee                        7\n",
       "curtido                       1\n",
       "dajiang-meju                  1\n",
       "dawadawa                      2\n",
       "dolo                          1\n",
       "dukkah                        1\n",
       "emu                           1\n",
       "fufu                          4\n",
       "fura                          1\n",
       "furu                          1\n",
       "gari                          5\n",
       "garlic fermented              1\n",
       "ginger fermented              1\n",
       "grep-chhurpi                  1\n",
       "honey                         2\n",
       "hongeo                        5\n",
       "injera                        2\n",
       "iru                           6\n",
       "jalebi                        2\n",
       "kantong                       1\n",
       "kasuzuke                      1\n",
       "keem                          1\n",
       "kefir                       270\n",
       "kimchi                       10\n",
       "kimchi mukeunji               1\n",
       "kimchi potato                 1\n",
       "kinema                        6\n",
       "koko                          1\n",
       "kombucha                      1\n",
       "koumiss                      33\n",
       "kunu                          6\n",
       "kvass                         3\n",
       "laban                         2\n",
       "labneh                        1\n",
       "lafun                         3\n",
       "liquir chinese                4\n",
       "massa                         1\n",
       "miso                          7\n",
       "miso yellow pea               3\n",
       "mou                           1\n",
       "mustard leaf                  9\n",
       "natto                         1\n",
       "nono                          3\n",
       "nunu                         17\n",
       "obiolor                       1\n",
       "ogi                           8\n",
       "ogiri                         4\n",
       "okpehe                        2\n",
       "orange                        1\n",
       "otika                         2\n",
       "otiru                         1\n",
       "peha                          1\n",
       "peron namsing                 1\n",
       "perunyaan                     1\n",
       "pickle bolivian               3\n",
       "pickle cucumber               1\n",
       "pickle daikon                 2\n",
       "pickle elderberries           1\n",
       "pickle greek                  3\n",
       "pickle hijazi                 3\n",
       "pickle indian                 3\n",
       "pickle mixed vegetables       1\n",
       "pickle okra                   1\n",
       "pickle onion                  2\n",
       "pickle papaya                 3\n",
       "pickle serrano peper          1\n",
       "pickle tomato                 1\n",
       "pickle yellow peach           1\n",
       "pito                          3\n",
       "pozol                         3\n",
       "probiotics                   12\n",
       "pulque                        5\n",
       "saerkraut                     2\n",
       "salami                       73\n",
       "sauerkraut                   12\n",
       "sausage                      44\n",
       "sausage italian              14\n",
       "sekete                        1\n",
       "soumbala                      1\n",
       "sourdough                    69\n",
       "soy sauce                    11\n",
       "tea fermented                28\n",
       "tempeh                        4\n",
       "tepache                       1\n",
       "tibicos                       9\n",
       "tibicos fig                 377\n",
       "tofu chili                    1\n",
       "tofu mao doufu                1\n",
       "turnip fermented              1\n",
       "ugba                          3\n",
       "ugi                           3\n",
       "viili                         1\n",
       "vinegar apple cider           1\n",
       "whey                         71\n",
       "wine                         22\n",
       "wine palm                     5\n",
       "yogurt                       21\n",
       "zonkom                        2\n",
       "Name: Count, dtype: int64"
      ]
     },
     "metadata": {},
     "output_type": "display_data"
    }
   ],
   "source": [
    "pd.set_option('display.max_rows', None)\n",
    "display(food_counts.groupby('food').Count.sum().sort_index())"
   ]
  },
  {
   "cell_type": "code",
   "execution_count": 156,
   "metadata": {},
   "outputs": [
    {
     "data": {
      "application/vnd.plotly.v1+json": {
       "config": {
        "plotlyServerURL": "https://plot.ly"
       },
       "data": [
        {
         "hovertemplate": "count=%{x}<br>country=%{y}<extra></extra>",
         "legendgroup": "",
         "marker": {
          "color": "blue",
          "line": {
           "color": "black",
           "width": 1.5
          },
          "pattern": {
           "shape": ""
          }
         },
         "name": "",
         "opacity": 0.6,
         "orientation": "h",
         "showlegend": false,
         "textposition": "auto",
         "type": "bar",
         "x": {
          "bdata": "8AJnAWQB7gDYAHcATABKAEkASABDACcAJgAkABwAGAAWABQAEwASABIAEQAPAAwACgAJAAgACAAHAAcABgAGAAUABQAFAAUABQAFAAQABAAEAAQABAAEAAMAAwADAAIAAgACAAEAAQABAAEAAQABAAEA",
          "dtype": "i2"
         },
         "xaxis": "x",
         "y": [
          "Italy",
          "Ireland",
          "Spain",
          "Austria",
          "USA",
          "United Kingdom",
          "Canada",
          "Genrmany",
          "France",
          "China",
          "Nigeria",
          "Australia",
          "Mexico",
          "Belgium",
          "Taiwan",
          "India",
          "Brazil",
          "Ghana",
          "Denmark",
          "Singapore",
          "Greece",
          "Malaysia",
          "Norway",
          "Turkey",
          "Saudi Arabia",
          "South Africa",
          "Bulgaria",
          "Russia",
          "Indonesia",
          "Ecuador",
          "New Zealand",
          "Finland",
          "Korea",
          "Colombia",
          "Hong Kong",
          "Estonia",
          "hilippines",
          "Burkina Faso",
          "Sweden",
          "Tunisia",
          "Aland Islands",
          "Croatia",
          "Israel",
          "Lebanon",
          "Portugal",
          "Kenya",
          "Boliva",
          "Switzerland",
          "Ethiopia",
          "Benin",
          "Japan",
          "Germany",
          "Thailand",
          "Myanmar",
          "Korean",
          "Turkey ",
          "Belgium:Antwerp"
         ],
         "yaxis": "y"
        }
       ],
       "layout": {
        "barmode": "relative",
        "height": 800,
        "legend": {
         "tracegroupgap": 0
        },
        "template": {
         "data": {
          "bar": [
           {
            "error_x": {
             "color": "#2a3f5f"
            },
            "error_y": {
             "color": "#2a3f5f"
            },
            "marker": {
             "line": {
              "color": "#E5ECF6",
              "width": 0.5
             },
             "pattern": {
              "fillmode": "overlay",
              "size": 10,
              "solidity": 0.2
             }
            },
            "type": "bar"
           }
          ],
          "barpolar": [
           {
            "marker": {
             "line": {
              "color": "#E5ECF6",
              "width": 0.5
             },
             "pattern": {
              "fillmode": "overlay",
              "size": 10,
              "solidity": 0.2
             }
            },
            "type": "barpolar"
           }
          ],
          "carpet": [
           {
            "aaxis": {
             "endlinecolor": "#2a3f5f",
             "gridcolor": "white",
             "linecolor": "white",
             "minorgridcolor": "white",
             "startlinecolor": "#2a3f5f"
            },
            "baxis": {
             "endlinecolor": "#2a3f5f",
             "gridcolor": "white",
             "linecolor": "white",
             "minorgridcolor": "white",
             "startlinecolor": "#2a3f5f"
            },
            "type": "carpet"
           }
          ],
          "choropleth": [
           {
            "colorbar": {
             "outlinewidth": 0,
             "ticks": ""
            },
            "type": "choropleth"
           }
          ],
          "contour": [
           {
            "colorbar": {
             "outlinewidth": 0,
             "ticks": ""
            },
            "colorscale": [
             [
              0,
              "#0d0887"
             ],
             [
              0.1111111111111111,
              "#46039f"
             ],
             [
              0.2222222222222222,
              "#7201a8"
             ],
             [
              0.3333333333333333,
              "#9c179e"
             ],
             [
              0.4444444444444444,
              "#bd3786"
             ],
             [
              0.5555555555555556,
              "#d8576b"
             ],
             [
              0.6666666666666666,
              "#ed7953"
             ],
             [
              0.7777777777777778,
              "#fb9f3a"
             ],
             [
              0.8888888888888888,
              "#fdca26"
             ],
             [
              1,
              "#f0f921"
             ]
            ],
            "type": "contour"
           }
          ],
          "contourcarpet": [
           {
            "colorbar": {
             "outlinewidth": 0,
             "ticks": ""
            },
            "type": "contourcarpet"
           }
          ],
          "heatmap": [
           {
            "colorbar": {
             "outlinewidth": 0,
             "ticks": ""
            },
            "colorscale": [
             [
              0,
              "#0d0887"
             ],
             [
              0.1111111111111111,
              "#46039f"
             ],
             [
              0.2222222222222222,
              "#7201a8"
             ],
             [
              0.3333333333333333,
              "#9c179e"
             ],
             [
              0.4444444444444444,
              "#bd3786"
             ],
             [
              0.5555555555555556,
              "#d8576b"
             ],
             [
              0.6666666666666666,
              "#ed7953"
             ],
             [
              0.7777777777777778,
              "#fb9f3a"
             ],
             [
              0.8888888888888888,
              "#fdca26"
             ],
             [
              1,
              "#f0f921"
             ]
            ],
            "type": "heatmap"
           }
          ],
          "histogram": [
           {
            "marker": {
             "pattern": {
              "fillmode": "overlay",
              "size": 10,
              "solidity": 0.2
             }
            },
            "type": "histogram"
           }
          ],
          "histogram2d": [
           {
            "colorbar": {
             "outlinewidth": 0,
             "ticks": ""
            },
            "colorscale": [
             [
              0,
              "#0d0887"
             ],
             [
              0.1111111111111111,
              "#46039f"
             ],
             [
              0.2222222222222222,
              "#7201a8"
             ],
             [
              0.3333333333333333,
              "#9c179e"
             ],
             [
              0.4444444444444444,
              "#bd3786"
             ],
             [
              0.5555555555555556,
              "#d8576b"
             ],
             [
              0.6666666666666666,
              "#ed7953"
             ],
             [
              0.7777777777777778,
              "#fb9f3a"
             ],
             [
              0.8888888888888888,
              "#fdca26"
             ],
             [
              1,
              "#f0f921"
             ]
            ],
            "type": "histogram2d"
           }
          ],
          "histogram2dcontour": [
           {
            "colorbar": {
             "outlinewidth": 0,
             "ticks": ""
            },
            "colorscale": [
             [
              0,
              "#0d0887"
             ],
             [
              0.1111111111111111,
              "#46039f"
             ],
             [
              0.2222222222222222,
              "#7201a8"
             ],
             [
              0.3333333333333333,
              "#9c179e"
             ],
             [
              0.4444444444444444,
              "#bd3786"
             ],
             [
              0.5555555555555556,
              "#d8576b"
             ],
             [
              0.6666666666666666,
              "#ed7953"
             ],
             [
              0.7777777777777778,
              "#fb9f3a"
             ],
             [
              0.8888888888888888,
              "#fdca26"
             ],
             [
              1,
              "#f0f921"
             ]
            ],
            "type": "histogram2dcontour"
           }
          ],
          "mesh3d": [
           {
            "colorbar": {
             "outlinewidth": 0,
             "ticks": ""
            },
            "type": "mesh3d"
           }
          ],
          "parcoords": [
           {
            "line": {
             "colorbar": {
              "outlinewidth": 0,
              "ticks": ""
             }
            },
            "type": "parcoords"
           }
          ],
          "pie": [
           {
            "automargin": true,
            "type": "pie"
           }
          ],
          "scatter": [
           {
            "fillpattern": {
             "fillmode": "overlay",
             "size": 10,
             "solidity": 0.2
            },
            "type": "scatter"
           }
          ],
          "scatter3d": [
           {
            "line": {
             "colorbar": {
              "outlinewidth": 0,
              "ticks": ""
             }
            },
            "marker": {
             "colorbar": {
              "outlinewidth": 0,
              "ticks": ""
             }
            },
            "type": "scatter3d"
           }
          ],
          "scattercarpet": [
           {
            "marker": {
             "colorbar": {
              "outlinewidth": 0,
              "ticks": ""
             }
            },
            "type": "scattercarpet"
           }
          ],
          "scattergeo": [
           {
            "marker": {
             "colorbar": {
              "outlinewidth": 0,
              "ticks": ""
             }
            },
            "type": "scattergeo"
           }
          ],
          "scattergl": [
           {
            "marker": {
             "colorbar": {
              "outlinewidth": 0,
              "ticks": ""
             }
            },
            "type": "scattergl"
           }
          ],
          "scattermap": [
           {
            "marker": {
             "colorbar": {
              "outlinewidth": 0,
              "ticks": ""
             }
            },
            "type": "scattermap"
           }
          ],
          "scattermapbox": [
           {
            "marker": {
             "colorbar": {
              "outlinewidth": 0,
              "ticks": ""
             }
            },
            "type": "scattermapbox"
           }
          ],
          "scatterpolar": [
           {
            "marker": {
             "colorbar": {
              "outlinewidth": 0,
              "ticks": ""
             }
            },
            "type": "scatterpolar"
           }
          ],
          "scatterpolargl": [
           {
            "marker": {
             "colorbar": {
              "outlinewidth": 0,
              "ticks": ""
             }
            },
            "type": "scatterpolargl"
           }
          ],
          "scatterternary": [
           {
            "marker": {
             "colorbar": {
              "outlinewidth": 0,
              "ticks": ""
             }
            },
            "type": "scatterternary"
           }
          ],
          "surface": [
           {
            "colorbar": {
             "outlinewidth": 0,
             "ticks": ""
            },
            "colorscale": [
             [
              0,
              "#0d0887"
             ],
             [
              0.1111111111111111,
              "#46039f"
             ],
             [
              0.2222222222222222,
              "#7201a8"
             ],
             [
              0.3333333333333333,
              "#9c179e"
             ],
             [
              0.4444444444444444,
              "#bd3786"
             ],
             [
              0.5555555555555556,
              "#d8576b"
             ],
             [
              0.6666666666666666,
              "#ed7953"
             ],
             [
              0.7777777777777778,
              "#fb9f3a"
             ],
             [
              0.8888888888888888,
              "#fdca26"
             ],
             [
              1,
              "#f0f921"
             ]
            ],
            "type": "surface"
           }
          ],
          "table": [
           {
            "cells": {
             "fill": {
              "color": "#EBF0F8"
             },
             "line": {
              "color": "white"
             }
            },
            "header": {
             "fill": {
              "color": "#C8D4E3"
             },
             "line": {
              "color": "white"
             }
            },
            "type": "table"
           }
          ]
         },
         "layout": {
          "annotationdefaults": {
           "arrowcolor": "#2a3f5f",
           "arrowhead": 0,
           "arrowwidth": 1
          },
          "autotypenumbers": "strict",
          "coloraxis": {
           "colorbar": {
            "outlinewidth": 0,
            "ticks": ""
           }
          },
          "colorscale": {
           "diverging": [
            [
             0,
             "#8e0152"
            ],
            [
             0.1,
             "#c51b7d"
            ],
            [
             0.2,
             "#de77ae"
            ],
            [
             0.3,
             "#f1b6da"
            ],
            [
             0.4,
             "#fde0ef"
            ],
            [
             0.5,
             "#f7f7f7"
            ],
            [
             0.6,
             "#e6f5d0"
            ],
            [
             0.7,
             "#b8e186"
            ],
            [
             0.8,
             "#7fbc41"
            ],
            [
             0.9,
             "#4d9221"
            ],
            [
             1,
             "#276419"
            ]
           ],
           "sequential": [
            [
             0,
             "#0d0887"
            ],
            [
             0.1111111111111111,
             "#46039f"
            ],
            [
             0.2222222222222222,
             "#7201a8"
            ],
            [
             0.3333333333333333,
             "#9c179e"
            ],
            [
             0.4444444444444444,
             "#bd3786"
            ],
            [
             0.5555555555555556,
             "#d8576b"
            ],
            [
             0.6666666666666666,
             "#ed7953"
            ],
            [
             0.7777777777777778,
             "#fb9f3a"
            ],
            [
             0.8888888888888888,
             "#fdca26"
            ],
            [
             1,
             "#f0f921"
            ]
           ],
           "sequentialminus": [
            [
             0,
             "#0d0887"
            ],
            [
             0.1111111111111111,
             "#46039f"
            ],
            [
             0.2222222222222222,
             "#7201a8"
            ],
            [
             0.3333333333333333,
             "#9c179e"
            ],
            [
             0.4444444444444444,
             "#bd3786"
            ],
            [
             0.5555555555555556,
             "#d8576b"
            ],
            [
             0.6666666666666666,
             "#ed7953"
            ],
            [
             0.7777777777777778,
             "#fb9f3a"
            ],
            [
             0.8888888888888888,
             "#fdca26"
            ],
            [
             1,
             "#f0f921"
            ]
           ]
          },
          "colorway": [
           "#636efa",
           "#EF553B",
           "#00cc96",
           "#ab63fa",
           "#FFA15A",
           "#19d3f3",
           "#FF6692",
           "#B6E880",
           "#FF97FF",
           "#FECB52"
          ],
          "font": {
           "color": "#2a3f5f"
          },
          "geo": {
           "bgcolor": "white",
           "lakecolor": "white",
           "landcolor": "#E5ECF6",
           "showlakes": true,
           "showland": true,
           "subunitcolor": "white"
          },
          "hoverlabel": {
           "align": "left"
          },
          "hovermode": "closest",
          "mapbox": {
           "style": "light"
          },
          "paper_bgcolor": "white",
          "plot_bgcolor": "#E5ECF6",
          "polar": {
           "angularaxis": {
            "gridcolor": "white",
            "linecolor": "white",
            "ticks": ""
           },
           "bgcolor": "#E5ECF6",
           "radialaxis": {
            "gridcolor": "white",
            "linecolor": "white",
            "ticks": ""
           }
          },
          "scene": {
           "xaxis": {
            "backgroundcolor": "#E5ECF6",
            "gridcolor": "white",
            "gridwidth": 2,
            "linecolor": "white",
            "showbackground": true,
            "ticks": "",
            "zerolinecolor": "white"
           },
           "yaxis": {
            "backgroundcolor": "#E5ECF6",
            "gridcolor": "white",
            "gridwidth": 2,
            "linecolor": "white",
            "showbackground": true,
            "ticks": "",
            "zerolinecolor": "white"
           },
           "zaxis": {
            "backgroundcolor": "#E5ECF6",
            "gridcolor": "white",
            "gridwidth": 2,
            "linecolor": "white",
            "showbackground": true,
            "ticks": "",
            "zerolinecolor": "white"
           }
          },
          "shapedefaults": {
           "line": {
            "color": "#2a3f5f"
           }
          },
          "ternary": {
           "aaxis": {
            "gridcolor": "white",
            "linecolor": "white",
            "ticks": ""
           },
           "baxis": {
            "gridcolor": "white",
            "linecolor": "white",
            "ticks": ""
           },
           "bgcolor": "#E5ECF6",
           "caxis": {
            "gridcolor": "white",
            "linecolor": "white",
            "ticks": ""
           }
          },
          "title": {
           "x": 0.05
          },
          "xaxis": {
           "automargin": true,
           "gridcolor": "white",
           "linecolor": "white",
           "ticks": "",
           "title": {
            "standoff": 15
           },
           "zerolinecolor": "white",
           "zerolinewidth": 2
          },
          "yaxis": {
           "automargin": true,
           "gridcolor": "white",
           "linecolor": "white",
           "ticks": "",
           "title": {
            "standoff": 15
           },
           "zerolinecolor": "white",
           "zerolinewidth": 2
          }
         }
        },
        "title": {
         "text": "Number of unique samples per country"
        },
        "width": 800,
        "xaxis": {
         "anchor": "y",
         "domain": [
          0,
          1
         ],
         "title": {
          "text": "Number of unique samples"
         }
        },
        "yaxis": {
         "anchor": "x",
         "categoryarray": [
          "Belgium:Antwerp",
          "Turkey ",
          "Korean",
          "Myanmar",
          "Thailand",
          "Germany",
          "Japan",
          "Benin",
          "Ethiopia",
          "Switzerland",
          "Boliva",
          "Kenya",
          "Portugal",
          "Lebanon",
          "Israel",
          "Croatia",
          "Aland Islands",
          "Tunisia",
          "Sweden",
          "Burkina Faso",
          "hilippines",
          "Estonia",
          "Hong Kong",
          "Colombia",
          "Korea",
          "Finland",
          "New Zealand",
          "Ecuador",
          "Indonesia",
          "Russia",
          "Bulgaria",
          "South Africa",
          "Saudi Arabia",
          "Turkey",
          "Norway",
          "Malaysia",
          "Greece",
          "Singapore",
          "Denmark",
          "Ghana",
          "Brazil",
          "India",
          "Taiwan",
          "Belgium",
          "Mexico",
          "Australia",
          "Nigeria",
          "China",
          "France",
          "Genrmany",
          "Canada",
          "United Kingdom",
          "USA",
          "Austria",
          "Spain",
          "Ireland",
          "Italy"
         ],
         "categoryorder": "array",
         "domain": [
          0,
          1
         ],
         "tickfont": {
          "size": 8
         },
         "title": {
          "text": "Country"
         }
        }
       }
      }
     },
     "metadata": {},
     "output_type": "display_data"
    }
   ],
   "source": [
    "# visualizing the number of samples (sample_accession) per country\n",
    "# Get unique sample_accession and country pairs\n",
    "unique_samples_by_country = dataset[['sample_accession', 'country']].drop_duplicates()\n",
    "\n",
    "# # Count samples per country and sort in descending order\n",
    "country_counts = unique_samples_by_country.value_counts('country').sort_values(ascending=False)\n",
    "country_counts = country_counts.reset_index()\n",
    "country_counts.columns = ['country', 'count']\n",
    "# remove values that are lists\n",
    "country_counts = country_counts[~country_counts['country'].str.contains('\\[', na=False)]\n",
    "\n",
    "# Create horizontal bar plot\n",
    "fig = px.bar(country_counts, \n",
    "             y='country', \n",
    "             x='count',\n",
    "             orientation='h',\n",
    "             title=\"Number of unique samples per country\",\n",
    "             category_orders={'country': country_counts['country'].tolist()},\n",
    "             height=800,\n",
    "             width=800,)  \n",
    "\n",
    "fig.update_layout(xaxis_title=\"Number of unique samples\",\n",
    "                 yaxis_title=\"Country\",\n",
    "                 yaxis=dict(tickfont=dict(size=8)))  # reduced font size for y-axis labels\n",
    "\n",
    "fig.update_traces(marker_color='blue', marker_line_color='black',\n",
    "                  marker_line_width=1.5, opacity=0.6)\n",
    "fig.show()"
   ]
  },
  {
   "cell_type": "code",
   "execution_count": 157,
   "metadata": {},
   "outputs": [
    {
     "data": {
      "application/vnd.plotly.v1+json": {
       "config": {
        "plotlyServerURL": "https://plot.ly"
       },
       "data": [
        {
         "customdata": [
          [
           752,
           "Europe"
          ],
          [
           359,
           "Europe"
          ],
          [
           356,
           "Europe"
          ],
          [
           238,
           "Europe"
          ],
          [
           119,
           "Europe"
          ],
          [
           74,
           "Europe"
          ],
          [
           73,
           "Europe"
          ],
          [
           36,
           "Europe"
          ],
          [
           19,
           "Europe"
          ],
          [
           18,
           "Europe"
          ],
          [
           15,
           "Europe"
          ],
          [
           8,
           "Europe"
          ],
          [
           8,
           "Europe"
          ],
          [
           6,
           "Europe"
          ],
          [
           5,
           "Europe"
          ],
          [
           4,
           "Europe"
          ],
          [
           4,
           "Europe"
          ],
          [
           4,
           "Europe"
          ],
          [
           3,
           "Europe"
          ],
          [
           2,
           "Europe"
          ],
          [
           1,
           "Europe"
          ],
          [
           1,
           "Europe"
          ]
         ],
         "geo": "geo",
         "hovertemplate": "<b>%{hovertext}</b><br><br>continent=%{customdata[1]}<br>count=%{customdata[0]}<br>country=%{location}<extra></extra>",
         "hovertext": [
          "Italy",
          "Ireland",
          "Spain",
          "Austria",
          "United Kingdom",
          "Genrmany",
          "France",
          "Belgium",
          "Denmark",
          "Greece",
          "Norway",
          "Bulgaria",
          "Russia",
          "Finland",
          "Estonia",
          "Sweden",
          "Aland Islands",
          "Croatia",
          "Portugal",
          "Switzerland",
          "Germany",
          "Belgium:Antwerp"
         ],
         "legendgroup": "Europe",
         "locationmode": "country names",
         "locations": [
          "Italy",
          "Ireland",
          "Spain",
          "Austria",
          "United Kingdom",
          "Genrmany",
          "France",
          "Belgium",
          "Denmark",
          "Greece",
          "Norway",
          "Bulgaria",
          "Russia",
          "Finland",
          "Estonia",
          "Sweden",
          "Aland Islands",
          "Croatia",
          "Portugal",
          "Switzerland",
          "Germany",
          "Belgium:Antwerp"
         ],
         "marker": {
          "color": "#636efa",
          "line": {
           "color": "black",
           "width": 1
          },
          "opacity": 0.6,
          "size": {
           "bdata": "8AJnAWQB7gB3AEoASQAkABMAEgAPAAgACAAGAAUABAAEAAQAAwACAAEAAQA=",
           "dtype": "i2"
          },
          "sizemode": "area",
          "sizeref": 1.88,
          "symbol": "circle"
         },
         "mode": "markers",
         "name": "Europe",
         "showlegend": true,
         "type": "scattergeo"
        },
        {
         "customdata": [
          [
           216,
           "North America"
          ],
          [
           76,
           "North America"
          ],
          [
           38,
           "North America"
          ]
         ],
         "geo": "geo",
         "hovertemplate": "<b>%{hovertext}</b><br><br>continent=%{customdata[1]}<br>count=%{customdata[0]}<br>country=%{location}<extra></extra>",
         "hovertext": [
          "USA",
          "Canada",
          "Mexico"
         ],
         "legendgroup": "North America",
         "locationmode": "country names",
         "locations": [
          "USA",
          "Canada",
          "Mexico"
         ],
         "marker": {
          "color": "#EF553B",
          "line": {
           "color": "black",
           "width": 1
          },
          "opacity": 0.6,
          "size": {
           "bdata": "2ABMACYA",
           "dtype": "i2"
          },
          "sizemode": "area",
          "sizeref": 1.88,
          "symbol": "circle"
         },
         "mode": "markers",
         "name": "North America",
         "showlegend": true,
         "type": "scattergeo"
        },
        {
         "customdata": [
          [
           72,
           "Asia"
          ],
          [
           28,
           "Asia"
          ],
          [
           24,
           "Asia"
          ],
          [
           18,
           "Asia"
          ],
          [
           17,
           "Asia"
          ],
          [
           12,
           "Asia"
          ],
          [
           10,
           "Asia"
          ],
          [
           7,
           "Asia"
          ],
          [
           5,
           "Asia"
          ],
          [
           5,
           "Asia"
          ],
          [
           5,
           "Asia"
          ],
          [
           4,
           "Asia"
          ],
          [
           4,
           "Asia"
          ],
          [
           1,
           "Asia"
          ],
          [
           1,
           "Asia"
          ],
          [
           1,
           "Asia"
          ],
          [
           1,
           "Asia"
          ],
          [
           1,
           "Asia"
          ]
         ],
         "geo": "geo",
         "hovertemplate": "<b>%{hovertext}</b><br><br>continent=%{customdata[1]}<br>count=%{customdata[0]}<br>country=%{location}<extra></extra>",
         "hovertext": [
          "China",
          "Taiwan",
          "India",
          "Singapore",
          "Malaysia",
          "Turkey",
          "Saudi Arabia",
          "Indonesia",
          "Korea",
          "Hong Kong",
          "hilippines",
          "Israel",
          "Lebanon",
          "Japan",
          "Thailand",
          "Myanmar",
          "Korean",
          "Turkey "
         ],
         "legendgroup": "Asia",
         "locationmode": "country names",
         "locations": [
          "China",
          "Taiwan",
          "India",
          "Singapore",
          "Malaysia",
          "Turkey",
          "Saudi Arabia",
          "Indonesia",
          "Korea",
          "Hong Kong",
          "hilippines",
          "Israel",
          "Lebanon",
          "Japan",
          "Thailand",
          "Myanmar",
          "Korean",
          "Turkey "
         ],
         "marker": {
          "color": "#00cc96",
          "line": {
           "color": "black",
           "width": 1
          },
          "opacity": 0.6,
          "size": {
           "bdata": "SBwYEhEMCgcFBQUEBAEBAQEB",
           "dtype": "i1"
          },
          "sizemode": "area",
          "sizeref": 1.88,
          "symbol": "circle"
         },
         "mode": "markers",
         "name": "Asia",
         "showlegend": true,
         "type": "scattergeo"
        },
        {
         "customdata": [
          [
           67,
           "Africa"
          ],
          [
           20,
           "Africa"
          ],
          [
           9,
           "Africa"
          ],
          [
           5,
           "Africa"
          ],
          [
           4,
           "Africa"
          ],
          [
           3,
           "Africa"
          ],
          [
           2,
           "Africa"
          ],
          [
           2,
           "Africa"
          ]
         ],
         "geo": "geo",
         "hovertemplate": "<b>%{hovertext}</b><br><br>continent=%{customdata[1]}<br>count=%{customdata[0]}<br>country=%{location}<extra></extra>",
         "hovertext": [
          "Nigeria",
          "Ghana",
          "South Africa",
          "Burkina Faso",
          "Tunisia",
          "Kenya",
          "Ethiopia",
          "Benin"
         ],
         "legendgroup": "Africa",
         "locationmode": "country names",
         "locations": [
          "Nigeria",
          "Ghana",
          "South Africa",
          "Burkina Faso",
          "Tunisia",
          "Kenya",
          "Ethiopia",
          "Benin"
         ],
         "marker": {
          "color": "#ab63fa",
          "line": {
           "color": "black",
           "width": 1
          },
          "opacity": 0.6,
          "size": {
           "bdata": "QxQJBQQDAgI=",
           "dtype": "i1"
          },
          "sizemode": "area",
          "sizeref": 1.88,
          "symbol": "circle"
         },
         "mode": "markers",
         "name": "Africa",
         "showlegend": true,
         "type": "scattergeo"
        },
        {
         "customdata": [
          [
           39,
           "Oceania"
          ],
          [
           6,
           "Oceania"
          ]
         ],
         "geo": "geo",
         "hovertemplate": "<b>%{hovertext}</b><br><br>continent=%{customdata[1]}<br>count=%{customdata[0]}<br>country=%{location}<extra></extra>",
         "hovertext": [
          "Australia",
          "New Zealand"
         ],
         "legendgroup": "Oceania",
         "locationmode": "country names",
         "locations": [
          "Australia",
          "New Zealand"
         ],
         "marker": {
          "color": "#FFA15A",
          "line": {
           "color": "black",
           "width": 1
          },
          "opacity": 0.6,
          "size": {
           "bdata": "JwY=",
           "dtype": "i1"
          },
          "sizemode": "area",
          "sizeref": 1.88,
          "symbol": "circle"
         },
         "mode": "markers",
         "name": "Oceania",
         "showlegend": true,
         "type": "scattergeo"
        },
        {
         "customdata": [
          [
           22,
           "South America"
          ],
          [
           7,
           "South America"
          ],
          [
           5,
           "South America"
          ],
          [
           3,
           "South America"
          ]
         ],
         "geo": "geo",
         "hovertemplate": "<b>%{hovertext}</b><br><br>continent=%{customdata[1]}<br>count=%{customdata[0]}<br>country=%{location}<extra></extra>",
         "hovertext": [
          "Brazil",
          "Ecuador",
          "Colombia",
          "Boliva"
         ],
         "legendgroup": "South America",
         "locationmode": "country names",
         "locations": [
          "Brazil",
          "Ecuador",
          "Colombia",
          "Boliva"
         ],
         "marker": {
          "color": "#19d3f3",
          "line": {
           "color": "black",
           "width": 1
          },
          "opacity": 0.6,
          "size": {
           "bdata": "FgcFAw==",
           "dtype": "i1"
          },
          "sizemode": "area",
          "sizeref": 1.88,
          "symbol": "circle"
         },
         "mode": "markers",
         "name": "South America",
         "showlegend": true,
         "type": "scattergeo"
        }
       ],
       "layout": {
        "geo": {
         "center": {},
         "countrycolor": "rgb(204, 204, 204)",
         "domain": {
          "x": [
           0,
           1
          ],
          "y": [
           0,
           1
          ]
         },
         "landcolor": "rgb(243, 243, 243)",
         "projection": {
          "type": "equirectangular"
         },
         "scope": "world",
         "showcoastlines": true,
         "showcountries": true,
         "showframe": true,
         "showland": true,
         "visible": true
        },
        "height": 600,
        "legend": {
         "itemsizing": "constant",
         "title": {
          "text": "continent"
         },
         "tracegroupgap": 0
        },
        "template": {
         "data": {
          "bar": [
           {
            "error_x": {
             "color": "#2a3f5f"
            },
            "error_y": {
             "color": "#2a3f5f"
            },
            "marker": {
             "line": {
              "color": "#E5ECF6",
              "width": 0.5
             },
             "pattern": {
              "fillmode": "overlay",
              "size": 10,
              "solidity": 0.2
             }
            },
            "type": "bar"
           }
          ],
          "barpolar": [
           {
            "marker": {
             "line": {
              "color": "#E5ECF6",
              "width": 0.5
             },
             "pattern": {
              "fillmode": "overlay",
              "size": 10,
              "solidity": 0.2
             }
            },
            "type": "barpolar"
           }
          ],
          "carpet": [
           {
            "aaxis": {
             "endlinecolor": "#2a3f5f",
             "gridcolor": "white",
             "linecolor": "white",
             "minorgridcolor": "white",
             "startlinecolor": "#2a3f5f"
            },
            "baxis": {
             "endlinecolor": "#2a3f5f",
             "gridcolor": "white",
             "linecolor": "white",
             "minorgridcolor": "white",
             "startlinecolor": "#2a3f5f"
            },
            "type": "carpet"
           }
          ],
          "choropleth": [
           {
            "colorbar": {
             "outlinewidth": 0,
             "ticks": ""
            },
            "type": "choropleth"
           }
          ],
          "contour": [
           {
            "colorbar": {
             "outlinewidth": 0,
             "ticks": ""
            },
            "colorscale": [
             [
              0,
              "#0d0887"
             ],
             [
              0.1111111111111111,
              "#46039f"
             ],
             [
              0.2222222222222222,
              "#7201a8"
             ],
             [
              0.3333333333333333,
              "#9c179e"
             ],
             [
              0.4444444444444444,
              "#bd3786"
             ],
             [
              0.5555555555555556,
              "#d8576b"
             ],
             [
              0.6666666666666666,
              "#ed7953"
             ],
             [
              0.7777777777777778,
              "#fb9f3a"
             ],
             [
              0.8888888888888888,
              "#fdca26"
             ],
             [
              1,
              "#f0f921"
             ]
            ],
            "type": "contour"
           }
          ],
          "contourcarpet": [
           {
            "colorbar": {
             "outlinewidth": 0,
             "ticks": ""
            },
            "type": "contourcarpet"
           }
          ],
          "heatmap": [
           {
            "colorbar": {
             "outlinewidth": 0,
             "ticks": ""
            },
            "colorscale": [
             [
              0,
              "#0d0887"
             ],
             [
              0.1111111111111111,
              "#46039f"
             ],
             [
              0.2222222222222222,
              "#7201a8"
             ],
             [
              0.3333333333333333,
              "#9c179e"
             ],
             [
              0.4444444444444444,
              "#bd3786"
             ],
             [
              0.5555555555555556,
              "#d8576b"
             ],
             [
              0.6666666666666666,
              "#ed7953"
             ],
             [
              0.7777777777777778,
              "#fb9f3a"
             ],
             [
              0.8888888888888888,
              "#fdca26"
             ],
             [
              1,
              "#f0f921"
             ]
            ],
            "type": "heatmap"
           }
          ],
          "histogram": [
           {
            "marker": {
             "pattern": {
              "fillmode": "overlay",
              "size": 10,
              "solidity": 0.2
             }
            },
            "type": "histogram"
           }
          ],
          "histogram2d": [
           {
            "colorbar": {
             "outlinewidth": 0,
             "ticks": ""
            },
            "colorscale": [
             [
              0,
              "#0d0887"
             ],
             [
              0.1111111111111111,
              "#46039f"
             ],
             [
              0.2222222222222222,
              "#7201a8"
             ],
             [
              0.3333333333333333,
              "#9c179e"
             ],
             [
              0.4444444444444444,
              "#bd3786"
             ],
             [
              0.5555555555555556,
              "#d8576b"
             ],
             [
              0.6666666666666666,
              "#ed7953"
             ],
             [
              0.7777777777777778,
              "#fb9f3a"
             ],
             [
              0.8888888888888888,
              "#fdca26"
             ],
             [
              1,
              "#f0f921"
             ]
            ],
            "type": "histogram2d"
           }
          ],
          "histogram2dcontour": [
           {
            "colorbar": {
             "outlinewidth": 0,
             "ticks": ""
            },
            "colorscale": [
             [
              0,
              "#0d0887"
             ],
             [
              0.1111111111111111,
              "#46039f"
             ],
             [
              0.2222222222222222,
              "#7201a8"
             ],
             [
              0.3333333333333333,
              "#9c179e"
             ],
             [
              0.4444444444444444,
              "#bd3786"
             ],
             [
              0.5555555555555556,
              "#d8576b"
             ],
             [
              0.6666666666666666,
              "#ed7953"
             ],
             [
              0.7777777777777778,
              "#fb9f3a"
             ],
             [
              0.8888888888888888,
              "#fdca26"
             ],
             [
              1,
              "#f0f921"
             ]
            ],
            "type": "histogram2dcontour"
           }
          ],
          "mesh3d": [
           {
            "colorbar": {
             "outlinewidth": 0,
             "ticks": ""
            },
            "type": "mesh3d"
           }
          ],
          "parcoords": [
           {
            "line": {
             "colorbar": {
              "outlinewidth": 0,
              "ticks": ""
             }
            },
            "type": "parcoords"
           }
          ],
          "pie": [
           {
            "automargin": true,
            "type": "pie"
           }
          ],
          "scatter": [
           {
            "fillpattern": {
             "fillmode": "overlay",
             "size": 10,
             "solidity": 0.2
            },
            "type": "scatter"
           }
          ],
          "scatter3d": [
           {
            "line": {
             "colorbar": {
              "outlinewidth": 0,
              "ticks": ""
             }
            },
            "marker": {
             "colorbar": {
              "outlinewidth": 0,
              "ticks": ""
             }
            },
            "type": "scatter3d"
           }
          ],
          "scattercarpet": [
           {
            "marker": {
             "colorbar": {
              "outlinewidth": 0,
              "ticks": ""
             }
            },
            "type": "scattercarpet"
           }
          ],
          "scattergeo": [
           {
            "marker": {
             "colorbar": {
              "outlinewidth": 0,
              "ticks": ""
             }
            },
            "type": "scattergeo"
           }
          ],
          "scattergl": [
           {
            "marker": {
             "colorbar": {
              "outlinewidth": 0,
              "ticks": ""
             }
            },
            "type": "scattergl"
           }
          ],
          "scattermap": [
           {
            "marker": {
             "colorbar": {
              "outlinewidth": 0,
              "ticks": ""
             }
            },
            "type": "scattermap"
           }
          ],
          "scattermapbox": [
           {
            "marker": {
             "colorbar": {
              "outlinewidth": 0,
              "ticks": ""
             }
            },
            "type": "scattermapbox"
           }
          ],
          "scatterpolar": [
           {
            "marker": {
             "colorbar": {
              "outlinewidth": 0,
              "ticks": ""
             }
            },
            "type": "scatterpolar"
           }
          ],
          "scatterpolargl": [
           {
            "marker": {
             "colorbar": {
              "outlinewidth": 0,
              "ticks": ""
             }
            },
            "type": "scatterpolargl"
           }
          ],
          "scatterternary": [
           {
            "marker": {
             "colorbar": {
              "outlinewidth": 0,
              "ticks": ""
             }
            },
            "type": "scatterternary"
           }
          ],
          "surface": [
           {
            "colorbar": {
             "outlinewidth": 0,
             "ticks": ""
            },
            "colorscale": [
             [
              0,
              "#0d0887"
             ],
             [
              0.1111111111111111,
              "#46039f"
             ],
             [
              0.2222222222222222,
              "#7201a8"
             ],
             [
              0.3333333333333333,
              "#9c179e"
             ],
             [
              0.4444444444444444,
              "#bd3786"
             ],
             [
              0.5555555555555556,
              "#d8576b"
             ],
             [
              0.6666666666666666,
              "#ed7953"
             ],
             [
              0.7777777777777778,
              "#fb9f3a"
             ],
             [
              0.8888888888888888,
              "#fdca26"
             ],
             [
              1,
              "#f0f921"
             ]
            ],
            "type": "surface"
           }
          ],
          "table": [
           {
            "cells": {
             "fill": {
              "color": "#EBF0F8"
             },
             "line": {
              "color": "white"
             }
            },
            "header": {
             "fill": {
              "color": "#C8D4E3"
             },
             "line": {
              "color": "white"
             }
            },
            "type": "table"
           }
          ]
         },
         "layout": {
          "annotationdefaults": {
           "arrowcolor": "#2a3f5f",
           "arrowhead": 0,
           "arrowwidth": 1
          },
          "autotypenumbers": "strict",
          "coloraxis": {
           "colorbar": {
            "outlinewidth": 0,
            "ticks": ""
           }
          },
          "colorscale": {
           "diverging": [
            [
             0,
             "#8e0152"
            ],
            [
             0.1,
             "#c51b7d"
            ],
            [
             0.2,
             "#de77ae"
            ],
            [
             0.3,
             "#f1b6da"
            ],
            [
             0.4,
             "#fde0ef"
            ],
            [
             0.5,
             "#f7f7f7"
            ],
            [
             0.6,
             "#e6f5d0"
            ],
            [
             0.7,
             "#b8e186"
            ],
            [
             0.8,
             "#7fbc41"
            ],
            [
             0.9,
             "#4d9221"
            ],
            [
             1,
             "#276419"
            ]
           ],
           "sequential": [
            [
             0,
             "#0d0887"
            ],
            [
             0.1111111111111111,
             "#46039f"
            ],
            [
             0.2222222222222222,
             "#7201a8"
            ],
            [
             0.3333333333333333,
             "#9c179e"
            ],
            [
             0.4444444444444444,
             "#bd3786"
            ],
            [
             0.5555555555555556,
             "#d8576b"
            ],
            [
             0.6666666666666666,
             "#ed7953"
            ],
            [
             0.7777777777777778,
             "#fb9f3a"
            ],
            [
             0.8888888888888888,
             "#fdca26"
            ],
            [
             1,
             "#f0f921"
            ]
           ],
           "sequentialminus": [
            [
             0,
             "#0d0887"
            ],
            [
             0.1111111111111111,
             "#46039f"
            ],
            [
             0.2222222222222222,
             "#7201a8"
            ],
            [
             0.3333333333333333,
             "#9c179e"
            ],
            [
             0.4444444444444444,
             "#bd3786"
            ],
            [
             0.5555555555555556,
             "#d8576b"
            ],
            [
             0.6666666666666666,
             "#ed7953"
            ],
            [
             0.7777777777777778,
             "#fb9f3a"
            ],
            [
             0.8888888888888888,
             "#fdca26"
            ],
            [
             1,
             "#f0f921"
            ]
           ]
          },
          "colorway": [
           "#636efa",
           "#EF553B",
           "#00cc96",
           "#ab63fa",
           "#FFA15A",
           "#19d3f3",
           "#FF6692",
           "#B6E880",
           "#FF97FF",
           "#FECB52"
          ],
          "font": {
           "color": "#2a3f5f"
          },
          "geo": {
           "bgcolor": "white",
           "lakecolor": "white",
           "landcolor": "#E5ECF6",
           "showlakes": true,
           "showland": true,
           "subunitcolor": "white"
          },
          "hoverlabel": {
           "align": "left"
          },
          "hovermode": "closest",
          "mapbox": {
           "style": "light"
          },
          "paper_bgcolor": "white",
          "plot_bgcolor": "#E5ECF6",
          "polar": {
           "angularaxis": {
            "gridcolor": "white",
            "linecolor": "white",
            "ticks": ""
           },
           "bgcolor": "#E5ECF6",
           "radialaxis": {
            "gridcolor": "white",
            "linecolor": "white",
            "ticks": ""
           }
          },
          "scene": {
           "xaxis": {
            "backgroundcolor": "#E5ECF6",
            "gridcolor": "white",
            "gridwidth": 2,
            "linecolor": "white",
            "showbackground": true,
            "ticks": "",
            "zerolinecolor": "white"
           },
           "yaxis": {
            "backgroundcolor": "#E5ECF6",
            "gridcolor": "white",
            "gridwidth": 2,
            "linecolor": "white",
            "showbackground": true,
            "ticks": "",
            "zerolinecolor": "white"
           },
           "zaxis": {
            "backgroundcolor": "#E5ECF6",
            "gridcolor": "white",
            "gridwidth": 2,
            "linecolor": "white",
            "showbackground": true,
            "ticks": "",
            "zerolinecolor": "white"
           }
          },
          "shapedefaults": {
           "line": {
            "color": "#2a3f5f"
           }
          },
          "ternary": {
           "aaxis": {
            "gridcolor": "white",
            "linecolor": "white",
            "ticks": ""
           },
           "baxis": {
            "gridcolor": "white",
            "linecolor": "white",
            "ticks": ""
           },
           "bgcolor": "#E5ECF6",
           "caxis": {
            "gridcolor": "white",
            "linecolor": "white",
            "ticks": ""
           }
          },
          "title": {
           "x": 0.05
          },
          "xaxis": {
           "automargin": true,
           "gridcolor": "white",
           "linecolor": "white",
           "ticks": "",
           "title": {
            "standoff": 15
           },
           "zerolinecolor": "white",
           "zerolinewidth": 2
          },
          "yaxis": {
           "automargin": true,
           "gridcolor": "white",
           "linecolor": "white",
           "ticks": "",
           "title": {
            "standoff": 15
           },
           "zerolinecolor": "white",
           "zerolinewidth": 2
          }
         }
        },
        "title": {
         "text": "Number of Samples per Country",
         "x": 0.5
        },
        "updatemenus": [
         {
          "buttons": [
           {
            "args": [
             {
              "geo.scope": "world"
             }
            ],
            "label": "World",
            "method": "relayout"
           },
           {
            "args": [
             {
              "geo.scope": "europe"
             }
            ],
            "label": "Europe",
            "method": "relayout"
           },
           {
            "args": [
             {
              "geo.scope": "asia"
             }
            ],
            "label": "Asia",
            "method": "relayout"
           },
           {
            "args": [
             {
              "geo.scope": "africa"
             }
            ],
            "label": "Africa",
            "method": "relayout"
           },
           {
            "args": [
             {
              "geo.scope": "north america"
             }
            ],
            "label": "North America",
            "method": "relayout"
           },
           {
            "args": [
             {
              "geo.scope": "south america"
             }
            ],
            "label": "South America",
            "method": "relayout"
           }
          ],
          "direction": "down",
          "showactive": true,
          "x": 1.2,
          "y": 0.6
         }
        ],
        "width": 1000
       }
      }
     },
     "metadata": {},
     "output_type": "display_data"
    }
   ],
   "source": [
    "# Define continent mapping\n",
    "continent_map = {\n",
    "    'Italy': 'Europe', 'Ireland': 'Europe', 'Spain': 'Europe', 'Austria': 'Europe', \n",
    "    'USA': 'North America', 'United Kingdom': 'Europe', 'Canada': 'North America',\n",
    "    'Genrmany': 'Europe', 'France': 'Europe', 'China': 'Asia', 'Nigeria': 'Africa',\n",
    "    'Australia': 'Oceania', 'Mexico': 'North America', 'Belgium': 'Europe',\n",
    "    'Taiwan': 'Asia', 'India': 'Asia', 'Brazil': 'South America', 'Ghana': 'Africa',\n",
    "    'Denmark': 'Europe', 'Singapore': 'Asia', 'Greece': 'Europe', 'Malaysia': 'Asia',\n",
    "    'Norway': 'Europe', 'Turkey': 'Asia', 'Saudi Arabia': 'Asia', \n",
    "    'South Africa': 'Africa', 'Bulgaria': 'Europe', 'Russia': 'Europe',\n",
    "    'Indonesia': 'Asia', 'Ecuador': 'South America', 'New Zealand': 'Oceania',\n",
    "    'Finland': 'Europe', 'Korea': 'Asia', 'Colombia': 'South America',\n",
    "    'Hong Kong': 'Asia', 'Estonia': 'Europe', 'hilippines': 'Asia',\n",
    "    'Burkina Faso': 'Africa', 'Sweden': 'Europe', 'Tunisia': 'Africa',\n",
    "    'Aland Islands': 'Europe', 'Croatia': 'Europe', 'Israel': 'Asia',\n",
    "    'Lebanon': 'Asia', 'Portugal': 'Europe', 'Kenya': 'Africa',\n",
    "    'Boliva': 'South America', 'Switzerland': 'Europe', 'Ethiopia': 'Africa',\n",
    "    'Benin': 'Africa', 'Japan': 'Asia', 'Germany': 'Europe', 'Thailand': 'Asia',\n",
    "    'Myanmar': 'Asia', 'Korean': 'Asia', 'Turkey ': 'Asia', 'Belgium:Antwerp': 'Europe'\n",
    "}\n",
    "\n",
    "# Add continent column\n",
    "country_counts['continent'] = country_counts['country'].map(continent_map)\n",
    "\n",
    "# Create scatter_geo plot with color by continent\n",
    "fig = px.scatter_geo(country_counts,\n",
    "                    locations='country',\n",
    "                    locationmode='country names',\n",
    "                    size='count',\n",
    "                    color='continent',\n",
    "                    hover_name='country',\n",
    "                    hover_data={'count': True, 'continent': True},\n",
    "                    projection='natural earth',\n",
    "                    title='Number of Samples per Country')\n",
    "\n",
    "fig.update_traces(marker=dict(opacity=0.6, line=dict(width=1, color='black')))\n",
    "\n",
    "fig.update_layout(\n",
    "    title_x=0.5,\n",
    "    geo=dict(\n",
    "        showframe=True,\n",
    "        showcoastlines=True,\n",
    "        projection_type='equirectangular',\n",
    "        # Add zoom capabilities\n",
    "        scope='world',\n",
    "        showland=True,\n",
    "        showcountries=True,\n",
    "        landcolor='rgb(243, 243, 243)',\n",
    "        countrycolor='rgb(204, 204, 204)',\n",
    "        # Enable zoom\n",
    "        visible=True\n",
    "    ),\n",
    "    width=1000,\n",
    "    height=600\n",
    ")\n",
    "\n",
    "# Add buttons for zooming to different regions\n",
    "fig.update_layout(\n",
    "    updatemenus=[{\n",
    "        'buttons': [\n",
    "            {'args': [{'geo.scope': 'world'}], 'label': 'World', 'method': 'relayout'},\n",
    "            {'args': [{'geo.scope': 'europe'}], 'label': 'Europe', 'method': 'relayout'},\n",
    "            {'args': [{'geo.scope': 'asia'}], 'label': 'Asia', 'method': 'relayout'},\n",
    "            {'args': [{'geo.scope': 'africa'}], 'label': 'Africa', 'method': 'relayout'},\n",
    "            {'args': [{'geo.scope': 'north america'}], 'label': 'North America', 'method': 'relayout'},\n",
    "            {'args': [{'geo.scope': 'south america'}], 'label': 'South America', 'method': 'relayout'}\n",
    "        ],\n",
    "        'direction': 'down',\n",
    "        'showactive': True,\n",
    "        'x': 1.2,\n",
    "        'y': 0.6  # Moved down from 0.9 to 0.75 to place below typical legend position\n",
    "    }]\n",
    ")\n",
    "\n",
    "fig.show()"
   ]
  },
  {
   "cell_type": "code",
   "execution_count": 191,
   "metadata": {},
   "outputs": [],
   "source": [
    "# visualizing the number of samples (sample_accession) per country\n",
    "# Get unique sample_accession and country pairs\n",
    "unique_food_by_country = dataset[['sample_accession', 'country','level3_food_name']].drop_duplicates()\n",
    "\n",
    "# Count samples per country and sort in descending order\n",
    "food_counts = unique_food_by_country.groupby(['country', 'level3_food_name']).size().reset_index(name='Count')\n",
    "food_counts = food_counts.sort_values(['country','Count'], ascending=[False, True])\n"
   ]
  },
  {
   "cell_type": "code",
   "execution_count": 192,
   "metadata": {},
   "outputs": [],
   "source": [
    "# correcting for rows that have multiple countries in the same cell\n",
    "# First, create a copy of the dataframe\n",
    "new_food_counts = food_counts.copy()\n",
    "\n",
    "# Find rows where country contains '[' \n",
    "mask = new_food_counts['country'].str.contains('\\[', na=False)\n",
    "rows_to_expand = new_food_counts[mask].copy()\n",
    "\n",
    "# Remove these rows from the original dataframe\n",
    "new_food_counts = new_food_counts[~mask]\n",
    "\n",
    "# Process rows that need to be expanded\n",
    "for idx, row in rows_to_expand.iterrows():\n",
    "    # Extract country names from the string\n",
    "    countries = eval(row['country'])\n",
    "    \n",
    "    # Create new rows for each country\n",
    "    for country in countries:\n",
    "        new_row = pd.DataFrame({\n",
    "            'country': [country],\n",
    "            'level3_food_name': [row['level3_food_name']],\n",
    "            'Count': [row['Count']]\n",
    "        })\n",
    "        new_food_counts = pd.concat([new_food_counts, new_row], ignore_index=True)\n",
    "\n",
    "# Sort the resulting dataframe\n",
    "new_food_counts = new_food_counts.sort_values(['country', 'Count'], ascending=[True, False])\n",
    "\n",
    "# Update food_counts with the new dataframe\n",
    "food_counts = new_food_counts.copy()"
   ]
  },
  {
   "cell_type": "code",
   "execution_count": null,
   "metadata": {},
   "outputs": [],
   "source": [
    " # change korean to Korea\n",
    "food_counts['country'] = food_counts['country'].replace({'korean': 'Korea'})"
   ]
  },
  {
   "cell_type": "code",
   "execution_count": 194,
   "metadata": {},
   "outputs": [],
   "source": [
    "# add a column with the % of a food items per country\n",
    "food_counts['percentage'] = food_counts.groupby('country')['Count'].transform(lambda x: x / x.sum() * 100).round(2)\n",
    "\n"
   ]
  },
  {
   "cell_type": "code",
   "execution_count": 195,
   "metadata": {},
   "outputs": [],
   "source": [
    "# change the column name level3_food_name to food\n",
    "food_counts = food_counts.rename(columns={'level3_food_name': 'food'})\n"
   ]
  },
  {
   "cell_type": "code",
   "execution_count": 203,
   "metadata": {},
   "outputs": [
    {
     "data": {
      "text/plain": [
       "food\n",
       "cheese                     1425\n",
       "tibicos fig                 377\n",
       "kefir                       270\n",
       "salami                       73\n",
       "whey                         71\n",
       "sourdough                    69\n",
       "cheese brine                 51\n",
       "sausage                      44\n",
       "choclate                     35\n",
       "koumiss                      33\n",
       "tea fermented                28\n",
       "wine                         22\n",
       "yogurt                       21\n",
       "nunu                         17\n",
       "sausage italian              14\n",
       "probiotics                   12\n",
       "sauerkraut                   12\n",
       "soy sauce                    11\n",
       "kimchi                       10\n",
       "tibicos                       9\n",
       "mustard leaf                  9\n",
       "ogi                           8\n",
       "miso                          7\n",
       "beer                          7\n",
       "coffee                        7\n",
       "chilli sauce                  6\n",
       "kinema                        6\n",
       "iru                           6\n",
       "kunu                          6\n",
       "cheese tomme                  5\n",
       "hongeo                        5\n",
       "pulque                        5\n",
       "wine palm                     5\n",
       "gari                          5\n",
       "fufu                          4\n",
       "tempeh                        4\n",
       "liquir chinese                4\n",
       "ogiri                         4\n",
       "miso yellow pea               3\n",
       "nono                          3\n",
       "lafun                         3\n",
       "kvass                         3\n",
       "cheese wara                   3\n",
       "pozol                         3\n",
       "ugi                           3\n",
       "ugba                          3\n",
       "burukutu                      3\n",
       "cheese                        3\n",
       "cheese araxa                  3\n",
       "cheese canastra               3\n",
       "pickle bolivian               3\n",
       "pito                          3\n",
       "pickle papaya                 3\n",
       "pickle indian                 3\n",
       "pickle hijazi                 3\n",
       "pickle greek                  3\n",
       "saerkraut                     2\n",
       "pickle onion                  2\n",
       "laban                         2\n",
       "pickle daikon                 2\n",
       "okpehe                        2\n",
       "otika                         2\n",
       "agadagidi                     2\n",
       "zonkom                        2\n",
       "beer ginger                   2\n",
       "cheese brie                   2\n",
       "honey                         2\n",
       "cheese serdaleh               2\n",
       "cheese continental pink       2\n",
       "jalebi                        2\n",
       "cheese serro                  2\n",
       "injera                        2\n",
       "dawadawa                      2\n",
       "bean paste                    2\n",
       "cheese, hard                  2\n",
       "cheese cheddar                2\n",
       "cheese wagashi                1\n",
       "cheese, curd                  1\n",
       "cheese ruz'a                  1\n",
       "cheese russian                1\n",
       "cheese pink                   1\n",
       "cheese parmesan               1\n",
       "sekete                        1\n",
       "soumbala                      1\n",
       "pickle yellow peach           1\n",
       "tepache                       1\n",
       "cheese blue                   1\n",
       "pickle serrano peper          1\n",
       "carrot sticks                 1\n",
       "brukina                       1\n",
       "tofu chili                    1\n",
       "tofu mao doufu                1\n",
       "turnip fermented              1\n",
       "boza                          1\n",
       "viili                         1\n",
       "vinegar apple cider           1\n",
       "attieke                       1\n",
       "ambriss                       1\n",
       "amazake                       1\n",
       "pickle tomato                 1\n",
       "koko                          1\n",
       "chilli paste                  1\n",
       "furu                          1\n",
       "kimchi potato                 1\n",
       "kimchi mukeunji               1\n",
       "agousha                       1\n",
       "keem                          1\n",
       "labneh                        1\n",
       "kasuzuke                      1\n",
       "kantong                       1\n",
       "massa                         1\n",
       "mou                           1\n",
       "natto                         1\n",
       "grep-chhurpi                  1\n",
       "ginger fermented              1\n",
       "obiolor                       1\n",
       "garlic fermented              1\n",
       "fura                          1\n",
       "cider apple                   1\n",
       "orange                        1\n",
       "emu                           1\n",
       "otiru                         1\n",
       "peha                          1\n",
       "peron namsing                 1\n",
       "perunyaan                     1\n",
       "dukkah                        1\n",
       "pickle cucumber               1\n",
       "dolo                          1\n",
       "pickle elderberries           1\n",
       "dajiang-meju                  1\n",
       "curtido                       1\n",
       "pickle mixed vegetables       1\n",
       "kombucha                      1\n",
       "pickle okra                   1\n",
       "Name: Count, dtype: int64"
      ]
     },
     "metadata": {},
     "output_type": "display_data"
    }
   ],
   "source": [
    "pd.set_option('display.max_rows', None)\n",
    "display(food_counts.groupby('food').Count.sum().sort_values(ascending=False))"
   ]
  },
  {
   "cell_type": "code",
   "execution_count": 205,
   "metadata": {},
   "outputs": [
    {
     "data": {
      "text/plain": [
       "np.int64(2859)"
      ]
     },
     "execution_count": 205,
     "metadata": {},
     "output_type": "execute_result"
    }
   ],
   "source": [
    "food_counts.Count.sum()"
   ]
  },
  {
   "cell_type": "code",
   "execution_count": 174,
   "metadata": {},
   "outputs": [
    {
     "data": {
      "application/vnd.plotly.v1+json": {
       "config": {
        "plotlyServerURL": "https://plot.ly"
       },
       "data": [
        {
         "hovertemplate": "food=kefir<br>percentage=%{x}<br>country=%{y}<extra></extra>",
         "legendgroup": "kefir",
         "marker": {
          "color": "#636efa",
          "pattern": {
           "shape": ""
          }
         },
         "name": "kefir",
         "orientation": "h",
         "showlegend": true,
         "textposition": "auto",
         "type": "bar",
         "x": {
          "bdata": "AAAAAAAAREDD9Shcj4I0QLgehetROCBAAAAAAAAAWUAK16NwPQoVQOxRuB6F6xVAAAAAAAAAWUDNzMzMzAw1QIXrUbgeBStAmpmZmZmZ9T8UrkfhehQ/QK5H4XoUDlJAhetRuB7FPkBI4XoUrkctQOxRuB6F69E/AAAAAAAAWUD2KFyPwvXgP4XrUbgehRRAexSuR+GqUEAAAAAAAABZQAAAAAAAAElA7FG4HoWrMEC4HoXrUThGQOxRuB6F6/E/AAAAAAAAWUAAAAAAAABZQAAAAAAAAFlAPQrXo3A9BkD2KFyPwpVDQI/C9Shcj+o/",
          "dtype": "f8"
         },
         "xaxis": "x",
         "y": [
          "Finland",
          "Australia",
          "Belgium",
          "Bulgaria",
          "Canada",
          "China",
          "Croatia",
          "Denmark",
          "France",
          "France",
          "Genrmany",
          "Greece",
          "India",
          "Ireland",
          "Ireland",
          "Israel",
          "Italy",
          "Mexico",
          "New Zealand",
          "Portugal",
          "Russia",
          "Singapore",
          "South Africa",
          "Spain",
          "Sweden",
          "Taiwan",
          "Tunisia",
          "USA",
          "United Kingdom",
          "United Kingdom"
         ],
         "yaxis": "y"
        },
        {
         "hovertemplate": "food=wine<br>percentage=%{x}<br>country=%{y}<extra></extra>",
         "legendgroup": "wine",
         "marker": {
          "color": "#EF553B",
          "pattern": {
           "shape": ""
          }
         },
         "name": "wine",
         "orientation": "h",
         "showlegend": true,
         "textposition": "auto",
         "type": "bar",
         "x": {
          "bdata": "pHA9CtejSUAAAAAAAABZQHE9CtejcN0/",
          "dtype": "f8"
         },
         "xaxis": "x",
         "y": [
          "Australia",
          "Germany",
          "USA"
         ],
         "yaxis": "y"
        },
        {
         "hovertemplate": "food=tibicos fig<br>percentage=%{x}<br>country=%{y}<extra></extra>",
         "legendgroup": "tibicos fig",
         "marker": {
          "color": "#00cc96",
          "pattern": {
           "shape": ""
          }
         },
         "name": "tibicos fig",
         "orientation": "h",
         "showlegend": true,
         "textposition": "auto",
         "type": "bar",
         "x": {
          "bdata": "pHA9CtejOUAAAAAAAAAlQFK4HoXrUThAPQrXo3C9M0AAAAAAAABZQFK4HoXrUTpAAAAAAAAAWUCuR+F6FI5QQBSuR+F65FBAAAAAAAAAWUDsUbgehdtRQEjhehSuxyJASOF6FK5HBUApXI/C9WhNQArXo3A9qkBAhetRuB7VVEBI4XoUrsdLQD0K16NwPQRASOF6FK7HK0AK16NwPWpJQAAAAAAAAFlA",
          "dtype": "f8"
         },
         "xaxis": "x",
         "y": [
          "Australia",
          "Austria",
          "Belgium",
          "Canada",
          "Colombia",
          "Denmark",
          "Estonia",
          "France",
          "Genrmany",
          "Hong Kong",
          "Indonesia",
          "Ireland",
          "Italy",
          "Malaysia",
          "Norway",
          "Singapore",
          "South Africa",
          "Spain",
          "USA",
          "United Kingdom",
          "hilippines"
         ],
         "yaxis": "y"
        },
        {
         "hovertemplate": "food=sourdough<br>percentage=%{x}<br>country=%{y}<extra></extra>",
         "legendgroup": "sourdough",
         "marker": {
          "color": "#ab63fa",
          "pattern": {
           "shape": ""
          }
         },
         "name": "sourdough",
         "orientation": "h",
         "showlegend": true,
         "textposition": "auto",
         "type": "bar",
         "x": {
          "bdata": "exSuR+F6BEAK16NwPQoVQOxRuB6F6/U/CtejcD2qQECuR+F6FK4aQAAAAAAAAFlAj8L1KFxPO0A=",
          "dtype": "f8"
         },
         "xaxis": "x",
         "y": [
          "Australia",
          "Canada",
          "China",
          "New Zealand",
          "Norway",
          "Thailand",
          "USA"
         ],
         "yaxis": "y"
        },
        {
         "hovertemplate": "food=cheese <br>percentage=%{x}<br>country=%{y}<extra></extra>",
         "legendgroup": "cheese ",
         "marker": {
          "color": "#FFA15A",
          "pattern": {
           "shape": ""
          }
         },
         "name": "cheese ",
         "orientation": "h",
         "showlegend": true,
         "textposition": "auto",
         "type": "bar",
         "x": {
          "bdata": "KVyPwvU4U0CamZmZmflGQAAAAAAAAFlAZmZmZmZmEUCPwvUoXG9RQOxRuB6F6xVAAAAAAAAATkC4HoXrUTgwQLgehetROCZA7FG4HoVrTUDsUbgehevRP6RwPQrX41JAexSuR+F6BEB7FK5H4XoEQAAAAAAAAE5ACtejcD2KUkAAAAAAAABJQNejcD0KN0NAAAAAAAAABEA=",
          "dtype": "f8"
         },
         "xaxis": "x",
         "y": [
          "Austria",
          "Belgium",
          "Benin",
          "Brazil",
          "Canada",
          "China",
          "Finland",
          "France",
          "Greece",
          "Ireland",
          "Ireland",
          "Italy",
          "Mexico",
          "Mexico",
          "Norway",
          "Spain",
          "Switzerland",
          "USA",
          "United Kingdom"
         ],
         "yaxis": "y"
        },
        {
         "hovertemplate": "food=whey<br>percentage=%{x}<br>country=%{y}<extra></extra>",
         "legendgroup": "whey",
         "marker": {
          "color": "#19d3f3",
          "pattern": {
           "shape": ""
          }
         },
         "name": "whey",
         "orientation": "h",
         "showlegend": true,
         "textposition": "auto",
         "type": "bar",
         "x": {
          "bdata": "j8L1KFyPHEBSuB6F61EIQDMzMzMzM/M/CtejcD2KIkAAAAAAAABJQA==",
          "dtype": "f8"
         },
         "xaxis": "x",
         "y": [
          "Austria",
          "Ireland",
          "Italy",
          "Spain",
          "Switzerland"
         ],
         "yaxis": "y"
        },
        {
         "hovertemplate": "food=cheese brine<br>percentage=%{x}<br>country=%{y}<extra></extra>",
         "legendgroup": "cheese brine",
         "marker": {
          "color": "#FF6692",
          "pattern": {
           "shape": ""
          }
         },
         "name": "cheese brine",
         "orientation": "h",
         "showlegend": true,
         "textposition": "auto",
         "type": "bar",
         "x": {
          "bdata": "16NwPQrXFUB7FK5H4XoKQMP1KFyPwv0/9ihcj8L1CkA=",
          "dtype": "f8"
         },
         "xaxis": "x",
         "y": [
          "Austria",
          "Ireland",
          "Italy",
          "Spain"
         ],
         "yaxis": "y"
        },
        {
         "hovertemplate": "food=beer<br>percentage=%{x}<br>country=%{y}<extra></extra>",
         "legendgroup": "beer",
         "marker": {
          "color": "#B6E880",
          "pattern": {
           "shape": ""
          }
         },
         "name": "beer",
         "orientation": "h",
         "showlegend": true,
         "textposition": "auto",
         "type": "bar",
         "x": {
          "bdata": "uB6F61E4MEBxPQrXo3DdPw==",
          "dtype": "f8"
         },
         "xaxis": "x",
         "y": [
          "Belgium",
          "USA"
         ],
         "yaxis": "y"
        },
        {
         "hovertemplate": "food=choclate<br>percentage=%{x}<br>country=%{y}<extra></extra>",
         "legendgroup": "choclate",
         "marker": {
          "color": "#FF97FF",
          "pattern": {
           "shape": ""
          }
         },
         "name": "choclate",
         "orientation": "h",
         "showlegend": true,
         "textposition": "auto",
         "type": "bar",
         "x": {
          "bdata": "mpmZmZmZBUCPwvUoXG9OQKRwPQrXo8A/XI/C9ShcSEA=",
          "dtype": "f8"
         },
         "xaxis": "x",
         "y": [
          "Belgium",
          "Brazil",
          "Italy",
          "Mexico"
         ],
         "yaxis": "y"
        },
        {
         "hovertemplate": "food=pickle elderberries<br>percentage=%{x}<br>country=%{y}<extra></extra>",
         "legendgroup": "pickle elderberries",
         "marker": {
          "color": "#FECB52",
          "pattern": {
           "shape": ""
          }
         },
         "name": "pickle elderberries",
         "orientation": "h",
         "showlegend": true,
         "textposition": "auto",
         "type": "bar",
         "x": {
          "bdata": "mpmZmZmZBUA=",
          "dtype": "f8"
         },
         "xaxis": "x",
         "y": [
          "Belgium"
         ],
         "yaxis": "y"
        },
        {
         "hovertemplate": "food=pickle bolivian<br>percentage=%{x}<br>country=%{y}<extra></extra>",
         "legendgroup": "pickle bolivian",
         "marker": {
          "color": "#636efa",
          "pattern": {
           "shape": ""
          }
         },
         "name": "pickle bolivian",
         "orientation": "h",
         "showlegend": true,
         "textposition": "auto",
         "type": "bar",
         "x": {
          "bdata": "AAAAAAAAWUA=",
          "dtype": "f8"
         },
         "xaxis": "x",
         "y": [
          "Bolivia"
         ],
         "yaxis": "y"
        },
        {
         "hovertemplate": "food=cheese araxa<br>percentage=%{x}<br>country=%{y}<extra></extra>",
         "legendgroup": "cheese araxa",
         "marker": {
          "color": "#EF553B",
          "pattern": {
           "shape": ""
          }
         },
         "name": "cheese araxa",
         "orientation": "h",
         "showlegend": true,
         "textposition": "auto",
         "type": "bar",
         "x": {
          "bdata": "FK5H4XoUKkA=",
          "dtype": "f8"
         },
         "xaxis": "x",
         "y": [
          "Brazil"
         ],
         "yaxis": "y"
        },
        {
         "hovertemplate": "food=cheese canastra<br>percentage=%{x}<br>country=%{y}<extra></extra>",
         "legendgroup": "cheese canastra",
         "marker": {
          "color": "#00cc96",
          "pattern": {
           "shape": ""
          }
         },
         "name": "cheese canastra",
         "orientation": "h",
         "showlegend": true,
         "textposition": "auto",
         "type": "bar",
         "x": {
          "bdata": "FK5H4XoUKkA=",
          "dtype": "f8"
         },
         "xaxis": "x",
         "y": [
          "Brazil"
         ],
         "yaxis": "y"
        },
        {
         "hovertemplate": "food=cheese serro<br>percentage=%{x}<br>country=%{y}<extra></extra>",
         "legendgroup": "cheese serro",
         "marker": {
          "color": "#ab63fa",
          "pattern": {
           "shape": ""
          }
         },
         "name": "cheese serro",
         "orientation": "h",
         "showlegend": true,
         "textposition": "auto",
         "type": "bar",
         "x": {
          "bdata": "ZmZmZmZmIUA=",
          "dtype": "f8"
         },
         "xaxis": "x",
         "y": [
          "Brazil"
         ],
         "yaxis": "y"
        },
        {
         "hovertemplate": "food=attieke<br>percentage=%{x}<br>country=%{y}<extra></extra>",
         "legendgroup": "attieke",
         "marker": {
          "color": "#FFA15A",
          "pattern": {
           "shape": ""
          }
         },
         "name": "attieke",
         "orientation": "h",
         "showlegend": true,
         "textposition": "auto",
         "type": "bar",
         "x": {
          "bdata": "AAAAAAAANEA=",
          "dtype": "f8"
         },
         "xaxis": "x",
         "y": [
          "Burkina Faso"
         ],
         "yaxis": "y"
        },
        {
         "hovertemplate": "food=dolo<br>percentage=%{x}<br>country=%{y}<extra></extra>",
         "legendgroup": "dolo",
         "marker": {
          "color": "#19d3f3",
          "pattern": {
           "shape": ""
          }
         },
         "name": "dolo",
         "orientation": "h",
         "showlegend": true,
         "textposition": "auto",
         "type": "bar",
         "x": {
          "bdata": "AAAAAAAANEA=",
          "dtype": "f8"
         },
         "xaxis": "x",
         "y": [
          "Burkina Faso"
         ],
         "yaxis": "y"
        },
        {
         "hovertemplate": "food=massa<br>percentage=%{x}<br>country=%{y}<extra></extra>",
         "legendgroup": "massa",
         "marker": {
          "color": "#FF6692",
          "pattern": {
           "shape": ""
          }
         },
         "name": "massa",
         "orientation": "h",
         "showlegend": true,
         "textposition": "auto",
         "type": "bar",
         "x": {
          "bdata": "AAAAAAAANEA=",
          "dtype": "f8"
         },
         "xaxis": "x",
         "y": [
          "Burkina Faso"
         ],
         "yaxis": "y"
        },
        {
         "hovertemplate": "food=mou<br>percentage=%{x}<br>country=%{y}<extra></extra>",
         "legendgroup": "mou",
         "marker": {
          "color": "#B6E880",
          "pattern": {
           "shape": ""
          }
         },
         "name": "mou",
         "orientation": "h",
         "showlegend": true,
         "textposition": "auto",
         "type": "bar",
         "x": {
          "bdata": "AAAAAAAANEA=",
          "dtype": "f8"
         },
         "xaxis": "x",
         "y": [
          "Burkina Faso"
         ],
         "yaxis": "y"
        },
        {
         "hovertemplate": "food=soumbala<br>percentage=%{x}<br>country=%{y}<extra></extra>",
         "legendgroup": "soumbala",
         "marker": {
          "color": "#FF97FF",
          "pattern": {
           "shape": ""
          }
         },
         "name": "soumbala",
         "orientation": "h",
         "showlegend": true,
         "textposition": "auto",
         "type": "bar",
         "x": {
          "bdata": "AAAAAAAANEA=",
          "dtype": "f8"
         },
         "xaxis": "x",
         "y": [
          "Burkina Faso"
         ],
         "yaxis": "y"
        },
        {
         "hovertemplate": "food=koumiss<br>percentage=%{x}<br>country=%{y}<extra></extra>",
         "legendgroup": "koumiss",
         "marker": {
          "color": "#FECB52",
          "pattern": {
           "shape": ""
          }
         },
         "name": "koumiss",
         "orientation": "h",
         "showlegend": true,
         "textposition": "auto",
         "type": "bar",
         "x": {
          "bdata": "exSuR+GaRkA=",
          "dtype": "f8"
         },
         "xaxis": "x",
         "y": [
          "China"
         ],
         "yaxis": "y"
        },
        {
         "hovertemplate": "food=mustard leaf<br>percentage=%{x}<br>country=%{y}<extra></extra>",
         "legendgroup": "mustard leaf",
         "marker": {
          "color": "#636efa",
          "pattern": {
           "shape": ""
          }
         },
         "name": "mustard leaf",
         "orientation": "h",
         "showlegend": true,
         "textposition": "auto",
         "type": "bar",
         "x": {
          "bdata": "KVyPwvWoKEA=",
          "dtype": "f8"
         },
         "xaxis": "x",
         "y": [
          "China"
         ],
         "yaxis": "y"
        },
        {
         "hovertemplate": "food=chilli sauce<br>percentage=%{x}<br>country=%{y}<extra></extra>",
         "legendgroup": "chilli sauce",
         "marker": {
          "color": "#EF553B",
          "pattern": {
           "shape": ""
          }
         },
         "name": "chilli sauce",
         "orientation": "h",
         "showlegend": true,
         "textposition": "auto",
         "type": "bar",
         "x": {
          "bdata": "cT0K16NwIEA=",
          "dtype": "f8"
         },
         "xaxis": "x",
         "y": [
          "China"
         ],
         "yaxis": "y"
        },
        {
         "hovertemplate": "food=tea fermented<br>percentage=%{x}<br>country=%{y}<extra></extra>",
         "legendgroup": "tea fermented",
         "marker": {
          "color": "#00cc96",
          "pattern": {
           "shape": ""
          }
         },
         "name": "tea fermented",
         "orientation": "h",
         "showlegend": true,
         "textposition": "auto",
         "type": "bar",
         "x": {
          "bdata": "cT0K16NwIECPwvUoXI/qPzMzMzMz8zFAAAAAAAAAWUA=",
          "dtype": "f8"
         },
         "xaxis": "x",
         "y": [
          "China",
          "Ireland",
          "Mexico",
          "Turkey"
         ],
         "yaxis": "y"
        },
        {
         "hovertemplate": "food=liquir chinese<br>percentage=%{x}<br>country=%{y}<extra></extra>",
         "legendgroup": "liquir chinese",
         "marker": {
          "color": "#ab63fa",
          "pattern": {
           "shape": ""
          }
         },
         "name": "liquir chinese",
         "orientation": "h",
         "showlegend": true,
         "textposition": "auto",
         "type": "bar",
         "x": {
          "bdata": "7FG4HoXrFUA=",
          "dtype": "f8"
         },
         "xaxis": "x",
         "y": [
          "China"
         ],
         "yaxis": "y"
        },
        {
         "hovertemplate": "food=chilli paste<br>percentage=%{x}<br>country=%{y}<extra></extra>",
         "legendgroup": "chilli paste",
         "marker": {
          "color": "#FFA15A",
          "pattern": {
           "shape": ""
          }
         },
         "name": "chilli paste",
         "orientation": "h",
         "showlegend": true,
         "textposition": "auto",
         "type": "bar",
         "x": {
          "bdata": "7FG4HoXr9T8=",
          "dtype": "f8"
         },
         "xaxis": "x",
         "y": [
          "China"
         ],
         "yaxis": "y"
        },
        {
         "hovertemplate": "food=dajiang-meju<br>percentage=%{x}<br>country=%{y}<extra></extra>",
         "legendgroup": "dajiang-meju",
         "marker": {
          "color": "#19d3f3",
          "pattern": {
           "shape": ""
          }
         },
         "name": "dajiang-meju",
         "orientation": "h",
         "showlegend": true,
         "textposition": "auto",
         "type": "bar",
         "x": {
          "bdata": "7FG4HoXr9T8=",
          "dtype": "f8"
         },
         "xaxis": "x",
         "y": [
          "China"
         ],
         "yaxis": "y"
        },
        {
         "hovertemplate": "food=pickle daikon<br>percentage=%{x}<br>country=%{y}<extra></extra>",
         "legendgroup": "pickle daikon",
         "marker": {
          "color": "#FF6692",
          "pattern": {
           "shape": ""
          }
         },
         "name": "pickle daikon",
         "orientation": "h",
         "showlegend": true,
         "textposition": "auto",
         "type": "bar",
         "x": {
          "bdata": "7FG4HoXr9T/sUbgehevRPw==",
          "dtype": "f8"
         },
         "xaxis": "x",
         "y": [
          "China",
          "Ireland"
         ],
         "yaxis": "y"
        },
        {
         "hovertemplate": "food=pickle mixed vegetables<br>percentage=%{x}<br>country=%{y}<extra></extra>",
         "legendgroup": "pickle mixed vegetables",
         "marker": {
          "color": "#B6E880",
          "pattern": {
           "shape": ""
          }
         },
         "name": "pickle mixed vegetables",
         "orientation": "h",
         "showlegend": true,
         "textposition": "auto",
         "type": "bar",
         "x": {
          "bdata": "7FG4HoXr9T8=",
          "dtype": "f8"
         },
         "xaxis": "x",
         "y": [
          "China"
         ],
         "yaxis": "y"
        },
        {
         "hovertemplate": "food=tofu chili<br>percentage=%{x}<br>country=%{y}<extra></extra>",
         "legendgroup": "tofu chili",
         "marker": {
          "color": "#FF97FF",
          "pattern": {
           "shape": ""
          }
         },
         "name": "tofu chili",
         "orientation": "h",
         "showlegend": true,
         "textposition": "auto",
         "type": "bar",
         "x": {
          "bdata": "7FG4HoXr9T8=",
          "dtype": "f8"
         },
         "xaxis": "x",
         "y": [
          "China"
         ],
         "yaxis": "y"
        },
        {
         "hovertemplate": "food=kimchi<br>percentage=%{x}<br>country=%{y}<extra></extra>",
         "legendgroup": "kimchi",
         "marker": {
          "color": "#FECB52",
          "pattern": {
           "shape": ""
          }
         },
         "name": "kimchi",
         "orientation": "h",
         "showlegend": true,
         "textposition": "auto",
         "type": "bar",
         "x": {
          "bdata": "7FG4HoXr9T+amZmZmZnxPwAAAAAAADlAPQrXo3A99j+PwvUoXI/qPw==",
          "dtype": "f8"
         },
         "xaxis": "x",
         "y": [
          "China",
          "Ireland",
          "Korean",
          "USA",
          "United Kingdom"
         ],
         "yaxis": "y"
        },
        {
         "hovertemplate": "food=miso<br>percentage=%{x}<br>country=%{y}<extra></extra>",
         "legendgroup": "miso",
         "marker": {
          "color": "#636efa",
          "pattern": {
           "shape": ""
          }
         },
         "name": "miso",
         "orientation": "h",
         "showlegend": true,
         "textposition": "auto",
         "type": "bar",
         "x": {
          "bdata": "7FG4HoVrQkA=",
          "dtype": "f8"
         },
         "xaxis": "x",
         "y": [
          "Denmark"
         ],
         "yaxis": "y"
        },
        {
         "hovertemplate": "food=miso yellow pea<br>percentage=%{x}<br>country=%{y}<extra></extra>",
         "legendgroup": "miso yellow pea",
         "marker": {
          "color": "#EF553B",
          "pattern": {
           "shape": ""
          }
         },
         "name": "miso yellow pea",
         "orientation": "h",
         "showlegend": true,
         "textposition": "auto",
         "type": "bar",
         "x": {
          "bdata": "FK5H4XqUL0A=",
          "dtype": "f8"
         },
         "xaxis": "x",
         "y": [
          "Denmark"
         ],
         "yaxis": "y"
        },
        {
         "hovertemplate": "food=coffee<br>percentage=%{x}<br>country=%{y}<extra></extra>",
         "legendgroup": "coffee",
         "marker": {
          "color": "#00cc96",
          "pattern": {
           "shape": ""
          }
         },
         "name": "coffee",
         "orientation": "h",
         "showlegend": true,
         "textposition": "auto",
         "type": "bar",
         "x": {
          "bdata": "AAAAAAAAWUA=",
          "dtype": "f8"
         },
         "xaxis": "x",
         "y": [
          "Ecuador"
         ],
         "yaxis": "y"
        },
        {
         "hovertemplate": "food=injera<br>percentage=%{x}<br>country=%{y}<extra></extra>",
         "legendgroup": "injera",
         "marker": {
          "color": "#ab63fa",
          "pattern": {
           "shape": ""
          }
         },
         "name": "injera",
         "orientation": "h",
         "showlegend": true,
         "textposition": "auto",
         "type": "bar",
         "x": {
          "bdata": "AAAAAAAAWUA=",
          "dtype": "f8"
         },
         "xaxis": "x",
         "y": [
          "Ethiopia"
         ],
         "yaxis": "y"
        },
        {
         "hovertemplate": "food=honey<br>percentage=%{x}<br>country=%{y}<extra></extra>",
         "legendgroup": "honey",
         "marker": {
          "color": "#FFA15A",
          "pattern": {
           "shape": ""
          }
         },
         "name": "honey",
         "orientation": "h",
         "showlegend": true,
         "textposition": "auto",
         "type": "bar",
         "x": {
          "bdata": "mpmZmZmZBUA=",
          "dtype": "f8"
         },
         "xaxis": "x",
         "y": [
          "France"
         ],
         "yaxis": "y"
        },
        {
         "hovertemplate": "food=sauerkraut<br>percentage=%{x}<br>country=%{y}<extra></extra>",
         "legendgroup": "sauerkraut",
         "marker": {
          "color": "#19d3f3",
          "pattern": {
           "shape": ""
          }
         },
         "name": "sauerkraut",
         "orientation": "h",
         "showlegend": true,
         "textposition": "auto",
         "type": "bar",
         "x": {
          "bdata": "mpmZmZmZ9T+amZmZmZnxP+xRuB6F6wlA",
          "dtype": "f8"
         },
         "xaxis": "x",
         "y": [
          "Genrmany",
          "Ireland",
          "USA"
         ],
         "yaxis": "y"
        },
        {
         "hovertemplate": "food=nunu<br>percentage=%{x}<br>country=%{y}<extra></extra>",
         "legendgroup": "nunu",
         "marker": {
          "color": "#FF6692",
          "pattern": {
           "shape": ""
          }
         },
         "name": "nunu",
         "orientation": "h",
         "showlegend": true,
         "textposition": "auto",
         "type": "bar",
         "x": {
          "bdata": "AAAAAACAS0AfhetRuB7lP9ejcD0K1/c/",
          "dtype": "f8"
         },
         "xaxis": "x",
         "y": [
          "Ghana",
          "Italy",
          "Nigeria"
         ],
         "yaxis": "y"
        },
        {
         "hovertemplate": "food=pito<br>percentage=%{x}<br>country=%{y}<extra></extra>",
         "legendgroup": "pito",
         "marker": {
          "color": "#B6E880",
          "pattern": {
           "shape": ""
          }
         },
         "name": "pito",
         "orientation": "h",
         "showlegend": true,
         "textposition": "auto",
         "type": "bar",
         "x": {
          "bdata": "AAAAAAAAJEDXo3A9Ctf3Pw==",
          "dtype": "f8"
         },
         "xaxis": "x",
         "y": [
          "Ghana",
          "Nigeria"
         ],
         "yaxis": "y"
        },
        {
         "hovertemplate": "food=zonkom<br>percentage=%{x}<br>country=%{y}<extra></extra>",
         "legendgroup": "zonkom",
         "marker": {
          "color": "#FF97FF",
          "pattern": {
           "shape": ""
          }
         },
         "name": "zonkom",
         "orientation": "h",
         "showlegend": true,
         "textposition": "auto",
         "type": "bar",
         "x": {
          "bdata": "AAAAAAAAJEA=",
          "dtype": "f8"
         },
         "xaxis": "x",
         "y": [
          "Ghana"
         ],
         "yaxis": "y"
        },
        {
         "hovertemplate": "food=brukina<br>percentage=%{x}<br>country=%{y}<extra></extra>",
         "legendgroup": "brukina",
         "marker": {
          "color": "#FECB52",
          "pattern": {
           "shape": ""
          }
         },
         "name": "brukina",
         "orientation": "h",
         "showlegend": true,
         "textposition": "auto",
         "type": "bar",
         "x": {
          "bdata": "AAAAAAAAFEA=",
          "dtype": "f8"
         },
         "xaxis": "x",
         "y": [
          "Ghana"
         ],
         "yaxis": "y"
        },
        {
         "hovertemplate": "food=burukutu<br>percentage=%{x}<br>country=%{y}<extra></extra>",
         "legendgroup": "burukutu",
         "marker": {
          "color": "#636efa",
          "pattern": {
           "shape": ""
          }
         },
         "name": "burukutu",
         "orientation": "h",
         "showlegend": true,
         "textposition": "auto",
         "type": "bar",
         "x": {
          "bdata": "AAAAAAAAFEDsUbgehesHQA==",
          "dtype": "f8"
         },
         "xaxis": "x",
         "y": [
          "Ghana",
          "Nigeria"
         ],
         "yaxis": "y"
        },
        {
         "hovertemplate": "food=cheese wagashi<br>percentage=%{x}<br>country=%{y}<extra></extra>",
         "legendgroup": "cheese wagashi",
         "marker": {
          "color": "#EF553B",
          "pattern": {
           "shape": ""
          }
         },
         "name": "cheese wagashi",
         "orientation": "h",
         "showlegend": true,
         "textposition": "auto",
         "type": "bar",
         "x": {
          "bdata": "AAAAAAAAFEA=",
          "dtype": "f8"
         },
         "xaxis": "x",
         "y": [
          "Ghana"
         ],
         "yaxis": "y"
        },
        {
         "hovertemplate": "food=dawadawa<br>percentage=%{x}<br>country=%{y}<extra></extra>",
         "legendgroup": "dawadawa",
         "marker": {
          "color": "#00cc96",
          "pattern": {
           "shape": ""
          }
         },
         "name": "dawadawa",
         "orientation": "h",
         "showlegend": true,
         "textposition": "auto",
         "type": "bar",
         "x": {
          "bdata": "AAAAAAAAFEDXo3A9Ctf3Pw==",
          "dtype": "f8"
         },
         "xaxis": "x",
         "y": [
          "Ghana",
          "Nigeria"
         ],
         "yaxis": "y"
        },
        {
         "hovertemplate": "food=kantong<br>percentage=%{x}<br>country=%{y}<extra></extra>",
         "legendgroup": "kantong",
         "marker": {
          "color": "#ab63fa",
          "pattern": {
           "shape": ""
          }
         },
         "name": "kantong",
         "orientation": "h",
         "showlegend": true,
         "textposition": "auto",
         "type": "bar",
         "x": {
          "bdata": "AAAAAAAAFEA=",
          "dtype": "f8"
         },
         "xaxis": "x",
         "y": [
          "Ghana"
         ],
         "yaxis": "y"
        },
        {
         "hovertemplate": "food=pickle greek<br>percentage=%{x}<br>country=%{y}<extra></extra>",
         "legendgroup": "pickle greek",
         "marker": {
          "color": "#FFA15A",
          "pattern": {
           "shape": ""
          }
         },
         "name": "pickle greek",
         "orientation": "h",
         "showlegend": true,
         "textposition": "auto",
         "type": "bar",
         "x": {
          "bdata": "7FG4HoWrMEA=",
          "dtype": "f8"
         },
         "xaxis": "x",
         "y": [
          "Greece"
         ],
         "yaxis": "y"
        },
        {
         "hovertemplate": "food=kinema<br>percentage=%{x}<br>country=%{y}<extra></extra>",
         "legendgroup": "kinema",
         "marker": {
          "color": "#19d3f3",
          "pattern": {
           "shape": ""
          }
         },
         "name": "kinema",
         "orientation": "h",
         "showlegend": true,
         "textposition": "auto",
         "type": "bar",
         "x": {
          "bdata": "w/UoXI/CLkDNzMzMzMwOQAAAAAAAADlA",
          "dtype": "f8"
         },
         "xaxis": "x",
         "y": [
          "India",
          "India",
          "Korean"
         ],
         "yaxis": "y"
        },
        {
         "hovertemplate": "food=pickle indian<br>percentage=%{x}<br>country=%{y}<extra></extra>",
         "legendgroup": "pickle indian",
         "marker": {
          "color": "#FF6692",
          "pattern": {
           "shape": ""
          }
         },
         "name": "pickle indian",
         "orientation": "h",
         "showlegend": true,
         "textposition": "auto",
         "type": "bar",
         "x": {
          "bdata": "FK5H4XoUJ0A=",
          "dtype": "f8"
         },
         "xaxis": "x",
         "y": [
          "India"
         ],
         "yaxis": "y"
        },
        {
         "hovertemplate": "food=jalebi<br>percentage=%{x}<br>country=%{y}<extra></extra>",
         "legendgroup": "jalebi",
         "marker": {
          "color": "#B6E880",
          "pattern": {
           "shape": ""
          }
         },
         "name": "jalebi",
         "orientation": "h",
         "showlegend": true,
         "textposition": "auto",
         "type": "bar",
         "x": {
          "bdata": "w/UoXI/CHkA=",
          "dtype": "f8"
         },
         "xaxis": "x",
         "y": [
          "India"
         ],
         "yaxis": "y"
        },
        {
         "hovertemplate": "food=yogurt<br>percentage=%{x}<br>country=%{y}<extra></extra>",
         "legendgroup": "yogurt",
         "marker": {
          "color": "#FF97FF",
          "pattern": {
           "shape": ""
          }
         },
         "name": "yogurt",
         "orientation": "h",
         "showlegend": true,
         "textposition": "auto",
         "type": "bar",
         "x": {
          "bdata": "w/UoXI/CHkCPwvUoXI/6P+xRuB6F69E/XI/C9Shc9z+kcD0K16PAPw==",
          "dtype": "f8"
         },
         "xaxis": "x",
         "y": [
          "India",
          "Ireland",
          "Ireland",
          "Italy",
          "Italy"
         ],
         "yaxis": "y"
        },
        {
         "hovertemplate": "food=grep-chhurpi<br>percentage=%{x}<br>country=%{y}<extra></extra>",
         "legendgroup": "grep-chhurpi",
         "marker": {
          "color": "#FECB52",
          "pattern": {
           "shape": ""
          }
         },
         "name": "grep-chhurpi",
         "orientation": "h",
         "showlegend": true,
         "textposition": "auto",
         "type": "bar",
         "x": {
          "bdata": "zczMzMzMDkA=",
          "dtype": "f8"
         },
         "xaxis": "x",
         "y": [
          "India"
         ],
         "yaxis": "y"
        },
        {
         "hovertemplate": "food=keem<br>percentage=%{x}<br>country=%{y}<extra></extra>",
         "legendgroup": "keem",
         "marker": {
          "color": "#636efa",
          "pattern": {
           "shape": ""
          }
         },
         "name": "keem",
         "orientation": "h",
         "showlegend": true,
         "textposition": "auto",
         "type": "bar",
         "x": {
          "bdata": "zczMzMzMDkA=",
          "dtype": "f8"
         },
         "xaxis": "x",
         "y": [
          "India"
         ],
         "yaxis": "y"
        },
        {
         "hovertemplate": "food=peha<br>percentage=%{x}<br>country=%{y}<extra></extra>",
         "legendgroup": "peha",
         "marker": {
          "color": "#EF553B",
          "pattern": {
           "shape": ""
          }
         },
         "name": "peha",
         "orientation": "h",
         "showlegend": true,
         "textposition": "auto",
         "type": "bar",
         "x": {
          "bdata": "zczMzMzMDkA=",
          "dtype": "f8"
         },
         "xaxis": "x",
         "y": [
          "India"
         ],
         "yaxis": "y"
        },
        {
         "hovertemplate": "food=peron namsing<br>percentage=%{x}<br>country=%{y}<extra></extra>",
         "legendgroup": "peron namsing",
         "marker": {
          "color": "#00cc96",
          "pattern": {
           "shape": ""
          }
         },
         "name": "peron namsing",
         "orientation": "h",
         "showlegend": true,
         "textposition": "auto",
         "type": "bar",
         "x": {
          "bdata": "zczMzMzMDkA=",
          "dtype": "f8"
         },
         "xaxis": "x",
         "y": [
          "India"
         ],
         "yaxis": "y"
        },
        {
         "hovertemplate": "food=perunyaan<br>percentage=%{x}<br>country=%{y}<extra></extra>",
         "legendgroup": "perunyaan",
         "marker": {
          "color": "#ab63fa",
          "pattern": {
           "shape": ""
          }
         },
         "name": "perunyaan",
         "orientation": "h",
         "showlegend": true,
         "textposition": "auto",
         "type": "bar",
         "x": {
          "bdata": "zczMzMzMDkA=",
          "dtype": "f8"
         },
         "xaxis": "x",
         "y": [
          "India"
         ],
         "yaxis": "y"
        },
        {
         "hovertemplate": "food=bean paste<br>percentage=%{x}<br>country=%{y}<extra></extra>",
         "legendgroup": "bean paste",
         "marker": {
          "color": "#FFA15A",
          "pattern": {
           "shape": ""
          }
         },
         "name": "bean paste",
         "orientation": "h",
         "showlegend": true,
         "textposition": "auto",
         "type": "bar",
         "x": {
          "bdata": "zczMzMzMDkAAAAAAAAA5QA==",
          "dtype": "f8"
         },
         "xaxis": "x",
         "y": [
          "India",
          "Korean"
         ],
         "yaxis": "y"
        },
        {
         "hovertemplate": "food=tempeh<br>percentage=%{x}<br>country=%{y}<extra></extra>",
         "legendgroup": "tempeh",
         "marker": {
          "color": "#19d3f3",
          "pattern": {
           "shape": ""
          }
         },
         "name": "tempeh",
         "orientation": "h",
         "showlegend": true,
         "textposition": "auto",
         "type": "bar",
         "x": {
          "bdata": "UrgeheuRPEBxPQrXo3DdP4/C9Shcj+o/",
          "dtype": "f8"
         },
         "xaxis": "x",
         "y": [
          "Indonesia",
          "USA",
          "United Kingdom"
         ],
         "yaxis": "y"
        },
        {
         "hovertemplate": "food=tibicos<br>percentage=%{x}<br>country=%{y}<extra></extra>",
         "legendgroup": "tibicos",
         "marker": {
          "color": "#FF6692",
          "pattern": {
           "shape": ""
          }
         },
         "name": "tibicos",
         "orientation": "h",
         "showlegend": true,
         "textposition": "auto",
         "type": "bar",
         "x": {
          "bdata": "rkfhehSuAUCPwvUoXI/qPw==",
          "dtype": "f8"
         },
         "xaxis": "x",
         "y": [
          "Ireland",
          "United Kingdom"
         ],
         "yaxis": "y"
        },
        {
         "hovertemplate": "food=kvass<br>percentage=%{x}<br>country=%{y}<extra></extra>",
         "legendgroup": "kvass",
         "marker": {
          "color": "#B6E880",
          "pattern": {
           "shape": ""
          }
         },
         "name": "kvass",
         "orientation": "h",
         "showlegend": true,
         "textposition": "auto",
         "type": "bar",
         "x": {
          "bdata": "mpmZmZmZ4T8AAAAAAAApQA==",
          "dtype": "f8"
         },
         "xaxis": "x",
         "y": [
          "Ireland",
          "Russia"
         ],
         "yaxis": "y"
        },
        {
         "hovertemplate": "food=beer ginger<br>percentage=%{x}<br>country=%{y}<extra></extra>",
         "legendgroup": "beer ginger",
         "marker": {
          "color": "#FF97FF",
          "pattern": {
           "shape": ""
          }
         },
         "name": "beer ginger",
         "orientation": "h",
         "showlegend": true,
         "textposition": "auto",
         "type": "bar",
         "x": {
          "bdata": "7FG4HoXr0T+PwvUoXI/qPw==",
          "dtype": "f8"
         },
         "xaxis": "x",
         "y": [
          "Ireland",
          "United Kingdom"
         ],
         "yaxis": "y"
        },
        {
         "hovertemplate": "food=carrot sticks<br>percentage=%{x}<br>country=%{y}<extra></extra>",
         "legendgroup": "carrot sticks",
         "marker": {
          "color": "#FECB52",
          "pattern": {
           "shape": ""
          }
         },
         "name": "carrot sticks",
         "orientation": "h",
         "showlegend": true,
         "textposition": "auto",
         "type": "bar",
         "x": {
          "bdata": "7FG4HoXr0T8=",
          "dtype": "f8"
         },
         "xaxis": "x",
         "y": [
          "Ireland"
         ],
         "yaxis": "y"
        },
        {
         "hovertemplate": "food=dukkah<br>percentage=%{x}<br>country=%{y}<extra></extra>",
         "legendgroup": "dukkah",
         "marker": {
          "color": "#636efa",
          "pattern": {
           "shape": ""
          }
         },
         "name": "dukkah",
         "orientation": "h",
         "showlegend": true,
         "textposition": "auto",
         "type": "bar",
         "x": {
          "bdata": "7FG4HoXr0T8=",
          "dtype": "f8"
         },
         "xaxis": "x",
         "y": [
          "Ireland"
         ],
         "yaxis": "y"
        },
        {
         "hovertemplate": "food=garlic fermented<br>percentage=%{x}<br>country=%{y}<extra></extra>",
         "legendgroup": "garlic fermented",
         "marker": {
          "color": "#EF553B",
          "pattern": {
           "shape": ""
          }
         },
         "name": "garlic fermented",
         "orientation": "h",
         "showlegend": true,
         "textposition": "auto",
         "type": "bar",
         "x": {
          "bdata": "7FG4HoXr0T8=",
          "dtype": "f8"
         },
         "xaxis": "x",
         "y": [
          "Ireland"
         ],
         "yaxis": "y"
        },
        {
         "hovertemplate": "food=ginger fermented<br>percentage=%{x}<br>country=%{y}<extra></extra>",
         "legendgroup": "ginger fermented",
         "marker": {
          "color": "#00cc96",
          "pattern": {
           "shape": ""
          }
         },
         "name": "ginger fermented",
         "orientation": "h",
         "showlegend": true,
         "textposition": "auto",
         "type": "bar",
         "x": {
          "bdata": "7FG4HoXr0T8=",
          "dtype": "f8"
         },
         "xaxis": "x",
         "y": [
          "Ireland"
         ],
         "yaxis": "y"
        },
        {
         "hovertemplate": "food=pickle okra<br>percentage=%{x}<br>country=%{y}<extra></extra>",
         "legendgroup": "pickle okra",
         "marker": {
          "color": "#ab63fa",
          "pattern": {
           "shape": ""
          }
         },
         "name": "pickle okra",
         "orientation": "h",
         "showlegend": true,
         "textposition": "auto",
         "type": "bar",
         "x": {
          "bdata": "7FG4HoXr0T8=",
          "dtype": "f8"
         },
         "xaxis": "x",
         "y": [
          "Ireland"
         ],
         "yaxis": "y"
        },
        {
         "hovertemplate": "food=pickle tomato<br>percentage=%{x}<br>country=%{y}<extra></extra>",
         "legendgroup": "pickle tomato",
         "marker": {
          "color": "#FFA15A",
          "pattern": {
           "shape": ""
          }
         },
         "name": "pickle tomato",
         "orientation": "h",
         "showlegend": true,
         "textposition": "auto",
         "type": "bar",
         "x": {
          "bdata": "7FG4HoXr0T8=",
          "dtype": "f8"
         },
         "xaxis": "x",
         "y": [
          "Ireland"
         ],
         "yaxis": "y"
        },
        {
         "hovertemplate": "food=vinegar apple cider<br>percentage=%{x}<br>country=%{y}<extra></extra>",
         "legendgroup": "vinegar apple cider",
         "marker": {
          "color": "#19d3f3",
          "pattern": {
           "shape": ""
          }
         },
         "name": "vinegar apple cider",
         "orientation": "h",
         "showlegend": true,
         "textposition": "auto",
         "type": "bar",
         "x": {
          "bdata": "7FG4HoXr0T8=",
          "dtype": "f8"
         },
         "xaxis": "x",
         "y": [
          "Ireland"
         ],
         "yaxis": "y"
        },
        {
         "hovertemplate": "food=salami<br>percentage=%{x}<br>country=%{y}<extra></extra>",
         "legendgroup": "salami",
         "marker": {
          "color": "#FF6692",
          "pattern": {
           "shape": ""
          }
         },
         "name": "salami",
         "orientation": "h",
         "showlegend": true,
         "textposition": "auto",
         "type": "bar",
         "x": {
          "bdata": "4XoUrkdhI0A=",
          "dtype": "f8"
         },
         "xaxis": "x",
         "y": [
          "Italy"
         ],
         "yaxis": "y"
        },
        {
         "hovertemplate": "food=sausage italian<br>percentage=%{x}<br>country=%{y}<extra></extra>",
         "legendgroup": "sausage italian",
         "marker": {
          "color": "#B6E880",
          "pattern": {
           "shape": ""
          }
         },
         "name": "sausage italian",
         "orientation": "h",
         "showlegend": true,
         "textposition": "auto",
         "type": "bar",
         "x": {
          "bdata": "w/UoXI/C/T8=",
          "dtype": "f8"
         },
         "xaxis": "x",
         "y": [
          "Italy"
         ],
         "yaxis": "y"
        },
        {
         "hovertemplate": "food=sausage<br>percentage=%{x}<br>country=%{y}<extra></extra>",
         "legendgroup": "sausage",
         "marker": {
          "color": "#FF97FF",
          "pattern": {
           "shape": ""
          }
         },
         "name": "sausage",
         "orientation": "h",
         "showlegend": true,
         "textposition": "auto",
         "type": "bar",
         "x": {
          "bdata": "SOF6FK5H9T+amZmZmRkjQA==",
          "dtype": "f8"
         },
         "xaxis": "x",
         "y": [
          "Italy",
          "Spain"
         ],
         "yaxis": "y"
        },
        {
         "hovertemplate": "food=cheese tomme<br>percentage=%{x}<br>country=%{y}<extra></extra>",
         "legendgroup": "cheese tomme",
         "marker": {
          "color": "#FECB52",
          "pattern": {
           "shape": ""
          }
         },
         "name": "cheese tomme",
         "orientation": "h",
         "showlegend": true,
         "textposition": "auto",
         "type": "bar",
         "x": {
          "bdata": "H4XrUbge5T8=",
          "dtype": "f8"
         },
         "xaxis": "x",
         "y": [
          "Italy"
         ],
         "yaxis": "y"
        },
        {
         "hovertemplate": "food=probiotics<br>percentage=%{x}<br>country=%{y}<extra></extra>",
         "legendgroup": "probiotics",
         "marker": {
          "color": "#636efa",
          "pattern": {
           "shape": ""
          }
         },
         "name": "probiotics",
         "orientation": "h",
         "showlegend": true,
         "textposition": "auto",
         "type": "bar",
         "x": {
          "bdata": "9ihcj8L14D+amZmZmZkNQA==",
          "dtype": "f8"
         },
         "xaxis": "x",
         "y": [
          "Italy",
          "USA"
         ],
         "yaxis": "y"
        },
        {
         "hovertemplate": "food=cheese<br>percentage=%{x}<br>country=%{y}<extra></extra>",
         "legendgroup": "cheese",
         "marker": {
          "color": "#EF553B",
          "pattern": {
           "shape": ""
          }
         },
         "name": "cheese",
         "orientation": "h",
         "showlegend": true,
         "textposition": "auto",
         "type": "bar",
         "x": {
          "bdata": "SOF6FK5H0T9xPQrXo3DdPw==",
          "dtype": "f8"
         },
         "xaxis": "x",
         "y": [
          "Italy",
          "USA"
         ],
         "yaxis": "y"
        },
        {
         "hovertemplate": "food=cheese brie<br>percentage=%{x}<br>country=%{y}<extra></extra>",
         "legendgroup": "cheese brie",
         "marker": {
          "color": "#00cc96",
          "pattern": {
           "shape": ""
          }
         },
         "name": "cheese brie",
         "orientation": "h",
         "showlegend": true,
         "textposition": "auto",
         "type": "bar",
         "x": {
          "bdata": "SOF6FK5H0T8=",
          "dtype": "f8"
         },
         "xaxis": "x",
         "y": [
          "Italy"
         ],
         "yaxis": "y"
        },
        {
         "hovertemplate": "food=cheese cheddar<br>percentage=%{x}<br>country=%{y}<extra></extra>",
         "legendgroup": "cheese cheddar",
         "marker": {
          "color": "#ab63fa",
          "pattern": {
           "shape": ""
          }
         },
         "name": "cheese cheddar",
         "orientation": "h",
         "showlegend": true,
         "textposition": "auto",
         "type": "bar",
         "x": {
          "bdata": "SOF6FK5H0T8=",
          "dtype": "f8"
         },
         "xaxis": "x",
         "y": [
          "Italy"
         ],
         "yaxis": "y"
        },
        {
         "hovertemplate": "food=cheese continental pink<br>percentage=%{x}<br>country=%{y}<extra></extra>",
         "legendgroup": "cheese continental pink",
         "marker": {
          "color": "#FFA15A",
          "pattern": {
           "shape": ""
          }
         },
         "name": "cheese continental pink",
         "orientation": "h",
         "showlegend": true,
         "textposition": "auto",
         "type": "bar",
         "x": {
          "bdata": "SOF6FK5H0T8=",
          "dtype": "f8"
         },
         "xaxis": "x",
         "y": [
          "Italy"
         ],
         "yaxis": "y"
        },
        {
         "hovertemplate": "food=cheese, hard<br>percentage=%{x}<br>country=%{y}<extra></extra>",
         "legendgroup": "cheese, hard",
         "marker": {
          "color": "#19d3f3",
          "pattern": {
           "shape": ""
          }
         },
         "name": "cheese, hard",
         "orientation": "h",
         "showlegend": true,
         "textposition": "auto",
         "type": "bar",
         "x": {
          "bdata": "SOF6FK5H0T8=",
          "dtype": "f8"
         },
         "xaxis": "x",
         "y": [
          "Italy"
         ],
         "yaxis": "y"
        },
        {
         "hovertemplate": "food=cheese blue<br>percentage=%{x}<br>country=%{y}<extra></extra>",
         "legendgroup": "cheese blue",
         "marker": {
          "color": "#FF6692",
          "pattern": {
           "shape": ""
          }
         },
         "name": "cheese blue",
         "orientation": "h",
         "showlegend": true,
         "textposition": "auto",
         "type": "bar",
         "x": {
          "bdata": "pHA9CtejwD8=",
          "dtype": "f8"
         },
         "xaxis": "x",
         "y": [
          "Italy"
         ],
         "yaxis": "y"
        },
        {
         "hovertemplate": "food=cheese parmesan<br>percentage=%{x}<br>country=%{y}<extra></extra>",
         "legendgroup": "cheese parmesan",
         "marker": {
          "color": "#B6E880",
          "pattern": {
           "shape": ""
          }
         },
         "name": "cheese parmesan",
         "orientation": "h",
         "showlegend": true,
         "textposition": "auto",
         "type": "bar",
         "x": {
          "bdata": "pHA9CtejwD8=",
          "dtype": "f8"
         },
         "xaxis": "x",
         "y": [
          "Italy"
         ],
         "yaxis": "y"
        },
        {
         "hovertemplate": "food=cheese, curd<br>percentage=%{x}<br>country=%{y}<extra></extra>",
         "legendgroup": "cheese, curd",
         "marker": {
          "color": "#FF97FF",
          "pattern": {
           "shape": ""
          }
         },
         "name": "cheese, curd",
         "orientation": "h",
         "showlegend": true,
         "textposition": "auto",
         "type": "bar",
         "x": {
          "bdata": "pHA9CtejwD8=",
          "dtype": "f8"
         },
         "xaxis": "x",
         "y": [
          "Italy"
         ],
         "yaxis": "y"
        },
        {
         "hovertemplate": "food=amazake<br>percentage=%{x}<br>country=%{y}<extra></extra>",
         "legendgroup": "amazake",
         "marker": {
          "color": "#FECB52",
          "pattern": {
           "shape": ""
          }
         },
         "name": "amazake",
         "orientation": "h",
         "showlegend": true,
         "textposition": "auto",
         "type": "bar",
         "x": {
          "bdata": "AAAAAAAAWUA=",
          "dtype": "f8"
         },
         "xaxis": "x",
         "y": [
          "Japan"
         ],
         "yaxis": "y"
        },
        {
         "hovertemplate": "food=ugi<br>percentage=%{x}<br>country=%{y}<extra></extra>",
         "legendgroup": "ugi",
         "marker": {
          "color": "#636efa",
          "pattern": {
           "shape": ""
          }
         },
         "name": "ugi",
         "orientation": "h",
         "showlegend": true,
         "textposition": "auto",
         "type": "bar",
         "x": {
          "bdata": "AAAAAAAAWUA=",
          "dtype": "f8"
         },
         "xaxis": "x",
         "y": [
          "Kenya"
         ],
         "yaxis": "y"
        },
        {
         "hovertemplate": "food=hongeo<br>percentage=%{x}<br>country=%{y}<extra></extra>",
         "legendgroup": "hongeo",
         "marker": {
          "color": "#EF553B",
          "pattern": {
           "shape": ""
          }
         },
         "name": "hongeo",
         "orientation": "h",
         "showlegend": true,
         "textposition": "auto",
         "type": "bar",
         "x": {
          "bdata": "AAAAAAAAWUA=",
          "dtype": "f8"
         },
         "xaxis": "x",
         "y": [
          "Korea"
         ],
         "yaxis": "y"
        },
        {
         "hovertemplate": "food=soy sauce<br>percentage=%{x}<br>country=%{y}<extra></extra>",
         "legendgroup": "soy sauce",
         "marker": {
          "color": "#00cc96",
          "pattern": {
           "shape": ""
          }
         },
         "name": "soy sauce",
         "orientation": "h",
         "showlegend": true,
         "textposition": "auto",
         "type": "bar",
         "x": {
          "bdata": "AAAAAAAAOUDXo3A9CpdEQD0K16NwPfY/",
          "dtype": "f8"
         },
         "xaxis": "x",
         "y": [
          "Korean",
          "Malaysia",
          "USA"
         ],
         "yaxis": "y"
        },
        {
         "hovertemplate": "food=cheese serdaleh<br>percentage=%{x}<br>country=%{y}<extra></extra>",
         "legendgroup": "cheese serdaleh",
         "marker": {
          "color": "#ab63fa",
          "pattern": {
           "shape": ""
          }
         },
         "name": "cheese serdaleh",
         "orientation": "h",
         "showlegend": true,
         "textposition": "auto",
         "type": "bar",
         "x": {
          "bdata": "AAAAAAAASUA=",
          "dtype": "f8"
         },
         "xaxis": "x",
         "y": [
          "Lebanon"
         ],
         "yaxis": "y"
        },
        {
         "hovertemplate": "food=ambriss<br>percentage=%{x}<br>country=%{y}<extra></extra>",
         "legendgroup": "ambriss",
         "marker": {
          "color": "#FFA15A",
          "pattern": {
           "shape": ""
          }
         },
         "name": "ambriss",
         "orientation": "h",
         "showlegend": true,
         "textposition": "auto",
         "type": "bar",
         "x": {
          "bdata": "AAAAAAAAOUA=",
          "dtype": "f8"
         },
         "xaxis": "x",
         "y": [
          "Lebanon"
         ],
         "yaxis": "y"
        },
        {
         "hovertemplate": "food=labneh<br>percentage=%{x}<br>country=%{y}<extra></extra>",
         "legendgroup": "labneh",
         "marker": {
          "color": "#19d3f3",
          "pattern": {
           "shape": ""
          }
         },
         "name": "labneh",
         "orientation": "h",
         "showlegend": true,
         "textposition": "auto",
         "type": "bar",
         "x": {
          "bdata": "AAAAAAAAOUA=",
          "dtype": "f8"
         },
         "xaxis": "x",
         "y": [
          "Lebanon"
         ],
         "yaxis": "y"
        },
        {
         "hovertemplate": "food=pulque<br>percentage=%{x}<br>country=%{y}<extra></extra>",
         "legendgroup": "pulque",
         "marker": {
          "color": "#FF6692",
          "pattern": {
           "shape": ""
          }
         },
         "name": "pulque",
         "orientation": "h",
         "showlegend": true,
         "textposition": "auto",
         "type": "bar",
         "x": {
          "bdata": "pHA9CtejKUA=",
          "dtype": "f8"
         },
         "xaxis": "x",
         "y": [
          "Mexico"
         ],
         "yaxis": "y"
        },
        {
         "hovertemplate": "food=pozol<br>percentage=%{x}<br>country=%{y}<extra></extra>",
         "legendgroup": "pozol",
         "marker": {
          "color": "#B6E880",
          "pattern": {
           "shape": ""
          }
         },
         "name": "pozol",
         "orientation": "h",
         "showlegend": true,
         "textposition": "auto",
         "type": "bar",
         "x": {
          "bdata": "w/UoXI/CHkA=",
          "dtype": "f8"
         },
         "xaxis": "x",
         "y": [
          "Mexico"
         ],
         "yaxis": "y"
        },
        {
         "hovertemplate": "food=tepache<br>percentage=%{x}<br>country=%{y}<extra></extra>",
         "legendgroup": "tepache",
         "marker": {
          "color": "#FF97FF",
          "pattern": {
           "shape": ""
          }
         },
         "name": "tepache",
         "orientation": "h",
         "showlegend": true,
         "textposition": "auto",
         "type": "bar",
         "x": {
          "bdata": "exSuR+F6BEA=",
          "dtype": "f8"
         },
         "xaxis": "x",
         "y": [
          "Mexico"
         ],
         "yaxis": "y"
        },
        {
         "hovertemplate": "food=natto<br>percentage=%{x}<br>country=%{y}<extra></extra>",
         "legendgroup": "natto",
         "marker": {
          "color": "#FECB52",
          "pattern": {
           "shape": ""
          }
         },
         "name": "natto",
         "orientation": "h",
         "showlegend": true,
         "textposition": "auto",
         "type": "bar",
         "x": {
          "bdata": "AAAAAAAAWUA=",
          "dtype": "f8"
         },
         "xaxis": "x",
         "y": [
          "Myanmar"
         ],
         "yaxis": "y"
        },
        {
         "hovertemplate": "food=ogi<br>percentage=%{x}<br>country=%{y}<extra></extra>",
         "legendgroup": "ogi",
         "marker": {
          "color": "#636efa",
          "pattern": {
           "shape": ""
          }
         },
         "name": "ogi",
         "orientation": "h",
         "showlegend": true,
         "textposition": "auto",
         "type": "bar",
         "x": {
          "bdata": "4XoUrkfhJ0A=",
          "dtype": "f8"
         },
         "xaxis": "x",
         "y": [
          "Nigeria"
         ],
         "yaxis": "y"
        },
        {
         "hovertemplate": "food=iru<br>percentage=%{x}<br>country=%{y}<extra></extra>",
         "legendgroup": "iru",
         "marker": {
          "color": "#EF553B",
          "pattern": {
           "shape": ""
          }
         },
         "name": "iru",
         "orientation": "h",
         "showlegend": true,
         "textposition": "auto",
         "type": "bar",
         "x": {
          "bdata": "7FG4HoXrIUA=",
          "dtype": "f8"
         },
         "xaxis": "x",
         "y": [
          "Nigeria"
         ],
         "yaxis": "y"
        },
        {
         "hovertemplate": "food=kunu<br>percentage=%{x}<br>country=%{y}<extra></extra>",
         "legendgroup": "kunu",
         "marker": {
          "color": "#00cc96",
          "pattern": {
           "shape": ""
          }
         },
         "name": "kunu",
         "orientation": "h",
         "showlegend": true,
         "textposition": "auto",
         "type": "bar",
         "x": {
          "bdata": "7FG4HoXrIUA=",
          "dtype": "f8"
         },
         "xaxis": "x",
         "y": [
          "Nigeria"
         ],
         "yaxis": "y"
        },
        {
         "hovertemplate": "food=gari<br>percentage=%{x}<br>country=%{y}<extra></extra>",
         "legendgroup": "gari",
         "marker": {
          "color": "#ab63fa",
          "pattern": {
           "shape": ""
          }
         },
         "name": "gari",
         "orientation": "h",
         "showlegend": true,
         "textposition": "auto",
         "type": "bar",
         "x": {
          "bdata": "16NwPQrXHUA=",
          "dtype": "f8"
         },
         "xaxis": "x",
         "y": [
          "Nigeria"
         ],
         "yaxis": "y"
        },
        {
         "hovertemplate": "food=wine palm<br>percentage=%{x}<br>country=%{y}<extra></extra>",
         "legendgroup": "wine palm",
         "marker": {
          "color": "#FFA15A",
          "pattern": {
           "shape": ""
          }
         },
         "name": "wine palm",
         "orientation": "h",
         "showlegend": true,
         "textposition": "auto",
         "type": "bar",
         "x": {
          "bdata": "16NwPQrXHUA=",
          "dtype": "f8"
         },
         "xaxis": "x",
         "y": [
          "Nigeria"
         ],
         "yaxis": "y"
        },
        {
         "hovertemplate": "food=fufu<br>percentage=%{x}<br>country=%{y}<extra></extra>",
         "legendgroup": "fufu",
         "marker": {
          "color": "#19d3f3",
          "pattern": {
           "shape": ""
          }
         },
         "name": "fufu",
         "orientation": "h",
         "showlegend": true,
         "textposition": "auto",
         "type": "bar",
         "x": {
          "bdata": "4XoUrkfhF0A=",
          "dtype": "f8"
         },
         "xaxis": "x",
         "y": [
          "Nigeria"
         ],
         "yaxis": "y"
        },
        {
         "hovertemplate": "food=ogiri<br>percentage=%{x}<br>country=%{y}<extra></extra>",
         "legendgroup": "ogiri",
         "marker": {
          "color": "#FF6692",
          "pattern": {
           "shape": ""
          }
         },
         "name": "ogiri",
         "orientation": "h",
         "showlegend": true,
         "textposition": "auto",
         "type": "bar",
         "x": {
          "bdata": "4XoUrkfhF0A=",
          "dtype": "f8"
         },
         "xaxis": "x",
         "y": [
          "Nigeria"
         ],
         "yaxis": "y"
        },
        {
         "hovertemplate": "food=cheese wara<br>percentage=%{x}<br>country=%{y}<extra></extra>",
         "legendgroup": "cheese wara",
         "marker": {
          "color": "#B6E880",
          "pattern": {
           "shape": ""
          }
         },
         "name": "cheese wara",
         "orientation": "h",
         "showlegend": true,
         "textposition": "auto",
         "type": "bar",
         "x": {
          "bdata": "7FG4HoXrEUA=",
          "dtype": "f8"
         },
         "xaxis": "x",
         "y": [
          "Nigeria"
         ],
         "yaxis": "y"
        },
        {
         "hovertemplate": "food=lafun<br>percentage=%{x}<br>country=%{y}<extra></extra>",
         "legendgroup": "lafun",
         "marker": {
          "color": "#FF97FF",
          "pattern": {
           "shape": ""
          }
         },
         "name": "lafun",
         "orientation": "h",
         "showlegend": true,
         "textposition": "auto",
         "type": "bar",
         "x": {
          "bdata": "7FG4HoXrEUA=",
          "dtype": "f8"
         },
         "xaxis": "x",
         "y": [
          "Nigeria"
         ],
         "yaxis": "y"
        },
        {
         "hovertemplate": "food=nono<br>percentage=%{x}<br>country=%{y}<extra></extra>",
         "legendgroup": "nono",
         "marker": {
          "color": "#FECB52",
          "pattern": {
           "shape": ""
          }
         },
         "name": "nono",
         "orientation": "h",
         "showlegend": true,
         "textposition": "auto",
         "type": "bar",
         "x": {
          "bdata": "7FG4HoXrEUA=",
          "dtype": "f8"
         },
         "xaxis": "x",
         "y": [
          "Nigeria"
         ],
         "yaxis": "y"
        },
        {
         "hovertemplate": "food=ugba<br>percentage=%{x}<br>country=%{y}<extra></extra>",
         "legendgroup": "ugba",
         "marker": {
          "color": "#636efa",
          "pattern": {
           "shape": ""
          }
         },
         "name": "ugba",
         "orientation": "h",
         "showlegend": true,
         "textposition": "auto",
         "type": "bar",
         "x": {
          "bdata": "7FG4HoXrEUA=",
          "dtype": "f8"
         },
         "xaxis": "x",
         "y": [
          "Nigeria"
         ],
         "yaxis": "y"
        },
        {
         "hovertemplate": "food=agadagidi<br>percentage=%{x}<br>country=%{y}<extra></extra>",
         "legendgroup": "agadagidi",
         "marker": {
          "color": "#EF553B",
          "pattern": {
           "shape": ""
          }
         },
         "name": "agadagidi",
         "orientation": "h",
         "showlegend": true,
         "textposition": "auto",
         "type": "bar",
         "x": {
          "bdata": "7FG4HoXrB0A=",
          "dtype": "f8"
         },
         "xaxis": "x",
         "y": [
          "Nigeria"
         ],
         "yaxis": "y"
        },
        {
         "hovertemplate": "food=okpehe<br>percentage=%{x}<br>country=%{y}<extra></extra>",
         "legendgroup": "okpehe",
         "marker": {
          "color": "#00cc96",
          "pattern": {
           "shape": ""
          }
         },
         "name": "okpehe",
         "orientation": "h",
         "showlegend": true,
         "textposition": "auto",
         "type": "bar",
         "x": {
          "bdata": "7FG4HoXrB0A=",
          "dtype": "f8"
         },
         "xaxis": "x",
         "y": [
          "Nigeria"
         ],
         "yaxis": "y"
        },
        {
         "hovertemplate": "food=otika<br>percentage=%{x}<br>country=%{y}<extra></extra>",
         "legendgroup": "otika",
         "marker": {
          "color": "#ab63fa",
          "pattern": {
           "shape": ""
          }
         },
         "name": "otika",
         "orientation": "h",
         "showlegend": true,
         "textposition": "auto",
         "type": "bar",
         "x": {
          "bdata": "7FG4HoXrB0A=",
          "dtype": "f8"
         },
         "xaxis": "x",
         "y": [
          "Nigeria"
         ],
         "yaxis": "y"
        },
        {
         "hovertemplate": "food=emu<br>percentage=%{x}<br>country=%{y}<extra></extra>",
         "legendgroup": "emu",
         "marker": {
          "color": "#FFA15A",
          "pattern": {
           "shape": ""
          }
         },
         "name": "emu",
         "orientation": "h",
         "showlegend": true,
         "textposition": "auto",
         "type": "bar",
         "x": {
          "bdata": "16NwPQrX9z8=",
          "dtype": "f8"
         },
         "xaxis": "x",
         "y": [
          "Nigeria"
         ],
         "yaxis": "y"
        },
        {
         "hovertemplate": "food=fura<br>percentage=%{x}<br>country=%{y}<extra></extra>",
         "legendgroup": "fura",
         "marker": {
          "color": "#19d3f3",
          "pattern": {
           "shape": ""
          }
         },
         "name": "fura",
         "orientation": "h",
         "showlegend": true,
         "textposition": "auto",
         "type": "bar",
         "x": {
          "bdata": "16NwPQrX9z8=",
          "dtype": "f8"
         },
         "xaxis": "x",
         "y": [
          "Nigeria"
         ],
         "yaxis": "y"
        },
        {
         "hovertemplate": "food=koko<br>percentage=%{x}<br>country=%{y}<extra></extra>",
         "legendgroup": "koko",
         "marker": {
          "color": "#FF6692",
          "pattern": {
           "shape": ""
          }
         },
         "name": "koko",
         "orientation": "h",
         "showlegend": true,
         "textposition": "auto",
         "type": "bar",
         "x": {
          "bdata": "16NwPQrX9z8=",
          "dtype": "f8"
         },
         "xaxis": "x",
         "y": [
          "Nigeria"
         ],
         "yaxis": "y"
        },
        {
         "hovertemplate": "food=obiolor<br>percentage=%{x}<br>country=%{y}<extra></extra>",
         "legendgroup": "obiolor",
         "marker": {
          "color": "#B6E880",
          "pattern": {
           "shape": ""
          }
         },
         "name": "obiolor",
         "orientation": "h",
         "showlegend": true,
         "textposition": "auto",
         "type": "bar",
         "x": {
          "bdata": "16NwPQrX9z8=",
          "dtype": "f8"
         },
         "xaxis": "x",
         "y": [
          "Nigeria"
         ],
         "yaxis": "y"
        },
        {
         "hovertemplate": "food=otiru<br>percentage=%{x}<br>country=%{y}<extra></extra>",
         "legendgroup": "otiru",
         "marker": {
          "color": "#FF97FF",
          "pattern": {
           "shape": ""
          }
         },
         "name": "otiru",
         "orientation": "h",
         "showlegend": true,
         "textposition": "auto",
         "type": "bar",
         "x": {
          "bdata": "16NwPQrX9z8=",
          "dtype": "f8"
         },
         "xaxis": "x",
         "y": [
          "Nigeria"
         ],
         "yaxis": "y"
        },
        {
         "hovertemplate": "food=sekete<br>percentage=%{x}<br>country=%{y}<extra></extra>",
         "legendgroup": "sekete",
         "marker": {
          "color": "#FECB52",
          "pattern": {
           "shape": ""
          }
         },
         "name": "sekete",
         "orientation": "h",
         "showlegend": true,
         "textposition": "auto",
         "type": "bar",
         "x": {
          "bdata": "16NwPQrX9z8=",
          "dtype": "f8"
         },
         "xaxis": "x",
         "y": [
          "Nigeria"
         ],
         "yaxis": "y"
        },
        {
         "hovertemplate": "food=agousha<br>percentage=%{x}<br>country=%{y}<extra></extra>",
         "legendgroup": "agousha",
         "marker": {
          "color": "#636efa",
          "pattern": {
           "shape": ""
          }
         },
         "name": "agousha",
         "orientation": "h",
         "showlegend": true,
         "textposition": "auto",
         "type": "bar",
         "x": {
          "bdata": "AAAAAAAAKUA=",
          "dtype": "f8"
         },
         "xaxis": "x",
         "y": [
          "Russia"
         ],
         "yaxis": "y"
        },
        {
         "hovertemplate": "food=cheese russian<br>percentage=%{x}<br>country=%{y}<extra></extra>",
         "legendgroup": "cheese russian",
         "marker": {
          "color": "#EF553B",
          "pattern": {
           "shape": ""
          }
         },
         "name": "cheese russian",
         "orientation": "h",
         "showlegend": true,
         "textposition": "auto",
         "type": "bar",
         "x": {
          "bdata": "AAAAAAAAKUA=",
          "dtype": "f8"
         },
         "xaxis": "x",
         "y": [
          "Russia"
         ],
         "yaxis": "y"
        },
        {
         "hovertemplate": "food=cheese ruz'a<br>percentage=%{x}<br>country=%{y}<extra></extra>",
         "legendgroup": "cheese ruz'a",
         "marker": {
          "color": "#00cc96",
          "pattern": {
           "shape": ""
          }
         },
         "name": "cheese ruz'a",
         "orientation": "h",
         "showlegend": true,
         "textposition": "auto",
         "type": "bar",
         "x": {
          "bdata": "AAAAAAAAKUA=",
          "dtype": "f8"
         },
         "xaxis": "x",
         "y": [
          "Russia"
         ],
         "yaxis": "y"
        },
        {
         "hovertemplate": "food=pickle hijazi<br>percentage=%{x}<br>country=%{y}<extra></extra>",
         "legendgroup": "pickle hijazi",
         "marker": {
          "color": "#ab63fa",
          "pattern": {
           "shape": ""
          }
         },
         "name": "pickle hijazi",
         "orientation": "h",
         "showlegend": true,
         "textposition": "auto",
         "type": "bar",
         "x": {
          "bdata": "AAAAAAAAPkA=",
          "dtype": "f8"
         },
         "xaxis": "x",
         "y": [
          "Saudi Arabia"
         ],
         "yaxis": "y"
        },
        {
         "hovertemplate": "food=pickle papaya<br>percentage=%{x}<br>country=%{y}<extra></extra>",
         "legendgroup": "pickle papaya",
         "marker": {
          "color": "#FFA15A",
          "pattern": {
           "shape": ""
          }
         },
         "name": "pickle papaya",
         "orientation": "h",
         "showlegend": true,
         "textposition": "auto",
         "type": "bar",
         "x": {
          "bdata": "AAAAAAAAPkA=",
          "dtype": "f8"
         },
         "xaxis": "x",
         "y": [
          "Saudi Arabia"
         ],
         "yaxis": "y"
        },
        {
         "hovertemplate": "food=laban<br>percentage=%{x}<br>country=%{y}<extra></extra>",
         "legendgroup": "laban",
         "marker": {
          "color": "#19d3f3",
          "pattern": {
           "shape": ""
          }
         },
         "name": "laban",
         "orientation": "h",
         "showlegend": true,
         "textposition": "auto",
         "type": "bar",
         "x": {
          "bdata": "AAAAAAAANEA=",
          "dtype": "f8"
         },
         "xaxis": "x",
         "y": [
          "Saudi Arabia"
         ],
         "yaxis": "y"
        },
        {
         "hovertemplate": "food=pickle onion<br>percentage=%{x}<br>country=%{y}<extra></extra>",
         "legendgroup": "pickle onion",
         "marker": {
          "color": "#FF6692",
          "pattern": {
           "shape": ""
          }
         },
         "name": "pickle onion",
         "orientation": "h",
         "showlegend": true,
         "textposition": "auto",
         "type": "bar",
         "x": {
          "bdata": "AAAAAAAANEA=",
          "dtype": "f8"
         },
         "xaxis": "x",
         "y": [
          "Saudi Arabia"
         ],
         "yaxis": "y"
        },
        {
         "hovertemplate": "food=kombucha<br>percentage=%{x}<br>country=%{y}<extra></extra>",
         "legendgroup": "kombucha",
         "marker": {
          "color": "#B6E880",
          "pattern": {
           "shape": ""
          }
         },
         "name": "kombucha",
         "orientation": "h",
         "showlegend": true,
         "textposition": "auto",
         "type": "bar",
         "x": {
          "bdata": "AAAAAAAAWUA=",
          "dtype": "f8"
         },
         "xaxis": "x",
         "y": [
          "Turkey "
         ],
         "yaxis": "y"
        },
        {
         "hovertemplate": "food=saerkraut<br>percentage=%{x}<br>country=%{y}<extra></extra>",
         "legendgroup": "saerkraut",
         "marker": {
          "color": "#FF97FF",
          "pattern": {
           "shape": ""
          }
         },
         "name": "saerkraut",
         "orientation": "h",
         "showlegend": true,
         "textposition": "auto",
         "type": "bar",
         "x": {
          "bdata": "w/UoXI/C7T8=",
          "dtype": "f8"
         },
         "xaxis": "x",
         "y": [
          "USA"
         ],
         "yaxis": "y"
        },
        {
         "hovertemplate": "food=cheese pink<br>percentage=%{x}<br>country=%{y}<extra></extra>",
         "legendgroup": "cheese pink",
         "marker": {
          "color": "#FECB52",
          "pattern": {
           "shape": ""
          }
         },
         "name": "cheese pink",
         "orientation": "h",
         "showlegend": true,
         "textposition": "auto",
         "type": "bar",
         "x": {
          "bdata": "cT0K16Nw3T8=",
          "dtype": "f8"
         },
         "xaxis": "x",
         "y": [
          "USA"
         ],
         "yaxis": "y"
        },
        {
         "hovertemplate": "food=cider apple<br>percentage=%{x}<br>country=%{y}<extra></extra>",
         "legendgroup": "cider apple",
         "marker": {
          "color": "#636efa",
          "pattern": {
           "shape": ""
          }
         },
         "name": "cider apple",
         "orientation": "h",
         "showlegend": true,
         "textposition": "auto",
         "type": "bar",
         "x": {
          "bdata": "cT0K16Nw3T8=",
          "dtype": "f8"
         },
         "xaxis": "x",
         "y": [
          "USA"
         ],
         "yaxis": "y"
        },
        {
         "hovertemplate": "food=curtido<br>percentage=%{x}<br>country=%{y}<extra></extra>",
         "legendgroup": "curtido",
         "marker": {
          "color": "#EF553B",
          "pattern": {
           "shape": ""
          }
         },
         "name": "curtido",
         "orientation": "h",
         "showlegend": true,
         "textposition": "auto",
         "type": "bar",
         "x": {
          "bdata": "cT0K16Nw3T8=",
          "dtype": "f8"
         },
         "xaxis": "x",
         "y": [
          "USA"
         ],
         "yaxis": "y"
        },
        {
         "hovertemplate": "food=furu<br>percentage=%{x}<br>country=%{y}<extra></extra>",
         "legendgroup": "furu",
         "marker": {
          "color": "#00cc96",
          "pattern": {
           "shape": ""
          }
         },
         "name": "furu",
         "orientation": "h",
         "showlegend": true,
         "textposition": "auto",
         "type": "bar",
         "x": {
          "bdata": "cT0K16Nw3T8=",
          "dtype": "f8"
         },
         "xaxis": "x",
         "y": [
          "USA"
         ],
         "yaxis": "y"
        },
        {
         "hovertemplate": "food=kasuzuke<br>percentage=%{x}<br>country=%{y}<extra></extra>",
         "legendgroup": "kasuzuke",
         "marker": {
          "color": "#ab63fa",
          "pattern": {
           "shape": ""
          }
         },
         "name": "kasuzuke",
         "orientation": "h",
         "showlegend": true,
         "textposition": "auto",
         "type": "bar",
         "x": {
          "bdata": "cT0K16Nw3T8=",
          "dtype": "f8"
         },
         "xaxis": "x",
         "y": [
          "USA"
         ],
         "yaxis": "y"
        },
        {
         "hovertemplate": "food=kimchi mukeunji<br>percentage=%{x}<br>country=%{y}<extra></extra>",
         "legendgroup": "kimchi mukeunji",
         "marker": {
          "color": "#FFA15A",
          "pattern": {
           "shape": ""
          }
         },
         "name": "kimchi mukeunji",
         "orientation": "h",
         "showlegend": true,
         "textposition": "auto",
         "type": "bar",
         "x": {
          "bdata": "cT0K16Nw3T8=",
          "dtype": "f8"
         },
         "xaxis": "x",
         "y": [
          "USA"
         ],
         "yaxis": "y"
        },
        {
         "hovertemplate": "food=kimchi potato<br>percentage=%{x}<br>country=%{y}<extra></extra>",
         "legendgroup": "kimchi potato",
         "marker": {
          "color": "#19d3f3",
          "pattern": {
           "shape": ""
          }
         },
         "name": "kimchi potato",
         "orientation": "h",
         "showlegend": true,
         "textposition": "auto",
         "type": "bar",
         "x": {
          "bdata": "cT0K16Nw3T8=",
          "dtype": "f8"
         },
         "xaxis": "x",
         "y": [
          "USA"
         ],
         "yaxis": "y"
        },
        {
         "hovertemplate": "food=pickle serrano peper<br>percentage=%{x}<br>country=%{y}<extra></extra>",
         "legendgroup": "pickle serrano peper",
         "marker": {
          "color": "#FF6692",
          "pattern": {
           "shape": ""
          }
         },
         "name": "pickle serrano peper",
         "orientation": "h",
         "showlegend": true,
         "textposition": "auto",
         "type": "bar",
         "x": {
          "bdata": "cT0K16Nw3T8=",
          "dtype": "f8"
         },
         "xaxis": "x",
         "y": [
          "USA"
         ],
         "yaxis": "y"
        },
        {
         "hovertemplate": "food=pickle yellow peach<br>percentage=%{x}<br>country=%{y}<extra></extra>",
         "legendgroup": "pickle yellow peach",
         "marker": {
          "color": "#B6E880",
          "pattern": {
           "shape": ""
          }
         },
         "name": "pickle yellow peach",
         "orientation": "h",
         "showlegend": true,
         "textposition": "auto",
         "type": "bar",
         "x": {
          "bdata": "cT0K16Nw3T8=",
          "dtype": "f8"
         },
         "xaxis": "x",
         "y": [
          "USA"
         ],
         "yaxis": "y"
        },
        {
         "hovertemplate": "food=tofu mao doufu<br>percentage=%{x}<br>country=%{y}<extra></extra>",
         "legendgroup": "tofu mao doufu",
         "marker": {
          "color": "#FF97FF",
          "pattern": {
           "shape": ""
          }
         },
         "name": "tofu mao doufu",
         "orientation": "h",
         "showlegend": true,
         "textposition": "auto",
         "type": "bar",
         "x": {
          "bdata": "cT0K16Nw3T8=",
          "dtype": "f8"
         },
         "xaxis": "x",
         "y": [
          "USA"
         ],
         "yaxis": "y"
        },
        {
         "hovertemplate": "food=viili<br>percentage=%{x}<br>country=%{y}<extra></extra>",
         "legendgroup": "viili",
         "marker": {
          "color": "#FECB52",
          "pattern": {
           "shape": ""
          }
         },
         "name": "viili",
         "orientation": "h",
         "showlegend": true,
         "textposition": "auto",
         "type": "bar",
         "x": {
          "bdata": "cT0K16Nw3T8=",
          "dtype": "f8"
         },
         "xaxis": "x",
         "y": [
          "USA"
         ],
         "yaxis": "y"
        },
        {
         "hovertemplate": "food=boza<br>percentage=%{x}<br>country=%{y}<extra></extra>",
         "legendgroup": "boza",
         "marker": {
          "color": "#636efa",
          "pattern": {
           "shape": ""
          }
         },
         "name": "boza",
         "orientation": "h",
         "showlegend": true,
         "textposition": "auto",
         "type": "bar",
         "x": {
          "bdata": "j8L1KFyP6j8=",
          "dtype": "f8"
         },
         "xaxis": "x",
         "y": [
          "United Kingdom"
         ],
         "yaxis": "y"
        },
        {
         "hovertemplate": "food=orange<br>percentage=%{x}<br>country=%{y}<extra></extra>",
         "legendgroup": "orange",
         "marker": {
          "color": "#EF553B",
          "pattern": {
           "shape": ""
          }
         },
         "name": "orange",
         "orientation": "h",
         "showlegend": true,
         "textposition": "auto",
         "type": "bar",
         "x": {
          "bdata": "j8L1KFyP6j8=",
          "dtype": "f8"
         },
         "xaxis": "x",
         "y": [
          "United Kingdom"
         ],
         "yaxis": "y"
        },
        {
         "hovertemplate": "food=pickle cucumber<br>percentage=%{x}<br>country=%{y}<extra></extra>",
         "legendgroup": "pickle cucumber",
         "marker": {
          "color": "#00cc96",
          "pattern": {
           "shape": ""
          }
         },
         "name": "pickle cucumber",
         "orientation": "h",
         "showlegend": true,
         "textposition": "auto",
         "type": "bar",
         "x": {
          "bdata": "j8L1KFyP6j8=",
          "dtype": "f8"
         },
         "xaxis": "x",
         "y": [
          "United Kingdom"
         ],
         "yaxis": "y"
        },
        {
         "hovertemplate": "food=turnip fermented<br>percentage=%{x}<br>country=%{y}<extra></extra>",
         "legendgroup": "turnip fermented",
         "marker": {
          "color": "#ab63fa",
          "pattern": {
           "shape": ""
          }
         },
         "name": "turnip fermented",
         "orientation": "h",
         "showlegend": true,
         "textposition": "auto",
         "type": "bar",
         "x": {
          "bdata": "j8L1KFyP6j8=",
          "dtype": "f8"
         },
         "xaxis": "x",
         "y": [
          "United Kingdom"
         ],
         "yaxis": "y"
        }
       ],
       "layout": {
        "barmode": "relative",
        "height": 1000,
        "legend": {
         "title": {
          "text": "Food Types"
         },
         "tracegroupgap": 0,
         "x": 1.02,
         "xanchor": "left",
         "y": 1,
         "yanchor": "top"
        },
        "margin": {
         "r": 200
        },
        "showlegend": true,
        "template": {
         "data": {
          "bar": [
           {
            "error_x": {
             "color": "#2a3f5f"
            },
            "error_y": {
             "color": "#2a3f5f"
            },
            "marker": {
             "line": {
              "color": "#E5ECF6",
              "width": 0.5
             },
             "pattern": {
              "fillmode": "overlay",
              "size": 10,
              "solidity": 0.2
             }
            },
            "type": "bar"
           }
          ],
          "barpolar": [
           {
            "marker": {
             "line": {
              "color": "#E5ECF6",
              "width": 0.5
             },
             "pattern": {
              "fillmode": "overlay",
              "size": 10,
              "solidity": 0.2
             }
            },
            "type": "barpolar"
           }
          ],
          "carpet": [
           {
            "aaxis": {
             "endlinecolor": "#2a3f5f",
             "gridcolor": "white",
             "linecolor": "white",
             "minorgridcolor": "white",
             "startlinecolor": "#2a3f5f"
            },
            "baxis": {
             "endlinecolor": "#2a3f5f",
             "gridcolor": "white",
             "linecolor": "white",
             "minorgridcolor": "white",
             "startlinecolor": "#2a3f5f"
            },
            "type": "carpet"
           }
          ],
          "choropleth": [
           {
            "colorbar": {
             "outlinewidth": 0,
             "ticks": ""
            },
            "type": "choropleth"
           }
          ],
          "contour": [
           {
            "colorbar": {
             "outlinewidth": 0,
             "ticks": ""
            },
            "colorscale": [
             [
              0,
              "#0d0887"
             ],
             [
              0.1111111111111111,
              "#46039f"
             ],
             [
              0.2222222222222222,
              "#7201a8"
             ],
             [
              0.3333333333333333,
              "#9c179e"
             ],
             [
              0.4444444444444444,
              "#bd3786"
             ],
             [
              0.5555555555555556,
              "#d8576b"
             ],
             [
              0.6666666666666666,
              "#ed7953"
             ],
             [
              0.7777777777777778,
              "#fb9f3a"
             ],
             [
              0.8888888888888888,
              "#fdca26"
             ],
             [
              1,
              "#f0f921"
             ]
            ],
            "type": "contour"
           }
          ],
          "contourcarpet": [
           {
            "colorbar": {
             "outlinewidth": 0,
             "ticks": ""
            },
            "type": "contourcarpet"
           }
          ],
          "heatmap": [
           {
            "colorbar": {
             "outlinewidth": 0,
             "ticks": ""
            },
            "colorscale": [
             [
              0,
              "#0d0887"
             ],
             [
              0.1111111111111111,
              "#46039f"
             ],
             [
              0.2222222222222222,
              "#7201a8"
             ],
             [
              0.3333333333333333,
              "#9c179e"
             ],
             [
              0.4444444444444444,
              "#bd3786"
             ],
             [
              0.5555555555555556,
              "#d8576b"
             ],
             [
              0.6666666666666666,
              "#ed7953"
             ],
             [
              0.7777777777777778,
              "#fb9f3a"
             ],
             [
              0.8888888888888888,
              "#fdca26"
             ],
             [
              1,
              "#f0f921"
             ]
            ],
            "type": "heatmap"
           }
          ],
          "histogram": [
           {
            "marker": {
             "pattern": {
              "fillmode": "overlay",
              "size": 10,
              "solidity": 0.2
             }
            },
            "type": "histogram"
           }
          ],
          "histogram2d": [
           {
            "colorbar": {
             "outlinewidth": 0,
             "ticks": ""
            },
            "colorscale": [
             [
              0,
              "#0d0887"
             ],
             [
              0.1111111111111111,
              "#46039f"
             ],
             [
              0.2222222222222222,
              "#7201a8"
             ],
             [
              0.3333333333333333,
              "#9c179e"
             ],
             [
              0.4444444444444444,
              "#bd3786"
             ],
             [
              0.5555555555555556,
              "#d8576b"
             ],
             [
              0.6666666666666666,
              "#ed7953"
             ],
             [
              0.7777777777777778,
              "#fb9f3a"
             ],
             [
              0.8888888888888888,
              "#fdca26"
             ],
             [
              1,
              "#f0f921"
             ]
            ],
            "type": "histogram2d"
           }
          ],
          "histogram2dcontour": [
           {
            "colorbar": {
             "outlinewidth": 0,
             "ticks": ""
            },
            "colorscale": [
             [
              0,
              "#0d0887"
             ],
             [
              0.1111111111111111,
              "#46039f"
             ],
             [
              0.2222222222222222,
              "#7201a8"
             ],
             [
              0.3333333333333333,
              "#9c179e"
             ],
             [
              0.4444444444444444,
              "#bd3786"
             ],
             [
              0.5555555555555556,
              "#d8576b"
             ],
             [
              0.6666666666666666,
              "#ed7953"
             ],
             [
              0.7777777777777778,
              "#fb9f3a"
             ],
             [
              0.8888888888888888,
              "#fdca26"
             ],
             [
              1,
              "#f0f921"
             ]
            ],
            "type": "histogram2dcontour"
           }
          ],
          "mesh3d": [
           {
            "colorbar": {
             "outlinewidth": 0,
             "ticks": ""
            },
            "type": "mesh3d"
           }
          ],
          "parcoords": [
           {
            "line": {
             "colorbar": {
              "outlinewidth": 0,
              "ticks": ""
             }
            },
            "type": "parcoords"
           }
          ],
          "pie": [
           {
            "automargin": true,
            "type": "pie"
           }
          ],
          "scatter": [
           {
            "fillpattern": {
             "fillmode": "overlay",
             "size": 10,
             "solidity": 0.2
            },
            "type": "scatter"
           }
          ],
          "scatter3d": [
           {
            "line": {
             "colorbar": {
              "outlinewidth": 0,
              "ticks": ""
             }
            },
            "marker": {
             "colorbar": {
              "outlinewidth": 0,
              "ticks": ""
             }
            },
            "type": "scatter3d"
           }
          ],
          "scattercarpet": [
           {
            "marker": {
             "colorbar": {
              "outlinewidth": 0,
              "ticks": ""
             }
            },
            "type": "scattercarpet"
           }
          ],
          "scattergeo": [
           {
            "marker": {
             "colorbar": {
              "outlinewidth": 0,
              "ticks": ""
             }
            },
            "type": "scattergeo"
           }
          ],
          "scattergl": [
           {
            "marker": {
             "colorbar": {
              "outlinewidth": 0,
              "ticks": ""
             }
            },
            "type": "scattergl"
           }
          ],
          "scattermap": [
           {
            "marker": {
             "colorbar": {
              "outlinewidth": 0,
              "ticks": ""
             }
            },
            "type": "scattermap"
           }
          ],
          "scattermapbox": [
           {
            "marker": {
             "colorbar": {
              "outlinewidth": 0,
              "ticks": ""
             }
            },
            "type": "scattermapbox"
           }
          ],
          "scatterpolar": [
           {
            "marker": {
             "colorbar": {
              "outlinewidth": 0,
              "ticks": ""
             }
            },
            "type": "scatterpolar"
           }
          ],
          "scatterpolargl": [
           {
            "marker": {
             "colorbar": {
              "outlinewidth": 0,
              "ticks": ""
             }
            },
            "type": "scatterpolargl"
           }
          ],
          "scatterternary": [
           {
            "marker": {
             "colorbar": {
              "outlinewidth": 0,
              "ticks": ""
             }
            },
            "type": "scatterternary"
           }
          ],
          "surface": [
           {
            "colorbar": {
             "outlinewidth": 0,
             "ticks": ""
            },
            "colorscale": [
             [
              0,
              "#0d0887"
             ],
             [
              0.1111111111111111,
              "#46039f"
             ],
             [
              0.2222222222222222,
              "#7201a8"
             ],
             [
              0.3333333333333333,
              "#9c179e"
             ],
             [
              0.4444444444444444,
              "#bd3786"
             ],
             [
              0.5555555555555556,
              "#d8576b"
             ],
             [
              0.6666666666666666,
              "#ed7953"
             ],
             [
              0.7777777777777778,
              "#fb9f3a"
             ],
             [
              0.8888888888888888,
              "#fdca26"
             ],
             [
              1,
              "#f0f921"
             ]
            ],
            "type": "surface"
           }
          ],
          "table": [
           {
            "cells": {
             "fill": {
              "color": "#EBF0F8"
             },
             "line": {
              "color": "white"
             }
            },
            "header": {
             "fill": {
              "color": "#C8D4E3"
             },
             "line": {
              "color": "white"
             }
            },
            "type": "table"
           }
          ]
         },
         "layout": {
          "annotationdefaults": {
           "arrowcolor": "#2a3f5f",
           "arrowhead": 0,
           "arrowwidth": 1
          },
          "autotypenumbers": "strict",
          "coloraxis": {
           "colorbar": {
            "outlinewidth": 0,
            "ticks": ""
           }
          },
          "colorscale": {
           "diverging": [
            [
             0,
             "#8e0152"
            ],
            [
             0.1,
             "#c51b7d"
            ],
            [
             0.2,
             "#de77ae"
            ],
            [
             0.3,
             "#f1b6da"
            ],
            [
             0.4,
             "#fde0ef"
            ],
            [
             0.5,
             "#f7f7f7"
            ],
            [
             0.6,
             "#e6f5d0"
            ],
            [
             0.7,
             "#b8e186"
            ],
            [
             0.8,
             "#7fbc41"
            ],
            [
             0.9,
             "#4d9221"
            ],
            [
             1,
             "#276419"
            ]
           ],
           "sequential": [
            [
             0,
             "#0d0887"
            ],
            [
             0.1111111111111111,
             "#46039f"
            ],
            [
             0.2222222222222222,
             "#7201a8"
            ],
            [
             0.3333333333333333,
             "#9c179e"
            ],
            [
             0.4444444444444444,
             "#bd3786"
            ],
            [
             0.5555555555555556,
             "#d8576b"
            ],
            [
             0.6666666666666666,
             "#ed7953"
            ],
            [
             0.7777777777777778,
             "#fb9f3a"
            ],
            [
             0.8888888888888888,
             "#fdca26"
            ],
            [
             1,
             "#f0f921"
            ]
           ],
           "sequentialminus": [
            [
             0,
             "#0d0887"
            ],
            [
             0.1111111111111111,
             "#46039f"
            ],
            [
             0.2222222222222222,
             "#7201a8"
            ],
            [
             0.3333333333333333,
             "#9c179e"
            ],
            [
             0.4444444444444444,
             "#bd3786"
            ],
            [
             0.5555555555555556,
             "#d8576b"
            ],
            [
             0.6666666666666666,
             "#ed7953"
            ],
            [
             0.7777777777777778,
             "#fb9f3a"
            ],
            [
             0.8888888888888888,
             "#fdca26"
            ],
            [
             1,
             "#f0f921"
            ]
           ]
          },
          "colorway": [
           "#636efa",
           "#EF553B",
           "#00cc96",
           "#ab63fa",
           "#FFA15A",
           "#19d3f3",
           "#FF6692",
           "#B6E880",
           "#FF97FF",
           "#FECB52"
          ],
          "font": {
           "color": "#2a3f5f"
          },
          "geo": {
           "bgcolor": "white",
           "lakecolor": "white",
           "landcolor": "#E5ECF6",
           "showlakes": true,
           "showland": true,
           "subunitcolor": "white"
          },
          "hoverlabel": {
           "align": "left"
          },
          "hovermode": "closest",
          "mapbox": {
           "style": "light"
          },
          "paper_bgcolor": "white",
          "plot_bgcolor": "#E5ECF6",
          "polar": {
           "angularaxis": {
            "gridcolor": "white",
            "linecolor": "white",
            "ticks": ""
           },
           "bgcolor": "#E5ECF6",
           "radialaxis": {
            "gridcolor": "white",
            "linecolor": "white",
            "ticks": ""
           }
          },
          "scene": {
           "xaxis": {
            "backgroundcolor": "#E5ECF6",
            "gridcolor": "white",
            "gridwidth": 2,
            "linecolor": "white",
            "showbackground": true,
            "ticks": "",
            "zerolinecolor": "white"
           },
           "yaxis": {
            "backgroundcolor": "#E5ECF6",
            "gridcolor": "white",
            "gridwidth": 2,
            "linecolor": "white",
            "showbackground": true,
            "ticks": "",
            "zerolinecolor": "white"
           },
           "zaxis": {
            "backgroundcolor": "#E5ECF6",
            "gridcolor": "white",
            "gridwidth": 2,
            "linecolor": "white",
            "showbackground": true,
            "ticks": "",
            "zerolinecolor": "white"
           }
          },
          "shapedefaults": {
           "line": {
            "color": "#2a3f5f"
           }
          },
          "ternary": {
           "aaxis": {
            "gridcolor": "white",
            "linecolor": "white",
            "ticks": ""
           },
           "baxis": {
            "gridcolor": "white",
            "linecolor": "white",
            "ticks": ""
           },
           "bgcolor": "#E5ECF6",
           "caxis": {
            "gridcolor": "white",
            "linecolor": "white",
            "ticks": ""
           }
          },
          "title": {
           "x": 0.05
          },
          "xaxis": {
           "automargin": true,
           "gridcolor": "white",
           "linecolor": "white",
           "ticks": "",
           "title": {
            "standoff": 15
           },
           "zerolinecolor": "white",
           "zerolinewidth": 2
          },
          "yaxis": {
           "automargin": true,
           "gridcolor": "white",
           "linecolor": "white",
           "ticks": "",
           "title": {
            "standoff": 15
           },
           "zerolinecolor": "white",
           "zerolinewidth": 2
          }
         }
        },
        "title": {
         "text": "Percentage of researched food per country"
        },
        "width": 800,
        "xaxis": {
         "anchor": "y",
         "domain": [
          0,
          1
         ],
         "title": {
          "text": "percentage"
         }
        },
        "yaxis": {
         "anchor": "x",
         "categoryarray": [
          "hilippines",
          "United Kingdom",
          "United Kingdom",
          "United Kingdom",
          "United Kingdom",
          "United Kingdom",
          "United Kingdom",
          "United Kingdom",
          "United Kingdom",
          "United Kingdom",
          "United Kingdom",
          "United Kingdom",
          "United Kingdom",
          "USA",
          "USA",
          "USA",
          "USA",
          "USA",
          "USA",
          "USA",
          "USA",
          "USA",
          "USA",
          "USA",
          "USA",
          "USA",
          "USA",
          "USA",
          "USA",
          "USA",
          "USA",
          "USA",
          "USA",
          "USA",
          "USA",
          "USA",
          "USA",
          "Turkey ",
          "Turkey",
          "Tunisia",
          "Thailand",
          "Taiwan",
          "Switzerland",
          "Switzerland",
          "Sweden",
          "Spain",
          "Spain",
          "Spain",
          "Spain",
          "Spain",
          "Spain",
          "South Africa",
          "South Africa",
          "Singapore",
          "Singapore",
          "Saudi Arabia",
          "Saudi Arabia",
          "Saudi Arabia",
          "Saudi Arabia",
          "Russia",
          "Russia",
          "Russia",
          "Russia",
          "Russia",
          "Portugal",
          "Norway",
          "Norway",
          "Norway",
          "Nigeria",
          "Nigeria",
          "Nigeria",
          "Nigeria",
          "Nigeria",
          "Nigeria",
          "Nigeria",
          "Nigeria",
          "Nigeria",
          "Nigeria",
          "Nigeria",
          "Nigeria",
          "Nigeria",
          "Nigeria",
          "Nigeria",
          "Nigeria",
          "Nigeria",
          "Nigeria",
          "Nigeria",
          "Nigeria",
          "Nigeria",
          "Nigeria",
          "Nigeria",
          "Nigeria",
          "New Zealand",
          "New Zealand",
          "Myanmar",
          "Mexico",
          "Mexico",
          "Mexico",
          "Mexico",
          "Mexico",
          "Mexico",
          "Mexico",
          "Mexico",
          "Malaysia",
          "Malaysia",
          "Lebanon",
          "Lebanon",
          "Lebanon",
          "Korean",
          "Korean",
          "Korean",
          "Korean",
          "Korea",
          "Kenya",
          "Japan",
          "Italy",
          "Italy",
          "Italy",
          "Italy",
          "Italy",
          "Italy",
          "Italy",
          "Italy",
          "Italy",
          "Italy",
          "Italy",
          "Italy",
          "Italy",
          "Italy",
          "Italy",
          "Italy",
          "Italy",
          "Italy",
          "Italy",
          "Italy",
          "Italy",
          "Italy",
          "Israel",
          "Ireland",
          "Ireland",
          "Ireland",
          "Ireland",
          "Ireland",
          "Ireland",
          "Ireland",
          "Ireland",
          "Ireland",
          "Ireland",
          "Ireland",
          "Ireland",
          "Ireland",
          "Ireland",
          "Ireland",
          "Ireland",
          "Ireland",
          "Ireland",
          "Ireland",
          "Ireland",
          "Ireland",
          "Ireland",
          "Ireland",
          "Indonesia",
          "Indonesia",
          "India",
          "India",
          "India",
          "India",
          "India",
          "India",
          "India",
          "India",
          "India",
          "India",
          "India",
          "India",
          "Hong Kong",
          "Greece",
          "Greece",
          "Greece",
          "Ghana",
          "Ghana",
          "Ghana",
          "Ghana",
          "Ghana",
          "Ghana",
          "Ghana",
          "Ghana",
          "Germany",
          "Genrmany",
          "Genrmany",
          "Genrmany",
          "France",
          "France",
          "France",
          "France",
          "France",
          "Finland",
          "Ethiopia",
          "Estonia",
          "Ecuador",
          "Denmark",
          "Denmark",
          "Denmark",
          "Denmark",
          "Croatia",
          "Colombia",
          "China",
          "China",
          "China",
          "China",
          "China",
          "China",
          "China",
          "China",
          "China",
          "China",
          "China",
          "China",
          "China",
          "China",
          "Canada",
          "Canada",
          "Canada",
          "Canada",
          "Burkina Faso",
          "Burkina Faso",
          "Burkina Faso",
          "Burkina Faso",
          "Burkina Faso",
          "Bulgaria",
          "Brazil",
          "Brazil",
          "Brazil",
          "Brazil",
          "Brazil",
          "Bolivia",
          "Benin",
          "Belgium",
          "Belgium",
          "Belgium",
          "Belgium",
          "Belgium",
          "Belgium",
          "Austria",
          "Austria",
          "Austria",
          "Austria",
          "Australia",
          "Australia",
          "Australia",
          "Australia",
          "Finland"
         ],
         "categoryorder": "array",
         "domain": [
          0,
          1
         ],
         "title": {
          "text": "country"
         }
        }
       }
      }
     },
     "metadata": {},
     "output_type": "display_data"
    }
   ],
   "source": [
    "fig1 = px.bar(food_counts,\n",
    "             y='country',\n",
    "             x='percentage',\n",
    "             color='food',  # Use food column for color\n",
    "             orientation='h',\n",
    "             title=\"Percentage of researched food per country\",\n",
    "             category_orders={'country': food_counts['country'].tolist()},\n",
    "             height=1000,\n",
    "             width=800)  # Increased width to accommodate legend\n",
    "\n",
    "# Update layout\n",
    "fig1.update_layout(\n",
    "    showlegend=True,\n",
    "    legend_title_text=\"Food Types\",\n",
    "    # Adjust legend position and size\n",
    "    legend=dict(\n",
    "        yanchor=\"top\",\n",
    "        y=1,\n",
    "        xanchor=\"left\",\n",
    "        x=1.02\n",
    "    ),\n",
    "    # Adjust margins to prevent label cutoff\n",
    "    margin=dict(r=200)  # Increased right margin for legend\n",
    ")\n",
    "\n",
    "fig1.show()"
   ]
  },
  {
   "cell_type": "code",
   "execution_count": 175,
   "metadata": {},
   "outputs": [],
   "source": [
    "import pycountry\n",
    "from geopy.geocoders import Nominatim\n",
    "from geopy.exc import GeocoderTimedOut, GeocoderUnavailable\n",
    "import time\n",
    "from geopy.extra.rate_limiter import RateLimiter\n",
    "\n",
    "# Initialize geolocator with increased timeout\n",
    "geolocator = Nominatim(user_agent=\"country_locator\", timeout=10)\n",
    "\n",
    "# Create a rate-limited version of the geocoding function\n",
    "geocode = RateLimiter(geolocator.geocode, min_delay_seconds=1)\n",
    "\n",
    "# Function to get coordinates with retry mechanism\n",
    "def get_coordinates(country_name, max_retries=3):\n",
    "    for attempt in range(max_retries):\n",
    "        try:\n",
    "            # Manual mapping for special cases\n",
    "            country_mapping = {\n",
    "                'USA': 'United States',\n",
    "                'Korea': 'South Korea',\n",
    "                'hilippines': 'Philippines',\n",
    "                'Genrmany': 'Germany'\n",
    "            }\n",
    "            \n",
    "            search_name = country_mapping.get(country_name, country_name)\n",
    "            \n",
    "            try:\n",
    "                # Try using pycountry first\n",
    "                country = pycountry.countries.lookup(search_name)\n",
    "                search_name = country.name\n",
    "            except (LookupError, AttributeError):\n",
    "                # If pycountry fails, use the original or mapped name\n",
    "                pass\n",
    "            \n",
    "            # Add explicit country type to search\n",
    "            location = geocode(f\"{search_name}\", featuretype='country')\n",
    "            if location:\n",
    "                return pd.Series([location.latitude, location.longitude])\n",
    "            \n",
    "        except (GeocoderTimedOut, GeocoderUnavailable) as e:\n",
    "            if attempt == max_retries - 1:\n",
    "                print(f\"Failed to geocode {country_name} after {max_retries} attempts: {str(e)}\")\n",
    "            else:\n",
    "                time.sleep(2 ** attempt)\n",
    "                continue\n",
    "        except Exception as e:\n",
    "            print(f\"Error processing {country_name}: {str(e)}\")\n",
    "            break\n",
    "            \n",
    "    return pd.Series([None, None])\n",
    "\n",
    "# Process unique countries\n",
    "unique_countries = food_counts['country'].unique()\n",
    "coordinates_df = pd.DataFrame(unique_countries, columns=['country'])\n",
    "coordinates_df[['latitude', 'longitude']] = coordinates_df['country'].apply(get_coordinates)\n",
    "\n",
    "# Merge coordinates back to the main DataFrame\n",
    "food_counts = food_counts.merge(coordinates_df, on='country', how='left')\n"
   ]
  },
  {
   "cell_type": "code",
   "execution_count": 176,
   "metadata": {},
   "outputs": [
    {
     "data": {
      "text/html": [
       "<div>\n",
       "<style scoped>\n",
       "    .dataframe tbody tr th:only-of-type {\n",
       "        vertical-align: middle;\n",
       "    }\n",
       "\n",
       "    .dataframe tbody tr th {\n",
       "        vertical-align: top;\n",
       "    }\n",
       "\n",
       "    .dataframe thead th {\n",
       "        text-align: right;\n",
       "    }\n",
       "</style>\n",
       "<table border=\"1\" class=\"dataframe\">\n",
       "  <thead>\n",
       "    <tr style=\"text-align: right;\">\n",
       "      <th></th>\n",
       "      <th>country</th>\n",
       "      <th>food</th>\n",
       "      <th>count</th>\n",
       "      <th>percentage</th>\n",
       "      <th>latitude</th>\n",
       "      <th>longitude</th>\n",
       "    </tr>\n",
       "  </thead>\n",
       "  <tbody>\n",
       "    <tr>\n",
       "      <th>76</th>\n",
       "      <td>Hong Kong</td>\n",
       "      <td>tibicos fig</td>\n",
       "      <td>5</td>\n",
       "      <td>100.0</td>\n",
       "      <td>NaN</td>\n",
       "      <td>NaN</td>\n",
       "    </tr>\n",
       "    <tr>\n",
       "      <th>210</th>\n",
       "      <td>Taiwan</td>\n",
       "      <td>kefir</td>\n",
       "      <td>28</td>\n",
       "      <td>100.0</td>\n",
       "      <td>NaN</td>\n",
       "      <td>NaN</td>\n",
       "    </tr>\n",
       "  </tbody>\n",
       "</table>\n",
       "</div>"
      ],
      "text/plain": [
       "       country         food  count  percentage  latitude  longitude\n",
       "76   Hong Kong  tibicos fig      5       100.0       NaN        NaN\n",
       "210     Taiwan        kefir     28       100.0       NaN        NaN"
      ]
     },
     "execution_count": 176,
     "metadata": {},
     "output_type": "execute_result"
    }
   ],
   "source": [
    "food_counts[food_counts['latitude'].isna()]"
   ]
  },
  {
   "cell_type": "code",
   "execution_count": 177,
   "metadata": {},
   "outputs": [],
   "source": [
    "# find the lat and lon for Taiwan\n",
    "taiwan = geocode('Taiwan')\n",
    "# add the lat and lon for Taiwan to the food_counts dataframe\n",
    "food_counts.loc[food_counts['country'] == 'Taiwan', 'latitude'] = taiwan.latitude\n",
    "food_counts.loc[food_counts['country'] == 'Taiwan', 'longitude'] = taiwan.longitude\n",
    "\n",
    "#find the lat and lon for hong kong\n",
    "hong_kong = geocode('Hong Kong')\n",
    "# add the lat and lon for Hong Kong to the food_counts dataframe\n",
    "food_counts.loc[food_counts['country'] == 'Hong Kong', 'latitude'] = hong_kong.latitude\n",
    "food_counts.loc[food_counts['country'] == 'Hong Kong', 'longitude'] = hong_kong.longitude"
   ]
  },
  {
   "cell_type": "code",
   "execution_count": 188,
   "metadata": {},
   "outputs": [
    {
     "data": {
      "text/html": [
       "<div style=\"width:100%;\"><div style=\"position:relative;width:100%;height:0;padding-bottom:60%;\"><span style=\"color:#565656\">Make this Notebook Trusted to load map: File -> Trust Notebook</span><iframe srcdoc=\"&lt;!DOCTYPE html&gt;\n",
       "&lt;html&gt;\n",
       "&lt;head&gt;\n",
       "    \n",
       "    &lt;meta http-equiv=&quot;content-type&quot; content=&quot;text/html; charset=UTF-8&quot; /&gt;\n",
       "    \n",
       "        &lt;script&gt;\n",
       "            L_NO_TOUCH = false;\n",
       "            L_DISABLE_3D = false;\n",
       "        &lt;/script&gt;\n",
       "    \n",
       "    &lt;style&gt;html, body {width: 100%;height: 100%;margin: 0;padding: 0;}&lt;/style&gt;\n",
       "    &lt;style&gt;#map {position:absolute;top:0;bottom:0;right:0;left:0;}&lt;/style&gt;\n",
       "    &lt;script src=&quot;https://cdn.jsdelivr.net/npm/leaflet@1.9.3/dist/leaflet.js&quot;&gt;&lt;/script&gt;\n",
       "    &lt;script src=&quot;https://code.jquery.com/jquery-3.7.1.min.js&quot;&gt;&lt;/script&gt;\n",
       "    &lt;script src=&quot;https://cdn.jsdelivr.net/npm/bootstrap@5.2.2/dist/js/bootstrap.bundle.min.js&quot;&gt;&lt;/script&gt;\n",
       "    &lt;script src=&quot;https://cdnjs.cloudflare.com/ajax/libs/Leaflet.awesome-markers/2.0.2/leaflet.awesome-markers.js&quot;&gt;&lt;/script&gt;\n",
       "    &lt;link rel=&quot;stylesheet&quot; href=&quot;https://cdn.jsdelivr.net/npm/leaflet@1.9.3/dist/leaflet.css&quot;/&gt;\n",
       "    &lt;link rel=&quot;stylesheet&quot; href=&quot;https://cdn.jsdelivr.net/npm/bootstrap@5.2.2/dist/css/bootstrap.min.css&quot;/&gt;\n",
       "    &lt;link rel=&quot;stylesheet&quot; href=&quot;https://netdna.bootstrapcdn.com/bootstrap/3.0.0/css/bootstrap-glyphicons.css&quot;/&gt;\n",
       "    &lt;link rel=&quot;stylesheet&quot; href=&quot;https://cdn.jsdelivr.net/npm/@fortawesome/fontawesome-free@6.2.0/css/all.min.css&quot;/&gt;\n",
       "    &lt;link rel=&quot;stylesheet&quot; href=&quot;https://cdnjs.cloudflare.com/ajax/libs/Leaflet.awesome-markers/2.0.2/leaflet.awesome-markers.css&quot;/&gt;\n",
       "    &lt;link rel=&quot;stylesheet&quot; href=&quot;https://cdn.jsdelivr.net/gh/python-visualization/folium/folium/templates/leaflet.awesome.rotate.min.css&quot;/&gt;\n",
       "    \n",
       "            &lt;meta name=&quot;viewport&quot; content=&quot;width=device-width,\n",
       "                initial-scale=1.0, maximum-scale=1.0, user-scalable=no&quot; /&gt;\n",
       "            &lt;style&gt;\n",
       "                #map_1beb91663b29f690a5df5fba562d59ec {\n",
       "                    position: relative;\n",
       "                    width: 100.0%;\n",
       "                    height: 100.0%;\n",
       "                    left: 0.0%;\n",
       "                    top: 0.0%;\n",
       "                }\n",
       "                .leaflet-container { font-size: 1rem; }\n",
       "            &lt;/style&gt;\n",
       "        \n",
       "&lt;/head&gt;\n",
       "&lt;body&gt;\n",
       "    \n",
       "    \n",
       "            &lt;div class=&quot;folium-map&quot; id=&quot;map_1beb91663b29f690a5df5fba562d59ec&quot; &gt;&lt;/div&gt;\n",
       "        \n",
       "&lt;/body&gt;\n",
       "&lt;script&gt;\n",
       "    \n",
       "    \n",
       "            var map_1beb91663b29f690a5df5fba562d59ec = L.map(\n",
       "                &quot;map_1beb91663b29f690a5df5fba562d59ec&quot;,\n",
       "                {\n",
       "                    center: [20.0, 0.0],\n",
       "                    crs: L.CRS.EPSG3857,\n",
       "                    ...{\n",
       "  &quot;zoom&quot;: 2,\n",
       "  &quot;zoomControl&quot;: true,\n",
       "  &quot;preferCanvas&quot;: false,\n",
       "}\n",
       "\n",
       "                }\n",
       "            );\n",
       "\n",
       "            \n",
       "\n",
       "        \n",
       "    \n",
       "            var tile_layer_b0e037f7a833265714bbd1640adf624e = L.tileLayer(\n",
       "                &quot;https://{s}.basemaps.cartocdn.com/light_all/{z}/{x}/{y}{r}.png&quot;,\n",
       "                {\n",
       "  &quot;minZoom&quot;: 0,\n",
       "  &quot;maxZoom&quot;: 20,\n",
       "  &quot;maxNativeZoom&quot;: 20,\n",
       "  &quot;noWrap&quot;: false,\n",
       "  &quot;attribution&quot;: &quot;\\u0026copy; \\u003ca href=\\&quot;https://www.openstreetmap.org/copyright\\&quot;\\u003eOpenStreetMap\\u003c/a\\u003e contributors \\u0026copy; \\u003ca href=\\&quot;https://carto.com/attributions\\&quot;\\u003eCARTO\\u003c/a\\u003e&quot;,\n",
       "  &quot;subdomains&quot;: &quot;abcd&quot;,\n",
       "  &quot;detectRetina&quot;: false,\n",
       "  &quot;tms&quot;: false,\n",
       "  &quot;opacity&quot;: 1,\n",
       "}\n",
       "\n",
       "            );\n",
       "        \n",
       "    \n",
       "            tile_layer_b0e037f7a833265714bbd1640adf624e.addTo(map_1beb91663b29f690a5df5fba562d59ec);\n",
       "        \n",
       "    \n",
       "            var circle_marker_4511fd97233972d5e302072f67fd53d1 = L.circleMarker(\n",
       "                [63.2467777, 25.9209164],\n",
       "                {&quot;bubblingMouseEvents&quot;: true, &quot;color&quot;: &quot;blue&quot;, &quot;dashArray&quot;: null, &quot;dashOffset&quot;: null, &quot;fill&quot;: true, &quot;fillColor&quot;: &quot;blue&quot;, &quot;fillOpacity&quot;: 0.2, &quot;fillRule&quot;: &quot;evenodd&quot;, &quot;lineCap&quot;: &quot;round&quot;, &quot;lineJoin&quot;: &quot;round&quot;, &quot;opacity&quot;: 1.0, &quot;radius&quot;: 8, &quot;stroke&quot;: true, &quot;weight&quot;: 3}\n",
       "            ).addTo(map_1beb91663b29f690a5df5fba562d59ec);\n",
       "        \n",
       "    \n",
       "        var popup_b24941e3febd2c439b3a8305d787afc8 = L.popup({\n",
       "  &quot;maxWidth&quot;: 400,\n",
       "});\n",
       "\n",
       "        \n",
       "            \n",
       "                var i_frame_2bbca4d768489ea88f1b367ac2c70c02 = $(`&lt;iframe src=&quot;data:text/html;charset=utf-8;base64,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&quot; width=&quot;350&quot; style=&quot;border:none !important;&quot; height=&quot;350&quot;&gt;&lt;/iframe&gt;`)[0];\n",
       "                popup_b24941e3febd2c439b3a8305d787afc8.setContent(i_frame_2bbca4d768489ea88f1b367ac2c70c02);\n",
       "            \n",
       "        \n",
       "\n",
       "        circle_marker_4511fd97233972d5e302072f67fd53d1.bindPopup(popup_b24941e3febd2c439b3a8305d787afc8)\n",
       "        ;\n",
       "\n",
       "        \n",
       "    \n",
       "    \n",
       "            var circle_marker_908ebf6166b3b0019decc0c6bc376d00 = L.circleMarker(\n",
       "                [-24.7761086, 134.755],\n",
       "                {&quot;bubblingMouseEvents&quot;: true, &quot;color&quot;: &quot;blue&quot;, &quot;dashArray&quot;: null, &quot;dashOffset&quot;: null, &quot;fill&quot;: true, &quot;fillColor&quot;: &quot;blue&quot;, &quot;fillOpacity&quot;: 0.2, &quot;fillRule&quot;: &quot;evenodd&quot;, &quot;lineCap&quot;: &quot;round&quot;, &quot;lineJoin&quot;: &quot;round&quot;, &quot;opacity&quot;: 1.0, &quot;radius&quot;: 8, &quot;stroke&quot;: true, &quot;weight&quot;: 3}\n",
       "            ).addTo(map_1beb91663b29f690a5df5fba562d59ec);\n",
       "        \n",
       "    \n",
       "        var popup_1d05224ef6cd0c5fc64adbb7b7ab505b = L.popup({\n",
       "  &quot;maxWidth&quot;: 400,\n",
       "});\n",
       "\n",
       "        \n",
       "            \n",
       "                var i_frame_65fa785ef726c3295d85a18399c46822 = $(`&lt;iframe src=&quot;data:text/html;charset=utf-8;base64,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&quot; width=&quot;350&quot; style=&quot;border:none !important;&quot; height=&quot;350&quot;&gt;&lt;/iframe&gt;`)[0];\n",
       "                popup_1d05224ef6cd0c5fc64adbb7b7ab505b.setContent(i_frame_65fa785ef726c3295d85a18399c46822);\n",
       "            \n",
       "        \n",
       "\n",
       "        circle_marker_908ebf6166b3b0019decc0c6bc376d00.bindPopup(popup_1d05224ef6cd0c5fc64adbb7b7ab505b)\n",
       "        ;\n",
       "\n",
       "        \n",
       "    \n",
       "    \n",
       "            var circle_marker_3654803595c36724f1fef6b9b22e3a3d = L.circleMarker(\n",
       "                [47.59397, 14.12456],\n",
       "                {&quot;bubblingMouseEvents&quot;: true, &quot;color&quot;: &quot;blue&quot;, &quot;dashArray&quot;: null, &quot;dashOffset&quot;: null, &quot;fill&quot;: true, &quot;fillColor&quot;: &quot;blue&quot;, &quot;fillOpacity&quot;: 0.2, &quot;fillRule&quot;: &quot;evenodd&quot;, &quot;lineCap&quot;: &quot;round&quot;, &quot;lineJoin&quot;: &quot;round&quot;, &quot;opacity&quot;: 1.0, &quot;radius&quot;: 8, &quot;stroke&quot;: true, &quot;weight&quot;: 3}\n",
       "            ).addTo(map_1beb91663b29f690a5df5fba562d59ec);\n",
       "        \n",
       "    \n",
       "        var popup_161e8e5488687ee1ed1075b65482c529 = L.popup({\n",
       "  &quot;maxWidth&quot;: 400,\n",
       "});\n",
       "\n",
       "        \n",
       "            \n",
       "                var i_frame_0010a1eb38a6ef30633650c945f7b5e0 = $(`&lt;iframe src=&quot;data:text/html;charset=utf-8;base64,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&quot; width=&quot;350&quot; style=&quot;border:none !important;&quot; height=&quot;350&quot;&gt;&lt;/iframe&gt;`)[0];\n",
       "                popup_161e8e5488687ee1ed1075b65482c529.setContent(i_frame_0010a1eb38a6ef30633650c945f7b5e0);\n",
       "            \n",
       "        \n",
       "\n",
       "        circle_marker_3654803595c36724f1fef6b9b22e3a3d.bindPopup(popup_161e8e5488687ee1ed1075b65482c529)\n",
       "        ;\n",
       "\n",
       "        \n",
       "    \n",
       "    \n",
       "            var circle_marker_88bc19a6432289fcb9e5a5d9e4c847b2 = L.circleMarker(\n",
       "                [50.6402809, 4.6667145],\n",
       "                {&quot;bubblingMouseEvents&quot;: true, &quot;color&quot;: &quot;blue&quot;, &quot;dashArray&quot;: null, &quot;dashOffset&quot;: null, &quot;fill&quot;: true, &quot;fillColor&quot;: &quot;blue&quot;, &quot;fillOpacity&quot;: 0.2, &quot;fillRule&quot;: &quot;evenodd&quot;, &quot;lineCap&quot;: &quot;round&quot;, &quot;lineJoin&quot;: &quot;round&quot;, &quot;opacity&quot;: 1.0, &quot;radius&quot;: 8, &quot;stroke&quot;: true, &quot;weight&quot;: 3}\n",
       "            ).addTo(map_1beb91663b29f690a5df5fba562d59ec);\n",
       "        \n",
       "    \n",
       "        var popup_b2cc235a40982e0b317c27ac07377621 = L.popup({\n",
       "  &quot;maxWidth&quot;: 400,\n",
       "});\n",
       "\n",
       "        \n",
       "            \n",
       "                var i_frame_63175fdd9140fac3d865e3d8b9706591 = $(`&lt;iframe src=&quot;data:text/html;charset=utf-8;base64,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&quot; width=&quot;350&quot; style=&quot;border:none !important;&quot; height=&quot;350&quot;&gt;&lt;/iframe&gt;`)[0];\n",
       "                popup_b2cc235a40982e0b317c27ac07377621.setContent(i_frame_63175fdd9140fac3d865e3d8b9706591);\n",
       "            \n",
       "        \n",
       "\n",
       "        circle_marker_88bc19a6432289fcb9e5a5d9e4c847b2.bindPopup(popup_b2cc235a40982e0b317c27ac07377621)\n",
       "        ;\n",
       "\n",
       "        \n",
       "    \n",
       "    \n",
       "            var circle_marker_fc31097ce99a661277dbfea1728a67b3 = L.circleMarker(\n",
       "                [9.5293472, 2.2584408],\n",
       "                {&quot;bubblingMouseEvents&quot;: true, &quot;color&quot;: &quot;blue&quot;, &quot;dashArray&quot;: null, &quot;dashOffset&quot;: null, &quot;fill&quot;: true, &quot;fillColor&quot;: &quot;blue&quot;, &quot;fillOpacity&quot;: 0.2, &quot;fillRule&quot;: &quot;evenodd&quot;, &quot;lineCap&quot;: &quot;round&quot;, &quot;lineJoin&quot;: &quot;round&quot;, &quot;opacity&quot;: 1.0, &quot;radius&quot;: 8, &quot;stroke&quot;: true, &quot;weight&quot;: 3}\n",
       "            ).addTo(map_1beb91663b29f690a5df5fba562d59ec);\n",
       "        \n",
       "    \n",
       "        var popup_2d4b960fe36c3f3cbc6a9de52ad1b17b = L.popup({\n",
       "  &quot;maxWidth&quot;: 400,\n",
       "});\n",
       "\n",
       "        \n",
       "            \n",
       "                var i_frame_df7bec4b95390cf2a805303005d80c4b = $(`&lt;iframe src=&quot;data:text/html;charset=utf-8;base64,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&quot; width=&quot;350&quot; style=&quot;border:none !important;&quot; height=&quot;350&quot;&gt;&lt;/iframe&gt;`)[0];\n",
       "                popup_2d4b960fe36c3f3cbc6a9de52ad1b17b.setContent(i_frame_df7bec4b95390cf2a805303005d80c4b);\n",
       "            \n",
       "        \n",
       "\n",
       "        circle_marker_fc31097ce99a661277dbfea1728a67b3.bindPopup(popup_2d4b960fe36c3f3cbc6a9de52ad1b17b)\n",
       "        ;\n",
       "\n",
       "        \n",
       "    \n",
       "    \n",
       "            var circle_marker_4107115eed164934c7d9a38f4b3aba3a = L.circleMarker(\n",
       "                [-17.0568696, -64.9912286],\n",
       "                {&quot;bubblingMouseEvents&quot;: true, &quot;color&quot;: &quot;blue&quot;, &quot;dashArray&quot;: null, &quot;dashOffset&quot;: null, &quot;fill&quot;: true, &quot;fillColor&quot;: &quot;blue&quot;, &quot;fillOpacity&quot;: 0.2, &quot;fillRule&quot;: &quot;evenodd&quot;, &quot;lineCap&quot;: &quot;round&quot;, &quot;lineJoin&quot;: &quot;round&quot;, &quot;opacity&quot;: 1.0, &quot;radius&quot;: 8, &quot;stroke&quot;: true, &quot;weight&quot;: 3}\n",
       "            ).addTo(map_1beb91663b29f690a5df5fba562d59ec);\n",
       "        \n",
       "    \n",
       "        var popup_84f32155b7d5b9c5c59a8fa1040ab4c6 = L.popup({\n",
       "  &quot;maxWidth&quot;: 400,\n",
       "});\n",
       "\n",
       "        \n",
       "            \n",
       "                var i_frame_ebe22a610971f57807f60ba7fb2843c1 = $(`&lt;iframe src=&quot;data:text/html;charset=utf-8;base64,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&quot; width=&quot;350&quot; style=&quot;border:none !important;&quot; height=&quot;350&quot;&gt;&lt;/iframe&gt;`)[0];\n",
       "                popup_84f32155b7d5b9c5c59a8fa1040ab4c6.setContent(i_frame_ebe22a610971f57807f60ba7fb2843c1);\n",
       "            \n",
       "        \n",
       "\n",
       "        circle_marker_4107115eed164934c7d9a38f4b3aba3a.bindPopup(popup_84f32155b7d5b9c5c59a8fa1040ab4c6)\n",
       "        ;\n",
       "\n",
       "        \n",
       "    \n",
       "    \n",
       "            var circle_marker_d088a6660644e127bad9ded3992ab0dc = L.circleMarker(\n",
       "                [-10.3333333, -53.2],\n",
       "                {&quot;bubblingMouseEvents&quot;: true, &quot;color&quot;: &quot;blue&quot;, &quot;dashArray&quot;: null, &quot;dashOffset&quot;: null, &quot;fill&quot;: true, &quot;fillColor&quot;: &quot;blue&quot;, &quot;fillOpacity&quot;: 0.2, &quot;fillRule&quot;: &quot;evenodd&quot;, &quot;lineCap&quot;: &quot;round&quot;, &quot;lineJoin&quot;: &quot;round&quot;, &quot;opacity&quot;: 1.0, &quot;radius&quot;: 8, &quot;stroke&quot;: true, &quot;weight&quot;: 3}\n",
       "            ).addTo(map_1beb91663b29f690a5df5fba562d59ec);\n",
       "        \n",
       "    \n",
       "        var popup_74b7b5512089f4182a494019c51a8eac = L.popup({\n",
       "  &quot;maxWidth&quot;: 400,\n",
       "});\n",
       "\n",
       "        \n",
       "            \n",
       "                var i_frame_3a6621deb87b5d01325a6c235af4f7f4 = $(`&lt;iframe src=&quot;data:text/html;charset=utf-8;base64,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&quot; width=&quot;350&quot; style=&quot;border:none !important;&quot; height=&quot;350&quot;&gt;&lt;/iframe&gt;`)[0];\n",
       "                popup_74b7b5512089f4182a494019c51a8eac.setContent(i_frame_3a6621deb87b5d01325a6c235af4f7f4);\n",
       "            \n",
       "        \n",
       "\n",
       "        circle_marker_d088a6660644e127bad9ded3992ab0dc.bindPopup(popup_74b7b5512089f4182a494019c51a8eac)\n",
       "        ;\n",
       "\n",
       "        \n",
       "    \n",
       "    \n",
       "            var circle_marker_ef2a57e0f69ab5f5d6953c83ec24a664 = L.circleMarker(\n",
       "                [42.6073975, 25.4856617],\n",
       "                {&quot;bubblingMouseEvents&quot;: true, &quot;color&quot;: &quot;blue&quot;, &quot;dashArray&quot;: null, &quot;dashOffset&quot;: null, &quot;fill&quot;: true, &quot;fillColor&quot;: &quot;blue&quot;, &quot;fillOpacity&quot;: 0.2, &quot;fillRule&quot;: &quot;evenodd&quot;, &quot;lineCap&quot;: &quot;round&quot;, &quot;lineJoin&quot;: &quot;round&quot;, &quot;opacity&quot;: 1.0, &quot;radius&quot;: 8, &quot;stroke&quot;: true, &quot;weight&quot;: 3}\n",
       "            ).addTo(map_1beb91663b29f690a5df5fba562d59ec);\n",
       "        \n",
       "    \n",
       "        var popup_01f6d1568f9114f1c52d4c379d53a9b6 = L.popup({\n",
       "  &quot;maxWidth&quot;: 400,\n",
       "});\n",
       "\n",
       "        \n",
       "            \n",
       "                var i_frame_ddb6c1af8cb26aab7ecaca884a652061 = $(`&lt;iframe src=&quot;data:text/html;charset=utf-8;base64,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&quot; width=&quot;350&quot; style=&quot;border:none !important;&quot; height=&quot;350&quot;&gt;&lt;/iframe&gt;`)[0];\n",
       "                popup_01f6d1568f9114f1c52d4c379d53a9b6.setContent(i_frame_ddb6c1af8cb26aab7ecaca884a652061);\n",
       "            \n",
       "        \n",
       "\n",
       "        circle_marker_ef2a57e0f69ab5f5d6953c83ec24a664.bindPopup(popup_01f6d1568f9114f1c52d4c379d53a9b6)\n",
       "        ;\n",
       "\n",
       "        \n",
       "    \n",
       "    \n",
       "            var circle_marker_20536180fe2278fa10d7aa14c068d613 = L.circleMarker(\n",
       "                [12.0753083, -1.6880314],\n",
       "                {&quot;bubblingMouseEvents&quot;: true, &quot;color&quot;: &quot;blue&quot;, &quot;dashArray&quot;: null, &quot;dashOffset&quot;: null, &quot;fill&quot;: true, &quot;fillColor&quot;: &quot;blue&quot;, &quot;fillOpacity&quot;: 0.2, &quot;fillRule&quot;: &quot;evenodd&quot;, &quot;lineCap&quot;: &quot;round&quot;, &quot;lineJoin&quot;: &quot;round&quot;, &quot;opacity&quot;: 1.0, &quot;radius&quot;: 8, &quot;stroke&quot;: true, &quot;weight&quot;: 3}\n",
       "            ).addTo(map_1beb91663b29f690a5df5fba562d59ec);\n",
       "        \n",
       "    \n",
       "        var popup_59f579d62e514bc56f4a2f3c394f90a2 = L.popup({\n",
       "  &quot;maxWidth&quot;: 400,\n",
       "});\n",
       "\n",
       "        \n",
       "            \n",
       "                var i_frame_9c4d8168cbd7dc646a5507b17ca1895e = $(`&lt;iframe src=&quot;data:text/html;charset=utf-8;base64,CiAgICA8ZGl2PiAgICAgICAgICAgICAgICAgICAgICAgIDxzY3JpcHQgdHlwZT0idGV4dC9qYXZhc2NyaXB0Ij53aW5kb3cuUGxvdGx5Q29uZmlnID0ge01hdGhKYXhDb25maWc6ICdsb2NhbCd9Ozwvc2NyaXB0PgogICAgICAgIDxzY3JpcHQgY2hhcnNldD0idXRmLTgiIHNyYz0iaHR0cHM6Ly9jZG4ucGxvdC5seS9wbG90bHktMy4wLjEubWluLmpzIj48L3NjcmlwdD4gICAgICAgICAgICAgICAgPGRpdiBpZD0iMWE2MDk3MjktZDlhMi00M2UyLThkYTYtZDBjMmEwZjUzMWQwIiBjbGFzcz0icGxvdGx5LWdyYXBoLWRpdiIgc3R5bGU9ImhlaWdodDozMDBweDsgd2lkdGg6MzAwcHg7Ij48L2Rpdj4gICAgICAgICAgICA8c2NyaXB0IHR5cGU9InRleHQvamF2YXNjcmlwdCI+ICAgICAgICAgICAgICAgIHdpbmRvdy5QTE9UTFlFTlY9d2luZG93LlBMT1RMWUVOViB8fCB7fTsgICAgICAgICAgICAgICAgICAgICAgICAgICAgICAgIGlmIChkb2N1bWVudC5nZXRFbGVtZW50QnlJZCgiMWE2MDk3MjktZDlhMi00M2UyLThkYTYtZDBjMmEwZjUzMWQwIikpIHsgICAgICAgICAgICAgICAgICAgIFBsb3RseS5uZXdQbG90KCAgICAgICAgICAgICAgICAgICAgICAgICIxYTYwOTcyOS1kOWEyLTQzZTItOGRhNi1kMGMyYTBmNTMxZDAiLCAgICAgICAgICAgICAgICAgICAgICAgIFt7ImRvbWFpbiI6eyJ4IjpbMC4wLDEuMF0sInkiOlswLjAsMS4wXX0sImhvdmVydGVtcGxhdGUiOiJmb29kPSV7bGFiZWx9XHUwMDNjYnJcdTAwM2VwZXJjZW50YWdlPSV7dmFsdWV9XHUwMDNjZXh0cmFcdTAwM2VcdTAwM2NcdTAwMmZleHRyYVx1MDAzZSIsImxhYmVscyI6WyJhdHRpZWtlIiwiZG9sbyIsIm1hc3NhIiwibW91Iiwic291bWJhbGEiXSwibGVnZW5kZ3JvdXAiOiIiLCJuYW1lIjoiIiwic2hvd2xlZ2VuZCI6dHJ1ZSwidmFsdWVzIjp7ImR0eXBlIjoiZjgiLCJiZGF0YSI6IkFBQUFBQUFBTkVBQUFBQUFBQUEwUUFBQUFBQUFBRFJBQUFBQUFBQUFORUFBQUFBQUFBQTBRQT09In0sInR5cGUiOiJwaWUifV0sICAgICAgICAgICAgICAgICAgICAgICAgeyJ0ZW1wbGF0ZSI6eyJkYXRhIjp7Imhpc3RvZ3JhbTJkY29udG91ciI6W3sidHlwZSI6Imhpc3RvZ3JhbTJkY29udG91ciIsImNvbG9yYmFyIjp7Im91dGxpbmV3aWR0aCI6MCwidGlja3MiOiIifSwiY29sb3JzY2FsZSI6W1swLjAsIiMwZDA4ODciXSxbMC4xMTExMTExMTExMTExMTExLCIjNDYwMzlmIl0sWzAuMjIyMjIyMjIyMjIyMjIyMiwiIzcyMDFhOCJdLFswLjMzMzMzMzMzMzMzMzMzMzMsIiM5YzE3OWUiXSxbMC40NDQ0NDQ0NDQ0NDQ0NDQ0LCIjYmQzNzg2Il0sWzAuNTU1NTU1NTU1NTU1NTU1NiwiI2Q4NTc2YiJdLFswLjY2NjY2NjY2NjY2NjY2NjYsIiNlZDc5NTMiXSxbMC43Nzc3Nzc3Nzc3Nzc3Nzc4LCIjZmI5ZjNhIl0sWzAuODg4ODg4ODg4ODg4ODg4OCwiI2ZkY2EyNiJdLFsxLjAsIiNmMGY5MjEiXV19XSwiY2hvcm9wbGV0aCI6W3sidHlwZSI6ImNob3JvcGxldGgiLCJjb2xvcmJhciI6eyJvdXRsaW5ld2lkdGgiOjAsInRpY2tzIjoiIn19XSwiaGlzdG9ncmFtMmQiOlt7InR5cGUiOiJoaXN0b2dyYW0yZCIsImNvbG9yYmFyIjp7Im91dGxpbmV3aWR0aCI6MCwidGlja3MiOiIifSwiY29sb3JzY2FsZSI6W1swLjAsIiMwZDA4ODciXSxbMC4xMTExMTExMTExMTExMTExLCIjNDYwMzlmIl0sWzAuMjIyMjIyMjIyMjIyMjIyMiwiIzcyMDFhOCJdLFswLjMzMzMzMzMzMzMzMzMzMzMsIiM5YzE3OWUiXSxbMC40NDQ0NDQ0NDQ0NDQ0NDQ0LCIjYmQzNzg2Il0sWzAuNTU1NTU1NTU1NTU1NTU1NiwiI2Q4NTc2YiJdLFswLjY2NjY2NjY2NjY2NjY2NjYsIiNlZDc5NTMiXSxbMC43Nzc3Nzc3Nzc3Nzc3Nzc4LCIjZmI5ZjNhIl0sWzAuODg4ODg4ODg4ODg4ODg4OCwiI2ZkY2EyNiJdLFsxLjAsIiNmMGY5MjEiXV19XSwiaGVhdG1hcCI6W3sidHlwZSI6ImhlYXRtYXAiLCJjb2xvcmJhciI6eyJvdXRsaW5ld2lkdGgiOjAsInRpY2tzIjoiIn0sImNvbG9yc2NhbGUiOltbMC4wLCIjMGQwODg3Il0sWzAuMTExMTExMTExMTExMTExMSwiIzQ2MDM5ZiJdLFswLjIyMjIyMjIyMjIyMjIyMjIsIiM3MjAxYTgiXSxbMC4zMzMzMzMzMzMzMzMzMzMzLCIjOWMxNzllIl0sWzAuNDQ0NDQ0NDQ0NDQ0NDQ0NCwiI2JkMzc4NiJdLFswLjU1NTU1NTU1NTU1NTU1NTYsIiNkODU3NmIiXSxbMC42NjY2NjY2NjY2NjY2NjY2LCIjZWQ3OTUzIl0sWzAuNzc3Nzc3Nzc3Nzc3Nzc3OCwiI2ZiOWYzYSJdLFswLjg4ODg4ODg4ODg4ODg4ODgsIiNmZGNhMjYiXSxbMS4wLCIjZjBmOTIxIl1dfV0sImNvbnRvdXJjYXJwZXQiOlt7InR5cGUiOiJjb250b3VyY2FycGV0IiwiY29sb3JiYXIiOnsib3V0bGluZXdpZHRoIjowLCJ0aWNrcyI6IiJ9fV0sImNvbnRvdXIiOlt7InR5cGUiOiJjb250b3VyIiwiY29sb3JiYXIiOnsib3V0bGluZXdpZHRoIjowLCJ0aWNrcyI6IiJ9LCJjb2xvcnNjYWxlIjpbWzAuMCwiIzBkMDg4NyJdLFswLjExMTExMTExMTExMTExMTEsIiM0NjAzOWYiXSxbMC4yMjIyMjIyMjIyMjIyMjIyLCIjNzIwMWE4Il0sWzAuMzMzMzMzMzMzMzMzMzMzMywiIzljMTc5ZSJdLFswLjQ0NDQ0NDQ0NDQ0NDQ0NDQsIiNiZDM3ODYiXSxbMC41NTU1NTU1NTU1NTU1NTU2LCIjZDg1NzZiIl0sWzAuNjY2NjY2NjY2NjY2NjY2NiwiI2VkNzk1MyJdLFswLjc3Nzc3Nzc3Nzc3Nzc3NzgsIiNmYjlmM2EiXSxbMC44ODg4ODg4ODg4ODg4ODg4LCIjZmRjYTI2Il0sWzEuMCwiI2YwZjkyMSJdXX1dLCJzdXJmYWNlIjpbeyJ0eXBlIjoic3VyZmFjZSIsImNvbG9yYmFyIjp7Im91dGxpbmV3aWR0aCI6MCwidGlja3MiOiIifSwiY29sb3JzY2FsZSI6W1swLjAsIiMwZDA4ODciXSxbMC4xMTExMTExMTExMTExMTExLCIjNDYwMzlmIl0sWzAuMjIyMjIyMjIyMjIyMjIyMiwiIzcyMDFhOCJdLFswLjMzMzMzMzMzMzMzMzMzMzMsIiM5YzE3OWUiXSxbMC40NDQ0NDQ0NDQ0NDQ0NDQ0LCIjYmQzNzg2Il0sWzAuNTU1NTU1NTU1NTU1NTU1NiwiI2Q4NTc2YiJdLFswLjY2NjY2NjY2NjY2NjY2NjYsIiNlZDc5NTMiXSxbMC43Nzc3Nzc3Nzc3Nzc3Nzc4LCIjZmI5ZjNhIl0sWzAuODg4ODg4ODg4ODg4ODg4OCwiI2ZkY2EyNiJdLFsxLjAsIiNmMGY5MjEiXV19XSwibWVzaDNkIjpbeyJ0eXBlIjoibWVzaDNkIiwiY29sb3JiYXIiOnsib3V0bGluZXdpZHRoIjowLCJ0aWNrcyI6IiJ9fV0sInNjYXR0ZXIiOlt7ImZpbGxwYXR0ZXJuIjp7ImZpbGxtb2RlIjoib3ZlcmxheSIsInNpemUiOjEwLCJzb2xpZGl0eSI6MC4yfSwidHlwZSI6InNjYXR0ZXIifV0sInBhcmNvb3JkcyI6W3sidHlwZSI6InBhcmNvb3JkcyIsImxpbmUiOnsiY29sb3JiYXIiOnsib3V0bGluZXdpZHRoIjowLCJ0aWNrcyI6IiJ9fX1dLCJzY2F0dGVycG9sYXJnbCI6W3sidHlwZSI6InNjYXR0ZXJwb2xhcmdsIiwibWFya2VyIjp7ImNvbG9yYmFyIjp7Im91dGxpbmV3aWR0aCI6MCwidGlja3MiOiIifX19XSwiYmFyIjpbeyJlcnJvcl94Ijp7ImNvbG9yIjoiIzJhM2Y1ZiJ9LCJlcnJvcl95Ijp7ImNvbG9yIjoiIzJhM2Y1ZiJ9LCJtYXJrZXIiOnsibGluZSI6eyJjb2xvciI6IiNFNUVDRjYiLCJ3aWR0aCI6MC41fSwicGF0dGVybiI6eyJmaWxsbW9kZSI6Im92ZXJsYXkiLCJzaXplIjoxMCwic29saWRpdHkiOjAuMn19LCJ0eXBlIjoiYmFyIn1dLCJzY2F0dGVyZ2VvIjpbeyJ0eXBlIjoic2NhdHRlcmdlbyIsIm1hcmtlciI6eyJjb2xvcmJhciI6eyJvdXRsaW5ld2lkdGgiOjAsInRpY2tzIjoiIn19fV0sInNjYXR0ZXJwb2xhciI6W3sidHlwZSI6InNjYXR0ZXJwb2xhciIsIm1hcmtlciI6eyJjb2xvcmJhciI6eyJvdXRsaW5ld2lkdGgiOjAsInRpY2tzIjoiIn19fV0sImhpc3RvZ3JhbSI6W3sibWFya2VyIjp7InBhdHRlcm4iOnsiZmlsbG1vZGUiOiJvdmVybGF5Iiwic2l6ZSI6MTAsInNvbGlkaXR5IjowLjJ9fSwidHlwZSI6Imhpc3RvZ3JhbSJ9XSwic2NhdHRlcmdsIjpbeyJ0eXBlIjoic2NhdHRlcmdsIiwibWFya2VyIjp7ImNvbG9yYmFyIjp7Im91dGxpbmV3aWR0aCI6MCwidGlja3MiOiIifX19XSwic2NhdHRlcjNkIjpbeyJ0eXBlIjoic2NhdHRlcjNkIiwibGluZSI6eyJjb2xvcmJhciI6eyJvdXRsaW5ld2lkdGgiOjAsInRpY2tzIjoiIn19LCJtYXJrZXIiOnsiY29sb3JiYXIiOnsib3V0bGluZXdpZHRoIjowLCJ0aWNrcyI6IiJ9fX1dLCJzY2F0dGVybWFwIjpbeyJ0eXBlIjoic2NhdHRlcm1hcCIsIm1hcmtlciI6eyJjb2xvcmJhciI6eyJvdXRsaW5ld2lkdGgiOjAsInRpY2tzIjoiIn19fV0sInNjYXR0ZXJtYXBib3giOlt7InR5cGUiOiJzY2F0dGVybWFwYm94IiwibWFya2VyIjp7ImNvbG9yYmFyIjp7Im91dGxpbmV3aWR0aCI6MCwidGlja3MiOiIifX19XSwic2NhdHRlcnRlcm5hcnkiOlt7InR5cGUiOiJzY2F0dGVydGVybmFyeSIsIm1hcmtlciI6eyJjb2xvcmJhciI6eyJvdXRsaW5ld2lkdGgiOjAsInRpY2tzIjoiIn19fV0sInNjYXR0ZXJjYXJwZXQiOlt7InR5cGUiOiJzY2F0dGVyY2FycGV0IiwibWFya2VyIjp7ImNvbG9yYmFyIjp7Im91dGxpbmV3aWR0aCI6MCwidGlja3MiOiIifX19XSwiY2FycGV0IjpbeyJhYXhpcyI6eyJlbmRsaW5lY29sb3IiOiIjMmEzZjVmIiwiZ3JpZGNvbG9yIjoid2hpdGUiLCJsaW5lY29sb3IiOiJ3aGl0ZSIsIm1pbm9yZ3JpZGNvbG9yIjoid2hpdGUiLCJzdGFydGxpbmVjb2xvciI6IiMyYTNmNWYifSwiYmF4aXMiOnsiZW5kbGluZWNvbG9yIjoiIzJhM2Y1ZiIsImdyaWRjb2xvciI6IndoaXRlIiwibGluZWNvbG9yIjoid2hpdGUiLCJtaW5vcmdyaWRjb2xvciI6IndoaXRlIiwic3RhcnRsaW5lY29sb3IiOiIjMmEzZjVmIn0sInR5cGUiOiJjYXJwZXQifV0sInRhYmxlIjpbeyJjZWxscyI6eyJmaWxsIjp7ImNvbG9yIjoiI0VCRjBGOCJ9LCJsaW5lIjp7ImNvbG9yIjoid2hpdGUifX0sImhlYWRlciI6eyJmaWxsIjp7ImNvbG9yIjoiI0M4RDRFMyJ9LCJsaW5lIjp7ImNvbG9yIjoid2hpdGUifX0sInR5cGUiOiJ0YWJsZSJ9XSwiYmFycG9sYXIiOlt7Im1hcmtlciI6eyJsaW5lIjp7ImNvbG9yIjoiI0U1RUNGNiIsIndpZHRoIjowLjV9LCJwYXR0ZXJuIjp7ImZpbGxtb2RlIjoib3ZlcmxheSIsInNpemUiOjEwLCJzb2xpZGl0eSI6MC4yfX0sInR5cGUiOiJiYXJwb2xhciJ9XSwicGllIjpbeyJhdXRvbWFyZ2luIjp0cnVlLCJ0eXBlIjoicGllIn1dfSwibGF5b3V0Ijp7ImF1dG90eXBlbnVtYmVycyI6InN0cmljdCIsImNvbG9yd2F5IjpbIiM2MzZlZmEiLCIjRUY1NTNCIiwiIzAwY2M5NiIsIiNhYjYzZmEiLCIjRkZBMTVBIiwiIzE5ZDNmMyIsIiNGRjY2OTIiLCIjQjZFODgwIiwiI0ZGOTdGRiIsIiNGRUNCNTIiXSwiZm9udCI6eyJjb2xvciI6IiMyYTNmNWYifSwiaG92ZXJtb2RlIjoiY2xvc2VzdCIsImhvdmVybGFiZWwiOnsiYWxpZ24iOiJsZWZ0In0sInBhcGVyX2JnY29sb3IiOiJ3aGl0ZSIsInBsb3RfYmdjb2xvciI6IiNFNUVDRjYiLCJwb2xhciI6eyJiZ2NvbG9yIjoiI0U1RUNGNiIsImFuZ3VsYXJheGlzIjp7ImdyaWRjb2xvciI6IndoaXRlIiwibGluZWNvbG9yIjoid2hpdGUiLCJ0aWNrcyI6IiJ9LCJyYWRpYWxheGlzIjp7ImdyaWRjb2xvciI6IndoaXRlIiwibGluZWNvbG9yIjoid2hpdGUiLCJ0aWNrcyI6IiJ9fSwidGVybmFyeSI6eyJiZ2NvbG9yIjoiI0U1RUNGNiIsImFheGlzIjp7ImdyaWRjb2xvciI6IndoaXRlIiwibGluZWNvbG9yIjoid2hpdGUiLCJ0aWNrcyI6IiJ9LCJiYXhpcyI6eyJncmlkY29sb3IiOiJ3aGl0ZSIsImxpbmVjb2xvciI6IndoaXRlIiwidGlja3MiOiIifSwiY2F4aXMiOnsiZ3JpZGNvbG9yIjoid2hpdGUiLCJsaW5lY29sb3IiOiJ3aGl0ZSIsInRpY2tzIjoiIn19LCJjb2xvcmF4aXMiOnsiY29sb3JiYXIiOnsib3V0bGluZXdpZHRoIjowLCJ0aWNrcyI6IiJ9fSwiY29sb3JzY2FsZSI6eyJzZXF1ZW50aWFsIjpbWzAuMCwiIzBkMDg4NyJdLFswLjExMTExMTExMTExMTExMTEsIiM0NjAzOWYiXSxbMC4yMjIyMjIyMjIyMjIyMjIyLCIjNzIwMWE4Il0sWzAuMzMzMzMzMzMzMzMzMzMzMywiIzljMTc5ZSJdLFswLjQ0NDQ0NDQ0NDQ0NDQ0NDQsIiNiZDM3ODYiXSxbMC41NTU1NTU1NTU1NTU1NTU2LCIjZDg1NzZiIl0sWzAuNjY2NjY2NjY2NjY2NjY2NiwiI2VkNzk1MyJdLFswLjc3Nzc3Nzc3Nzc3Nzc3NzgsIiNmYjlmM2EiXSxbMC44ODg4ODg4ODg4ODg4ODg4LCIjZmRjYTI2Il0sWzEuMCwiI2YwZjkyMSJdXSwic2VxdWVudGlhbG1pbnVzIjpbWzAuMCwiIzBkMDg4NyJdLFswLjExMTExMTExMTExMTExMTEsIiM0NjAzOWYiXSxbMC4yMjIyMjIyMjIyMjIyMjIyLCIjNzIwMWE4Il0sWzAuMzMzMzMzMzMzMzMzMzMzMywiIzljMTc5ZSJdLFswLjQ0NDQ0NDQ0NDQ0NDQ0NDQsIiNiZDM3ODYiXSxbMC41NTU1NTU1NTU1NTU1NTU2LCIjZDg1NzZiIl0sWzAuNjY2NjY2NjY2NjY2NjY2NiwiI2VkNzk1MyJdLFswLjc3Nzc3Nzc3Nzc3Nzc3NzgsIiNmYjlmM2EiXSxbMC44ODg4ODg4ODg4ODg4ODg4LCIjZmRjYTI2Il0sWzEuMCwiI2YwZjkyMSJdXSwiZGl2ZXJnaW5nIjpbWzAsIiM4ZTAxNTIiXSxbMC4xLCIjYzUxYjdkIl0sWzAuMiwiI2RlNzdhZSJdLFswLjMsIiNmMWI2ZGEiXSxbMC40LCIjZmRlMGVmIl0sWzAuNSwiI2Y3ZjdmNyJdLFswLjYsIiNlNmY1ZDAiXSxbMC43LCIjYjhlMTg2Il0sWzAuOCwiIzdmYmM0MSJdLFswLjksIiM0ZDkyMjEiXSxbMSwiIzI3NjQxOSJdXX0sInhheGlzIjp7ImdyaWRjb2xvciI6IndoaXRlIiwibGluZWNvbG9yIjoid2hpdGUiLCJ0aWNrcyI6IiIsInRpdGxlIjp7InN0YW5kb2ZmIjoxNX0sInplcm9saW5lY29sb3IiOiJ3aGl0ZSIsImF1dG9tYXJnaW4iOnRydWUsInplcm9saW5ld2lkdGgiOjJ9LCJ5YXhpcyI6eyJncmlkY29sb3IiOiJ3aGl0ZSIsImxpbmVjb2xvciI6IndoaXRlIiwidGlja3MiOiIiLCJ0aXRsZSI6eyJzdGFuZG9mZiI6MTV9LCJ6ZXJvbGluZWNvbG9yIjoid2hpdGUiLCJhdXRvbWFyZ2luIjp0cnVlLCJ6ZXJvbGluZXdpZHRoIjoyfSwic2NlbmUiOnsieGF4aXMiOnsiYmFja2dyb3VuZGNvbG9yIjoiI0U1RUNGNiIsImdyaWRjb2xvciI6IndoaXRlIiwibGluZWNvbG9yIjoid2hpdGUiLCJzaG93YmFja2dyb3VuZCI6dHJ1ZSwidGlja3MiOiIiLCJ6ZXJvbGluZWNvbG9yIjoid2hpdGUiLCJncmlkd2lkdGgiOjJ9LCJ5YXhpcyI6eyJiYWNrZ3JvdW5kY29sb3IiOiIjRTVFQ0Y2IiwiZ3JpZGNvbG9yIjoid2hpdGUiLCJsaW5lY29sb3IiOiJ3aGl0ZSIsInNob3diYWNrZ3JvdW5kIjp0cnVlLCJ0aWNrcyI6IiIsInplcm9saW5lY29sb3IiOiJ3aGl0ZSIsImdyaWR3aWR0aCI6Mn0sInpheGlzIjp7ImJhY2tncm91bmRjb2xvciI6IiNFNUVDRjYiLCJncmlkY29sb3IiOiJ3aGl0ZSIsImxpbmVjb2xvciI6IndoaXRlIiwic2hvd2JhY2tncm91bmQiOnRydWUsInRpY2tzIjoiIiwiemVyb2xpbmVjb2xvciI6IndoaXRlIiwiZ3JpZHdpZHRoIjoyfX0sInNoYXBlZGVmYXVsdHMiOnsibGluZSI6eyJjb2xvciI6IiMyYTNmNWYifX0sImFubm90YXRpb25kZWZhdWx0cyI6eyJhcnJvd2NvbG9yIjoiIzJhM2Y1ZiIsImFycm93aGVhZCI6MCwiYXJyb3d3aWR0aCI6MX0sImdlbyI6eyJiZ2NvbG9yIjoid2hpdGUiLCJsYW5kY29sb3IiOiIjRTVFQ0Y2Iiwic3VidW5pdGNvbG9yIjoid2hpdGUiLCJzaG93bGFuZCI6dHJ1ZSwic2hvd2xha2VzIjp0cnVlLCJsYWtlY29sb3IiOiJ3aGl0ZSJ9LCJ0aXRsZSI6eyJ4IjowLjA1fSwibWFwYm94Ijp7InN0eWxlIjoibGlnaHQifX19LCJsZWdlbmQiOnsidHJhY2Vncm91cGdhcCI6MCwib3JpZW50YXRpb24iOiJoIiwieWFuY2hvciI6ImJvdHRvbSIsInkiOi0wLjMsInhhbmNob3IiOiJjZW50ZXIiLCJ4IjowLjV9LCJ0aXRsZSI6eyJ0ZXh0IjoiQnVya2luYSBGYXNvIn0sIm1hcmdpbiI6eyJsIjoyMCwiciI6MjAsInQiOjQwLCJiIjoyMH0sIndpZHRoIjozMDAsImhlaWdodCI6MzAwLCJzaG93bGVnZW5kIjp0cnVlfSwgICAgICAgICAgICAgICAgICAgICAgICB7ImRpc3BsYXlNb2RlQmFyIjogZmFsc2UsICJyZXNwb25zaXZlIjogdHJ1ZX0gICAgICAgICAgICAgICAgICAgICkgICAgICAgICAgICAgICAgfTsgICAgICAgICAgICA8L3NjcmlwdD4gICAgICAgIDwvZGl2Pg==&quot; width=&quot;350&quot; style=&quot;border:none !important;&quot; height=&quot;350&quot;&gt;&lt;/iframe&gt;`)[0];\n",
       "                popup_59f579d62e514bc56f4a2f3c394f90a2.setContent(i_frame_9c4d8168cbd7dc646a5507b17ca1895e);\n",
       "            \n",
       "        \n",
       "\n",
       "        circle_marker_20536180fe2278fa10d7aa14c068d613.bindPopup(popup_59f579d62e514bc56f4a2f3c394f90a2)\n",
       "        ;\n",
       "\n",
       "        \n",
       "    \n",
       "    \n",
       "            var circle_marker_636d657d3a267d381bf06e93f2c98c5d = L.circleMarker(\n",
       "                [61.0666922, -107.991707],\n",
       "                {&quot;bubblingMouseEvents&quot;: true, &quot;color&quot;: &quot;blue&quot;, &quot;dashArray&quot;: null, &quot;dashOffset&quot;: null, &quot;fill&quot;: true, &quot;fillColor&quot;: &quot;blue&quot;, &quot;fillOpacity&quot;: 0.2, &quot;fillRule&quot;: &quot;evenodd&quot;, &quot;lineCap&quot;: &quot;round&quot;, &quot;lineJoin&quot;: &quot;round&quot;, &quot;opacity&quot;: 1.0, &quot;radius&quot;: 8, &quot;stroke&quot;: true, &quot;weight&quot;: 3}\n",
       "            ).addTo(map_1beb91663b29f690a5df5fba562d59ec);\n",
       "        \n",
       "    \n",
       "        var popup_ec3fc92325ac862f7d8c046154d72f3e = L.popup({\n",
       "  &quot;maxWidth&quot;: 400,\n",
       "});\n",
       "\n",
       "        \n",
       "            \n",
       "                var i_frame_bf52c29a0df8386eb1435ad7811ef29e = $(`&lt;iframe src=&quot;data:text/html;charset=utf-8;base64,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&quot; width=&quot;350&quot; style=&quot;border:none !important;&quot; height=&quot;350&quot;&gt;&lt;/iframe&gt;`)[0];\n",
       "                popup_ec3fc92325ac862f7d8c046154d72f3e.setContent(i_frame_bf52c29a0df8386eb1435ad7811ef29e);\n",
       "            \n",
       "        \n",
       "\n",
       "        circle_marker_636d657d3a267d381bf06e93f2c98c5d.bindPopup(popup_ec3fc92325ac862f7d8c046154d72f3e)\n",
       "        ;\n",
       "\n",
       "        \n",
       "    \n",
       "    \n",
       "            var circle_marker_e83e12bca23380c14298b9c29a62d33d = L.circleMarker(\n",
       "                [35.0000663, 104.999955],\n",
       "                {&quot;bubblingMouseEvents&quot;: true, &quot;color&quot;: &quot;blue&quot;, &quot;dashArray&quot;: null, &quot;dashOffset&quot;: null, &quot;fill&quot;: true, &quot;fillColor&quot;: &quot;blue&quot;, &quot;fillOpacity&quot;: 0.2, &quot;fillRule&quot;: &quot;evenodd&quot;, &quot;lineCap&quot;: &quot;round&quot;, &quot;lineJoin&quot;: &quot;round&quot;, &quot;opacity&quot;: 1.0, &quot;radius&quot;: 8, &quot;stroke&quot;: true, &quot;weight&quot;: 3}\n",
       "            ).addTo(map_1beb91663b29f690a5df5fba562d59ec);\n",
       "        \n",
       "    \n",
       "        var popup_ea96a0ee8bef0e44678b16dcde418373 = L.popup({\n",
       "  &quot;maxWidth&quot;: 400,\n",
       "});\n",
       "\n",
       "        \n",
       "            \n",
       "                var i_frame_34cc8328544b428a9b9225be67fce841 = $(`&lt;iframe src=&quot;data:text/html;charset=utf-8;base64,CiAgICA8ZGl2PiAgICAgICAgICAgICAgICAgICAgICAgIDxzY3JpcHQgdHlwZT0idGV4dC9qYXZhc2NyaXB0Ij53aW5kb3cuUGxvdGx5Q29uZmlnID0ge01hdGhKYXhDb25maWc6ICdsb2NhbCd9Ozwvc2NyaXB0PgogICAgICAgIDxzY3JpcHQgY2hhcnNldD0idXRmLTgiIHNyYz0iaHR0cHM6Ly9jZG4ucGxvdC5seS9wbG90bHktMy4wLjEubWluLmpzIj48L3NjcmlwdD4gICAgICAgICAgICAgICAgPGRpdiBpZD0iM2QzMmQ0MjUtZDlkNy00ZjY5LWI5MDUtN2QyMTViYjU5YTg2IiBjbGFzcz0icGxvdGx5LWdyYXBoLWRpdiIgc3R5bGU9ImhlaWdodDozMDBweDsgd2lkdGg6MzAwcHg7Ij48L2Rpdj4gICAgICAgICAgICA8c2NyaXB0IHR5cGU9InRleHQvamF2YXNjcmlwdCI+ICAgICAgICAgICAgICAgIHdpbmRvdy5QTE9UTFlFTlY9d2luZG93LlBMT1RMWUVOViB8fCB7fTsgICAgICAgICAgICAgICAgICAgICAgICAgICAgICAgIGlmIChkb2N1bWVudC5nZXRFbGVtZW50QnlJZCgiM2QzMmQ0MjUtZDlkNy00ZjY5LWI5MDUtN2QyMTViYjU5YTg2IikpIHsgICAgICAgICAgICAgICAgICAgIFBsb3RseS5uZXdQbG90KCAgICAgICAgICAgICAgICAgICAgICAgICIzZDMyZDQyNS1kOWQ3LTRmNjktYjkwNS03ZDIxNWJiNTlhODYiLCAgICAgICAgICAgICAgICAgICAgICAgIFt7ImRvbWFpbiI6eyJ4IjpbMC4wLDEuMF0sInkiOlswLjAsMS4wXX0sImhvdmVydGVtcGxhdGUiOiJmb29kPSV7bGFiZWx9XHUwMDNjYnJcdTAwM2VwZXJjZW50YWdlPSV7dmFsdWV9XHUwMDNjZXh0cmFcdTAwM2VcdTAwM2NcdTAwMmZleHRyYVx1MDAzZSIsImxhYmVscyI6WyJrb3VtaXNzIiwibXVzdGFyZCBsZWFmIiwiY2hpbGxpIHNhdWNlIiwidGVhIGZlcm1lbnRlZCIsImNoZWVzZSAiLCJrZWZpciIsImxpcXVpciBjaGluZXNlIiwiY2hpbGxpIHBhc3RlIiwiZGFqaWFuZy1tZWp1IiwicGlja2xlIGRhaWtvbiIsInBpY2tsZSBtaXhlZCB2ZWdldGFibGVzIiwic291cmRvdWdoIiwidG9mdSBjaGlsaSIsImtpbWNoaSJdLCJsZWdlbmRncm91cCI6IiIsIm5hbWUiOiIiLCJzaG93bGVnZW5kIjp0cnVlLCJ2YWx1ZXMiOnsiZHR5cGUiOiJmOCIsImJkYXRhIjoiZXhTdVIrR2FSa0FwWElcdTAwMmZDOWFnb1FIRTlDdGVqY0NCQWNUMEsxNk53SUVEc1ViZ2VoZXNWUU94UnVCNkY2eFZBN0ZHNEhvWHJGVURzVWJnZWhldjFQK3hSdUI2RjZcdTAwMmZVXHUwMDJmN0ZHNEhvWHI5VFx1MDAyZnNVYmdlaGV2MVAreFJ1QjZGNlx1MDAyZlVcdTAwMmY3Rkc0SG9YcjlUXHUwMDJmc1ViZ2VoZXYxUHc9PSJ9LCJ0eXBlIjoicGllIn1dLCAgICAgICAgICAgICAgICAgICAgICAgIHsidGVtcGxhdGUiOnsiZGF0YSI6eyJoaXN0b2dyYW0yZGNvbnRvdXIiOlt7InR5cGUiOiJoaXN0b2dyYW0yZGNvbnRvdXIiLCJjb2xvcmJhciI6eyJvdXRsaW5ld2lkdGgiOjAsInRpY2tzIjoiIn0sImNvbG9yc2NhbGUiOltbMC4wLCIjMGQwODg3Il0sWzAuMTExMTExMTExMTExMTExMSwiIzQ2MDM5ZiJdLFswLjIyMjIyMjIyMjIyMjIyMjIsIiM3MjAxYTgiXSxbMC4zMzMzMzMzMzMzMzMzMzMzLCIjOWMxNzllIl0sWzAuNDQ0NDQ0NDQ0NDQ0NDQ0NCwiI2JkMzc4NiJdLFswLjU1NTU1NTU1NTU1NTU1NTYsIiNkODU3NmIiXSxbMC42NjY2NjY2NjY2NjY2NjY2LCIjZWQ3OTUzIl0sWzAuNzc3Nzc3Nzc3Nzc3Nzc3OCwiI2ZiOWYzYSJdLFswLjg4ODg4ODg4ODg4ODg4ODgsIiNmZGNhMjYiXSxbMS4wLCIjZjBmOTIxIl1dfV0sImNob3JvcGxldGgiOlt7InR5cGUiOiJjaG9yb3BsZXRoIiwiY29sb3JiYXIiOnsib3V0bGluZXdpZHRoIjowLCJ0aWNrcyI6IiJ9fV0sImhpc3RvZ3JhbTJkIjpbeyJ0eXBlIjoiaGlzdG9ncmFtMmQiLCJjb2xvcmJhciI6eyJvdXRsaW5ld2lkdGgiOjAsInRpY2tzIjoiIn0sImNvbG9yc2NhbGUiOltbMC4wLCIjMGQwODg3Il0sWzAuMTExMTExMTExMTExMTExMSwiIzQ2MDM5ZiJdLFswLjIyMjIyMjIyMjIyMjIyMjIsIiM3MjAxYTgiXSxbMC4zMzMzMzMzMzMzMzMzMzMzLCIjOWMxNzllIl0sWzAuNDQ0NDQ0NDQ0NDQ0NDQ0NCwiI2JkMzc4NiJdLFswLjU1NTU1NTU1NTU1NTU1NTYsIiNkODU3NmIiXSxbMC42NjY2NjY2NjY2NjY2NjY2LCIjZWQ3OTUzIl0sWzAuNzc3Nzc3Nzc3Nzc3Nzc3OCwiI2ZiOWYzYSJdLFswLjg4ODg4ODg4ODg4ODg4ODgsIiNmZGNhMjYiXSxbMS4wLCIjZjBmOTIxIl1dfV0sImhlYXRtYXAiOlt7InR5cGUiOiJoZWF0bWFwIiwiY29sb3JiYXIiOnsib3V0bGluZXdpZHRoIjowLCJ0aWNrcyI6IiJ9LCJjb2xvcnNjYWxlIjpbWzAuMCwiIzBkMDg4NyJdLFswLjExMTExMTExMTExMTExMTEsIiM0NjAzOWYiXSxbMC4yMjIyMjIyMjIyMjIyMjIyLCIjNzIwMWE4Il0sWzAuMzMzMzMzMzMzMzMzMzMzMywiIzljMTc5ZSJdLFswLjQ0NDQ0NDQ0NDQ0NDQ0NDQsIiNiZDM3ODYiXSxbMC41NTU1NTU1NTU1NTU1NTU2LCIjZDg1NzZiIl0sWzAuNjY2NjY2NjY2NjY2NjY2NiwiI2VkNzk1MyJdLFswLjc3Nzc3Nzc3Nzc3Nzc3NzgsIiNmYjlmM2EiXSxbMC44ODg4ODg4ODg4ODg4ODg4LCIjZmRjYTI2Il0sWzEuMCwiI2YwZjkyMSJdXX1dLCJjb250b3VyY2FycGV0IjpbeyJ0eXBlIjoiY29udG91cmNhcnBldCIsImNvbG9yYmFyIjp7Im91dGxpbmV3aWR0aCI6MCwidGlja3MiOiIifX1dLCJjb250b3VyIjpbeyJ0eXBlIjoiY29udG91ciIsImNvbG9yYmFyIjp7Im91dGxpbmV3aWR0aCI6MCwidGlja3MiOiIifSwiY29sb3JzY2FsZSI6W1swLjAsIiMwZDA4ODciXSxbMC4xMTExMTExMTExMTExMTExLCIjNDYwMzlmIl0sWzAuMjIyMjIyMjIyMjIyMjIyMiwiIzcyMDFhOCJdLFswLjMzMzMzMzMzMzMzMzMzMzMsIiM5YzE3OWUiXSxbMC40NDQ0NDQ0NDQ0NDQ0NDQ0LCIjYmQzNzg2Il0sWzAuNTU1NTU1NTU1NTU1NTU1NiwiI2Q4NTc2YiJdLFswLjY2NjY2NjY2NjY2NjY2NjYsIiNlZDc5NTMiXSxbMC43Nzc3Nzc3Nzc3Nzc3Nzc4LCIjZmI5ZjNhIl0sWzAuODg4ODg4ODg4ODg4ODg4OCwiI2ZkY2EyNiJdLFsxLjAsIiNmMGY5MjEiXV19XSwic3VyZmFjZSI6W3sidHlwZSI6InN1cmZhY2UiLCJjb2xvcmJhciI6eyJvdXRsaW5ld2lkdGgiOjAsInRpY2tzIjoiIn0sImNvbG9yc2NhbGUiOltbMC4wLCIjMGQwODg3Il0sWzAuMTExMTExMTExMTExMTExMSwiIzQ2MDM5ZiJdLFswLjIyMjIyMjIyMjIyMjIyMjIsIiM3MjAxYTgiXSxbMC4zMzMzMzMzMzMzMzMzMzMzLCIjOWMxNzllIl0sWzAuNDQ0NDQ0NDQ0NDQ0NDQ0NCwiI2JkMzc4NiJdLFswLjU1NTU1NTU1NTU1NTU1NTYsIiNkODU3NmIiXSxbMC42NjY2NjY2NjY2NjY2NjY2LCIjZWQ3OTUzIl0sWzAuNzc3Nzc3Nzc3Nzc3Nzc3OCwiI2ZiOWYzYSJdLFswLjg4ODg4ODg4ODg4ODg4ODgsIiNmZGNhMjYiXSxbMS4wLCIjZjBmOTIxIl1dfV0sIm1lc2gzZCI6W3sidHlwZSI6Im1lc2gzZCIsImNvbG9yYmFyIjp7Im91dGxpbmV3aWR0aCI6MCwidGlja3MiOiIifX1dLCJzY2F0dGVyIjpbeyJmaWxscGF0dGVybiI6eyJmaWxsbW9kZSI6Im92ZXJsYXkiLCJzaXplIjoxMCwic29saWRpdHkiOjAuMn0sInR5cGUiOiJzY2F0dGVyIn1dLCJwYXJjb29yZHMiOlt7InR5cGUiOiJwYXJjb29yZHMiLCJsaW5lIjp7ImNvbG9yYmFyIjp7Im91dGxpbmV3aWR0aCI6MCwidGlja3MiOiIifX19XSwic2NhdHRlcnBvbGFyZ2wiOlt7InR5cGUiOiJzY2F0dGVycG9sYXJnbCIsIm1hcmtlciI6eyJjb2xvcmJhciI6eyJvdXRsaW5ld2lkdGgiOjAsInRpY2tzIjoiIn19fV0sImJhciI6W3siZXJyb3JfeCI6eyJjb2xvciI6IiMyYTNmNWYifSwiZXJyb3JfeSI6eyJjb2xvciI6IiMyYTNmNWYifSwibWFya2VyIjp7ImxpbmUiOnsiY29sb3IiOiIjRTVFQ0Y2Iiwid2lkdGgiOjAuNX0sInBhdHRlcm4iOnsiZmlsbG1vZGUiOiJvdmVybGF5Iiwic2l6ZSI6MTAsInNvbGlkaXR5IjowLjJ9fSwidHlwZSI6ImJhciJ9XSwic2NhdHRlcmdlbyI6W3sidHlwZSI6InNjYXR0ZXJnZW8iLCJtYXJrZXIiOnsiY29sb3JiYXIiOnsib3V0bGluZXdpZHRoIjowLCJ0aWNrcyI6IiJ9fX1dLCJzY2F0dGVycG9sYXIiOlt7InR5cGUiOiJzY2F0dGVycG9sYXIiLCJtYXJrZXIiOnsiY29sb3JiYXIiOnsib3V0bGluZXdpZHRoIjowLCJ0aWNrcyI6IiJ9fX1dLCJoaXN0b2dyYW0iOlt7Im1hcmtlciI6eyJwYXR0ZXJuIjp7ImZpbGxtb2RlIjoib3ZlcmxheSIsInNpemUiOjEwLCJzb2xpZGl0eSI6MC4yfX0sInR5cGUiOiJoaXN0b2dyYW0ifV0sInNjYXR0ZXJnbCI6W3sidHlwZSI6InNjYXR0ZXJnbCIsIm1hcmtlciI6eyJjb2xvcmJhciI6eyJvdXRsaW5ld2lkdGgiOjAsInRpY2tzIjoiIn19fV0sInNjYXR0ZXIzZCI6W3sidHlwZSI6InNjYXR0ZXIzZCIsImxpbmUiOnsiY29sb3JiYXIiOnsib3V0bGluZXdpZHRoIjowLCJ0aWNrcyI6IiJ9fSwibWFya2VyIjp7ImNvbG9yYmFyIjp7Im91dGxpbmV3aWR0aCI6MCwidGlja3MiOiIifX19XSwic2NhdHRlcm1hcCI6W3sidHlwZSI6InNjYXR0ZXJtYXAiLCJtYXJrZXIiOnsiY29sb3JiYXIiOnsib3V0bGluZXdpZHRoIjowLCJ0aWNrcyI6IiJ9fX1dLCJzY2F0dGVybWFwYm94IjpbeyJ0eXBlIjoic2NhdHRlcm1hcGJveCIsIm1hcmtlciI6eyJjb2xvcmJhciI6eyJvdXRsaW5ld2lkdGgiOjAsInRpY2tzIjoiIn19fV0sInNjYXR0ZXJ0ZXJuYXJ5IjpbeyJ0eXBlIjoic2NhdHRlcnRlcm5hcnkiLCJtYXJrZXIiOnsiY29sb3JiYXIiOnsib3V0bGluZXdpZHRoIjowLCJ0aWNrcyI6IiJ9fX1dLCJzY2F0dGVyY2FycGV0IjpbeyJ0eXBlIjoic2NhdHRlcmNhcnBldCIsIm1hcmtlciI6eyJjb2xvcmJhciI6eyJvdXRsaW5ld2lkdGgiOjAsInRpY2tzIjoiIn19fV0sImNhcnBldCI6W3siYWF4aXMiOnsiZW5kbGluZWNvbG9yIjoiIzJhM2Y1ZiIsImdyaWRjb2xvciI6IndoaXRlIiwibGluZWNvbG9yIjoid2hpdGUiLCJtaW5vcmdyaWRjb2xvciI6IndoaXRlIiwic3RhcnRsaW5lY29sb3IiOiIjMmEzZjVmIn0sImJheGlzIjp7ImVuZGxpbmVjb2xvciI6IiMyYTNmNWYiLCJncmlkY29sb3IiOiJ3aGl0ZSIsImxpbmVjb2xvciI6IndoaXRlIiwibWlub3JncmlkY29sb3IiOiJ3aGl0ZSIsInN0YXJ0bGluZWNvbG9yIjoiIzJhM2Y1ZiJ9LCJ0eXBlIjoiY2FycGV0In1dLCJ0YWJsZSI6W3siY2VsbHMiOnsiZmlsbCI6eyJjb2xvciI6IiNFQkYwRjgifSwibGluZSI6eyJjb2xvciI6IndoaXRlIn19LCJoZWFkZXIiOnsiZmlsbCI6eyJjb2xvciI6IiNDOEQ0RTMifSwibGluZSI6eyJjb2xvciI6IndoaXRlIn19LCJ0eXBlIjoidGFibGUifV0sImJhcnBvbGFyIjpbeyJtYXJrZXIiOnsibGluZSI6eyJjb2xvciI6IiNFNUVDRjYiLCJ3aWR0aCI6MC41fSwicGF0dGVybiI6eyJmaWxsbW9kZSI6Im92ZXJsYXkiLCJzaXplIjoxMCwic29saWRpdHkiOjAuMn19LCJ0eXBlIjoiYmFycG9sYXIifV0sInBpZSI6W3siYXV0b21hcmdpbiI6dHJ1ZSwidHlwZSI6InBpZSJ9XX0sImxheW91dCI6eyJhdXRvdHlwZW51bWJlcnMiOiJzdHJpY3QiLCJjb2xvcndheSI6WyIjNjM2ZWZhIiwiI0VGNTUzQiIsIiMwMGNjOTYiLCIjYWI2M2ZhIiwiI0ZGQTE1QSIsIiMxOWQzZjMiLCIjRkY2NjkyIiwiI0I2RTg4MCIsIiNGRjk3RkYiLCIjRkVDQjUyIl0sImZvbnQiOnsiY29sb3IiOiIjMmEzZjVmIn0sImhvdmVybW9kZSI6ImNsb3Nlc3QiLCJob3ZlcmxhYmVsIjp7ImFsaWduIjoibGVmdCJ9LCJwYXBlcl9iZ2NvbG9yIjoid2hpdGUiLCJwbG90X2JnY29sb3IiOiIjRTVFQ0Y2IiwicG9sYXIiOnsiYmdjb2xvciI6IiNFNUVDRjYiLCJhbmd1bGFyYXhpcyI6eyJncmlkY29sb3IiOiJ3aGl0ZSIsImxpbmVjb2xvciI6IndoaXRlIiwidGlja3MiOiIifSwicmFkaWFsYXhpcyI6eyJncmlkY29sb3IiOiJ3aGl0ZSIsImxpbmVjb2xvciI6IndoaXRlIiwidGlja3MiOiIifX0sInRlcm5hcnkiOnsiYmdjb2xvciI6IiNFNUVDRjYiLCJhYXhpcyI6eyJncmlkY29sb3IiOiJ3aGl0ZSIsImxpbmVjb2xvciI6IndoaXRlIiwidGlja3MiOiIifSwiYmF4aXMiOnsiZ3JpZGNvbG9yIjoid2hpdGUiLCJsaW5lY29sb3IiOiJ3aGl0ZSIsInRpY2tzIjoiIn0sImNheGlzIjp7ImdyaWRjb2xvciI6IndoaXRlIiwibGluZWNvbG9yIjoid2hpdGUiLCJ0aWNrcyI6IiJ9fSwiY29sb3JheGlzIjp7ImNvbG9yYmFyIjp7Im91dGxpbmV3aWR0aCI6MCwidGlja3MiOiIifX0sImNvbG9yc2NhbGUiOnsic2VxdWVudGlhbCI6W1swLjAsIiMwZDA4ODciXSxbMC4xMTExMTExMTExMTExMTExLCIjNDYwMzlmIl0sWzAuMjIyMjIyMjIyMjIyMjIyMiwiIzcyMDFhOCJdLFswLjMzMzMzMzMzMzMzMzMzMzMsIiM5YzE3OWUiXSxbMC40NDQ0NDQ0NDQ0NDQ0NDQ0LCIjYmQzNzg2Il0sWzAuNTU1NTU1NTU1NTU1NTU1NiwiI2Q4NTc2YiJdLFswLjY2NjY2NjY2NjY2NjY2NjYsIiNlZDc5NTMiXSxbMC43Nzc3Nzc3Nzc3Nzc3Nzc4LCIjZmI5ZjNhIl0sWzAuODg4ODg4ODg4ODg4ODg4OCwiI2ZkY2EyNiJdLFsxLjAsIiNmMGY5MjEiXV0sInNlcXVlbnRpYWxtaW51cyI6W1swLjAsIiMwZDA4ODciXSxbMC4xMTExMTExMTExMTExMTExLCIjNDYwMzlmIl0sWzAuMjIyMjIyMjIyMjIyMjIyMiwiIzcyMDFhOCJdLFswLjMzMzMzMzMzMzMzMzMzMzMsIiM5YzE3OWUiXSxbMC40NDQ0NDQ0NDQ0NDQ0NDQ0LCIjYmQzNzg2Il0sWzAuNTU1NTU1NTU1NTU1NTU1NiwiI2Q4NTc2YiJdLFswLjY2NjY2NjY2NjY2NjY2NjYsIiNlZDc5NTMiXSxbMC43Nzc3Nzc3Nzc3Nzc3Nzc4LCIjZmI5ZjNhIl0sWzAuODg4ODg4ODg4ODg4ODg4OCwiI2ZkY2EyNiJdLFsxLjAsIiNmMGY5MjEiXV0sImRpdmVyZ2luZyI6W1swLCIjOGUwMTUyIl0sWzAuMSwiI2M1MWI3ZCJdLFswLjIsIiNkZTc3YWUiXSxbMC4zLCIjZjFiNmRhIl0sWzAuNCwiI2ZkZTBlZiJdLFswLjUsIiNmN2Y3ZjciXSxbMC42LCIjZTZmNWQwIl0sWzAuNywiI2I4ZTE4NiJdLFswLjgsIiM3ZmJjNDEiXSxbMC45LCIjNGQ5MjIxIl0sWzEsIiMyNzY0MTkiXV19LCJ4YXhpcyI6eyJncmlkY29sb3IiOiJ3aGl0ZSIsImxpbmVjb2xvciI6IndoaXRlIiwidGlja3MiOiIiLCJ0aXRsZSI6eyJzdGFuZG9mZiI6MTV9LCJ6ZXJvbGluZWNvbG9yIjoid2hpdGUiLCJhdXRvbWFyZ2luIjp0cnVlLCJ6ZXJvbGluZXdpZHRoIjoyfSwieWF4aXMiOnsiZ3JpZGNvbG9yIjoid2hpdGUiLCJsaW5lY29sb3IiOiJ3aGl0ZSIsInRpY2tzIjoiIiwidGl0bGUiOnsic3RhbmRvZmYiOjE1fSwiemVyb2xpbmVjb2xvciI6IndoaXRlIiwiYXV0b21hcmdpbiI6dHJ1ZSwiemVyb2xpbmV3aWR0aCI6Mn0sInNjZW5lIjp7InhheGlzIjp7ImJhY2tncm91bmRjb2xvciI6IiNFNUVDRjYiLCJncmlkY29sb3IiOiJ3aGl0ZSIsImxpbmVjb2xvciI6IndoaXRlIiwic2hvd2JhY2tncm91bmQiOnRydWUsInRpY2tzIjoiIiwiemVyb2xpbmVjb2xvciI6IndoaXRlIiwiZ3JpZHdpZHRoIjoyfSwieWF4aXMiOnsiYmFja2dyb3VuZGNvbG9yIjoiI0U1RUNGNiIsImdyaWRjb2xvciI6IndoaXRlIiwibGluZWNvbG9yIjoid2hpdGUiLCJzaG93YmFja2dyb3VuZCI6dHJ1ZSwidGlja3MiOiIiLCJ6ZXJvbGluZWNvbG9yIjoid2hpdGUiLCJncmlkd2lkdGgiOjJ9LCJ6YXhpcyI6eyJiYWNrZ3JvdW5kY29sb3IiOiIjRTVFQ0Y2IiwiZ3JpZGNvbG9yIjoid2hpdGUiLCJsaW5lY29sb3IiOiJ3aGl0ZSIsInNob3diYWNrZ3JvdW5kIjp0cnVlLCJ0aWNrcyI6IiIsInplcm9saW5lY29sb3IiOiJ3aGl0ZSIsImdyaWR3aWR0aCI6Mn19LCJzaGFwZWRlZmF1bHRzIjp7ImxpbmUiOnsiY29sb3IiOiIjMmEzZjVmIn19LCJhbm5vdGF0aW9uZGVmYXVsdHMiOnsiYXJyb3djb2xvciI6IiMyYTNmNWYiLCJhcnJvd2hlYWQiOjAsImFycm93d2lkdGgiOjF9LCJnZW8iOnsiYmdjb2xvciI6IndoaXRlIiwibGFuZGNvbG9yIjoiI0U1RUNGNiIsInN1YnVuaXRjb2xvciI6IndoaXRlIiwic2hvd2xhbmQiOnRydWUsInNob3dsYWtlcyI6dHJ1ZSwibGFrZWNvbG9yIjoid2hpdGUifSwidGl0bGUiOnsieCI6MC4wNX0sIm1hcGJveCI6eyJzdHlsZSI6ImxpZ2h0In19fSwibGVnZW5kIjp7InRyYWNlZ3JvdXBnYXAiOjAsIm9yaWVudGF0aW9uIjoiaCIsInlhbmNob3IiOiJib3R0b20iLCJ5IjotMC4zLCJ4YW5jaG9yIjoiY2VudGVyIiwieCI6MC41fSwidGl0bGUiOnsidGV4dCI6IkNoaW5hIn0sIm1hcmdpbiI6eyJsIjoyMCwiciI6MjAsInQiOjQwLCJiIjoyMH0sIndpZHRoIjozMDAsImhlaWdodCI6MzAwLCJzaG93bGVnZW5kIjp0cnVlfSwgICAgICAgICAgICAgICAgICAgICAgICB7ImRpc3BsYXlNb2RlQmFyIjogZmFsc2UsICJyZXNwb25zaXZlIjogdHJ1ZX0gICAgICAgICAgICAgICAgICAgICkgICAgICAgICAgICAgICAgfTsgICAgICAgICAgICA8L3NjcmlwdD4gICAgICAgIDwvZGl2Pg==&quot; width=&quot;350&quot; style=&quot;border:none !important;&quot; height=&quot;350&quot;&gt;&lt;/iframe&gt;`)[0];\n",
       "                popup_ea96a0ee8bef0e44678b16dcde418373.setContent(i_frame_34cc8328544b428a9b9225be67fce841);\n",
       "            \n",
       "        \n",
       "\n",
       "        circle_marker_e83e12bca23380c14298b9c29a62d33d.bindPopup(popup_ea96a0ee8bef0e44678b16dcde418373)\n",
       "        ;\n",
       "\n",
       "        \n",
       "    \n",
       "    \n",
       "            var circle_marker_e6ce86e2d122747f9b94445b30515c24 = L.circleMarker(\n",
       "                [4.099917, -72.9088133],\n",
       "                {&quot;bubblingMouseEvents&quot;: true, &quot;color&quot;: &quot;blue&quot;, &quot;dashArray&quot;: null, &quot;dashOffset&quot;: null, &quot;fill&quot;: true, &quot;fillColor&quot;: &quot;blue&quot;, &quot;fillOpacity&quot;: 0.2, &quot;fillRule&quot;: &quot;evenodd&quot;, &quot;lineCap&quot;: &quot;round&quot;, &quot;lineJoin&quot;: &quot;round&quot;, &quot;opacity&quot;: 1.0, &quot;radius&quot;: 8, &quot;stroke&quot;: true, &quot;weight&quot;: 3}\n",
       "            ).addTo(map_1beb91663b29f690a5df5fba562d59ec);\n",
       "        \n",
       "    \n",
       "        var popup_6400cb9bc320615690c92003451579a2 = L.popup({\n",
       "  &quot;maxWidth&quot;: 400,\n",
       "});\n",
       "\n",
       "        \n",
       "            \n",
       "                var i_frame_a6a0559f7c27461d5780b8ae6f26dfe2 = $(`&lt;iframe src=&quot;data:text/html;charset=utf-8;base64,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&quot; width=&quot;350&quot; style=&quot;border:none !important;&quot; height=&quot;350&quot;&gt;&lt;/iframe&gt;`)[0];\n",
       "                popup_6400cb9bc320615690c92003451579a2.setContent(i_frame_a6a0559f7c27461d5780b8ae6f26dfe2);\n",
       "            \n",
       "        \n",
       "\n",
       "        circle_marker_e6ce86e2d122747f9b94445b30515c24.bindPopup(popup_6400cb9bc320615690c92003451579a2)\n",
       "        ;\n",
       "\n",
       "        \n",
       "    \n",
       "    \n",
       "            var circle_marker_d6d62e45da953a005bf7d098b77a4efb = L.circleMarker(\n",
       "                [45.3658443, 15.6575209],\n",
       "                {&quot;bubblingMouseEvents&quot;: true, &quot;color&quot;: &quot;blue&quot;, &quot;dashArray&quot;: null, &quot;dashOffset&quot;: null, &quot;fill&quot;: true, &quot;fillColor&quot;: &quot;blue&quot;, &quot;fillOpacity&quot;: 0.2, &quot;fillRule&quot;: &quot;evenodd&quot;, &quot;lineCap&quot;: &quot;round&quot;, &quot;lineJoin&quot;: &quot;round&quot;, &quot;opacity&quot;: 1.0, &quot;radius&quot;: 8, &quot;stroke&quot;: true, &quot;weight&quot;: 3}\n",
       "            ).addTo(map_1beb91663b29f690a5df5fba562d59ec);\n",
       "        \n",
       "    \n",
       "        var popup_099d7a0dde020a83c781296ea4e223e8 = L.popup({\n",
       "  &quot;maxWidth&quot;: 400,\n",
       "});\n",
       "\n",
       "        \n",
       "            \n",
       "                var i_frame_afef1f2ed0652eac85bedf78aaa455cd = $(`&lt;iframe src=&quot;data:text/html;charset=utf-8;base64,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&quot; width=&quot;350&quot; style=&quot;border:none !important;&quot; height=&quot;350&quot;&gt;&lt;/iframe&gt;`)[0];\n",
       "                popup_099d7a0dde020a83c781296ea4e223e8.setContent(i_frame_afef1f2ed0652eac85bedf78aaa455cd);\n",
       "            \n",
       "        \n",
       "\n",
       "        circle_marker_d6d62e45da953a005bf7d098b77a4efb.bindPopup(popup_099d7a0dde020a83c781296ea4e223e8)\n",
       "        ;\n",
       "\n",
       "        \n",
       "    \n",
       "    \n",
       "            var circle_marker_7396d80a4c83635dc354d3745882c318 = L.circleMarker(\n",
       "                [55.670249, 10.3333283],\n",
       "                {&quot;bubblingMouseEvents&quot;: true, &quot;color&quot;: &quot;blue&quot;, &quot;dashArray&quot;: null, &quot;dashOffset&quot;: null, &quot;fill&quot;: true, &quot;fillColor&quot;: &quot;blue&quot;, &quot;fillOpacity&quot;: 0.2, &quot;fillRule&quot;: &quot;evenodd&quot;, &quot;lineCap&quot;: &quot;round&quot;, &quot;lineJoin&quot;: &quot;round&quot;, &quot;opacity&quot;: 1.0, &quot;radius&quot;: 8, &quot;stroke&quot;: true, &quot;weight&quot;: 3}\n",
       "            ).addTo(map_1beb91663b29f690a5df5fba562d59ec);\n",
       "        \n",
       "    \n",
       "        var popup_729442f454efeab76c09fd30b2ee53a7 = L.popup({\n",
       "  &quot;maxWidth&quot;: 400,\n",
       "});\n",
       "\n",
       "        \n",
       "            \n",
       "                var i_frame_b947af5ff42a0f6084333601e94f86a4 = $(`&lt;iframe src=&quot;data:text/html;charset=utf-8;base64,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&quot; width=&quot;350&quot; style=&quot;border:none !important;&quot; height=&quot;350&quot;&gt;&lt;/iframe&gt;`)[0];\n",
       "                popup_729442f454efeab76c09fd30b2ee53a7.setContent(i_frame_b947af5ff42a0f6084333601e94f86a4);\n",
       "            \n",
       "        \n",
       "\n",
       "        circle_marker_7396d80a4c83635dc354d3745882c318.bindPopup(popup_729442f454efeab76c09fd30b2ee53a7)\n",
       "        ;\n",
       "\n",
       "        \n",
       "    \n",
       "    \n",
       "            var circle_marker_05bd8ba1cb58805a162eb903e99e1aa2 = L.circleMarker(\n",
       "                [-1.3397668, -79.3666965],\n",
       "                {&quot;bubblingMouseEvents&quot;: true, &quot;color&quot;: &quot;blue&quot;, &quot;dashArray&quot;: null, &quot;dashOffset&quot;: null, &quot;fill&quot;: true, &quot;fillColor&quot;: &quot;blue&quot;, &quot;fillOpacity&quot;: 0.2, &quot;fillRule&quot;: &quot;evenodd&quot;, &quot;lineCap&quot;: &quot;round&quot;, &quot;lineJoin&quot;: &quot;round&quot;, &quot;opacity&quot;: 1.0, &quot;radius&quot;: 8, &quot;stroke&quot;: true, &quot;weight&quot;: 3}\n",
       "            ).addTo(map_1beb91663b29f690a5df5fba562d59ec);\n",
       "        \n",
       "    \n",
       "        var popup_813628fa405241293afd3ae760d5e540 = L.popup({\n",
       "  &quot;maxWidth&quot;: 400,\n",
       "});\n",
       "\n",
       "        \n",
       "            \n",
       "                var i_frame_51187c8a1831b343fe889090cd74ba2d = $(`&lt;iframe src=&quot;data:text/html;charset=utf-8;base64,CiAgICA8ZGl2PiAgICAgICAgICAgICAgICAgICAgICAgIDxzY3JpcHQgdHlwZT0idGV4dC9qYXZhc2NyaXB0Ij53aW5kb3cuUGxvdGx5Q29uZmlnID0ge01hdGhKYXhDb25maWc6ICdsb2NhbCd9Ozwvc2NyaXB0PgogICAgICAgIDxzY3JpcHQgY2hhcnNldD0idXRmLTgiIHNyYz0iaHR0cHM6Ly9jZG4ucGxvdC5seS9wbG90bHktMy4wLjEubWluLmpzIj48L3NjcmlwdD4gICAgICAgICAgICAgICAgPGRpdiBpZD0iYjZjYzgyNmQtNTlmYi00YmFkLWFlZDgtODQwYTcyMDQyODUxIiBjbGFzcz0icGxvdGx5LWdyYXBoLWRpdiIgc3R5bGU9ImhlaWdodDozMDBweDsgd2lkdGg6MzAwcHg7Ij48L2Rpdj4gICAgICAgICAgICA8c2NyaXB0IHR5cGU9InRleHQvamF2YXNjcmlwdCI+ICAgICAgICAgICAgICAgIHdpbmRvdy5QTE9UTFlFTlY9d2luZG93LlBMT1RMWUVOViB8fCB7fTsgICAgICAgICAgICAgICAgICAgICAgICAgICAgICAgIGlmIChkb2N1bWVudC5nZXRFbGVtZW50QnlJZCgiYjZjYzgyNmQtNTlmYi00YmFkLWFlZDgtODQwYTcyMDQyODUxIikpIHsgICAgICAgICAgICAgICAgICAgIFBsb3RseS5uZXdQbG90KCAgICAgICAgICAgICAgICAgICAgICAgICJiNmNjODI2ZC01OWZiLTRiYWQtYWVkOC04NDBhNzIwNDI4NTEiLCAgICAgICAgICAgICAgICAgICAgICAgIFt7ImRvbWFpbiI6eyJ4IjpbMC4wLDEuMF0sInkiOlswLjAsMS4wXX0sImhvdmVydGVtcGxhdGUiOiJmb29kPSV7bGFiZWx9XHUwMDNjYnJcdTAwM2VwZXJjZW50YWdlPSV7dmFsdWV9XHUwMDNjZXh0cmFcdTAwM2VcdTAwM2NcdTAwMmZleHRyYVx1MDAzZSIsImxhYmVscyI6WyJjb2ZmZWUiXSwibGVnZW5kZ3JvdXAiOiIiLCJuYW1lIjoiIiwic2hvd2xlZ2VuZCI6dHJ1ZSwidmFsdWVzIjp7ImR0eXBlIjoiZjgiLCJiZGF0YSI6IkFBQUFBQUFBV1VBPSJ9LCJ0eXBlIjoicGllIn1dLCAgICAgICAgICAgICAgICAgICAgICAgIHsidGVtcGxhdGUiOnsiZGF0YSI6eyJoaXN0b2dyYW0yZGNvbnRvdXIiOlt7InR5cGUiOiJoaXN0b2dyYW0yZGNvbnRvdXIiLCJjb2xvcmJhciI6eyJvdXRsaW5ld2lkdGgiOjAsInRpY2tzIjoiIn0sImNvbG9yc2NhbGUiOltbMC4wLCIjMGQwODg3Il0sWzAuMTExMTExMTExMTExMTExMSwiIzQ2MDM5ZiJdLFswLjIyMjIyMjIyMjIyMjIyMjIsIiM3MjAxYTgiXSxbMC4zMzMzMzMzMzMzMzMzMzMzLCIjOWMxNzllIl0sWzAuNDQ0NDQ0NDQ0NDQ0NDQ0NCwiI2JkMzc4NiJdLFswLjU1NTU1NTU1NTU1NTU1NTYsIiNkODU3NmIiXSxbMC42NjY2NjY2NjY2NjY2NjY2LCIjZWQ3OTUzIl0sWzAuNzc3Nzc3Nzc3Nzc3Nzc3OCwiI2ZiOWYzYSJdLFswLjg4ODg4ODg4ODg4ODg4ODgsIiNmZGNhMjYiXSxbMS4wLCIjZjBmOTIxIl1dfV0sImNob3JvcGxldGgiOlt7InR5cGUiOiJjaG9yb3BsZXRoIiwiY29sb3JiYXIiOnsib3V0bGluZXdpZHRoIjowLCJ0aWNrcyI6IiJ9fV0sImhpc3RvZ3JhbTJkIjpbeyJ0eXBlIjoiaGlzdG9ncmFtMmQiLCJjb2xvcmJhciI6eyJvdXRsaW5ld2lkdGgiOjAsInRpY2tzIjoiIn0sImNvbG9yc2NhbGUiOltbMC4wLCIjMGQwODg3Il0sWzAuMTExMTExMTExMTExMTExMSwiIzQ2MDM5ZiJdLFswLjIyMjIyMjIyMjIyMjIyMjIsIiM3MjAxYTgiXSxbMC4zMzMzMzMzMzMzMzMzMzMzLCIjOWMxNzllIl0sWzAuNDQ0NDQ0NDQ0NDQ0NDQ0NCwiI2JkMzc4NiJdLFswLjU1NTU1NTU1NTU1NTU1NTYsIiNkODU3NmIiXSxbMC42NjY2NjY2NjY2NjY2NjY2LCIjZWQ3OTUzIl0sWzAuNzc3Nzc3Nzc3Nzc3Nzc3OCwiI2ZiOWYzYSJdLFswLjg4ODg4ODg4ODg4ODg4ODgsIiNmZGNhMjYiXSxbMS4wLCIjZjBmOTIxIl1dfV0sImhlYXRtYXAiOlt7InR5cGUiOiJoZWF0bWFwIiwiY29sb3JiYXIiOnsib3V0bGluZXdpZHRoIjowLCJ0aWNrcyI6IiJ9LCJjb2xvcnNjYWxlIjpbWzAuMCwiIzBkMDg4NyJdLFswLjExMTExMTExMTExMTExMTEsIiM0NjAzOWYiXSxbMC4yMjIyMjIyMjIyMjIyMjIyLCIjNzIwMWE4Il0sWzAuMzMzMzMzMzMzMzMzMzMzMywiIzljMTc5ZSJdLFswLjQ0NDQ0NDQ0NDQ0NDQ0NDQsIiNiZDM3ODYiXSxbMC41NTU1NTU1NTU1NTU1NTU2LCIjZDg1NzZiIl0sWzAuNjY2NjY2NjY2NjY2NjY2NiwiI2VkNzk1MyJdLFswLjc3Nzc3Nzc3Nzc3Nzc3NzgsIiNmYjlmM2EiXSxbMC44ODg4ODg4ODg4ODg4ODg4LCIjZmRjYTI2Il0sWzEuMCwiI2YwZjkyMSJdXX1dLCJjb250b3VyY2FycGV0IjpbeyJ0eXBlIjoiY29udG91cmNhcnBldCIsImNvbG9yYmFyIjp7Im91dGxpbmV3aWR0aCI6MCwidGlja3MiOiIifX1dLCJjb250b3VyIjpbeyJ0eXBlIjoiY29udG91ciIsImNvbG9yYmFyIjp7Im91dGxpbmV3aWR0aCI6MCwidGlja3MiOiIifSwiY29sb3JzY2FsZSI6W1swLjAsIiMwZDA4ODciXSxbMC4xMTExMTExMTExMTExMTExLCIjNDYwMzlmIl0sWzAuMjIyMjIyMjIyMjIyMjIyMiwiIzcyMDFhOCJdLFswLjMzMzMzMzMzMzMzMzMzMzMsIiM5YzE3OWUiXSxbMC40NDQ0NDQ0NDQ0NDQ0NDQ0LCIjYmQzNzg2Il0sWzAuNTU1NTU1NTU1NTU1NTU1NiwiI2Q4NTc2YiJdLFswLjY2NjY2NjY2NjY2NjY2NjYsIiNlZDc5NTMiXSxbMC43Nzc3Nzc3Nzc3Nzc3Nzc4LCIjZmI5ZjNhIl0sWzAuODg4ODg4ODg4ODg4ODg4OCwiI2ZkY2EyNiJdLFsxLjAsIiNmMGY5MjEiXV19XSwic3VyZmFjZSI6W3sidHlwZSI6InN1cmZhY2UiLCJjb2xvcmJhciI6eyJvdXRsaW5ld2lkdGgiOjAsInRpY2tzIjoiIn0sImNvbG9yc2NhbGUiOltbMC4wLCIjMGQwODg3Il0sWzAuMTExMTExMTExMTExMTExMSwiIzQ2MDM5ZiJdLFswLjIyMjIyMjIyMjIyMjIyMjIsIiM3MjAxYTgiXSxbMC4zMzMzMzMzMzMzMzMzMzMzLCIjOWMxNzllIl0sWzAuNDQ0NDQ0NDQ0NDQ0NDQ0NCwiI2JkMzc4NiJdLFswLjU1NTU1NTU1NTU1NTU1NTYsIiNkODU3NmIiXSxbMC42NjY2NjY2NjY2NjY2NjY2LCIjZWQ3OTUzIl0sWzAuNzc3Nzc3Nzc3Nzc3Nzc3OCwiI2ZiOWYzYSJdLFswLjg4ODg4ODg4ODg4ODg4ODgsIiNmZGNhMjYiXSxbMS4wLCIjZjBmOTIxIl1dfV0sIm1lc2gzZCI6W3sidHlwZSI6Im1lc2gzZCIsImNvbG9yYmFyIjp7Im91dGxpbmV3aWR0aCI6MCwidGlja3MiOiIifX1dLCJzY2F0dGVyIjpbeyJmaWxscGF0dGVybiI6eyJmaWxsbW9kZSI6Im92ZXJsYXkiLCJzaXplIjoxMCwic29saWRpdHkiOjAuMn0sInR5cGUiOiJzY2F0dGVyIn1dLCJwYXJjb29yZHMiOlt7InR5cGUiOiJwYXJjb29yZHMiLCJsaW5lIjp7ImNvbG9yYmFyIjp7Im91dGxpbmV3aWR0aCI6MCwidGlja3MiOiIifX19XSwic2NhdHRlcnBvbGFyZ2wiOlt7InR5cGUiOiJzY2F0dGVycG9sYXJnbCIsIm1hcmtlciI6eyJjb2xvcmJhciI6eyJvdXRsaW5ld2lkdGgiOjAsInRpY2tzIjoiIn19fV0sImJhciI6W3siZXJyb3JfeCI6eyJjb2xvciI6IiMyYTNmNWYifSwiZXJyb3JfeSI6eyJjb2xvciI6IiMyYTNmNWYifSwibWFya2VyIjp7ImxpbmUiOnsiY29sb3IiOiIjRTVFQ0Y2Iiwid2lkdGgiOjAuNX0sInBhdHRlcm4iOnsiZmlsbG1vZGUiOiJvdmVybGF5Iiwic2l6ZSI6MTAsInNvbGlkaXR5IjowLjJ9fSwidHlwZSI6ImJhciJ9XSwic2NhdHRlcmdlbyI6W3sidHlwZSI6InNjYXR0ZXJnZW8iLCJtYXJrZXIiOnsiY29sb3JiYXIiOnsib3V0bGluZXdpZHRoIjowLCJ0aWNrcyI6IiJ9fX1dLCJzY2F0dGVycG9sYXIiOlt7InR5cGUiOiJzY2F0dGVycG9sYXIiLCJtYXJrZXIiOnsiY29sb3JiYXIiOnsib3V0bGluZXdpZHRoIjowLCJ0aWNrcyI6IiJ9fX1dLCJoaXN0b2dyYW0iOlt7Im1hcmtlciI6eyJwYXR0ZXJuIjp7ImZpbGxtb2RlIjoib3ZlcmxheSIsInNpemUiOjEwLCJzb2xpZGl0eSI6MC4yfX0sInR5cGUiOiJoaXN0b2dyYW0ifV0sInNjYXR0ZXJnbCI6W3sidHlwZSI6InNjYXR0ZXJnbCIsIm1hcmtlciI6eyJjb2xvcmJhciI6eyJvdXRsaW5ld2lkdGgiOjAsInRpY2tzIjoiIn19fV0sInNjYXR0ZXIzZCI6W3sidHlwZSI6InNjYXR0ZXIzZCIsImxpbmUiOnsiY29sb3JiYXIiOnsib3V0bGluZXdpZHRoIjowLCJ0aWNrcyI6IiJ9fSwibWFya2VyIjp7ImNvbG9yYmFyIjp7Im91dGxpbmV3aWR0aCI6MCwidGlja3MiOiIifX19XSwic2NhdHRlcm1hcCI6W3sidHlwZSI6InNjYXR0ZXJtYXAiLCJtYXJrZXIiOnsiY29sb3JiYXIiOnsib3V0bGluZXdpZHRoIjowLCJ0aWNrcyI6IiJ9fX1dLCJzY2F0dGVybWFwYm94IjpbeyJ0eXBlIjoic2NhdHRlcm1hcGJveCIsIm1hcmtlciI6eyJjb2xvcmJhciI6eyJvdXRsaW5ld2lkdGgiOjAsInRpY2tzIjoiIn19fV0sInNjYXR0ZXJ0ZXJuYXJ5IjpbeyJ0eXBlIjoic2NhdHRlcnRlcm5hcnkiLCJtYXJrZXIiOnsiY29sb3JiYXIiOnsib3V0bGluZXdpZHRoIjowLCJ0aWNrcyI6IiJ9fX1dLCJzY2F0dGVyY2FycGV0IjpbeyJ0eXBlIjoic2NhdHRlcmNhcnBldCIsIm1hcmtlciI6eyJjb2xvcmJhciI6eyJvdXRsaW5ld2lkdGgiOjAsInRpY2tzIjoiIn19fV0sImNhcnBldCI6W3siYWF4aXMiOnsiZW5kbGluZWNvbG9yIjoiIzJhM2Y1ZiIsImdyaWRjb2xvciI6IndoaXRlIiwibGluZWNvbG9yIjoid2hpdGUiLCJtaW5vcmdyaWRjb2xvciI6IndoaXRlIiwic3RhcnRsaW5lY29sb3IiOiIjMmEzZjVmIn0sImJheGlzIjp7ImVuZGxpbmVjb2xvciI6IiMyYTNmNWYiLCJncmlkY29sb3IiOiJ3aGl0ZSIsImxpbmVjb2xvciI6IndoaXRlIiwibWlub3JncmlkY29sb3IiOiJ3aGl0ZSIsInN0YXJ0bGluZWNvbG9yIjoiIzJhM2Y1ZiJ9LCJ0eXBlIjoiY2FycGV0In1dLCJ0YWJsZSI6W3siY2VsbHMiOnsiZmlsbCI6eyJjb2xvciI6IiNFQkYwRjgifSwibGluZSI6eyJjb2xvciI6IndoaXRlIn19LCJoZWFkZXIiOnsiZmlsbCI6eyJjb2xvciI6IiNDOEQ0RTMifSwibGluZSI6eyJjb2xvciI6IndoaXRlIn19LCJ0eXBlIjoidGFibGUifV0sImJhcnBvbGFyIjpbeyJtYXJrZXIiOnsibGluZSI6eyJjb2xvciI6IiNFNUVDRjYiLCJ3aWR0aCI6MC41fSwicGF0dGVybiI6eyJmaWxsbW9kZSI6Im92ZXJsYXkiLCJzaXplIjoxMCwic29saWRpdHkiOjAuMn19LCJ0eXBlIjoiYmFycG9sYXIifV0sInBpZSI6W3siYXV0b21hcmdpbiI6dHJ1ZSwidHlwZSI6InBpZSJ9XX0sImxheW91dCI6eyJhdXRvdHlwZW51bWJlcnMiOiJzdHJpY3QiLCJjb2xvcndheSI6WyIjNjM2ZWZhIiwiI0VGNTUzQiIsIiMwMGNjOTYiLCIjYWI2M2ZhIiwiI0ZGQTE1QSIsIiMxOWQzZjMiLCIjRkY2NjkyIiwiI0I2RTg4MCIsIiNGRjk3RkYiLCIjRkVDQjUyIl0sImZvbnQiOnsiY29sb3IiOiIjMmEzZjVmIn0sImhvdmVybW9kZSI6ImNsb3Nlc3QiLCJob3ZlcmxhYmVsIjp7ImFsaWduIjoibGVmdCJ9LCJwYXBlcl9iZ2NvbG9yIjoid2hpdGUiLCJwbG90X2JnY29sb3IiOiIjRTVFQ0Y2IiwicG9sYXIiOnsiYmdjb2xvciI6IiNFNUVDRjYiLCJhbmd1bGFyYXhpcyI6eyJncmlkY29sb3IiOiJ3aGl0ZSIsImxpbmVjb2xvciI6IndoaXRlIiwidGlja3MiOiIifSwicmFkaWFsYXhpcyI6eyJncmlkY29sb3IiOiJ3aGl0ZSIsImxpbmVjb2xvciI6IndoaXRlIiwidGlja3MiOiIifX0sInRlcm5hcnkiOnsiYmdjb2xvciI6IiNFNUVDRjYiLCJhYXhpcyI6eyJncmlkY29sb3IiOiJ3aGl0ZSIsImxpbmVjb2xvciI6IndoaXRlIiwidGlja3MiOiIifSwiYmF4aXMiOnsiZ3JpZGNvbG9yIjoid2hpdGUiLCJsaW5lY29sb3IiOiJ3aGl0ZSIsInRpY2tzIjoiIn0sImNheGlzIjp7ImdyaWRjb2xvciI6IndoaXRlIiwibGluZWNvbG9yIjoid2hpdGUiLCJ0aWNrcyI6IiJ9fSwiY29sb3JheGlzIjp7ImNvbG9yYmFyIjp7Im91dGxpbmV3aWR0aCI6MCwidGlja3MiOiIifX0sImNvbG9yc2NhbGUiOnsic2VxdWVudGlhbCI6W1swLjAsIiMwZDA4ODciXSxbMC4xMTExMTExMTExMTExMTExLCIjNDYwMzlmIl0sWzAuMjIyMjIyMjIyMjIyMjIyMiwiIzcyMDFhOCJdLFswLjMzMzMzMzMzMzMzMzMzMzMsIiM5YzE3OWUiXSxbMC40NDQ0NDQ0NDQ0NDQ0NDQ0LCIjYmQzNzg2Il0sWzAuNTU1NTU1NTU1NTU1NTU1NiwiI2Q4NTc2YiJdLFswLjY2NjY2NjY2NjY2NjY2NjYsIiNlZDc5NTMiXSxbMC43Nzc3Nzc3Nzc3Nzc3Nzc4LCIjZmI5ZjNhIl0sWzAuODg4ODg4ODg4ODg4ODg4OCwiI2ZkY2EyNiJdLFsxLjAsIiNmMGY5MjEiXV0sInNlcXVlbnRpYWxtaW51cyI6W1swLjAsIiMwZDA4ODciXSxbMC4xMTExMTExMTExMTExMTExLCIjNDYwMzlmIl0sWzAuMjIyMjIyMjIyMjIyMjIyMiwiIzcyMDFhOCJdLFswLjMzMzMzMzMzMzMzMzMzMzMsIiM5YzE3OWUiXSxbMC40NDQ0NDQ0NDQ0NDQ0NDQ0LCIjYmQzNzg2Il0sWzAuNTU1NTU1NTU1NTU1NTU1NiwiI2Q4NTc2YiJdLFswLjY2NjY2NjY2NjY2NjY2NjYsIiNlZDc5NTMiXSxbMC43Nzc3Nzc3Nzc3Nzc3Nzc4LCIjZmI5ZjNhIl0sWzAuODg4ODg4ODg4ODg4ODg4OCwiI2ZkY2EyNiJdLFsxLjAsIiNmMGY5MjEiXV0sImRpdmVyZ2luZyI6W1swLCIjOGUwMTUyIl0sWzAuMSwiI2M1MWI3ZCJdLFswLjIsIiNkZTc3YWUiXSxbMC4zLCIjZjFiNmRhIl0sWzAuNCwiI2ZkZTBlZiJdLFswLjUsIiNmN2Y3ZjciXSxbMC42LCIjZTZmNWQwIl0sWzAuNywiI2I4ZTE4NiJdLFswLjgsIiM3ZmJjNDEiXSxbMC45LCIjNGQ5MjIxIl0sWzEsIiMyNzY0MTkiXV19LCJ4YXhpcyI6eyJncmlkY29sb3IiOiJ3aGl0ZSIsImxpbmVjb2xvciI6IndoaXRlIiwidGlja3MiOiIiLCJ0aXRsZSI6eyJzdGFuZG9mZiI6MTV9LCJ6ZXJvbGluZWNvbG9yIjoid2hpdGUiLCJhdXRvbWFyZ2luIjp0cnVlLCJ6ZXJvbGluZXdpZHRoIjoyfSwieWF4aXMiOnsiZ3JpZGNvbG9yIjoid2hpdGUiLCJsaW5lY29sb3IiOiJ3aGl0ZSIsInRpY2tzIjoiIiwidGl0bGUiOnsic3RhbmRvZmYiOjE1fSwiemVyb2xpbmVjb2xvciI6IndoaXRlIiwiYXV0b21hcmdpbiI6dHJ1ZSwiemVyb2xpbmV3aWR0aCI6Mn0sInNjZW5lIjp7InhheGlzIjp7ImJhY2tncm91bmRjb2xvciI6IiNFNUVDRjYiLCJncmlkY29sb3IiOiJ3aGl0ZSIsImxpbmVjb2xvciI6IndoaXRlIiwic2hvd2JhY2tncm91bmQiOnRydWUsInRpY2tzIjoiIiwiemVyb2xpbmVjb2xvciI6IndoaXRlIiwiZ3JpZHdpZHRoIjoyfSwieWF4aXMiOnsiYmFja2dyb3VuZGNvbG9yIjoiI0U1RUNGNiIsImdyaWRjb2xvciI6IndoaXRlIiwibGluZWNvbG9yIjoid2hpdGUiLCJzaG93YmFja2dyb3VuZCI6dHJ1ZSwidGlja3MiOiIiLCJ6ZXJvbGluZWNvbG9yIjoid2hpdGUiLCJncmlkd2lkdGgiOjJ9LCJ6YXhpcyI6eyJiYWNrZ3JvdW5kY29sb3IiOiIjRTVFQ0Y2IiwiZ3JpZGNvbG9yIjoid2hpdGUiLCJsaW5lY29sb3IiOiJ3aGl0ZSIsInNob3diYWNrZ3JvdW5kIjp0cnVlLCJ0aWNrcyI6IiIsInplcm9saW5lY29sb3IiOiJ3aGl0ZSIsImdyaWR3aWR0aCI6Mn19LCJzaGFwZWRlZmF1bHRzIjp7ImxpbmUiOnsiY29sb3IiOiIjMmEzZjVmIn19LCJhbm5vdGF0aW9uZGVmYXVsdHMiOnsiYXJyb3djb2xvciI6IiMyYTNmNWYiLCJhcnJvd2hlYWQiOjAsImFycm93d2lkdGgiOjF9LCJnZW8iOnsiYmdjb2xvciI6IndoaXRlIiwibGFuZGNvbG9yIjoiI0U1RUNGNiIsInN1YnVuaXRjb2xvciI6IndoaXRlIiwic2hvd2xhbmQiOnRydWUsInNob3dsYWtlcyI6dHJ1ZSwibGFrZWNvbG9yIjoid2hpdGUifSwidGl0bGUiOnsieCI6MC4wNX0sIm1hcGJveCI6eyJzdHlsZSI6ImxpZ2h0In19fSwibGVnZW5kIjp7InRyYWNlZ3JvdXBnYXAiOjAsIm9yaWVudGF0aW9uIjoiaCIsInlhbmNob3IiOiJib3R0b20iLCJ5IjotMC4zLCJ4YW5jaG9yIjoiY2VudGVyIiwieCI6MC41fSwidGl0bGUiOnsidGV4dCI6IkVjdWFkb3IifSwibWFyZ2luIjp7ImwiOjIwLCJyIjoyMCwidCI6NDAsImIiOjIwfSwid2lkdGgiOjMwMCwiaGVpZ2h0IjozMDAsInNob3dsZWdlbmQiOnRydWV9LCAgICAgICAgICAgICAgICAgICAgICAgIHsiZGlzcGxheU1vZGVCYXIiOiBmYWxzZSwgInJlc3BvbnNpdmUiOiB0cnVlfSAgICAgICAgICAgICAgICAgICAgKSAgICAgICAgICAgICAgICB9OyAgICAgICAgICAgIDwvc2NyaXB0PiAgICAgICAgPC9kaXY+&quot; width=&quot;350&quot; style=&quot;border:none !important;&quot; height=&quot;350&quot;&gt;&lt;/iframe&gt;`)[0];\n",
       "                popup_813628fa405241293afd3ae760d5e540.setContent(i_frame_51187c8a1831b343fe889090cd74ba2d);\n",
       "            \n",
       "        \n",
       "\n",
       "        circle_marker_05bd8ba1cb58805a162eb903e99e1aa2.bindPopup(popup_813628fa405241293afd3ae760d5e540)\n",
       "        ;\n",
       "\n",
       "        \n",
       "    \n",
       "    \n",
       "            var circle_marker_9703404893936456f77f9aca47260595 = L.circleMarker(\n",
       "                [58.7523778, 25.3319078],\n",
       "                {&quot;bubblingMouseEvents&quot;: true, &quot;color&quot;: &quot;blue&quot;, &quot;dashArray&quot;: null, &quot;dashOffset&quot;: null, &quot;fill&quot;: true, &quot;fillColor&quot;: &quot;blue&quot;, &quot;fillOpacity&quot;: 0.2, &quot;fillRule&quot;: &quot;evenodd&quot;, &quot;lineCap&quot;: &quot;round&quot;, &quot;lineJoin&quot;: &quot;round&quot;, &quot;opacity&quot;: 1.0, &quot;radius&quot;: 8, &quot;stroke&quot;: true, &quot;weight&quot;: 3}\n",
       "            ).addTo(map_1beb91663b29f690a5df5fba562d59ec);\n",
       "        \n",
       "    \n",
       "        var popup_dd1cf8454de8729fa9968a059390de7a = L.popup({\n",
       "  &quot;maxWidth&quot;: 400,\n",
       "});\n",
       "\n",
       "        \n",
       "            \n",
       "                var i_frame_faa7009bfa68e8ba668b262e195b1dc1 = $(`&lt;iframe src=&quot;data:text/html;charset=utf-8;base64,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&quot; width=&quot;350&quot; style=&quot;border:none !important;&quot; height=&quot;350&quot;&gt;&lt;/iframe&gt;`)[0];\n",
       "                popup_dd1cf8454de8729fa9968a059390de7a.setContent(i_frame_faa7009bfa68e8ba668b262e195b1dc1);\n",
       "            \n",
       "        \n",
       "\n",
       "        circle_marker_9703404893936456f77f9aca47260595.bindPopup(popup_dd1cf8454de8729fa9968a059390de7a)\n",
       "        ;\n",
       "\n",
       "        \n",
       "    \n",
       "    \n",
       "            var circle_marker_4298f31ced69afee395a64d60b572a6e = L.circleMarker(\n",
       "                [10.2116702, 38.6521203],\n",
       "                {&quot;bubblingMouseEvents&quot;: true, &quot;color&quot;: &quot;blue&quot;, &quot;dashArray&quot;: null, &quot;dashOffset&quot;: null, &quot;fill&quot;: true, &quot;fillColor&quot;: &quot;blue&quot;, &quot;fillOpacity&quot;: 0.2, &quot;fillRule&quot;: &quot;evenodd&quot;, &quot;lineCap&quot;: &quot;round&quot;, &quot;lineJoin&quot;: &quot;round&quot;, &quot;opacity&quot;: 1.0, &quot;radius&quot;: 8, &quot;stroke&quot;: true, &quot;weight&quot;: 3}\n",
       "            ).addTo(map_1beb91663b29f690a5df5fba562d59ec);\n",
       "        \n",
       "    \n",
       "        var popup_6d4e3466988b837d24700e922b77f1aa = L.popup({\n",
       "  &quot;maxWidth&quot;: 400,\n",
       "});\n",
       "\n",
       "        \n",
       "            \n",
       "                var i_frame_01181e63a506a6b715322622b4c8ade7 = $(`&lt;iframe src=&quot;data:text/html;charset=utf-8;base64,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&quot; width=&quot;350&quot; style=&quot;border:none !important;&quot; height=&quot;350&quot;&gt;&lt;/iframe&gt;`)[0];\n",
       "                popup_6d4e3466988b837d24700e922b77f1aa.setContent(i_frame_01181e63a506a6b715322622b4c8ade7);\n",
       "            \n",
       "        \n",
       "\n",
       "        circle_marker_4298f31ced69afee395a64d60b572a6e.bindPopup(popup_6d4e3466988b837d24700e922b77f1aa)\n",
       "        ;\n",
       "\n",
       "        \n",
       "    \n",
       "    \n",
       "            var circle_marker_48377bf3edf2d92629c31a4958fa986f = L.circleMarker(\n",
       "                [46.603354, 1.8883335],\n",
       "                {&quot;bubblingMouseEvents&quot;: true, &quot;color&quot;: &quot;blue&quot;, &quot;dashArray&quot;: null, &quot;dashOffset&quot;: null, &quot;fill&quot;: true, &quot;fillColor&quot;: &quot;blue&quot;, &quot;fillOpacity&quot;: 0.2, &quot;fillRule&quot;: &quot;evenodd&quot;, &quot;lineCap&quot;: &quot;round&quot;, &quot;lineJoin&quot;: &quot;round&quot;, &quot;opacity&quot;: 1.0, &quot;radius&quot;: 8, &quot;stroke&quot;: true, &quot;weight&quot;: 3}\n",
       "            ).addTo(map_1beb91663b29f690a5df5fba562d59ec);\n",
       "        \n",
       "    \n",
       "        var popup_559e4c13cd912dee68300997bb1c8866 = L.popup({\n",
       "  &quot;maxWidth&quot;: 400,\n",
       "});\n",
       "\n",
       "        \n",
       "            \n",
       "                var i_frame_0f7b15abe7c000f46210ac1578321344 = $(`&lt;iframe src=&quot;data:text/html;charset=utf-8;base64,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&quot; width=&quot;350&quot; style=&quot;border:none !important;&quot; height=&quot;350&quot;&gt;&lt;/iframe&gt;`)[0];\n",
       "                popup_559e4c13cd912dee68300997bb1c8866.setContent(i_frame_0f7b15abe7c000f46210ac1578321344);\n",
       "            \n",
       "        \n",
       "\n",
       "        circle_marker_48377bf3edf2d92629c31a4958fa986f.bindPopup(popup_559e4c13cd912dee68300997bb1c8866)\n",
       "        ;\n",
       "\n",
       "        \n",
       "    \n",
       "    \n",
       "            var circle_marker_76066c6e2bdc188e861f839c6d8e7e42 = L.circleMarker(\n",
       "                [51.1638175, 10.4478313],\n",
       "                {&quot;bubblingMouseEvents&quot;: true, &quot;color&quot;: &quot;blue&quot;, &quot;dashArray&quot;: null, &quot;dashOffset&quot;: null, &quot;fill&quot;: true, &quot;fillColor&quot;: &quot;blue&quot;, &quot;fillOpacity&quot;: 0.2, &quot;fillRule&quot;: &quot;evenodd&quot;, &quot;lineCap&quot;: &quot;round&quot;, &quot;lineJoin&quot;: &quot;round&quot;, &quot;opacity&quot;: 1.0, &quot;radius&quot;: 8, &quot;stroke&quot;: true, &quot;weight&quot;: 3}\n",
       "            ).addTo(map_1beb91663b29f690a5df5fba562d59ec);\n",
       "        \n",
       "    \n",
       "        var popup_d2ec3afcc56acb9d6ab9cade585f206d = L.popup({\n",
       "  &quot;maxWidth&quot;: 400,\n",
       "});\n",
       "\n",
       "        \n",
       "            \n",
       "                var i_frame_ae90fae02fd8fa96613f118ed2640fc5 = $(`&lt;iframe src=&quot;data:text/html;charset=utf-8;base64,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&quot; width=&quot;350&quot; style=&quot;border:none !important;&quot; height=&quot;350&quot;&gt;&lt;/iframe&gt;`)[0];\n",
       "                popup_d2ec3afcc56acb9d6ab9cade585f206d.setContent(i_frame_ae90fae02fd8fa96613f118ed2640fc5);\n",
       "            \n",
       "        \n",
       "\n",
       "        circle_marker_76066c6e2bdc188e861f839c6d8e7e42.bindPopup(popup_d2ec3afcc56acb9d6ab9cade585f206d)\n",
       "        ;\n",
       "\n",
       "        \n",
       "    \n",
       "    \n",
       "            var circle_marker_c0cc55c924361750c8a175fd80a9ed6e = L.circleMarker(\n",
       "                [51.1638175, 10.4478313],\n",
       "                {&quot;bubblingMouseEvents&quot;: true, &quot;color&quot;: &quot;blue&quot;, &quot;dashArray&quot;: null, &quot;dashOffset&quot;: null, &quot;fill&quot;: true, &quot;fillColor&quot;: &quot;blue&quot;, &quot;fillOpacity&quot;: 0.2, &quot;fillRule&quot;: &quot;evenodd&quot;, &quot;lineCap&quot;: &quot;round&quot;, &quot;lineJoin&quot;: &quot;round&quot;, &quot;opacity&quot;: 1.0, &quot;radius&quot;: 8, &quot;stroke&quot;: true, &quot;weight&quot;: 3}\n",
       "            ).addTo(map_1beb91663b29f690a5df5fba562d59ec);\n",
       "        \n",
       "    \n",
       "        var popup_b4944cace7408f5bff58f32c91f157bd = L.popup({\n",
       "  &quot;maxWidth&quot;: 400,\n",
       "});\n",
       "\n",
       "        \n",
       "            \n",
       "                var i_frame_382038efa5b94e85a3824f16796a7771 = $(`&lt;iframe src=&quot;data:text/html;charset=utf-8;base64,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&quot; width=&quot;350&quot; style=&quot;border:none !important;&quot; height=&quot;350&quot;&gt;&lt;/iframe&gt;`)[0];\n",
       "                popup_b4944cace7408f5bff58f32c91f157bd.setContent(i_frame_382038efa5b94e85a3824f16796a7771);\n",
       "            \n",
       "        \n",
       "\n",
       "        circle_marker_c0cc55c924361750c8a175fd80a9ed6e.bindPopup(popup_b4944cace7408f5bff58f32c91f157bd)\n",
       "        ;\n",
       "\n",
       "        \n",
       "    \n",
       "    \n",
       "            var circle_marker_3f549da0e53c5f9099b3d9b259451893 = L.circleMarker(\n",
       "                [8.0300284, -1.0800271],\n",
       "                {&quot;bubblingMouseEvents&quot;: true, &quot;color&quot;: &quot;blue&quot;, &quot;dashArray&quot;: null, &quot;dashOffset&quot;: null, &quot;fill&quot;: true, &quot;fillColor&quot;: &quot;blue&quot;, &quot;fillOpacity&quot;: 0.2, &quot;fillRule&quot;: &quot;evenodd&quot;, &quot;lineCap&quot;: &quot;round&quot;, &quot;lineJoin&quot;: &quot;round&quot;, &quot;opacity&quot;: 1.0, &quot;radius&quot;: 8, &quot;stroke&quot;: true, &quot;weight&quot;: 3}\n",
       "            ).addTo(map_1beb91663b29f690a5df5fba562d59ec);\n",
       "        \n",
       "    \n",
       "        var popup_7daa26043075665a6aadf190d1787e0b = L.popup({\n",
       "  &quot;maxWidth&quot;: 400,\n",
       "});\n",
       "\n",
       "        \n",
       "            \n",
       "                var i_frame_a8a4998205e7fa7d147183513a4e8b32 = $(`&lt;iframe src=&quot;data:text/html;charset=utf-8;base64,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&quot; width=&quot;350&quot; style=&quot;border:none !important;&quot; height=&quot;350&quot;&gt;&lt;/iframe&gt;`)[0];\n",
       "                popup_7daa26043075665a6aadf190d1787e0b.setContent(i_frame_a8a4998205e7fa7d147183513a4e8b32);\n",
       "            \n",
       "        \n",
       "\n",
       "        circle_marker_3f549da0e53c5f9099b3d9b259451893.bindPopup(popup_7daa26043075665a6aadf190d1787e0b)\n",
       "        ;\n",
       "\n",
       "        \n",
       "    \n",
       "    \n",
       "            var circle_marker_8994c77d792f83bc8c1ef4bf2216e3e0 = L.circleMarker(\n",
       "                [38.9953683, 21.9877132],\n",
       "                {&quot;bubblingMouseEvents&quot;: true, &quot;color&quot;: &quot;blue&quot;, &quot;dashArray&quot;: null, &quot;dashOffset&quot;: null, &quot;fill&quot;: true, &quot;fillColor&quot;: &quot;blue&quot;, &quot;fillOpacity&quot;: 0.2, &quot;fillRule&quot;: &quot;evenodd&quot;, &quot;lineCap&quot;: &quot;round&quot;, &quot;lineJoin&quot;: &quot;round&quot;, &quot;opacity&quot;: 1.0, &quot;radius&quot;: 8, &quot;stroke&quot;: true, &quot;weight&quot;: 3}\n",
       "            ).addTo(map_1beb91663b29f690a5df5fba562d59ec);\n",
       "        \n",
       "    \n",
       "        var popup_c97d03906641ef3034b672b904ab06ed = L.popup({\n",
       "  &quot;maxWidth&quot;: 400,\n",
       "});\n",
       "\n",
       "        \n",
       "            \n",
       "                var i_frame_5dfc75eaa1e0568a254b456a5617f3d0 = $(`&lt;iframe src=&quot;data:text/html;charset=utf-8;base64,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&quot; width=&quot;350&quot; style=&quot;border:none !important;&quot; height=&quot;350&quot;&gt;&lt;/iframe&gt;`)[0];\n",
       "                popup_c97d03906641ef3034b672b904ab06ed.setContent(i_frame_5dfc75eaa1e0568a254b456a5617f3d0);\n",
       "            \n",
       "        \n",
       "\n",
       "        circle_marker_8994c77d792f83bc8c1ef4bf2216e3e0.bindPopup(popup_c97d03906641ef3034b672b904ab06ed)\n",
       "        ;\n",
       "\n",
       "        \n",
       "    \n",
       "    \n",
       "            var circle_marker_eaa77d73b2f6a8323d416e57a60b7a67 = L.circleMarker(\n",
       "                [22.350627, 114.1849161],\n",
       "                {&quot;bubblingMouseEvents&quot;: true, &quot;color&quot;: &quot;blue&quot;, &quot;dashArray&quot;: null, &quot;dashOffset&quot;: null, &quot;fill&quot;: true, &quot;fillColor&quot;: &quot;blue&quot;, &quot;fillOpacity&quot;: 0.2, &quot;fillRule&quot;: &quot;evenodd&quot;, &quot;lineCap&quot;: &quot;round&quot;, &quot;lineJoin&quot;: &quot;round&quot;, &quot;opacity&quot;: 1.0, &quot;radius&quot;: 8, &quot;stroke&quot;: true, &quot;weight&quot;: 3}\n",
       "            ).addTo(map_1beb91663b29f690a5df5fba562d59ec);\n",
       "        \n",
       "    \n",
       "        var popup_39fc41cbf2a1be2e518d6c83d16763c1 = L.popup({\n",
       "  &quot;maxWidth&quot;: 400,\n",
       "});\n",
       "\n",
       "        \n",
       "            \n",
       "                var i_frame_374489071297863d2748523cbd2beff6 = $(`&lt;iframe src=&quot;data:text/html;charset=utf-8;base64,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&quot; width=&quot;350&quot; style=&quot;border:none !important;&quot; height=&quot;350&quot;&gt;&lt;/iframe&gt;`)[0];\n",
       "                popup_39fc41cbf2a1be2e518d6c83d16763c1.setContent(i_frame_374489071297863d2748523cbd2beff6);\n",
       "            \n",
       "        \n",
       "\n",
       "        circle_marker_eaa77d73b2f6a8323d416e57a60b7a67.bindPopup(popup_39fc41cbf2a1be2e518d6c83d16763c1)\n",
       "        ;\n",
       "\n",
       "        \n",
       "    \n",
       "    \n",
       "            var circle_marker_c8b8bb99029dc5d1bddca5a7052b98c0 = L.circleMarker(\n",
       "                [22.3511148, 78.6677428],\n",
       "                {&quot;bubblingMouseEvents&quot;: true, &quot;color&quot;: &quot;blue&quot;, &quot;dashArray&quot;: null, &quot;dashOffset&quot;: null, &quot;fill&quot;: true, &quot;fillColor&quot;: &quot;blue&quot;, &quot;fillOpacity&quot;: 0.2, &quot;fillRule&quot;: &quot;evenodd&quot;, &quot;lineCap&quot;: &quot;round&quot;, &quot;lineJoin&quot;: &quot;round&quot;, &quot;opacity&quot;: 1.0, &quot;radius&quot;: 8, &quot;stroke&quot;: true, &quot;weight&quot;: 3}\n",
       "            ).addTo(map_1beb91663b29f690a5df5fba562d59ec);\n",
       "        \n",
       "    \n",
       "        var popup_8c20181283b7d978fdf79355dfc3d043 = L.popup({\n",
       "  &quot;maxWidth&quot;: 400,\n",
       "});\n",
       "\n",
       "        \n",
       "            \n",
       "                var i_frame_2cddad197f7f53ad4269ecd7dc8ddecd = $(`&lt;iframe src=&quot;data:text/html;charset=utf-8;base64,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&quot; width=&quot;350&quot; style=&quot;border:none !important;&quot; height=&quot;350&quot;&gt;&lt;/iframe&gt;`)[0];\n",
       "                popup_8c20181283b7d978fdf79355dfc3d043.setContent(i_frame_2cddad197f7f53ad4269ecd7dc8ddecd);\n",
       "            \n",
       "        \n",
       "\n",
       "        circle_marker_c8b8bb99029dc5d1bddca5a7052b98c0.bindPopup(popup_8c20181283b7d978fdf79355dfc3d043)\n",
       "        ;\n",
       "\n",
       "        \n",
       "    \n",
       "    \n",
       "            var circle_marker_dd51860665e1a465492f166576dd9583 = L.circleMarker(\n",
       "                [-2.4833826, 117.8902853],\n",
       "                {&quot;bubblingMouseEvents&quot;: true, &quot;color&quot;: &quot;blue&quot;, &quot;dashArray&quot;: null, &quot;dashOffset&quot;: null, &quot;fill&quot;: true, &quot;fillColor&quot;: &quot;blue&quot;, &quot;fillOpacity&quot;: 0.2, &quot;fillRule&quot;: &quot;evenodd&quot;, &quot;lineCap&quot;: &quot;round&quot;, &quot;lineJoin&quot;: &quot;round&quot;, &quot;opacity&quot;: 1.0, &quot;radius&quot;: 8, &quot;stroke&quot;: true, &quot;weight&quot;: 3}\n",
       "            ).addTo(map_1beb91663b29f690a5df5fba562d59ec);\n",
       "        \n",
       "    \n",
       "        var popup_067eb4db0f925a466a32054398f23a8d = L.popup({\n",
       "  &quot;maxWidth&quot;: 400,\n",
       "});\n",
       "\n",
       "        \n",
       "            \n",
       "                var i_frame_46b2d150043d2c99000d0ec309f11554 = $(`&lt;iframe src=&quot;data:text/html;charset=utf-8;base64,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&quot; width=&quot;350&quot; style=&quot;border:none !important;&quot; height=&quot;350&quot;&gt;&lt;/iframe&gt;`)[0];\n",
       "                popup_067eb4db0f925a466a32054398f23a8d.setContent(i_frame_46b2d150043d2c99000d0ec309f11554);\n",
       "            \n",
       "        \n",
       "\n",
       "        circle_marker_dd51860665e1a465492f166576dd9583.bindPopup(popup_067eb4db0f925a466a32054398f23a8d)\n",
       "        ;\n",
       "\n",
       "        \n",
       "    \n",
       "    \n",
       "            var circle_marker_beffb00d453265dc875e20f9e157be94 = L.circleMarker(\n",
       "                [52.865196, -7.9794599],\n",
       "                {&quot;bubblingMouseEvents&quot;: true, &quot;color&quot;: &quot;blue&quot;, &quot;dashArray&quot;: null, &quot;dashOffset&quot;: null, &quot;fill&quot;: true, &quot;fillColor&quot;: &quot;blue&quot;, &quot;fillOpacity&quot;: 0.2, &quot;fillRule&quot;: &quot;evenodd&quot;, &quot;lineCap&quot;: &quot;round&quot;, &quot;lineJoin&quot;: &quot;round&quot;, &quot;opacity&quot;: 1.0, &quot;radius&quot;: 8, &quot;stroke&quot;: true, &quot;weight&quot;: 3}\n",
       "            ).addTo(map_1beb91663b29f690a5df5fba562d59ec);\n",
       "        \n",
       "    \n",
       "        var popup_e27e4e1a2298230fcecacbd5152fb694 = L.popup({\n",
       "  &quot;maxWidth&quot;: 400,\n",
       "});\n",
       "\n",
       "        \n",
       "            \n",
       "                var i_frame_3f5beb0a919e98c0efd512c59aa873de = $(`&lt;iframe src=&quot;data:text/html;charset=utf-8;base64,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&quot; width=&quot;350&quot; style=&quot;border:none !important;&quot; height=&quot;350&quot;&gt;&lt;/iframe&gt;`)[0];\n",
       "                popup_e27e4e1a2298230fcecacbd5152fb694.setContent(i_frame_3f5beb0a919e98c0efd512c59aa873de);\n",
       "            \n",
       "        \n",
       "\n",
       "        circle_marker_beffb00d453265dc875e20f9e157be94.bindPopup(popup_e27e4e1a2298230fcecacbd5152fb694)\n",
       "        ;\n",
       "\n",
       "        \n",
       "    \n",
       "    \n",
       "            var circle_marker_2cc1144a5fa03e124c8d5c0918430c72 = L.circleMarker(\n",
       "                [30.8124247, 34.8594762],\n",
       "                {&quot;bubblingMouseEvents&quot;: true, &quot;color&quot;: &quot;blue&quot;, &quot;dashArray&quot;: null, &quot;dashOffset&quot;: null, &quot;fill&quot;: true, &quot;fillColor&quot;: &quot;blue&quot;, &quot;fillOpacity&quot;: 0.2, &quot;fillRule&quot;: &quot;evenodd&quot;, &quot;lineCap&quot;: &quot;round&quot;, &quot;lineJoin&quot;: &quot;round&quot;, &quot;opacity&quot;: 1.0, &quot;radius&quot;: 8, &quot;stroke&quot;: true, &quot;weight&quot;: 3}\n",
       "            ).addTo(map_1beb91663b29f690a5df5fba562d59ec);\n",
       "        \n",
       "    \n",
       "        var popup_d8c2bc77acda1ff46f765309ec526dbe = L.popup({\n",
       "  &quot;maxWidth&quot;: 400,\n",
       "});\n",
       "\n",
       "        \n",
       "            \n",
       "                var i_frame_ef6103f6491b770de775882cb6133a3c = $(`&lt;iframe src=&quot;data:text/html;charset=utf-8;base64,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&quot; width=&quot;350&quot; style=&quot;border:none !important;&quot; height=&quot;350&quot;&gt;&lt;/iframe&gt;`)[0];\n",
       "                popup_d8c2bc77acda1ff46f765309ec526dbe.setContent(i_frame_ef6103f6491b770de775882cb6133a3c);\n",
       "            \n",
       "        \n",
       "\n",
       "        circle_marker_2cc1144a5fa03e124c8d5c0918430c72.bindPopup(popup_d8c2bc77acda1ff46f765309ec526dbe)\n",
       "        ;\n",
       "\n",
       "        \n",
       "    \n",
       "    \n",
       "            var circle_marker_bb63e67cad63f55739c8356b807688b0 = L.circleMarker(\n",
       "                [42.6384261, 12.674297],\n",
       "                {&quot;bubblingMouseEvents&quot;: true, &quot;color&quot;: &quot;blue&quot;, &quot;dashArray&quot;: null, &quot;dashOffset&quot;: null, &quot;fill&quot;: true, &quot;fillColor&quot;: &quot;blue&quot;, &quot;fillOpacity&quot;: 0.2, &quot;fillRule&quot;: &quot;evenodd&quot;, &quot;lineCap&quot;: &quot;round&quot;, &quot;lineJoin&quot;: &quot;round&quot;, &quot;opacity&quot;: 1.0, &quot;radius&quot;: 8, &quot;stroke&quot;: true, &quot;weight&quot;: 3}\n",
       "            ).addTo(map_1beb91663b29f690a5df5fba562d59ec);\n",
       "        \n",
       "    \n",
       "        var popup_d83fcb3e4cde7a6fc8a6c10af6f4d686 = L.popup({\n",
       "  &quot;maxWidth&quot;: 400,\n",
       "});\n",
       "\n",
       "        \n",
       "            \n",
       "                var i_frame_acbdeeddccbb658f73d4fef0e9f3366d = $(`&lt;iframe src=&quot;data:text/html;charset=utf-8;base64,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&quot; width=&quot;350&quot; style=&quot;border:none !important;&quot; height=&quot;350&quot;&gt;&lt;/iframe&gt;`)[0];\n",
       "                popup_d83fcb3e4cde7a6fc8a6c10af6f4d686.setContent(i_frame_acbdeeddccbb658f73d4fef0e9f3366d);\n",
       "            \n",
       "        \n",
       "\n",
       "        circle_marker_bb63e67cad63f55739c8356b807688b0.bindPopup(popup_d83fcb3e4cde7a6fc8a6c10af6f4d686)\n",
       "        ;\n",
       "\n",
       "        \n",
       "    \n",
       "    \n",
       "            var circle_marker_cc57e03e484c59b8447c1adf64d870d0 = L.circleMarker(\n",
       "                [36.5748441, 139.2394179],\n",
       "                {&quot;bubblingMouseEvents&quot;: true, &quot;color&quot;: &quot;blue&quot;, &quot;dashArray&quot;: null, &quot;dashOffset&quot;: null, &quot;fill&quot;: true, &quot;fillColor&quot;: &quot;blue&quot;, &quot;fillOpacity&quot;: 0.2, &quot;fillRule&quot;: &quot;evenodd&quot;, &quot;lineCap&quot;: &quot;round&quot;, &quot;lineJoin&quot;: &quot;round&quot;, &quot;opacity&quot;: 1.0, &quot;radius&quot;: 8, &quot;stroke&quot;: true, &quot;weight&quot;: 3}\n",
       "            ).addTo(map_1beb91663b29f690a5df5fba562d59ec);\n",
       "        \n",
       "    \n",
       "        var popup_64c544fac191a7e22c40f8c3e9e9109b = L.popup({\n",
       "  &quot;maxWidth&quot;: 400,\n",
       "});\n",
       "\n",
       "        \n",
       "            \n",
       "                var i_frame_3638baa696694d1852fb5d76236050f5 = $(`&lt;iframe src=&quot;data:text/html;charset=utf-8;base64,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&quot; width=&quot;350&quot; style=&quot;border:none !important;&quot; height=&quot;350&quot;&gt;&lt;/iframe&gt;`)[0];\n",
       "                popup_64c544fac191a7e22c40f8c3e9e9109b.setContent(i_frame_3638baa696694d1852fb5d76236050f5);\n",
       "            \n",
       "        \n",
       "\n",
       "        circle_marker_cc57e03e484c59b8447c1adf64d870d0.bindPopup(popup_64c544fac191a7e22c40f8c3e9e9109b)\n",
       "        ;\n",
       "\n",
       "        \n",
       "    \n",
       "    \n",
       "            var circle_marker_810e6b68af8f520bd4ea7332dea6ed01 = L.circleMarker(\n",
       "                [1.4419683, 38.4313975],\n",
       "                {&quot;bubblingMouseEvents&quot;: true, &quot;color&quot;: &quot;blue&quot;, &quot;dashArray&quot;: null, &quot;dashOffset&quot;: null, &quot;fill&quot;: true, &quot;fillColor&quot;: &quot;blue&quot;, &quot;fillOpacity&quot;: 0.2, &quot;fillRule&quot;: &quot;evenodd&quot;, &quot;lineCap&quot;: &quot;round&quot;, &quot;lineJoin&quot;: &quot;round&quot;, &quot;opacity&quot;: 1.0, &quot;radius&quot;: 8, &quot;stroke&quot;: true, &quot;weight&quot;: 3}\n",
       "            ).addTo(map_1beb91663b29f690a5df5fba562d59ec);\n",
       "        \n",
       "    \n",
       "        var popup_f2772010e3a57504a881cb0b6f65ba22 = L.popup({\n",
       "  &quot;maxWidth&quot;: 400,\n",
       "});\n",
       "\n",
       "        \n",
       "            \n",
       "                var i_frame_f8fe81aa27f2e2ec3df31987d3fe247b = $(`&lt;iframe src=&quot;data:text/html;charset=utf-8;base64,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&quot; width=&quot;350&quot; style=&quot;border:none !important;&quot; height=&quot;350&quot;&gt;&lt;/iframe&gt;`)[0];\n",
       "                popup_f2772010e3a57504a881cb0b6f65ba22.setContent(i_frame_f8fe81aa27f2e2ec3df31987d3fe247b);\n",
       "            \n",
       "        \n",
       "\n",
       "        circle_marker_810e6b68af8f520bd4ea7332dea6ed01.bindPopup(popup_f2772010e3a57504a881cb0b6f65ba22)\n",
       "        ;\n",
       "\n",
       "        \n",
       "    \n",
       "    \n",
       "            var circle_marker_352853f0088c1c5bc24c3d02da22b201 = L.circleMarker(\n",
       "                [36.638392, 127.6961188],\n",
       "                {&quot;bubblingMouseEvents&quot;: true, &quot;color&quot;: &quot;blue&quot;, &quot;dashArray&quot;: null, &quot;dashOffset&quot;: null, &quot;fill&quot;: true, &quot;fillColor&quot;: &quot;blue&quot;, &quot;fillOpacity&quot;: 0.2, &quot;fillRule&quot;: &quot;evenodd&quot;, &quot;lineCap&quot;: &quot;round&quot;, &quot;lineJoin&quot;: &quot;round&quot;, &quot;opacity&quot;: 1.0, &quot;radius&quot;: 8, &quot;stroke&quot;: true, &quot;weight&quot;: 3}\n",
       "            ).addTo(map_1beb91663b29f690a5df5fba562d59ec);\n",
       "        \n",
       "    \n",
       "        var popup_287a5d19d90fe712c2438c20c4d88ade = L.popup({\n",
       "  &quot;maxWidth&quot;: 400,\n",
       "});\n",
       "\n",
       "        \n",
       "            \n",
       "                var i_frame_c990964805c3ecd1bb2b1e40e7abbc1c = $(`&lt;iframe src=&quot;data:text/html;charset=utf-8;base64,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&quot; width=&quot;350&quot; style=&quot;border:none !important;&quot; height=&quot;350&quot;&gt;&lt;/iframe&gt;`)[0];\n",
       "                popup_287a5d19d90fe712c2438c20c4d88ade.setContent(i_frame_c990964805c3ecd1bb2b1e40e7abbc1c);\n",
       "            \n",
       "        \n",
       "\n",
       "        circle_marker_352853f0088c1c5bc24c3d02da22b201.bindPopup(popup_287a5d19d90fe712c2438c20c4d88ade)\n",
       "        ;\n",
       "\n",
       "        \n",
       "    \n",
       "    \n",
       "            var circle_marker_3ff8d2ba5edf2c1372bc31eb6dee1fd4 = L.circleMarker(\n",
       "                [36.638392, 127.6961188],\n",
       "                {&quot;bubblingMouseEvents&quot;: true, &quot;color&quot;: &quot;blue&quot;, &quot;dashArray&quot;: null, &quot;dashOffset&quot;: null, &quot;fill&quot;: true, &quot;fillColor&quot;: &quot;blue&quot;, &quot;fillOpacity&quot;: 0.2, &quot;fillRule&quot;: &quot;evenodd&quot;, &quot;lineCap&quot;: &quot;round&quot;, &quot;lineJoin&quot;: &quot;round&quot;, &quot;opacity&quot;: 1.0, &quot;radius&quot;: 8, &quot;stroke&quot;: true, &quot;weight&quot;: 3}\n",
       "            ).addTo(map_1beb91663b29f690a5df5fba562d59ec);\n",
       "        \n",
       "    \n",
       "        var popup_7cbae3e989ec297c2e2941fba0251913 = L.popup({\n",
       "  &quot;maxWidth&quot;: 400,\n",
       "});\n",
       "\n",
       "        \n",
       "            \n",
       "                var i_frame_64f305d1ea268b7ba55b59d77068433c = $(`&lt;iframe src=&quot;data:text/html;charset=utf-8;base64,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&quot; width=&quot;350&quot; style=&quot;border:none !important;&quot; height=&quot;350&quot;&gt;&lt;/iframe&gt;`)[0];\n",
       "                popup_7cbae3e989ec297c2e2941fba0251913.setContent(i_frame_64f305d1ea268b7ba55b59d77068433c);\n",
       "            \n",
       "        \n",
       "\n",
       "        circle_marker_3ff8d2ba5edf2c1372bc31eb6dee1fd4.bindPopup(popup_7cbae3e989ec297c2e2941fba0251913)\n",
       "        ;\n",
       "\n",
       "        \n",
       "    \n",
       "    \n",
       "            var circle_marker_97ce576e7f9f805606344fe62f842557 = L.circleMarker(\n",
       "                [33.8750629, 35.843409],\n",
       "                {&quot;bubblingMouseEvents&quot;: true, &quot;color&quot;: &quot;blue&quot;, &quot;dashArray&quot;: null, &quot;dashOffset&quot;: null, &quot;fill&quot;: true, &quot;fillColor&quot;: &quot;blue&quot;, &quot;fillOpacity&quot;: 0.2, &quot;fillRule&quot;: &quot;evenodd&quot;, &quot;lineCap&quot;: &quot;round&quot;, &quot;lineJoin&quot;: &quot;round&quot;, &quot;opacity&quot;: 1.0, &quot;radius&quot;: 8, &quot;stroke&quot;: true, &quot;weight&quot;: 3}\n",
       "            ).addTo(map_1beb91663b29f690a5df5fba562d59ec);\n",
       "        \n",
       "    \n",
       "        var popup_ba4a24714b6be38ab09d6169ad705b02 = L.popup({\n",
       "  &quot;maxWidth&quot;: 400,\n",
       "});\n",
       "\n",
       "        \n",
       "            \n",
       "                var i_frame_22378a2b1d377d226943c0626a100f7a = $(`&lt;iframe src=&quot;data:text/html;charset=utf-8;base64,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&quot; width=&quot;350&quot; style=&quot;border:none !important;&quot; height=&quot;350&quot;&gt;&lt;/iframe&gt;`)[0];\n",
       "                popup_ba4a24714b6be38ab09d6169ad705b02.setContent(i_frame_22378a2b1d377d226943c0626a100f7a);\n",
       "            \n",
       "        \n",
       "\n",
       "        circle_marker_97ce576e7f9f805606344fe62f842557.bindPopup(popup_ba4a24714b6be38ab09d6169ad705b02)\n",
       "        ;\n",
       "\n",
       "        \n",
       "    \n",
       "    \n",
       "            var circle_marker_deabe3b5fd6a7aa5f00fdc711b055160 = L.circleMarker(\n",
       "                [4.5693754, 102.2656823],\n",
       "                {&quot;bubblingMouseEvents&quot;: true, &quot;color&quot;: &quot;blue&quot;, &quot;dashArray&quot;: null, &quot;dashOffset&quot;: null, &quot;fill&quot;: true, &quot;fillColor&quot;: &quot;blue&quot;, &quot;fillOpacity&quot;: 0.2, &quot;fillRule&quot;: &quot;evenodd&quot;, &quot;lineCap&quot;: &quot;round&quot;, &quot;lineJoin&quot;: &quot;round&quot;, &quot;opacity&quot;: 1.0, &quot;radius&quot;: 8, &quot;stroke&quot;: true, &quot;weight&quot;: 3}\n",
       "            ).addTo(map_1beb91663b29f690a5df5fba562d59ec);\n",
       "        \n",
       "    \n",
       "        var popup_b1636a6e146d2f5f3607c952fc602a35 = L.popup({\n",
       "  &quot;maxWidth&quot;: 400,\n",
       "});\n",
       "\n",
       "        \n",
       "            \n",
       "                var i_frame_a3f84a3cb93a65efce74c1bb2d13a4fd = $(`&lt;iframe src=&quot;data:text/html;charset=utf-8;base64,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&quot; width=&quot;350&quot; style=&quot;border:none !important;&quot; height=&quot;350&quot;&gt;&lt;/iframe&gt;`)[0];\n",
       "                popup_b1636a6e146d2f5f3607c952fc602a35.setContent(i_frame_a3f84a3cb93a65efce74c1bb2d13a4fd);\n",
       "            \n",
       "        \n",
       "\n",
       "        circle_marker_deabe3b5fd6a7aa5f00fdc711b055160.bindPopup(popup_b1636a6e146d2f5f3607c952fc602a35)\n",
       "        ;\n",
       "\n",
       "        \n",
       "    \n",
       "    \n",
       "            var circle_marker_1e08ed651b881e8349108c471d48e737 = L.circleMarker(\n",
       "                [23.6585116, -102.0077097],\n",
       "                {&quot;bubblingMouseEvents&quot;: true, &quot;color&quot;: &quot;blue&quot;, &quot;dashArray&quot;: null, &quot;dashOffset&quot;: null, &quot;fill&quot;: true, &quot;fillColor&quot;: &quot;blue&quot;, &quot;fillOpacity&quot;: 0.2, &quot;fillRule&quot;: &quot;evenodd&quot;, &quot;lineCap&quot;: &quot;round&quot;, &quot;lineJoin&quot;: &quot;round&quot;, &quot;opacity&quot;: 1.0, &quot;radius&quot;: 8, &quot;stroke&quot;: true, &quot;weight&quot;: 3}\n",
       "            ).addTo(map_1beb91663b29f690a5df5fba562d59ec);\n",
       "        \n",
       "    \n",
       "        var popup_62dc85c5fc8016d7471289187ea16fc3 = L.popup({\n",
       "  &quot;maxWidth&quot;: 400,\n",
       "});\n",
       "\n",
       "        \n",
       "            \n",
       "                var i_frame_c62ad040958a711b3277201898e3f965 = $(`&lt;iframe src=&quot;data:text/html;charset=utf-8;base64,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&quot; width=&quot;350&quot; style=&quot;border:none !important;&quot; height=&quot;350&quot;&gt;&lt;/iframe&gt;`)[0];\n",
       "                popup_62dc85c5fc8016d7471289187ea16fc3.setContent(i_frame_c62ad040958a711b3277201898e3f965);\n",
       "            \n",
       "        \n",
       "\n",
       "        circle_marker_1e08ed651b881e8349108c471d48e737.bindPopup(popup_62dc85c5fc8016d7471289187ea16fc3)\n",
       "        ;\n",
       "\n",
       "        \n",
       "    \n",
       "    \n",
       "            var circle_marker_c11fa61f69d3c75e4b2a9e9a702b0a22 = L.circleMarker(\n",
       "                [17.1750495, 95.9999652],\n",
       "                {&quot;bubblingMouseEvents&quot;: true, &quot;color&quot;: &quot;blue&quot;, &quot;dashArray&quot;: null, &quot;dashOffset&quot;: null, &quot;fill&quot;: true, &quot;fillColor&quot;: &quot;blue&quot;, &quot;fillOpacity&quot;: 0.2, &quot;fillRule&quot;: &quot;evenodd&quot;, &quot;lineCap&quot;: &quot;round&quot;, &quot;lineJoin&quot;: &quot;round&quot;, &quot;opacity&quot;: 1.0, &quot;radius&quot;: 8, &quot;stroke&quot;: true, &quot;weight&quot;: 3}\n",
       "            ).addTo(map_1beb91663b29f690a5df5fba562d59ec);\n",
       "        \n",
       "    \n",
       "        var popup_22abbc879d176992b66765f99740f8e2 = L.popup({\n",
       "  &quot;maxWidth&quot;: 400,\n",
       "});\n",
       "\n",
       "        \n",
       "            \n",
       "                var i_frame_19a8ff9350728df5fdc3ca405126d74e = $(`&lt;iframe src=&quot;data:text/html;charset=utf-8;base64,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&quot; width=&quot;350&quot; style=&quot;border:none !important;&quot; height=&quot;350&quot;&gt;&lt;/iframe&gt;`)[0];\n",
       "                popup_22abbc879d176992b66765f99740f8e2.setContent(i_frame_19a8ff9350728df5fdc3ca405126d74e);\n",
       "            \n",
       "        \n",
       "\n",
       "        circle_marker_c11fa61f69d3c75e4b2a9e9a702b0a22.bindPopup(popup_22abbc879d176992b66765f99740f8e2)\n",
       "        ;\n",
       "\n",
       "        \n",
       "    \n",
       "    \n",
       "            var circle_marker_952923d2b3353597220db23de4dc117f = L.circleMarker(\n",
       "                [-41.5000831, 172.8344077],\n",
       "                {&quot;bubblingMouseEvents&quot;: true, &quot;color&quot;: &quot;blue&quot;, &quot;dashArray&quot;: null, &quot;dashOffset&quot;: null, &quot;fill&quot;: true, &quot;fillColor&quot;: &quot;blue&quot;, &quot;fillOpacity&quot;: 0.2, &quot;fillRule&quot;: &quot;evenodd&quot;, &quot;lineCap&quot;: &quot;round&quot;, &quot;lineJoin&quot;: &quot;round&quot;, &quot;opacity&quot;: 1.0, &quot;radius&quot;: 8, &quot;stroke&quot;: true, &quot;weight&quot;: 3}\n",
       "            ).addTo(map_1beb91663b29f690a5df5fba562d59ec);\n",
       "        \n",
       "    \n",
       "        var popup_e235fc6d4b32f742366452199a001fc0 = L.popup({\n",
       "  &quot;maxWidth&quot;: 400,\n",
       "});\n",
       "\n",
       "        \n",
       "            \n",
       "                var i_frame_33f6e425fa3725d8eccdfccd238ac342 = $(`&lt;iframe src=&quot;data:text/html;charset=utf-8;base64,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&quot; width=&quot;350&quot; style=&quot;border:none !important;&quot; height=&quot;350&quot;&gt;&lt;/iframe&gt;`)[0];\n",
       "                popup_e235fc6d4b32f742366452199a001fc0.setContent(i_frame_33f6e425fa3725d8eccdfccd238ac342);\n",
       "            \n",
       "        \n",
       "\n",
       "        circle_marker_952923d2b3353597220db23de4dc117f.bindPopup(popup_e235fc6d4b32f742366452199a001fc0)\n",
       "        ;\n",
       "\n",
       "        \n",
       "    \n",
       "    \n",
       "            var circle_marker_dae407f1bccbc95d39d51ae28658c473 = L.circleMarker(\n",
       "                [9.6000359, 7.9999721],\n",
       "                {&quot;bubblingMouseEvents&quot;: true, &quot;color&quot;: &quot;blue&quot;, &quot;dashArray&quot;: null, &quot;dashOffset&quot;: null, &quot;fill&quot;: true, &quot;fillColor&quot;: &quot;blue&quot;, &quot;fillOpacity&quot;: 0.2, &quot;fillRule&quot;: &quot;evenodd&quot;, &quot;lineCap&quot;: &quot;round&quot;, &quot;lineJoin&quot;: &quot;round&quot;, &quot;opacity&quot;: 1.0, &quot;radius&quot;: 8, &quot;stroke&quot;: true, &quot;weight&quot;: 3}\n",
       "            ).addTo(map_1beb91663b29f690a5df5fba562d59ec);\n",
       "        \n",
       "    \n",
       "        var popup_e444d5a451dbbaf2711b72ef4cdaa88b = L.popup({\n",
       "  &quot;maxWidth&quot;: 400,\n",
       "});\n",
       "\n",
       "        \n",
       "            \n",
       "                var i_frame_73f7c8f00d1bfc34508fecc2900a8884 = $(`&lt;iframe src=&quot;data:text/html;charset=utf-8;base64,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&quot; width=&quot;350&quot; style=&quot;border:none !important;&quot; height=&quot;350&quot;&gt;&lt;/iframe&gt;`)[0];\n",
       "                popup_e444d5a451dbbaf2711b72ef4cdaa88b.setContent(i_frame_73f7c8f00d1bfc34508fecc2900a8884);\n",
       "            \n",
       "        \n",
       "\n",
       "        circle_marker_dae407f1bccbc95d39d51ae28658c473.bindPopup(popup_e444d5a451dbbaf2711b72ef4cdaa88b)\n",
       "        ;\n",
       "\n",
       "        \n",
       "    \n",
       "    \n",
       "            var circle_marker_9583ffcea1d72acbbad8c507b98d15bd = L.circleMarker(\n",
       "                [61.1529386, 8.7876653],\n",
       "                {&quot;bubblingMouseEvents&quot;: true, &quot;color&quot;: &quot;blue&quot;, &quot;dashArray&quot;: null, &quot;dashOffset&quot;: null, &quot;fill&quot;: true, &quot;fillColor&quot;: &quot;blue&quot;, &quot;fillOpacity&quot;: 0.2, &quot;fillRule&quot;: &quot;evenodd&quot;, &quot;lineCap&quot;: &quot;round&quot;, &quot;lineJoin&quot;: &quot;round&quot;, &quot;opacity&quot;: 1.0, &quot;radius&quot;: 8, &quot;stroke&quot;: true, &quot;weight&quot;: 3}\n",
       "            ).addTo(map_1beb91663b29f690a5df5fba562d59ec);\n",
       "        \n",
       "    \n",
       "        var popup_043b5bd2ba3ca34e24d7ebf05ca7e7e5 = L.popup({\n",
       "  &quot;maxWidth&quot;: 400,\n",
       "});\n",
       "\n",
       "        \n",
       "            \n",
       "                var i_frame_f28e96203382ba26ee5c3fe079ee7731 = $(`&lt;iframe src=&quot;data:text/html;charset=utf-8;base64,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&quot; width=&quot;350&quot; style=&quot;border:none !important;&quot; height=&quot;350&quot;&gt;&lt;/iframe&gt;`)[0];\n",
       "                popup_043b5bd2ba3ca34e24d7ebf05ca7e7e5.setContent(i_frame_f28e96203382ba26ee5c3fe079ee7731);\n",
       "            \n",
       "        \n",
       "\n",
       "        circle_marker_9583ffcea1d72acbbad8c507b98d15bd.bindPopup(popup_043b5bd2ba3ca34e24d7ebf05ca7e7e5)\n",
       "        ;\n",
       "\n",
       "        \n",
       "    \n",
       "    \n",
       "            var circle_marker_252c7e0b04bac7bb9fd1982826818984 = L.circleMarker(\n",
       "                [39.6621648, -8.1353519],\n",
       "                {&quot;bubblingMouseEvents&quot;: true, &quot;color&quot;: &quot;blue&quot;, &quot;dashArray&quot;: null, &quot;dashOffset&quot;: null, &quot;fill&quot;: true, &quot;fillColor&quot;: &quot;blue&quot;, &quot;fillOpacity&quot;: 0.2, &quot;fillRule&quot;: &quot;evenodd&quot;, &quot;lineCap&quot;: &quot;round&quot;, &quot;lineJoin&quot;: &quot;round&quot;, &quot;opacity&quot;: 1.0, &quot;radius&quot;: 8, &quot;stroke&quot;: true, &quot;weight&quot;: 3}\n",
       "            ).addTo(map_1beb91663b29f690a5df5fba562d59ec);\n",
       "        \n",
       "    \n",
       "        var popup_774db07124315b69ddbf0ee28af6f6b4 = L.popup({\n",
       "  &quot;maxWidth&quot;: 400,\n",
       "});\n",
       "\n",
       "        \n",
       "            \n",
       "                var i_frame_403309c8482152a0a67eb2282ce261f7 = $(`&lt;iframe src=&quot;data:text/html;charset=utf-8;base64,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&quot; width=&quot;350&quot; style=&quot;border:none !important;&quot; height=&quot;350&quot;&gt;&lt;/iframe&gt;`)[0];\n",
       "                popup_774db07124315b69ddbf0ee28af6f6b4.setContent(i_frame_403309c8482152a0a67eb2282ce261f7);\n",
       "            \n",
       "        \n",
       "\n",
       "        circle_marker_252c7e0b04bac7bb9fd1982826818984.bindPopup(popup_774db07124315b69ddbf0ee28af6f6b4)\n",
       "        ;\n",
       "\n",
       "        \n",
       "    \n",
       "    \n",
       "            var circle_marker_d1fc985fbd6fbd63a2bc9bcbe71a4dfe = L.circleMarker(\n",
       "                [64.6863136, 97.7453061],\n",
       "                {&quot;bubblingMouseEvents&quot;: true, &quot;color&quot;: &quot;blue&quot;, &quot;dashArray&quot;: null, &quot;dashOffset&quot;: null, &quot;fill&quot;: true, &quot;fillColor&quot;: &quot;blue&quot;, &quot;fillOpacity&quot;: 0.2, &quot;fillRule&quot;: &quot;evenodd&quot;, &quot;lineCap&quot;: &quot;round&quot;, &quot;lineJoin&quot;: &quot;round&quot;, &quot;opacity&quot;: 1.0, &quot;radius&quot;: 8, &quot;stroke&quot;: true, &quot;weight&quot;: 3}\n",
       "            ).addTo(map_1beb91663b29f690a5df5fba562d59ec);\n",
       "        \n",
       "    \n",
       "        var popup_dbab62df06acb6d2a4fe95ca728dc601 = L.popup({\n",
       "  &quot;maxWidth&quot;: 400,\n",
       "});\n",
       "\n",
       "        \n",
       "            \n",
       "                var i_frame_8c726ee31fbbae03ba886e136a457e4c = $(`&lt;iframe src=&quot;data:text/html;charset=utf-8;base64,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&quot; width=&quot;350&quot; style=&quot;border:none !important;&quot; height=&quot;350&quot;&gt;&lt;/iframe&gt;`)[0];\n",
       "                popup_dbab62df06acb6d2a4fe95ca728dc601.setContent(i_frame_8c726ee31fbbae03ba886e136a457e4c);\n",
       "            \n",
       "        \n",
       "\n",
       "        circle_marker_d1fc985fbd6fbd63a2bc9bcbe71a4dfe.bindPopup(popup_dbab62df06acb6d2a4fe95ca728dc601)\n",
       "        ;\n",
       "\n",
       "        \n",
       "    \n",
       "    \n",
       "            var circle_marker_57c1d0a2ec5cdcb17f034f7ae433a17f = L.circleMarker(\n",
       "                [25.6242618, 42.3528328],\n",
       "                {&quot;bubblingMouseEvents&quot;: true, &quot;color&quot;: &quot;blue&quot;, &quot;dashArray&quot;: null, &quot;dashOffset&quot;: null, &quot;fill&quot;: true, &quot;fillColor&quot;: &quot;blue&quot;, &quot;fillOpacity&quot;: 0.2, &quot;fillRule&quot;: &quot;evenodd&quot;, &quot;lineCap&quot;: &quot;round&quot;, &quot;lineJoin&quot;: &quot;round&quot;, &quot;opacity&quot;: 1.0, &quot;radius&quot;: 8, &quot;stroke&quot;: true, &quot;weight&quot;: 3}\n",
       "            ).addTo(map_1beb91663b29f690a5df5fba562d59ec);\n",
       "        \n",
       "    \n",
       "        var popup_218cade7be0f8e47adb6cb611f945b89 = L.popup({\n",
       "  &quot;maxWidth&quot;: 400,\n",
       "});\n",
       "\n",
       "        \n",
       "            \n",
       "                var i_frame_7b9d9b04bbeddb51ed79e8cd46a09e66 = $(`&lt;iframe src=&quot;data:text/html;charset=utf-8;base64,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&quot; width=&quot;350&quot; style=&quot;border:none !important;&quot; height=&quot;350&quot;&gt;&lt;/iframe&gt;`)[0];\n",
       "                popup_218cade7be0f8e47adb6cb611f945b89.setContent(i_frame_7b9d9b04bbeddb51ed79e8cd46a09e66);\n",
       "            \n",
       "        \n",
       "\n",
       "        circle_marker_57c1d0a2ec5cdcb17f034f7ae433a17f.bindPopup(popup_218cade7be0f8e47adb6cb611f945b89)\n",
       "        ;\n",
       "\n",
       "        \n",
       "    \n",
       "    \n",
       "            var circle_marker_be3766b35715a578176de68b5589554a = L.circleMarker(\n",
       "                [1.357107, 103.8194992],\n",
       "                {&quot;bubblingMouseEvents&quot;: true, &quot;color&quot;: &quot;blue&quot;, &quot;dashArray&quot;: null, &quot;dashOffset&quot;: null, &quot;fill&quot;: true, &quot;fillColor&quot;: &quot;blue&quot;, &quot;fillOpacity&quot;: 0.2, &quot;fillRule&quot;: &quot;evenodd&quot;, &quot;lineCap&quot;: &quot;round&quot;, &quot;lineJoin&quot;: &quot;round&quot;, &quot;opacity&quot;: 1.0, &quot;radius&quot;: 8, &quot;stroke&quot;: true, &quot;weight&quot;: 3}\n",
       "            ).addTo(map_1beb91663b29f690a5df5fba562d59ec);\n",
       "        \n",
       "    \n",
       "        var popup_c1a4b6022df62eb735d8c9b18a388fa0 = L.popup({\n",
       "  &quot;maxWidth&quot;: 400,\n",
       "});\n",
       "\n",
       "        \n",
       "            \n",
       "                var i_frame_620e9d20b9a2714b6f66418adfea4a9e = $(`&lt;iframe src=&quot;data:text/html;charset=utf-8;base64,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&quot; width=&quot;350&quot; style=&quot;border:none !important;&quot; height=&quot;350&quot;&gt;&lt;/iframe&gt;`)[0];\n",
       "                popup_c1a4b6022df62eb735d8c9b18a388fa0.setContent(i_frame_620e9d20b9a2714b6f66418adfea4a9e);\n",
       "            \n",
       "        \n",
       "\n",
       "        circle_marker_be3766b35715a578176de68b5589554a.bindPopup(popup_c1a4b6022df62eb735d8c9b18a388fa0)\n",
       "        ;\n",
       "\n",
       "        \n",
       "    \n",
       "    \n",
       "            var circle_marker_ae4ef3dd41937d931f54b53e399c5453 = L.circleMarker(\n",
       "                [-28.8166236, 24.991639],\n",
       "                {&quot;bubblingMouseEvents&quot;: true, &quot;color&quot;: &quot;blue&quot;, &quot;dashArray&quot;: null, &quot;dashOffset&quot;: null, &quot;fill&quot;: true, &quot;fillColor&quot;: &quot;blue&quot;, &quot;fillOpacity&quot;: 0.2, &quot;fillRule&quot;: &quot;evenodd&quot;, &quot;lineCap&quot;: &quot;round&quot;, &quot;lineJoin&quot;: &quot;round&quot;, &quot;opacity&quot;: 1.0, &quot;radius&quot;: 8, &quot;stroke&quot;: true, &quot;weight&quot;: 3}\n",
       "            ).addTo(map_1beb91663b29f690a5df5fba562d59ec);\n",
       "        \n",
       "    \n",
       "        var popup_1fded23dd9b9584a9bc7c16fba2919b6 = L.popup({\n",
       "  &quot;maxWidth&quot;: 400,\n",
       "});\n",
       "\n",
       "        \n",
       "            \n",
       "                var i_frame_16a50df366525b53c7e04b3e209e1f64 = $(`&lt;iframe src=&quot;data:text/html;charset=utf-8;base64,CiAgICA8ZGl2PiAgICAgICAgICAgICAgICAgICAgICAgIDxzY3JpcHQgdHlwZT0idGV4dC9qYXZhc2NyaXB0Ij53aW5kb3cuUGxvdGx5Q29uZmlnID0ge01hdGhKYXhDb25maWc6ICdsb2NhbCd9Ozwvc2NyaXB0PgogICAgICAgIDxzY3JpcHQgY2hhcnNldD0idXRmLTgiIHNyYz0iaHR0cHM6Ly9jZG4ucGxvdC5seS9wbG90bHktMy4wLjEubWluLmpzIj48L3NjcmlwdD4gICAgICAgICAgICAgICAgPGRpdiBpZD0iMDgzZWE1MGMtZDVhYS00ZjVhLTk3MTgtODMyNGQyZGMzODA2IiBjbGFzcz0icGxvdGx5LWdyYXBoLWRpdiIgc3R5bGU9ImhlaWdodDozMDBweDsgd2lkdGg6MzAwcHg7Ij48L2Rpdj4gICAgICAgICAgICA8c2NyaXB0IHR5cGU9InRleHQvamF2YXNjcmlwdCI+ICAgICAgICAgICAgICAgIHdpbmRvdy5QTE9UTFlFTlY9d2luZG93LlBMT1RMWUVOViB8fCB7fTsgICAgICAgICAgICAgICAgICAgICAgICAgICAgICAgIGlmIChkb2N1bWVudC5nZXRFbGVtZW50QnlJZCgiMDgzZWE1MGMtZDVhYS00ZjVhLTk3MTgtODMyNGQyZGMzODA2IikpIHsgICAgICAgICAgICAgICAgICAgIFBsb3RseS5uZXdQbG90KCAgICAgICAgICAgICAgICAgICAgICAgICIwODNlYTUwYy1kNWFhLTRmNWEtOTcxOC04MzI0ZDJkYzM4MDYiLCAgICAgICAgICAgICAgICAgICAgICAgIFt7ImRvbWFpbiI6eyJ4IjpbMC4wLDEuMF0sInkiOlswLjAsMS4wXX0sImhvdmVydGVtcGxhdGUiOiJmb29kPSV7bGFiZWx9XHUwMDNjYnJcdTAwM2VwZXJjZW50YWdlPSV7dmFsdWV9XHUwMDNjZXh0cmFcdTAwM2VcdTAwM2NcdTAwMmZleHRyYVx1MDAzZSIsImxhYmVscyI6WyJ0aWJpY29zIGZpZyIsImtlZmlyIl0sImxlZ2VuZGdyb3VwIjoiIiwibmFtZSI6IiIsInNob3dsZWdlbmQiOnRydWUsInZhbHVlcyI6eyJkdHlwZSI6ImY4IiwiYmRhdGEiOiJTT0Y2Rks3SFMwQzRIb1hyVVRoR1FBPT0ifSwidHlwZSI6InBpZSJ9XSwgICAgICAgICAgICAgICAgICAgICAgICB7InRlbXBsYXRlIjp7ImRhdGEiOnsiaGlzdG9ncmFtMmRjb250b3VyIjpbeyJ0eXBlIjoiaGlzdG9ncmFtMmRjb250b3VyIiwiY29sb3JiYXIiOnsib3V0bGluZXdpZHRoIjowLCJ0aWNrcyI6IiJ9LCJjb2xvcnNjYWxlIjpbWzAuMCwiIzBkMDg4NyJdLFswLjExMTExMTExMTExMTExMTEsIiM0NjAzOWYiXSxbMC4yMjIyMjIyMjIyMjIyMjIyLCIjNzIwMWE4Il0sWzAuMzMzMzMzMzMzMzMzMzMzMywiIzljMTc5ZSJdLFswLjQ0NDQ0NDQ0NDQ0NDQ0NDQsIiNiZDM3ODYiXSxbMC41NTU1NTU1NTU1NTU1NTU2LCIjZDg1NzZiIl0sWzAuNjY2NjY2NjY2NjY2NjY2NiwiI2VkNzk1MyJdLFswLjc3Nzc3Nzc3Nzc3Nzc3NzgsIiNmYjlmM2EiXSxbMC44ODg4ODg4ODg4ODg4ODg4LCIjZmRjYTI2Il0sWzEuMCwiI2YwZjkyMSJdXX1dLCJjaG9yb3BsZXRoIjpbeyJ0eXBlIjoiY2hvcm9wbGV0aCIsImNvbG9yYmFyIjp7Im91dGxpbmV3aWR0aCI6MCwidGlja3MiOiIifX1dLCJoaXN0b2dyYW0yZCI6W3sidHlwZSI6Imhpc3RvZ3JhbTJkIiwiY29sb3JiYXIiOnsib3V0bGluZXdpZHRoIjowLCJ0aWNrcyI6IiJ9LCJjb2xvcnNjYWxlIjpbWzAuMCwiIzBkMDg4NyJdLFswLjExMTExMTExMTExMTExMTEsIiM0NjAzOWYiXSxbMC4yMjIyMjIyMjIyMjIyMjIyLCIjNzIwMWE4Il0sWzAuMzMzMzMzMzMzMzMzMzMzMywiIzljMTc5ZSJdLFswLjQ0NDQ0NDQ0NDQ0NDQ0NDQsIiNiZDM3ODYiXSxbMC41NTU1NTU1NTU1NTU1NTU2LCIjZDg1NzZiIl0sWzAuNjY2NjY2NjY2NjY2NjY2NiwiI2VkNzk1MyJdLFswLjc3Nzc3Nzc3Nzc3Nzc3NzgsIiNmYjlmM2EiXSxbMC44ODg4ODg4ODg4ODg4ODg4LCIjZmRjYTI2Il0sWzEuMCwiI2YwZjkyMSJdXX1dLCJoZWF0bWFwIjpbeyJ0eXBlIjoiaGVhdG1hcCIsImNvbG9yYmFyIjp7Im91dGxpbmV3aWR0aCI6MCwidGlja3MiOiIifSwiY29sb3JzY2FsZSI6W1swLjAsIiMwZDA4ODciXSxbMC4xMTExMTExMTExMTExMTExLCIjNDYwMzlmIl0sWzAuMjIyMjIyMjIyMjIyMjIyMiwiIzcyMDFhOCJdLFswLjMzMzMzMzMzMzMzMzMzMzMsIiM5YzE3OWUiXSxbMC40NDQ0NDQ0NDQ0NDQ0NDQ0LCIjYmQzNzg2Il0sWzAuNTU1NTU1NTU1NTU1NTU1NiwiI2Q4NTc2YiJdLFswLjY2NjY2NjY2NjY2NjY2NjYsIiNlZDc5NTMiXSxbMC43Nzc3Nzc3Nzc3Nzc3Nzc4LCIjZmI5ZjNhIl0sWzAuODg4ODg4ODg4ODg4ODg4OCwiI2ZkY2EyNiJdLFsxLjAsIiNmMGY5MjEiXV19XSwiY29udG91cmNhcnBldCI6W3sidHlwZSI6ImNvbnRvdXJjYXJwZXQiLCJjb2xvcmJhciI6eyJvdXRsaW5ld2lkdGgiOjAsInRpY2tzIjoiIn19XSwiY29udG91ciI6W3sidHlwZSI6ImNvbnRvdXIiLCJjb2xvcmJhciI6eyJvdXRsaW5ld2lkdGgiOjAsInRpY2tzIjoiIn0sImNvbG9yc2NhbGUiOltbMC4wLCIjMGQwODg3Il0sWzAuMTExMTExMTExMTExMTExMSwiIzQ2MDM5ZiJdLFswLjIyMjIyMjIyMjIyMjIyMjIsIiM3MjAxYTgiXSxbMC4zMzMzMzMzMzMzMzMzMzMzLCIjOWMxNzllIl0sWzAuNDQ0NDQ0NDQ0NDQ0NDQ0NCwiI2JkMzc4NiJdLFswLjU1NTU1NTU1NTU1NTU1NTYsIiNkODU3NmIiXSxbMC42NjY2NjY2NjY2NjY2NjY2LCIjZWQ3OTUzIl0sWzAuNzc3Nzc3Nzc3Nzc3Nzc3OCwiI2ZiOWYzYSJdLFswLjg4ODg4ODg4ODg4ODg4ODgsIiNmZGNhMjYiXSxbMS4wLCIjZjBmOTIxIl1dfV0sInN1cmZhY2UiOlt7InR5cGUiOiJzdXJmYWNlIiwiY29sb3JiYXIiOnsib3V0bGluZXdpZHRoIjowLCJ0aWNrcyI6IiJ9LCJjb2xvcnNjYWxlIjpbWzAuMCwiIzBkMDg4NyJdLFswLjExMTExMTExMTExMTExMTEsIiM0NjAzOWYiXSxbMC4yMjIyMjIyMjIyMjIyMjIyLCIjNzIwMWE4Il0sWzAuMzMzMzMzMzMzMzMzMzMzMywiIzljMTc5ZSJdLFswLjQ0NDQ0NDQ0NDQ0NDQ0NDQsIiNiZDM3ODYiXSxbMC41NTU1NTU1NTU1NTU1NTU2LCIjZDg1NzZiIl0sWzAuNjY2NjY2NjY2NjY2NjY2NiwiI2VkNzk1MyJdLFswLjc3Nzc3Nzc3Nzc3Nzc3NzgsIiNmYjlmM2EiXSxbMC44ODg4ODg4ODg4ODg4ODg4LCIjZmRjYTI2Il0sWzEuMCwiI2YwZjkyMSJdXX1dLCJtZXNoM2QiOlt7InR5cGUiOiJtZXNoM2QiLCJjb2xvcmJhciI6eyJvdXRsaW5ld2lkdGgiOjAsInRpY2tzIjoiIn19XSwic2NhdHRlciI6W3siZmlsbHBhdHRlcm4iOnsiZmlsbG1vZGUiOiJvdmVybGF5Iiwic2l6ZSI6MTAsInNvbGlkaXR5IjowLjJ9LCJ0eXBlIjoic2NhdHRlciJ9XSwicGFyY29vcmRzIjpbeyJ0eXBlIjoicGFyY29vcmRzIiwibGluZSI6eyJjb2xvcmJhciI6eyJvdXRsaW5ld2lkdGgiOjAsInRpY2tzIjoiIn19fV0sInNjYXR0ZXJwb2xhcmdsIjpbeyJ0eXBlIjoic2NhdHRlcnBvbGFyZ2wiLCJtYXJrZXIiOnsiY29sb3JiYXIiOnsib3V0bGluZXdpZHRoIjowLCJ0aWNrcyI6IiJ9fX1dLCJiYXIiOlt7ImVycm9yX3giOnsiY29sb3IiOiIjMmEzZjVmIn0sImVycm9yX3kiOnsiY29sb3IiOiIjMmEzZjVmIn0sIm1hcmtlciI6eyJsaW5lIjp7ImNvbG9yIjoiI0U1RUNGNiIsIndpZHRoIjowLjV9LCJwYXR0ZXJuIjp7ImZpbGxtb2RlIjoib3ZlcmxheSIsInNpemUiOjEwLCJzb2xpZGl0eSI6MC4yfX0sInR5cGUiOiJiYXIifV0sInNjYXR0ZXJnZW8iOlt7InR5cGUiOiJzY2F0dGVyZ2VvIiwibWFya2VyIjp7ImNvbG9yYmFyIjp7Im91dGxpbmV3aWR0aCI6MCwidGlja3MiOiIifX19XSwic2NhdHRlcnBvbGFyIjpbeyJ0eXBlIjoic2NhdHRlcnBvbGFyIiwibWFya2VyIjp7ImNvbG9yYmFyIjp7Im91dGxpbmV3aWR0aCI6MCwidGlja3MiOiIifX19XSwiaGlzdG9ncmFtIjpbeyJtYXJrZXIiOnsicGF0dGVybiI6eyJmaWxsbW9kZSI6Im92ZXJsYXkiLCJzaXplIjoxMCwic29saWRpdHkiOjAuMn19LCJ0eXBlIjoiaGlzdG9ncmFtIn1dLCJzY2F0dGVyZ2wiOlt7InR5cGUiOiJzY2F0dGVyZ2wiLCJtYXJrZXIiOnsiY29sb3JiYXIiOnsib3V0bGluZXdpZHRoIjowLCJ0aWNrcyI6IiJ9fX1dLCJzY2F0dGVyM2QiOlt7InR5cGUiOiJzY2F0dGVyM2QiLCJsaW5lIjp7ImNvbG9yYmFyIjp7Im91dGxpbmV3aWR0aCI6MCwidGlja3MiOiIifX0sIm1hcmtlciI6eyJjb2xvcmJhciI6eyJvdXRsaW5ld2lkdGgiOjAsInRpY2tzIjoiIn19fV0sInNjYXR0ZXJtYXAiOlt7InR5cGUiOiJzY2F0dGVybWFwIiwibWFya2VyIjp7ImNvbG9yYmFyIjp7Im91dGxpbmV3aWR0aCI6MCwidGlja3MiOiIifX19XSwic2NhdHRlcm1hcGJveCI6W3sidHlwZSI6InNjYXR0ZXJtYXBib3giLCJtYXJrZXIiOnsiY29sb3JiYXIiOnsib3V0bGluZXdpZHRoIjowLCJ0aWNrcyI6IiJ9fX1dLCJzY2F0dGVydGVybmFyeSI6W3sidHlwZSI6InNjYXR0ZXJ0ZXJuYXJ5IiwibWFya2VyIjp7ImNvbG9yYmFyIjp7Im91dGxpbmV3aWR0aCI6MCwidGlja3MiOiIifX19XSwic2NhdHRlcmNhcnBldCI6W3sidHlwZSI6InNjYXR0ZXJjYXJwZXQiLCJtYXJrZXIiOnsiY29sb3JiYXIiOnsib3V0bGluZXdpZHRoIjowLCJ0aWNrcyI6IiJ9fX1dLCJjYXJwZXQiOlt7ImFheGlzIjp7ImVuZGxpbmVjb2xvciI6IiMyYTNmNWYiLCJncmlkY29sb3IiOiJ3aGl0ZSIsImxpbmVjb2xvciI6IndoaXRlIiwibWlub3JncmlkY29sb3IiOiJ3aGl0ZSIsInN0YXJ0bGluZWNvbG9yIjoiIzJhM2Y1ZiJ9LCJiYXhpcyI6eyJlbmRsaW5lY29sb3IiOiIjMmEzZjVmIiwiZ3JpZGNvbG9yIjoid2hpdGUiLCJsaW5lY29sb3IiOiJ3aGl0ZSIsIm1pbm9yZ3JpZGNvbG9yIjoid2hpdGUiLCJzdGFydGxpbmVjb2xvciI6IiMyYTNmNWYifSwidHlwZSI6ImNhcnBldCJ9XSwidGFibGUiOlt7ImNlbGxzIjp7ImZpbGwiOnsiY29sb3IiOiIjRUJGMEY4In0sImxpbmUiOnsiY29sb3IiOiJ3aGl0ZSJ9fSwiaGVhZGVyIjp7ImZpbGwiOnsiY29sb3IiOiIjQzhENEUzIn0sImxpbmUiOnsiY29sb3IiOiJ3aGl0ZSJ9fSwidHlwZSI6InRhYmxlIn1dLCJiYXJwb2xhciI6W3sibWFya2VyIjp7ImxpbmUiOnsiY29sb3IiOiIjRTVFQ0Y2Iiwid2lkdGgiOjAuNX0sInBhdHRlcm4iOnsiZmlsbG1vZGUiOiJvdmVybGF5Iiwic2l6ZSI6MTAsInNvbGlkaXR5IjowLjJ9fSwidHlwZSI6ImJhcnBvbGFyIn1dLCJwaWUiOlt7ImF1dG9tYXJnaW4iOnRydWUsInR5cGUiOiJwaWUifV19LCJsYXlvdXQiOnsiYXV0b3R5cGVudW1iZXJzIjoic3RyaWN0IiwiY29sb3J3YXkiOlsiIzYzNmVmYSIsIiNFRjU1M0IiLCIjMDBjYzk2IiwiI2FiNjNmYSIsIiNGRkExNUEiLCIjMTlkM2YzIiwiI0ZGNjY5MiIsIiNCNkU4ODAiLCIjRkY5N0ZGIiwiI0ZFQ0I1MiJdLCJmb250Ijp7ImNvbG9yIjoiIzJhM2Y1ZiJ9LCJob3Zlcm1vZGUiOiJjbG9zZXN0IiwiaG92ZXJsYWJlbCI6eyJhbGlnbiI6ImxlZnQifSwicGFwZXJfYmdjb2xvciI6IndoaXRlIiwicGxvdF9iZ2NvbG9yIjoiI0U1RUNGNiIsInBvbGFyIjp7ImJnY29sb3IiOiIjRTVFQ0Y2IiwiYW5ndWxhcmF4aXMiOnsiZ3JpZGNvbG9yIjoid2hpdGUiLCJsaW5lY29sb3IiOiJ3aGl0ZSIsInRpY2tzIjoiIn0sInJhZGlhbGF4aXMiOnsiZ3JpZGNvbG9yIjoid2hpdGUiLCJsaW5lY29sb3IiOiJ3aGl0ZSIsInRpY2tzIjoiIn19LCJ0ZXJuYXJ5Ijp7ImJnY29sb3IiOiIjRTVFQ0Y2IiwiYWF4aXMiOnsiZ3JpZGNvbG9yIjoid2hpdGUiLCJsaW5lY29sb3IiOiJ3aGl0ZSIsInRpY2tzIjoiIn0sImJheGlzIjp7ImdyaWRjb2xvciI6IndoaXRlIiwibGluZWNvbG9yIjoid2hpdGUiLCJ0aWNrcyI6IiJ9LCJjYXhpcyI6eyJncmlkY29sb3IiOiJ3aGl0ZSIsImxpbmVjb2xvciI6IndoaXRlIiwidGlja3MiOiIifX0sImNvbG9yYXhpcyI6eyJjb2xvcmJhciI6eyJvdXRsaW5ld2lkdGgiOjAsInRpY2tzIjoiIn19LCJjb2xvcnNjYWxlIjp7InNlcXVlbnRpYWwiOltbMC4wLCIjMGQwODg3Il0sWzAuMTExMTExMTExMTExMTExMSwiIzQ2MDM5ZiJdLFswLjIyMjIyMjIyMjIyMjIyMjIsIiM3MjAxYTgiXSxbMC4zMzMzMzMzMzMzMzMzMzMzLCIjOWMxNzllIl0sWzAuNDQ0NDQ0NDQ0NDQ0NDQ0NCwiI2JkMzc4NiJdLFswLjU1NTU1NTU1NTU1NTU1NTYsIiNkODU3NmIiXSxbMC42NjY2NjY2NjY2NjY2NjY2LCIjZWQ3OTUzIl0sWzAuNzc3Nzc3Nzc3Nzc3Nzc3OCwiI2ZiOWYzYSJdLFswLjg4ODg4ODg4ODg4ODg4ODgsIiNmZGNhMjYiXSxbMS4wLCIjZjBmOTIxIl1dLCJzZXF1ZW50aWFsbWludXMiOltbMC4wLCIjMGQwODg3Il0sWzAuMTExMTExMTExMTExMTExMSwiIzQ2MDM5ZiJdLFswLjIyMjIyMjIyMjIyMjIyMjIsIiM3MjAxYTgiXSxbMC4zMzMzMzMzMzMzMzMzMzMzLCIjOWMxNzllIl0sWzAuNDQ0NDQ0NDQ0NDQ0NDQ0NCwiI2JkMzc4NiJdLFswLjU1NTU1NTU1NTU1NTU1NTYsIiNkODU3NmIiXSxbMC42NjY2NjY2NjY2NjY2NjY2LCIjZWQ3OTUzIl0sWzAuNzc3Nzc3Nzc3Nzc3Nzc3OCwiI2ZiOWYzYSJdLFswLjg4ODg4ODg4ODg4ODg4ODgsIiNmZGNhMjYiXSxbMS4wLCIjZjBmOTIxIl1dLCJkaXZlcmdpbmciOltbMCwiIzhlMDE1MiJdLFswLjEsIiNjNTFiN2QiXSxbMC4yLCIjZGU3N2FlIl0sWzAuMywiI2YxYjZkYSJdLFswLjQsIiNmZGUwZWYiXSxbMC41LCIjZjdmN2Y3Il0sWzAuNiwiI2U2ZjVkMCJdLFswLjcsIiNiOGUxODYiXSxbMC44LCIjN2ZiYzQxIl0sWzAuOSwiIzRkOTIyMSJdLFsxLCIjMjc2NDE5Il1dfSwieGF4aXMiOnsiZ3JpZGNvbG9yIjoid2hpdGUiLCJsaW5lY29sb3IiOiJ3aGl0ZSIsInRpY2tzIjoiIiwidGl0bGUiOnsic3RhbmRvZmYiOjE1fSwiemVyb2xpbmVjb2xvciI6IndoaXRlIiwiYXV0b21hcmdpbiI6dHJ1ZSwiemVyb2xpbmV3aWR0aCI6Mn0sInlheGlzIjp7ImdyaWRjb2xvciI6IndoaXRlIiwibGluZWNvbG9yIjoid2hpdGUiLCJ0aWNrcyI6IiIsInRpdGxlIjp7InN0YW5kb2ZmIjoxNX0sInplcm9saW5lY29sb3IiOiJ3aGl0ZSIsImF1dG9tYXJnaW4iOnRydWUsInplcm9saW5ld2lkdGgiOjJ9LCJzY2VuZSI6eyJ4YXhpcyI6eyJiYWNrZ3JvdW5kY29sb3IiOiIjRTVFQ0Y2IiwiZ3JpZGNvbG9yIjoid2hpdGUiLCJsaW5lY29sb3IiOiJ3aGl0ZSIsInNob3diYWNrZ3JvdW5kIjp0cnVlLCJ0aWNrcyI6IiIsInplcm9saW5lY29sb3IiOiJ3aGl0ZSIsImdyaWR3aWR0aCI6Mn0sInlheGlzIjp7ImJhY2tncm91bmRjb2xvciI6IiNFNUVDRjYiLCJncmlkY29sb3IiOiJ3aGl0ZSIsImxpbmVjb2xvciI6IndoaXRlIiwic2hvd2JhY2tncm91bmQiOnRydWUsInRpY2tzIjoiIiwiemVyb2xpbmVjb2xvciI6IndoaXRlIiwiZ3JpZHdpZHRoIjoyfSwiemF4aXMiOnsiYmFja2dyb3VuZGNvbG9yIjoiI0U1RUNGNiIsImdyaWRjb2xvciI6IndoaXRlIiwibGluZWNvbG9yIjoid2hpdGUiLCJzaG93YmFja2dyb3VuZCI6dHJ1ZSwidGlja3MiOiIiLCJ6ZXJvbGluZWNvbG9yIjoid2hpdGUiLCJncmlkd2lkdGgiOjJ9fSwic2hhcGVkZWZhdWx0cyI6eyJsaW5lIjp7ImNvbG9yIjoiIzJhM2Y1ZiJ9fSwiYW5ub3RhdGlvbmRlZmF1bHRzIjp7ImFycm93Y29sb3IiOiIjMmEzZjVmIiwiYXJyb3doZWFkIjowLCJhcnJvd3dpZHRoIjoxfSwiZ2VvIjp7ImJnY29sb3IiOiJ3aGl0ZSIsImxhbmRjb2xvciI6IiNFNUVDRjYiLCJzdWJ1bml0Y29sb3IiOiJ3aGl0ZSIsInNob3dsYW5kIjp0cnVlLCJzaG93bGFrZXMiOnRydWUsImxha2Vjb2xvciI6IndoaXRlIn0sInRpdGxlIjp7IngiOjAuMDV9LCJtYXBib3giOnsic3R5bGUiOiJsaWdodCJ9fX0sImxlZ2VuZCI6eyJ0cmFjZWdyb3VwZ2FwIjowLCJvcmllbnRhdGlvbiI6ImgiLCJ5YW5jaG9yIjoiYm90dG9tIiwieSI6LTAuMywieGFuY2hvciI6ImNlbnRlciIsIngiOjAuNX0sInRpdGxlIjp7InRleHQiOiJTb3V0aCBBZnJpY2EifSwibWFyZ2luIjp7ImwiOjIwLCJyIjoyMCwidCI6NDAsImIiOjIwfSwid2lkdGgiOjMwMCwiaGVpZ2h0IjozMDAsInNob3dsZWdlbmQiOnRydWV9LCAgICAgICAgICAgICAgICAgICAgICAgIHsiZGlzcGxheU1vZGVCYXIiOiBmYWxzZSwgInJlc3BvbnNpdmUiOiB0cnVlfSAgICAgICAgICAgICAgICAgICAgKSAgICAgICAgICAgICAgICB9OyAgICAgICAgICAgIDwvc2NyaXB0PiAgICAgICAgPC9kaXY+&quot; width=&quot;350&quot; style=&quot;border:none !important;&quot; height=&quot;350&quot;&gt;&lt;/iframe&gt;`)[0];\n",
       "                popup_1fded23dd9b9584a9bc7c16fba2919b6.setContent(i_frame_16a50df366525b53c7e04b3e209e1f64);\n",
       "            \n",
       "        \n",
       "\n",
       "        circle_marker_ae4ef3dd41937d931f54b53e399c5453.bindPopup(popup_1fded23dd9b9584a9bc7c16fba2919b6)\n",
       "        ;\n",
       "\n",
       "        \n",
       "    \n",
       "    \n",
       "            var circle_marker_369779526540b1730afe712be48665f0 = L.circleMarker(\n",
       "                [39.3260685, -4.8379791],\n",
       "                {&quot;bubblingMouseEvents&quot;: true, &quot;color&quot;: &quot;blue&quot;, &quot;dashArray&quot;: null, &quot;dashOffset&quot;: null, &quot;fill&quot;: true, &quot;fillColor&quot;: &quot;blue&quot;, &quot;fillOpacity&quot;: 0.2, &quot;fillRule&quot;: &quot;evenodd&quot;, &quot;lineCap&quot;: &quot;round&quot;, &quot;lineJoin&quot;: &quot;round&quot;, &quot;opacity&quot;: 1.0, &quot;radius&quot;: 8, &quot;stroke&quot;: true, &quot;weight&quot;: 3}\n",
       "            ).addTo(map_1beb91663b29f690a5df5fba562d59ec);\n",
       "        \n",
       "    \n",
       "        var popup_00c7f912c0c784872d4059a0d813a465 = L.popup({\n",
       "  &quot;maxWidth&quot;: 400,\n",
       "});\n",
       "\n",
       "        \n",
       "            \n",
       "                var i_frame_098e3245ad6f44e41d1d5110fed26867 = $(`&lt;iframe src=&quot;data:text/html;charset=utf-8;base64,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&quot; width=&quot;350&quot; style=&quot;border:none !important;&quot; height=&quot;350&quot;&gt;&lt;/iframe&gt;`)[0];\n",
       "                popup_00c7f912c0c784872d4059a0d813a465.setContent(i_frame_098e3245ad6f44e41d1d5110fed26867);\n",
       "            \n",
       "        \n",
       "\n",
       "        circle_marker_369779526540b1730afe712be48665f0.bindPopup(popup_00c7f912c0c784872d4059a0d813a465)\n",
       "        ;\n",
       "\n",
       "        \n",
       "    \n",
       "    \n",
       "            var circle_marker_e51b51d7492b4f8ec60b8fb6b76f8bbc = L.circleMarker(\n",
       "                [59.6749712, 14.5208584],\n",
       "                {&quot;bubblingMouseEvents&quot;: true, &quot;color&quot;: &quot;blue&quot;, &quot;dashArray&quot;: null, &quot;dashOffset&quot;: null, &quot;fill&quot;: true, &quot;fillColor&quot;: &quot;blue&quot;, &quot;fillOpacity&quot;: 0.2, &quot;fillRule&quot;: &quot;evenodd&quot;, &quot;lineCap&quot;: &quot;round&quot;, &quot;lineJoin&quot;: &quot;round&quot;, &quot;opacity&quot;: 1.0, &quot;radius&quot;: 8, &quot;stroke&quot;: true, &quot;weight&quot;: 3}\n",
       "            ).addTo(map_1beb91663b29f690a5df5fba562d59ec);\n",
       "        \n",
       "    \n",
       "        var popup_41cf36262effcbf4eadf46a9a6e8a37f = L.popup({\n",
       "  &quot;maxWidth&quot;: 400,\n",
       "});\n",
       "\n",
       "        \n",
       "            \n",
       "                var i_frame_34958c79d2a4391dccc3566d4edbad53 = $(`&lt;iframe src=&quot;data:text/html;charset=utf-8;base64,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&quot; width=&quot;350&quot; style=&quot;border:none !important;&quot; height=&quot;350&quot;&gt;&lt;/iframe&gt;`)[0];\n",
       "                popup_41cf36262effcbf4eadf46a9a6e8a37f.setContent(i_frame_34958c79d2a4391dccc3566d4edbad53);\n",
       "            \n",
       "        \n",
       "\n",
       "        circle_marker_e51b51d7492b4f8ec60b8fb6b76f8bbc.bindPopup(popup_41cf36262effcbf4eadf46a9a6e8a37f)\n",
       "        ;\n",
       "\n",
       "        \n",
       "    \n",
       "    \n",
       "            var circle_marker_ba2b2cdadf1a22531f073af40790847d = L.circleMarker(\n",
       "                [46.7985624, 8.2319736],\n",
       "                {&quot;bubblingMouseEvents&quot;: true, &quot;color&quot;: &quot;blue&quot;, &quot;dashArray&quot;: null, &quot;dashOffset&quot;: null, &quot;fill&quot;: true, &quot;fillColor&quot;: &quot;blue&quot;, &quot;fillOpacity&quot;: 0.2, &quot;fillRule&quot;: &quot;evenodd&quot;, &quot;lineCap&quot;: &quot;round&quot;, &quot;lineJoin&quot;: &quot;round&quot;, &quot;opacity&quot;: 1.0, &quot;radius&quot;: 8, &quot;stroke&quot;: true, &quot;weight&quot;: 3}\n",
       "            ).addTo(map_1beb91663b29f690a5df5fba562d59ec);\n",
       "        \n",
       "    \n",
       "        var popup_c3ad0fa7f1515f0f37e4a221adf4c764 = L.popup({\n",
       "  &quot;maxWidth&quot;: 400,\n",
       "});\n",
       "\n",
       "        \n",
       "            \n",
       "                var i_frame_f0444649a34d485badcd6905229e949b = $(`&lt;iframe src=&quot;data:text/html;charset=utf-8;base64,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&quot; width=&quot;350&quot; style=&quot;border:none !important;&quot; height=&quot;350&quot;&gt;&lt;/iframe&gt;`)[0];\n",
       "                popup_c3ad0fa7f1515f0f37e4a221adf4c764.setContent(i_frame_f0444649a34d485badcd6905229e949b);\n",
       "            \n",
       "        \n",
       "\n",
       "        circle_marker_ba2b2cdadf1a22531f073af40790847d.bindPopup(popup_c3ad0fa7f1515f0f37e4a221adf4c764)\n",
       "        ;\n",
       "\n",
       "        \n",
       "    \n",
       "    \n",
       "            var circle_marker_66323d56a6fc70d7fffaec7d2209cdb2 = L.circleMarker(\n",
       "                [23.5983227, 120.8353769],\n",
       "                {&quot;bubblingMouseEvents&quot;: true, &quot;color&quot;: &quot;blue&quot;, &quot;dashArray&quot;: null, &quot;dashOffset&quot;: null, &quot;fill&quot;: true, &quot;fillColor&quot;: &quot;blue&quot;, &quot;fillOpacity&quot;: 0.2, &quot;fillRule&quot;: &quot;evenodd&quot;, &quot;lineCap&quot;: &quot;round&quot;, &quot;lineJoin&quot;: &quot;round&quot;, &quot;opacity&quot;: 1.0, &quot;radius&quot;: 8, &quot;stroke&quot;: true, &quot;weight&quot;: 3}\n",
       "            ).addTo(map_1beb91663b29f690a5df5fba562d59ec);\n",
       "        \n",
       "    \n",
       "        var popup_9620332db04e491b5ce79052d568eef5 = L.popup({\n",
       "  &quot;maxWidth&quot;: 400,\n",
       "});\n",
       "\n",
       "        \n",
       "            \n",
       "                var i_frame_3e5d7a244d31dddca3df3018ba068cbb = $(`&lt;iframe src=&quot;data:text/html;charset=utf-8;base64,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&quot; width=&quot;350&quot; style=&quot;border:none !important;&quot; height=&quot;350&quot;&gt;&lt;/iframe&gt;`)[0];\n",
       "                popup_9620332db04e491b5ce79052d568eef5.setContent(i_frame_3e5d7a244d31dddca3df3018ba068cbb);\n",
       "            \n",
       "        \n",
       "\n",
       "        circle_marker_66323d56a6fc70d7fffaec7d2209cdb2.bindPopup(popup_9620332db04e491b5ce79052d568eef5)\n",
       "        ;\n",
       "\n",
       "        \n",
       "    \n",
       "    \n",
       "            var circle_marker_a4eee36498ecf280516964e996dc45e0 = L.circleMarker(\n",
       "                [14.8971921, 100.83273],\n",
       "                {&quot;bubblingMouseEvents&quot;: true, &quot;color&quot;: &quot;blue&quot;, &quot;dashArray&quot;: null, &quot;dashOffset&quot;: null, &quot;fill&quot;: true, &quot;fillColor&quot;: &quot;blue&quot;, &quot;fillOpacity&quot;: 0.2, &quot;fillRule&quot;: &quot;evenodd&quot;, &quot;lineCap&quot;: &quot;round&quot;, &quot;lineJoin&quot;: &quot;round&quot;, &quot;opacity&quot;: 1.0, &quot;radius&quot;: 8, &quot;stroke&quot;: true, &quot;weight&quot;: 3}\n",
       "            ).addTo(map_1beb91663b29f690a5df5fba562d59ec);\n",
       "        \n",
       "    \n",
       "        var popup_7006430c70add86adc500c6d5d432123 = L.popup({\n",
       "  &quot;maxWidth&quot;: 400,\n",
       "});\n",
       "\n",
       "        \n",
       "            \n",
       "                var i_frame_a29634f88a1fe7dd9911e19fa6248229 = $(`&lt;iframe src=&quot;data:text/html;charset=utf-8;base64,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&quot; width=&quot;350&quot; style=&quot;border:none !important;&quot; height=&quot;350&quot;&gt;&lt;/iframe&gt;`)[0];\n",
       "                popup_7006430c70add86adc500c6d5d432123.setContent(i_frame_a29634f88a1fe7dd9911e19fa6248229);\n",
       "            \n",
       "        \n",
       "\n",
       "        circle_marker_a4eee36498ecf280516964e996dc45e0.bindPopup(popup_7006430c70add86adc500c6d5d432123)\n",
       "        ;\n",
       "\n",
       "        \n",
       "    \n",
       "    \n",
       "            var circle_marker_d08c42d145115e2b73ff5b7fe21ea2fb = L.circleMarker(\n",
       "                [33.8439408, 9.400138],\n",
       "                {&quot;bubblingMouseEvents&quot;: true, &quot;color&quot;: &quot;blue&quot;, &quot;dashArray&quot;: null, &quot;dashOffset&quot;: null, &quot;fill&quot;: true, &quot;fillColor&quot;: &quot;blue&quot;, &quot;fillOpacity&quot;: 0.2, &quot;fillRule&quot;: &quot;evenodd&quot;, &quot;lineCap&quot;: &quot;round&quot;, &quot;lineJoin&quot;: &quot;round&quot;, &quot;opacity&quot;: 1.0, &quot;radius&quot;: 8, &quot;stroke&quot;: true, &quot;weight&quot;: 3}\n",
       "            ).addTo(map_1beb91663b29f690a5df5fba562d59ec);\n",
       "        \n",
       "    \n",
       "        var popup_e353d6f47e8f3da571857ff17ae92a04 = L.popup({\n",
       "  &quot;maxWidth&quot;: 400,\n",
       "});\n",
       "\n",
       "        \n",
       "            \n",
       "                var i_frame_675706375f2a5ef20d3a17ccf9ef7908 = $(`&lt;iframe src=&quot;data:text/html;charset=utf-8;base64,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&quot; width=&quot;350&quot; style=&quot;border:none !important;&quot; height=&quot;350&quot;&gt;&lt;/iframe&gt;`)[0];\n",
       "                popup_e353d6f47e8f3da571857ff17ae92a04.setContent(i_frame_675706375f2a5ef20d3a17ccf9ef7908);\n",
       "            \n",
       "        \n",
       "\n",
       "        circle_marker_d08c42d145115e2b73ff5b7fe21ea2fb.bindPopup(popup_e353d6f47e8f3da571857ff17ae92a04)\n",
       "        ;\n",
       "\n",
       "        \n",
       "    \n",
       "    \n",
       "            var circle_marker_f791cf31a5163aa51910eab4a9e78f2f = L.circleMarker(\n",
       "                [39.294076, 35.2316631],\n",
       "                {&quot;bubblingMouseEvents&quot;: true, &quot;color&quot;: &quot;blue&quot;, &quot;dashArray&quot;: null, &quot;dashOffset&quot;: null, &quot;fill&quot;: true, &quot;fillColor&quot;: &quot;blue&quot;, &quot;fillOpacity&quot;: 0.2, &quot;fillRule&quot;: &quot;evenodd&quot;, &quot;lineCap&quot;: &quot;round&quot;, &quot;lineJoin&quot;: &quot;round&quot;, &quot;opacity&quot;: 1.0, &quot;radius&quot;: 8, &quot;stroke&quot;: true, &quot;weight&quot;: 3}\n",
       "            ).addTo(map_1beb91663b29f690a5df5fba562d59ec);\n",
       "        \n",
       "    \n",
       "        var popup_bee28f6e131a0c62d1eb174f8050eed2 = L.popup({\n",
       "  &quot;maxWidth&quot;: 400,\n",
       "});\n",
       "\n",
       "        \n",
       "            \n",
       "                var i_frame_70c7fcb40c148feb4102cc6b8d52dde6 = $(`&lt;iframe src=&quot;data:text/html;charset=utf-8;base64,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&quot; width=&quot;350&quot; style=&quot;border:none !important;&quot; height=&quot;350&quot;&gt;&lt;/iframe&gt;`)[0];\n",
       "                popup_bee28f6e131a0c62d1eb174f8050eed2.setContent(i_frame_70c7fcb40c148feb4102cc6b8d52dde6);\n",
       "            \n",
       "        \n",
       "\n",
       "        circle_marker_f791cf31a5163aa51910eab4a9e78f2f.bindPopup(popup_bee28f6e131a0c62d1eb174f8050eed2)\n",
       "        ;\n",
       "\n",
       "        \n",
       "    \n",
       "    \n",
       "            var circle_marker_1ff6d1953660c88bbc085af3797f5217 = L.circleMarker(\n",
       "                [39.294076, 35.2316631],\n",
       "                {&quot;bubblingMouseEvents&quot;: true, &quot;color&quot;: &quot;blue&quot;, &quot;dashArray&quot;: null, &quot;dashOffset&quot;: null, &quot;fill&quot;: true, &quot;fillColor&quot;: &quot;blue&quot;, &quot;fillOpacity&quot;: 0.2, &quot;fillRule&quot;: &quot;evenodd&quot;, &quot;lineCap&quot;: &quot;round&quot;, &quot;lineJoin&quot;: &quot;round&quot;, &quot;opacity&quot;: 1.0, &quot;radius&quot;: 8, &quot;stroke&quot;: true, &quot;weight&quot;: 3}\n",
       "            ).addTo(map_1beb91663b29f690a5df5fba562d59ec);\n",
       "        \n",
       "    \n",
       "        var popup_11bee17aef7fa0d5b25c712c17b5b911 = L.popup({\n",
       "  &quot;maxWidth&quot;: 400,\n",
       "});\n",
       "\n",
       "        \n",
       "            \n",
       "                var i_frame_1f0bdaa69e3b8f8b85e3c66951a9f0a7 = $(`&lt;iframe src=&quot;data:text/html;charset=utf-8;base64,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&quot; width=&quot;350&quot; style=&quot;border:none !important;&quot; height=&quot;350&quot;&gt;&lt;/iframe&gt;`)[0];\n",
       "                popup_11bee17aef7fa0d5b25c712c17b5b911.setContent(i_frame_1f0bdaa69e3b8f8b85e3c66951a9f0a7);\n",
       "            \n",
       "        \n",
       "\n",
       "        circle_marker_1ff6d1953660c88bbc085af3797f5217.bindPopup(popup_11bee17aef7fa0d5b25c712c17b5b911)\n",
       "        ;\n",
       "\n",
       "        \n",
       "    \n",
       "    \n",
       "            var circle_marker_c169c776186c00fbe598aa995b65523e = L.circleMarker(\n",
       "                [39.7837304, -100.445882],\n",
       "                {&quot;bubblingMouseEvents&quot;: true, &quot;color&quot;: &quot;blue&quot;, &quot;dashArray&quot;: null, &quot;dashOffset&quot;: null, &quot;fill&quot;: true, &quot;fillColor&quot;: &quot;blue&quot;, &quot;fillOpacity&quot;: 0.2, &quot;fillRule&quot;: &quot;evenodd&quot;, &quot;lineCap&quot;: &quot;round&quot;, &quot;lineJoin&quot;: &quot;round&quot;, &quot;opacity&quot;: 1.0, &quot;radius&quot;: 8, &quot;stroke&quot;: true, &quot;weight&quot;: 3}\n",
       "            ).addTo(map_1beb91663b29f690a5df5fba562d59ec);\n",
       "        \n",
       "    \n",
       "        var popup_80fcb2ee59c9e53bcc3eeedcc0172d68 = L.popup({\n",
       "  &quot;maxWidth&quot;: 400,\n",
       "});\n",
       "\n",
       "        \n",
       "            \n",
       "                var i_frame_a1910fffebb82170d4ca7e24819f620d = $(`&lt;iframe src=&quot;data:text/html;charset=utf-8;base64,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&quot; width=&quot;350&quot; style=&quot;border:none !important;&quot; height=&quot;350&quot;&gt;&lt;/iframe&gt;`)[0];\n",
       "                popup_80fcb2ee59c9e53bcc3eeedcc0172d68.setContent(i_frame_a1910fffebb82170d4ca7e24819f620d);\n",
       "            \n",
       "        \n",
       "\n",
       "        circle_marker_c169c776186c00fbe598aa995b65523e.bindPopup(popup_80fcb2ee59c9e53bcc3eeedcc0172d68)\n",
       "        ;\n",
       "\n",
       "        \n",
       "    \n",
       "    \n",
       "            var circle_marker_98b969dfaf622c886aef8696426e568f = L.circleMarker(\n",
       "                [54.7023545, -3.2765753],\n",
       "                {&quot;bubblingMouseEvents&quot;: true, &quot;color&quot;: &quot;blue&quot;, &quot;dashArray&quot;: null, &quot;dashOffset&quot;: null, &quot;fill&quot;: true, &quot;fillColor&quot;: &quot;blue&quot;, &quot;fillOpacity&quot;: 0.2, &quot;fillRule&quot;: &quot;evenodd&quot;, &quot;lineCap&quot;: &quot;round&quot;, &quot;lineJoin&quot;: &quot;round&quot;, &quot;opacity&quot;: 1.0, &quot;radius&quot;: 8, &quot;stroke&quot;: true, &quot;weight&quot;: 3}\n",
       "            ).addTo(map_1beb91663b29f690a5df5fba562d59ec);\n",
       "        \n",
       "    \n",
       "        var popup_570529d3310cc58b1418139bee78cb14 = L.popup({\n",
       "  &quot;maxWidth&quot;: 400,\n",
       "});\n",
       "\n",
       "        \n",
       "            \n",
       "                var i_frame_32e2fdee95ccaf235ccc58599e0f2d50 = $(`&lt;iframe src=&quot;data:text/html;charset=utf-8;base64,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&quot; width=&quot;350&quot; style=&quot;border:none !important;&quot; height=&quot;350&quot;&gt;&lt;/iframe&gt;`)[0];\n",
       "                popup_570529d3310cc58b1418139bee78cb14.setContent(i_frame_32e2fdee95ccaf235ccc58599e0f2d50);\n",
       "            \n",
       "        \n",
       "\n",
       "        circle_marker_98b969dfaf622c886aef8696426e568f.bindPopup(popup_570529d3310cc58b1418139bee78cb14)\n",
       "        ;\n",
       "\n",
       "        \n",
       "    \n",
       "    \n",
       "            var circle_marker_2c589fcb8bbe20a60476098486e20347 = L.circleMarker(\n",
       "                [12.7503486, 122.7312101],\n",
       "                {&quot;bubblingMouseEvents&quot;: true, &quot;color&quot;: &quot;blue&quot;, &quot;dashArray&quot;: null, &quot;dashOffset&quot;: null, &quot;fill&quot;: true, &quot;fillColor&quot;: &quot;blue&quot;, &quot;fillOpacity&quot;: 0.2, &quot;fillRule&quot;: &quot;evenodd&quot;, &quot;lineCap&quot;: &quot;round&quot;, &quot;lineJoin&quot;: &quot;round&quot;, &quot;opacity&quot;: 1.0, &quot;radius&quot;: 8, &quot;stroke&quot;: true, &quot;weight&quot;: 3}\n",
       "            ).addTo(map_1beb91663b29f690a5df5fba562d59ec);\n",
       "        \n",
       "    \n",
       "        var popup_8e56470138108e50abb58bc8f50642ec = L.popup({\n",
       "  &quot;maxWidth&quot;: 400,\n",
       "});\n",
       "\n",
       "        \n",
       "            \n",
       "                var i_frame_14d7d69676bbcbae09cff2b30755e384 = $(`&lt;iframe src=&quot;data:text/html;charset=utf-8;base64,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&quot; width=&quot;350&quot; style=&quot;border:none !important;&quot; height=&quot;350&quot;&gt;&lt;/iframe&gt;`)[0];\n",
       "                popup_8e56470138108e50abb58bc8f50642ec.setContent(i_frame_14d7d69676bbcbae09cff2b30755e384);\n",
       "            \n",
       "        \n",
       "\n",
       "        circle_marker_2c589fcb8bbe20a60476098486e20347.bindPopup(popup_8e56470138108e50abb58bc8f50642ec)\n",
       "        ;\n",
       "\n",
       "        \n",
       "    \n",
       "&lt;/script&gt;\n",
       "&lt;/html&gt;\" style=\"position:absolute;width:100%;height:100%;left:0;top:0;border:none !important;\" allowfullscreen webkitallowfullscreen mozallowfullscreen></iframe></div></div>"
      ],
      "text/plain": [
       "<folium.folium.Map at 0x156ac4940>"
      ]
     },
     "metadata": {},
     "output_type": "display_data"
    }
   ],
   "source": [
    "import folium\n",
    "import plotly.express as px\n",
    "from IPython.display import display\n",
    "import json\n",
    "\n",
    "# Create the base map with a lighter color scheme\n",
    "m = folium.Map(location=[20, 0], zoom_start=2, tiles='CartoDB positron')\n",
    "\n",
    "for country in food_counts['country'].unique():\n",
    "    country_data = food_counts[food_counts['country'] == country]\n",
    "    lat = country_data['latitude'].values[0]\n",
    "    lon = country_data['longitude'].values[0]\n",
    "    \n",
    "    if pd.notnull(lat) and pd.notnull(lon):\n",
    "        # Create pie chart using plotly\n",
    "        fig = px.pie(country_data, \n",
    "                     values='percentage',\n",
    "                     names='food',\n",
    "                     title=country)\n",
    "        \n",
    "        # Update layout with larger dimensions and better visibility\n",
    "        fig.update_layout(\n",
    "            width=300,\n",
    "            height=300,\n",
    "            margin=dict(l=20, r=20, t=40, b=20),\n",
    "            showlegend=True,\n",
    "            legend=dict(\n",
    "                orientation=\"h\",\n",
    "                yanchor=\"bottom\",\n",
    "                y=-0.3,\n",
    "                xanchor=\"center\",\n",
    "                x=0.5\n",
    "            )\n",
    "        )\n",
    "        \n",
    "        # Convert plotly figure to HTML with increased size\n",
    "        html_str = fig.to_html(\n",
    "            include_plotlyjs='cdn',\n",
    "            full_html=False,\n",
    "            config={'displayModeBar': False}\n",
    "        )\n",
    "        \n",
    "        # Create larger iframe and popup\n",
    "        iframe = folium.IFrame(html=html_str, width=350, height=350)\n",
    "        popup = folium.Popup(iframe, max_width=400)\n",
    "        \n",
    "        # Add a more visible marker\n",
    "        folium.CircleMarker(\n",
    "            location=[lat, lon],\n",
    "            radius=8,\n",
    "            color='blue',\n",
    "            fill=True,\n",
    "            popup=popup\n",
    "        ).add_to(m)\n",
    "\n",
    "# Display the map\n",
    "display(m)"
   ]
  },
  {
   "cell_type": "code",
   "execution_count": null,
   "metadata": {},
   "outputs": [],
   "source": []
  },
  {
   "cell_type": "code",
   "execution_count": null,
   "metadata": {},
   "outputs": [],
   "source": []
  },
  {
   "cell_type": "code",
   "execution_count": null,
   "metadata": {},
   "outputs": [],
   "source": []
  },
  {
   "cell_type": "code",
   "execution_count": null,
   "metadata": {},
   "outputs": [],
   "source": []
  },
  {
   "cell_type": "code",
   "execution_count": null,
   "metadata": {},
   "outputs": [],
   "source": []
  }
 ],
 "metadata": {
  "kernelspec": {
   "display_name": "Python 3",
   "language": "python",
   "name": "python3"
  },
  "language_info": {
   "codemirror_mode": {
    "name": "ipython",
    "version": 3
   },
   "file_extension": ".py",
   "mimetype": "text/x-python",
   "name": "python",
   "nbconvert_exporter": "python",
   "pygments_lexer": "ipython3",
   "version": "3.9.6"
  }
 },
 "nbformat": 4,
 "nbformat_minor": 2
}
