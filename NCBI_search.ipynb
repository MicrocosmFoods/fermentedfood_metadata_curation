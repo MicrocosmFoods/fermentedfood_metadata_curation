{
 "cells": [
  {
   "cell_type": "code",
   "execution_count": 1,
   "metadata": {},
   "outputs": [],
   "source": [
    "from Bio import Entrez\n",
    "\n",
    "Entrez.email = \"mr.ray.keren@gmail.com\"  # Always provide your email when using NCBI"
   ]
  },
  {
   "cell_type": "code",
   "execution_count": 2,
   "metadata": {},
   "outputs": [
    {
     "name": "stdout",
     "output_type": "stream",
     "text": [
      "Successfully connected to NCBI!\n",
      "Available NCBI databases: pubmed, protein, nuccore, ipg, nucleotide...\n"
     ]
    }
   ],
   "source": [
    "try:\n",
    "    # Perform a simple search to test connection\n",
    "    handle = Entrez.einfo()\n",
    "    result = Entrez.read(handle)\n",
    "    handle.close()\n",
    "    print(\"Successfully connected to NCBI!\")\n",
    "    print(f\"Available NCBI databases: {', '.join(result['DbList'][:5])}...\")\n",
    "except Exception as e:\n",
    "    print(f\"Error connecting to NCBI: {e}\")"
   ]
  },
  {
   "cell_type": "code",
   "execution_count": null,
   "metadata": {},
   "outputs": [],
   "source": [
    "def get_sra_metadata(bioproject_id):\n",
    "    # Search for SRA records linked to the bioproject\n",
    "    handle = Entrez.esearch(db=\"sra\", term=bioproject_id)\n",
    "    record = Entrez.read(handle)\n",
    "    handle.close()\n",
    "    \n",
    "    \n",
    "    # Get details for each SRA record\n",
    "    metadata_list = []\n",
    "    for sra_id in record[\"IdList\"]:\n",
    "        handle = Entrez.efetch(db=\"sra\", id=sra_id)\n",
    "        metadata = handle.read()\n",
    "        handle.close()\n",
    "        metadata_list.append(metadata)\n",
    "    \n",
    "    # Save metadata to CSV\n",
    "    output_file = f\"{bioproject_id}_metadata.csv\"\n",
    "    with open(output_file, 'w') as f:\n",
    "        for metadata in metadata_list:\n",
    "            f.write(metadata)\n",
    "    \n",
    "    print(f\"Metadata saved to {output_file}\")\n",
    "\n",
    "# Example usage\n",
    "bioproject_id = \"PRJNA12345\"  # Replace with your bioproject ID\n",
    "get_sra_metadata(bioproject_id)"
   ]
  },
  {
   "cell_type": "code",
   "execution_count": 11,
   "metadata": {},
   "outputs": [],
   "source": [
    "bioproject_id = \"PRJEB22200\""
   ]
  },
  {
   "cell_type": "code",
   "execution_count": 12,
   "metadata": {},
   "outputs": [],
   "source": [
    "handle = Entrez.esearch(db=\"sra\", term=bioproject_id)\n",
    "record = Entrez.read(handle)\n",
    "handle.close()"
   ]
  },
  {
   "cell_type": "code",
   "execution_count": 13,
   "metadata": {},
   "outputs": [
    {
     "data": {
      "text/plain": [
       "['10085936', '10083810', '10083809', '10083808', '10083807', '10083806', '10083805', '10083780', '10083779', '10083778', '10083777', '10083776', '10083775']"
      ]
     },
     "execution_count": 13,
     "metadata": {},
     "output_type": "execute_result"
    }
   ],
   "source": [
    "record['IdList']"
   ]
  },
  {
   "cell_type": "code",
   "execution_count": 14,
   "metadata": {},
   "outputs": [],
   "source": [
    "metadata_list = []\n",
    "for sra_id in record[\"IdList\"]:\n",
    "    handle = Entrez.efetch(db=\"sra\", id=sra_id)\n",
    "    metadata = handle.read()\n",
    "    handle.close()\n",
    "    metadata_list.append(metadata)"
   ]
  },
  {
   "cell_type": "code",
   "execution_count": 15,
   "metadata": {},
   "outputs": [
    {
     "data": {
      "text/plain": [
       "b'<?xml version=\"1.0\" encoding=\"UTF-8\"  ?>\\n<EXPERIMENT_PACKAGE_SET>\\n<EXPERIMENT_PACKAGE><EXPERIMENT accession=\"ERX2159572\" alias=\"ena-EXPERIMENT-ISTANBUL UNIVERSITY-22-08-2017-11:53:58:047-1\" center_name=\"ISTANBUL UNIVERSITY\"><IDENTIFIERS><PRIMARY_ID>ERX2159572</PRIMARY_ID></IDENTIFIERS><TITLE>HiSeq X Ten paired end sequencing</TITLE><STUDY_REF accession=\"ERP024546\"><IDENTIFIERS><PRIMARY_ID>ERP024546</PRIMARY_ID><EXTERNAL_ID namespace=\"BioProject\">PRJEB22200</EXTERNAL_ID></IDENTIFIERS></STUDY_REF><DESIGN><DESIGN_DESCRIPTION/><SAMPLE_DESCRIPTOR accession=\"ERS1881306\"><IDENTIFIERS><PRIMARY_ID>ERS1881306</PRIMARY_ID><EXTERNAL_ID namespace=\"BioSample\">SAMEA104222288</EXTERNAL_ID></IDENTIFIERS></SAMPLE_DESCRIPTOR><LIBRARY_DESCRIPTOR><LIBRARY_NAME>unspecified</LIBRARY_NAME><LIBRARY_STRATEGY>WGS</LIBRARY_STRATEGY><LIBRARY_SOURCE>METAGENOMIC</LIBRARY_SOURCE><LIBRARY_SELECTION>RANDOM</LIBRARY_SELECTION><LIBRARY_LAYOUT><PAIRED NOMINAL_LENGTH=\"846\"/></LIBRARY_LAYOUT></LIBRARY_DESCRIPTOR></DESIGN><PLATFORM><ILLUMINA><INSTRUMENT_MODEL>HiSeq X Ten</INSTRUMENT_MODEL></ILLUMINA></PLATFORM></EXPERIMENT><SUBMISSION accession=\"ERA993886\" alias=\"ena-SUBMISSION-ISTANBUL UNIVERSITY-22-08-2017-11:44:46:153-1\" center_name=\"ISTANBUL UNIVERSITY\" lab_name=\"European Nucleotide Archive\"><IDENTIFIERS><PRIMARY_ID>ERA993886</PRIMARY_ID><SUBMITTER_ID namespace=\"ISTANBUL UNIVERSITY\">ena-SUBMISSION-ISTANBUL UNIVERSITY-22-08-2017-11:44:46:153-1</SUBMITTER_ID></IDENTIFIERS><TITLE>Submitted by ISTANBUL UNIVERSITY on 22-AUG-2017</TITLE></SUBMISSION><Organization type=\"center\"><Name abbr=\"ISTANBUL UNIVERSITY\">ISTANBUL UNIVERSITY</Name></Organization><STUDY accession=\"ERP024546\" alias=\"ena-STUDY-ISTANBUL UNIVERSITY-17-08-2017-06:00:55:215-375\" center_name=\"ISTANBUL UNIVERSITY\"><IDENTIFIERS><PRIMARY_ID>ERP024546</PRIMARY_ID><EXTERNAL_ID namespace=\"BioProject\">PRJEB22200</EXTERNAL_ID><SUBMITTER_ID namespace=\"ISTANBUL UNIVERSITY\">ena-STUDY-ISTANBUL UNIVERSITY-17-08-2017-06:00:55:215-375</SUBMITTER_ID></IDENTIFIERS><DESCRIPTOR><STUDY_TITLE>Shotgun Metagenomic Analysis of Microbial Composition of Kombucha</STUDY_TITLE><STUDY_TYPE existing_study_type=\"Other\"/><STUDY_ABSTRACT>The aim of this study is to gain a more accurate and detailed insight about the microbial community of Kombucha during fermentation process employing whole metagenome shotgun sequencing. Metagenomic DNA  was isolated from pellicule and liquid phase of two Kombucha samples obtained from Turkey at the days 3, 10 and 15 of the fermentation process. Isolated DNA samples were sequenced using whole metagenome shotgun sequencing method.</STUDY_ABSTRACT><CENTER_PROJECT_NAME>Kombucha Shotgun</CENTER_PROJECT_NAME><STUDY_DESCRIPTION>The aim of this study is to gain a more accurate and detailed insight about the microbial community of Kombucha during fermentation process employing whole metagenome shotgun sequencing. Metagenomic DNA  was isolated from pellicule and liquid phase of two Kombucha samples obtained from Turkey at the days 3, 10 and 15 of the fermentation process. Isolated DNA samples were sequenced using whole metagenome shotgun sequencing method.</STUDY_DESCRIPTION></DESCRIPTOR><STUDY_LINKS><STUDY_LINK><XREF_LINK><DB>PUBMED</DB><ID>31957879</ID></XREF_LINK></STUDY_LINK></STUDY_LINKS><STUDY_ATTRIBUTES><STUDY_ATTRIBUTE><TAG>ENA-FIRST-PUBLIC</TAG><VALUE>2020-02-11</VALUE></STUDY_ATTRIBUTE><STUDY_ATTRIBUTE><TAG>ENA-LAST-UPDATE</TAG><VALUE>2020-02-11</VALUE></STUDY_ATTRIBUTE></STUDY_ATTRIBUTES></STUDY><SAMPLE alias=\"SAMEA104222288\" accession=\"ERS1881306\"><IDENTIFIERS><PRIMARY_ID>ERS1881306</PRIMARY_ID><EXTERNAL_ID namespace=\"BioSample\">SAMEA104222288</EXTERNAL_ID></IDENTIFIERS><TITLE>Kombucha_Shotgun</TITLE><SAMPLE_NAME><TAXON_ID>256318</TAXON_ID><SCIENTIFIC_NAME>metagenome</SCIENTIFIC_NAME></SAMPLE_NAME><SAMPLE_ATTRIBUTES><SAMPLE_ATTRIBUTE><TAG>ENA first public</TAG><VALUE>2020-02-11</VALUE></SAMPLE_ATTRIBUTE><SAMPLE_ATTRIBUTE><TAG>ENA last update</TAG><VALUE>2017-09-27</VALUE></SAMPLE_ATTRIBUTE><SAMPLE_ATTRIBUTE><TAG>External Id</TAG><VALUE>SAMEA104222288</VALUE></SAMPLE_ATTRIBUTE><SAMPLE_ATTRIBUTE><TAG>INSDC center alias</TAG><VALUE>ISTANBUL UNIVERSITY</VALUE></SAMPLE_ATTRIBUTE><SAMPLE_ATTRIBUTE><TAG>INSDC center name</TAG><VALUE>ISTANBUL UNIVERSITY</VALUE></SAMPLE_ATTRIBUTE><SAMPLE_ATTRIBUTE><TAG>INSDC first public</TAG><VALUE>2020-02-11T17:06:06Z</VALUE></SAMPLE_ATTRIBUTE><SAMPLE_ATTRIBUTE><TAG>INSDC last update</TAG><VALUE>2017-09-27T15:50:59Z</VALUE></SAMPLE_ATTRIBUTE><SAMPLE_ATTRIBUTE><TAG>INSDC status</TAG><VALUE>public</VALUE></SAMPLE_ATTRIBUTE><SAMPLE_ATTRIBUTE><TAG>Submitter Id</TAG><VALUE>AP10</VALUE></SAMPLE_ATTRIBUTE><SAMPLE_ATTRIBUTE><TAG>sample name</TAG><VALUE>AP10</VALUE></SAMPLE_ATTRIBUTE></SAMPLE_ATTRIBUTES></SAMPLE><Pool><Member member_name=\"\" accession=\"ERS1881306\" sample_name=\"SAMEA104222288\" sample_title=\"Kombucha_Shotgun\" spots=\"109834659\" bases=\"33170067018\" tax_id=\"256318\" organism=\"metagenome\"><IDENTIFIERS><PRIMARY_ID>ERS1881306</PRIMARY_ID><EXTERNAL_ID namespace=\"BioSample\">SAMEA104222288</EXTERNAL_ID></IDENTIFIERS></Member></Pool><RUN_SET runs=\"1\" bases=\"33170067018\" spots=\"109834659\" bytes=\"15442387637\"><RUN accession=\"ERR2102261\" alias=\"ena-RUN-ISTANBUL UNIVERSITY-22-08-2017-11:53:58:047-1\" center_name=\"ISTANBUL UNIVERSITY\" total_spots=\"109834659\" total_bases=\"33170067018\" size=\"15442387637\" load_done=\"true\" published=\"2020-02-12 22:06:54\" is_public=\"true\" cluster_name=\"public\" has_taxanalysis=\"1\" static_data_available=\"1\"><IDENTIFIERS><PRIMARY_ID>ERR2102261</PRIMARY_ID><SUBMITTER_ID namespace=\"ISTANBUL UNIVERSITY\">ena-RUN-ISTANBUL UNIVERSITY-22-08-2017-11:53:58:047-1</SUBMITTER_ID></IDENTIFIERS><TITLE>HiSeq X Ten paired end sequencing</TITLE><EXPERIMENT_REF accession=\"ERX2159572\"><IDENTIFIERS><PRIMARY_ID>ERX2159572</PRIMARY_ID></IDENTIFIERS></EXPERIMENT_REF><RUN_ATTRIBUTES><RUN_ATTRIBUTE><TAG>ENA-FIRST-PUBLIC</TAG><VALUE>2020-02-11</VALUE></RUN_ATTRIBUTE><RUN_ATTRIBUTE><TAG>ENA-LAST-UPDATE</TAG><VALUE>2018-11-16</VALUE></RUN_ATTRIBUTE></RUN_ATTRIBUTES><Pool><Member member_name=\"\" accession=\"ERS1881306\" sample_name=\"SAMEA104222288\" sample_title=\"Kombucha_Shotgun\" spots=\"109834659\" bases=\"33170067018\" tax_id=\"256318\" organism=\"metagenome\"><IDENTIFIERS><PRIMARY_ID>ERS1881306</PRIMARY_ID><EXTERNAL_ID namespace=\"BioSample\">SAMEA104222288</EXTERNAL_ID></IDENTIFIERS></Member></Pool><SRAFiles><SRAFile cluster=\"public\" filename=\"ERR2102261.sralite\" url=\"https://sra-downloadb.be-md.ncbi.nlm.nih.gov/sos5/sra-pub-zq-16/ERR002/102/ERR2102261.sralite.1\" size=\"8384707469\" date=\"2020-06-20 08:05:33\" md5=\"a6b6a2b56438dd651fd24fff119e54bd\" version=\"1\" semantic_name=\"SRA Lite\" supertype=\"Primary ETL\" sratoolkit=\"1\"><Alternatives url=\"https://sra-downloadb.be-md.ncbi.nlm.nih.gov/sos5/sra-pub-zq-16/ERR002/102/ERR2102261.sralite.1\" free_egress=\"worldwide\" access_type=\"anonymous\" org=\"NCBI\"/><Alternatives url=\"s3://sra-pub-zq-4/ERR2102261/ERR2102261.sralite.1\" free_egress=\"s3.us-east-1\" access_type=\"aws identity\" org=\"AWS\"/><Alternatives url=\"gs://sra-pub-zq-102/ERR2102261/ERR2102261.zq.1\" free_egress=\"gs.us-east1\" access_type=\"gcp identity\" org=\"GCP\"/></SRAFile><SRAFile cluster=\"public\" filename=\"ERR2102261\" url=\"https://sra-pub-run-odp.s3.amazonaws.com/sra/ERR2102261/ERR2102261\" size=\"15442389385\" date=\"2020-02-13 12:29:30\" md5=\"3c46573d52eda3cda060b875f4d0299d\" version=\"1\" semantic_name=\"SRA Normalized\" supertype=\"Primary ETL\" sratoolkit=\"1\"><Alternatives url=\"https://sra-pub-run-odp.s3.amazonaws.com/sra/ERR2102261/ERR2102261\" free_egress=\"worldwide\" access_type=\"anonymous\" org=\"AWS\"/></SRAFile></SRAFiles><CloudFiles><CloudFile filetype=\"run\" provider=\"s3\" location=\"s3.us-east-1\"/><CloudFile filetype=\"run.zq\" provider=\"gs\" location=\"gs.us-east1\"/><CloudFile filetype=\"run.zq\" provider=\"s3\" location=\"s3.us-east-1\"/></CloudFiles><Statistics nreads=\"2\" nspots=\"109834659\"><Read index=\"0\" count=\"109834659\" average=\"151\" stdev=\"0\"/><Read index=\"1\" count=\"109834659\" average=\"151\" stdev=\"0\"/></Statistics><Bases cs_native=\"false\" count=\"33170067018\"><Base value=\"A\" count=\"6508312101\"/><Base value=\"C\" count=\"10069094958\"/><Base value=\"G\" count=\"10043634212\"/><Base value=\"T\" count=\"6542067824\"/><Base value=\"N\" count=\"6957923\"/></Bases></RUN></RUN_SET></EXPERIMENT_PACKAGE></EXPERIMENT_PACKAGE_SET>\\n'"
      ]
     },
     "execution_count": 15,
     "metadata": {},
     "output_type": "execute_result"
    }
   ],
   "source": [
    "metadata_list[0]"
   ]
  },
  {
   "cell_type": "code",
   "execution_count": 17,
   "metadata": {},
   "outputs": [],
   "source": [
    "output_file = f\"{bioproject_id}_metadata.csv\"\n",
    "with open(output_file, 'w') as f:\n",
    "    for metadata in metadata_list:\n",
    "        f.write(metadata.decode('utf-8'))"
   ]
  },
  {
   "cell_type": "code",
   "execution_count": null,
   "metadata": {},
   "outputs": [],
   "source": []
  },
  {
   "cell_type": "code",
   "execution_count": null,
   "metadata": {},
   "outputs": [],
   "source": []
  },
  {
   "cell_type": "code",
   "execution_count": 4,
   "metadata": {},
   "outputs": [],
   "source": [
    "def get_sra_metadata(bioproject_id):\n",
    "    # Search for SRA records linked to the bioproject\n",
    "    handle = Entrez.esearch(db=\"sra\", term=bioproject_id)\n",
    "    record = Entrez.read(handle)\n",
    "    handle.close()\n",
    "    \n",
    "    \n",
    "    # Get details for each SRA record\n",
    "    metadata_list = []\n",
    "    for sra_id in record[\"IdList\"]:\n",
    "        handle = Entrez.efetch(db=\"sra\", id=sra_id)\n",
    "        metadata = handle.read()\n",
    "        handle.close()\n",
    "        metadata_list.append(metadata)\n",
    "    \n",
    "    # Save metadata to CSV\n",
    "    output_file = f\"{bioproject_id}_metadata.csv\"\n",
    "    with open(output_file, 'w') as f:\n",
    "        for metadata in metadata_list:\n",
    "            f.write(metadata)\n",
    "    \n",
    "    print(f\"Metadata saved to {output_file}\")\n",
    "\n"
   ]
  }
 ],
 "metadata": {
  "kernelspec": {
   "display_name": "Python 3",
   "language": "python",
   "name": "python3"
  },
  "language_info": {
   "codemirror_mode": {
    "name": "ipython",
    "version": 3
   },
   "file_extension": ".py",
   "mimetype": "text/x-python",
   "name": "python",
   "nbconvert_exporter": "python",
   "pygments_lexer": "ipython3",
   "version": "3.9.6"
  }
 },
 "nbformat": 4,
 "nbformat_minor": 2
}
